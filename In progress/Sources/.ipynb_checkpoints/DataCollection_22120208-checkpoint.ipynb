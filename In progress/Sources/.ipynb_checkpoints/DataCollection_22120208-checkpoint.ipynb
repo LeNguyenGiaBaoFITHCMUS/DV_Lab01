{
 "cells": [
  {
   "cell_type": "markdown",
   "metadata": {},
   "source": [
    "# Project 01: Data Visualization with Python"
   ]
  },
  {
   "cell_type": "markdown",
   "metadata": {},
   "source": [
    "Đây là dự án đầu tiên của môn học **\"Trực quan hóa dữ liệu\"** tại **Khoa Công nghệ Thông tin**, **Trường Đại học Khoa học Tự nhiên, Đại học Quốc gia Thành phố Hồ Chí Minh**."
   ]
  },
  {
   "cell_type": "markdown",
   "metadata": {},
   "source": [
    "---\n"
   ]
  },
  {
   "cell_type": "markdown",
   "metadata": {},
   "source": [
    "**Giảng viên:** Bùi Tiến Lên  \n",
    "\n",
    "**Môn học:** Trực quan hóa dữ liệu\n",
    "\n",
    "**Thời gian:** 03/2025"
   ]
  },
  {
   "cell_type": "markdown",
   "metadata": {},
   "source": [
    "---"
   ]
  },
  {
   "cell_type": "markdown",
   "metadata": {},
   "source": [
    "## Tổng quan dự án"
   ]
  },
  {
   "cell_type": "markdown",
   "metadata": {},
   "source": [
    "- Trong thời đại mà sự phát triển của thương mại điện tử và các kênh bán lẻ trực tuyến đang bùng nổ, hành vi tiêu dùng đã trở thành một lĩnh vực nghiên cứu đầy thú vị và quan trọng. Nhóm chúng em đã chọn chủ đề **\"Hành vi tiêu dùng và thói quen mua sắm\"** với mong muốn khám phá sâu sắc cách mà các yếu tố như sở thích cá nhân, thói quen mua sắm và môi trường kinh doanh tác động đến quyết định mua hàng của người tiêu dùng.\n",
    "- Động cơ chính của dự án xuất phát từ câu hỏi: **“Những yếu tố nào đang định hình hành vi mua sắm của người tiêu dùng, và làm thế nào thông qua việc trực quan hóa dữ liệu, các doanh nghiệp có thể tận dụng những thông tin này để tối ưu hóa chiến lược tiếp thị và cải thiện trải nghiệm khách hàng?”** Sự tò mò này được thúc đẩy bởi nhu cầu hiểu rõ hơn về các xu hướng tiêu dùng hiện nay, cũng như mong muốn áp dụng các phương pháp khoa học dữ liệu để phân tích và đưa ra những nhận định dựa trên dữ liệu thực tế.\n",
    "- Việc trực quan hóa dữ liệu không chỉ giúp làm nổi bật các mẫu và xu hướng trong hành vi tiêu dùng mà còn hỗ trợ việc ra quyết định chiến lược cho các doanh nghiệp. Qua đó, dự án hy vọng sẽ đóng góp một góc nhìn sâu sắc, hữu ích cho cộng đồng nghiên cứu và kinh doanh, mở ra những hướng đi mới trong việc quản lý và phát triển thị trường tiêu dùng."
   ]
  },
  {
   "cell_type": "markdown",
   "metadata": {},
   "source": [
    "---\n"
   ]
  },
  {
   "cell_type": "markdown",
   "metadata": {},
   "source": [
    "## GitHub Repository"
   ]
  },
  {
   "cell_type": "markdown",
   "metadata": {},
   "source": [
    "Truy cập toàn bộ dự án trên GitHub:\n",
    "\n",
    "- [DV_Lab01 Repository](https://github.com/LeNguyenGiaBaoFITHCMUS/DV_Lab01)"
   ]
  },
  {
   "cell_type": "markdown",
   "metadata": {},
   "source": [
    "---\n"
   ]
  },
  {
   "cell_type": "markdown",
   "metadata": {},
   "source": [
    "## Data collecting"
   ]
  },
  {
   "cell_type": "markdown",
   "metadata": {},
   "source": [
    "### Chủ đề của dữ liệu của bạn là gì?"
   ]
  },
  {
   "cell_type": "markdown",
   "metadata": {},
   "source": [
    "- Như đã đề cập ở phần Tổng quan, trong đồ án này chúng em sử dụng bộ dữ liệu **\"Hành vi tiêu dùng và thói quen mua sắm\"**.\n",
    "- Bộ dữ liệu này bao gồm thông tin đa chiều về hành vi tiêu dùng, bao gồm dữ liệu nhân khẩu học, lịch sử mua sắm, sở thích sản phẩm, tần suất mua hàng và các kênh mua sắm.\n",
    "- Dữ liệu được thiết kế nhằm giúp các nhà phân tích và doanh nghiệp hiểu sâu hơn các yếu tố tác động đến quyết định mua sắm, từ đó xây dựng các chiến lược marketing chính xác, tối ưu hóa trải nghiệm khách hàng và dự báo xu hướng tiêu dùng trong tương lai.\n",
    "- Qua việc phân tích bộ dữ liệu này, các doanh nghiệp có thể phát hiện các mô hình tiêu dùng, nhận diện cơ hội mới trên thị trường và điều chỉnh chiến lược kinh doanh nhằm đáp ứng tốt hơn nhu cầu của khách hàng.\n"
   ]
  },
  {
   "cell_type": "markdown",
   "metadata": {},
   "source": [
    "### Nguồn dữ liệu của bạn lấy từ đâu?"
   ]
  },
  {
   "cell_type": "markdown",
   "metadata": {},
   "source": [
    "Dữ liệu được lấy từ Kaggle, có tại:\n",
    "\n",
    "- [Consumer Behavior and Shopping Habits Dataset](https://www.kaggle.com/datasets/zeesolver/consumer-behavior-and-shopping-habits-dataset)\n"
   ]
  },
  {
   "cell_type": "code",
   "execution_count": null,
   "metadata": {},
   "outputs": [],
   "source": []
  }
 ],
 "metadata": {
  "kernelspec": {
   "display_name": "Python [conda env:base] *",
   "language": "python",
   "name": "conda-base-py"
  },
  "language_info": {
   "codemirror_mode": {
    "name": "ipython",
    "version": 3
   },
   "file_extension": ".py",
   "mimetype": "text/x-python",
   "name": "python",
   "nbconvert_exporter": "python",
   "pygments_lexer": "ipython3",
   "version": "3.12.7"
  }
 },
 "nbformat": 4,
 "nbformat_minor": 4
}
