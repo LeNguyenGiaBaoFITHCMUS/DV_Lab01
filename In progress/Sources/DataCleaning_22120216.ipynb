{
 "cells": [
  {
   "cell_type": "markdown",
   "metadata": {},
   "source": [
    "### Import"
   ]
  },
  {
   "cell_type": "code",
   "execution_count": 19,
   "metadata": {},
   "outputs": [
    {
     "name": "stdout",
     "output_type": "stream",
     "text": [
      "Bộ dữ liệu về hành vi của người tiêu dùng và thói quen mua sắm cung cấp tổng quan chi tiết về sở thích và hành vi mua hàng của người tiêu dùng\n",
      "\n",
      "   Customer ID  Age Gender Item Purchased  Category  Purchase Amount (USD)       Location Size      Color  Season  Review Rating Subscription Status  Shipping Type Discount Applied Promo Code Used  Previous Purchases Payment Method Frequency of Purchases\n",
      "0            1   55   Male         Blouse  Clothing                     53       Kentucky    L       Gray  Winter            3.1                 Yes        Express              Yes             Yes                  14          Venmo            Fortnightly\n",
      "1            2   19   Male        Sweater  Clothing                     64          Maine    L     Maroon  Winter            3.1                 Yes        Express              Yes             Yes                   2           Cash            Fortnightly\n",
      "2            3   50   Male          Jeans  Clothing                     73  Massachusetts    S     Maroon  Spring            3.1                 Yes  Free Shipping              Yes             Yes                  23    Credit Card                 Weekly\n",
      "3            4   21   Male        Sandals  Footwear                     90   Rhode Island    M     Maroon  Spring            3.5                 Yes   Next Day Air              Yes             Yes                  49         PayPal                 Weekly\n",
      "4            5   45   Male         Blouse  Clothing                     49         Oregon    M  Turquoise  Spring            2.7                 Yes  Free Shipping              Yes             Yes                  31         PayPal               Annually\n"
     ]
    }
   ],
   "source": [
    "import pandas as pd\n",
    "\n",
    "# Đọc file CSV\n",
    "df = pd.read_csv(\"../Datasets/data.csv\")\n",
    "\n",
    "pd.set_option('display.max_columns', None)  \n",
    "pd.set_option('display.width', 1000)  \n",
    "\n",
    "# Hiển thị dữ liệu\n",
    "print(\"Bộ dữ liệu về hành vi của người tiêu dùng và thói quen mua sắm cung cấp tổng quan chi tiết về sở thích và hành vi mua hàng của người tiêu dùng\\n\")\n",
    "print(df.head())"
   ]
  },
  {
   "cell_type": "markdown",
   "metadata": {},
   "source": [
    "### Diễn giải cấp dòng"
   ]
  },
  {
   "cell_type": "markdown",
   "metadata": {},
   "source": [
    "1. Kiểm tra số dòng, cột của dữ kiệu thô"
   ]
  },
  {
   "cell_type": "code",
   "execution_count": 21,
   "metadata": {},
   "outputs": [
    {
     "name": "stdout",
     "output_type": "stream",
     "text": [
      "Số hàng và cột của bộ dữ liệu\n",
      "Số hàng: 3900\n",
      "Số cột: 18\n"
     ]
    }
   ],
   "source": [
    "# Đếm số hàng và số cột\n",
    "num_rows, num_columns = df.shape\n",
    "print(\"Số hàng và cột của bộ dữ liệu\")\n",
    "print(f\"Số hàng: {num_rows}\")\n",
    "print(f\"Số cột: {num_columns}\")"
   ]
  },
  {
   "cell_type": "markdown",
   "metadata": {},
   "source": [
    "2. Mỗi dòng trong dữ liệu đại diện cho điều gì?"
   ]
  },
  {
   "cell_type": "markdown",
   "metadata": {},
   "source": [
    "Mỗi dòng trong bộ dữ liệu trên đại diện một giao dịch cụ thể của một khách hàng cụ thể bao gồm thông tin mặt hàng, loại giao dịch, loại vận chuyển và tần suất mua sắm của người dùngdùng. Dựa vào dữ liệu đó, ta có thể phân tích được thoi quen mua sắm của người tiêu dùng."
   ]
  },
  {
   "cell_type": "markdown",
   "metadata": {},
   "source": [
    "3. Dữ liệu có tồn tại các hàng trùng lặp không?"
   ]
  },
  {
   "cell_type": "code",
   "execution_count": 22,
   "metadata": {},
   "outputs": [
    {
     "name": "stdout",
     "output_type": "stream",
     "text": [
      "Bộ dữ liệu không chứa hàng trùng lặp\n"
     ]
    }
   ],
   "source": [
    "# Kiểm tra số hàng trùng lặp\n",
    "num_duplicates = df.duplicated().sum()\n",
    "\n",
    "# Hiển thị các hàng trùng lặp nếu có\n",
    "if num_duplicates > 0:\n",
    "    print(\"Các hàng trùng lặp:\")\n",
    "    print(df[df.duplicated()])\n",
    "else:\n",
    "    print(\"Bộ dữ liệu không chứa hàng trùng lặp\")"
   ]
  }
 ],
 "metadata": {
  "kernelspec": {
   "display_name": "Python 3",
   "language": "python",
   "name": "python3"
  },
  "language_info": {
   "codemirror_mode": {
    "name": "ipython",
    "version": 3
   },
   "file_extension": ".py",
   "mimetype": "text/x-python",
   "name": "python",
   "nbconvert_exporter": "python",
   "pygments_lexer": "ipython3",
   "version": "3.13.2"
  }
 },
 "nbformat": 4,
 "nbformat_minor": 2
}
