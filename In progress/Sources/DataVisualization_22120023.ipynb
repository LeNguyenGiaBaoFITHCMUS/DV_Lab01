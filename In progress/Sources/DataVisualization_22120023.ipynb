{
 "cells": [
  {
   "cell_type": "markdown",
   "metadata": {},
   "source": [
    "## Nhập thư viện:"
   ]
  },
  {
   "cell_type": "code",
   "execution_count": 48,
   "metadata": {},
   "outputs": [],
   "source": [
    "import numpy as np\n",
    "import pandas as pd\n",
    "import matplotlib.pyplot as plt\n",
    "import seaborn as sns\n",
    "import geopandas as gpd\n",
    "import geodatasets as gds\n",
    "import plotly.express as px\n",
    "import warnings\n",
    "warnings.filterwarnings(\"ignore\")"
   ]
  },
  {
   "cell_type": "markdown",
   "metadata": {},
   "source": [
    "## Đọc dữ liệu:"
   ]
  },
  {
   "cell_type": "code",
   "execution_count": 2,
   "metadata": {},
   "outputs": [
    {
     "data": {
      "text/html": [
       "<div>\n",
       "<style scoped>\n",
       "    .dataframe tbody tr th:only-of-type {\n",
       "        vertical-align: middle;\n",
       "    }\n",
       "\n",
       "    .dataframe tbody tr th {\n",
       "        vertical-align: top;\n",
       "    }\n",
       "\n",
       "    .dataframe thead th {\n",
       "        text-align: right;\n",
       "    }\n",
       "</style>\n",
       "<table border=\"1\" class=\"dataframe\">\n",
       "  <thead>\n",
       "    <tr style=\"text-align: right;\">\n",
       "      <th></th>\n",
       "      <th>Customer ID</th>\n",
       "      <th>Age</th>\n",
       "      <th>Gender</th>\n",
       "      <th>Item Purchased</th>\n",
       "      <th>Category</th>\n",
       "      <th>Purchase Amount (USD)</th>\n",
       "      <th>Location</th>\n",
       "      <th>Size</th>\n",
       "      <th>Color</th>\n",
       "      <th>Season</th>\n",
       "      <th>Review Rating</th>\n",
       "      <th>Subscription Status</th>\n",
       "      <th>Shipping Type</th>\n",
       "      <th>Discount Applied</th>\n",
       "      <th>Previous Purchases</th>\n",
       "      <th>Payment Method</th>\n",
       "      <th>Frequency of Purchases</th>\n",
       "    </tr>\n",
       "  </thead>\n",
       "  <tbody>\n",
       "    <tr>\n",
       "      <th>0</th>\n",
       "      <td>1</td>\n",
       "      <td>55</td>\n",
       "      <td>Male</td>\n",
       "      <td>Blouse</td>\n",
       "      <td>Clothing</td>\n",
       "      <td>53</td>\n",
       "      <td>Kentucky</td>\n",
       "      <td>L</td>\n",
       "      <td>Gray</td>\n",
       "      <td>Winter</td>\n",
       "      <td>3.1</td>\n",
       "      <td>Yes</td>\n",
       "      <td>Express</td>\n",
       "      <td>Yes</td>\n",
       "      <td>14</td>\n",
       "      <td>Venmo</td>\n",
       "      <td>Fortnightly</td>\n",
       "    </tr>\n",
       "    <tr>\n",
       "      <th>1</th>\n",
       "      <td>2</td>\n",
       "      <td>19</td>\n",
       "      <td>Male</td>\n",
       "      <td>Sweater</td>\n",
       "      <td>Clothing</td>\n",
       "      <td>64</td>\n",
       "      <td>Maine</td>\n",
       "      <td>L</td>\n",
       "      <td>Maroon</td>\n",
       "      <td>Winter</td>\n",
       "      <td>3.1</td>\n",
       "      <td>Yes</td>\n",
       "      <td>Express</td>\n",
       "      <td>Yes</td>\n",
       "      <td>2</td>\n",
       "      <td>Cash</td>\n",
       "      <td>Fortnightly</td>\n",
       "    </tr>\n",
       "    <tr>\n",
       "      <th>2</th>\n",
       "      <td>3</td>\n",
       "      <td>50</td>\n",
       "      <td>Male</td>\n",
       "      <td>Jeans</td>\n",
       "      <td>Clothing</td>\n",
       "      <td>73</td>\n",
       "      <td>Massachusetts</td>\n",
       "      <td>S</td>\n",
       "      <td>Maroon</td>\n",
       "      <td>Spring</td>\n",
       "      <td>3.1</td>\n",
       "      <td>Yes</td>\n",
       "      <td>Free Shipping</td>\n",
       "      <td>Yes</td>\n",
       "      <td>23</td>\n",
       "      <td>Credit Card</td>\n",
       "      <td>Weekly</td>\n",
       "    </tr>\n",
       "    <tr>\n",
       "      <th>3</th>\n",
       "      <td>4</td>\n",
       "      <td>21</td>\n",
       "      <td>Male</td>\n",
       "      <td>Sandals</td>\n",
       "      <td>Footwear</td>\n",
       "      <td>90</td>\n",
       "      <td>Rhode Island</td>\n",
       "      <td>M</td>\n",
       "      <td>Maroon</td>\n",
       "      <td>Spring</td>\n",
       "      <td>3.5</td>\n",
       "      <td>Yes</td>\n",
       "      <td>Next Day Air</td>\n",
       "      <td>Yes</td>\n",
       "      <td>49</td>\n",
       "      <td>PayPal</td>\n",
       "      <td>Weekly</td>\n",
       "    </tr>\n",
       "    <tr>\n",
       "      <th>4</th>\n",
       "      <td>5</td>\n",
       "      <td>45</td>\n",
       "      <td>Male</td>\n",
       "      <td>Blouse</td>\n",
       "      <td>Clothing</td>\n",
       "      <td>49</td>\n",
       "      <td>Oregon</td>\n",
       "      <td>M</td>\n",
       "      <td>Turquoise</td>\n",
       "      <td>Spring</td>\n",
       "      <td>2.7</td>\n",
       "      <td>Yes</td>\n",
       "      <td>Free Shipping</td>\n",
       "      <td>Yes</td>\n",
       "      <td>31</td>\n",
       "      <td>PayPal</td>\n",
       "      <td>Annually</td>\n",
       "    </tr>\n",
       "  </tbody>\n",
       "</table>\n",
       "</div>"
      ],
      "text/plain": [
       "   Customer ID  Age Gender Item Purchased  Category  Purchase Amount (USD)  \\\n",
       "0            1   55   Male         Blouse  Clothing                     53   \n",
       "1            2   19   Male        Sweater  Clothing                     64   \n",
       "2            3   50   Male          Jeans  Clothing                     73   \n",
       "3            4   21   Male        Sandals  Footwear                     90   \n",
       "4            5   45   Male         Blouse  Clothing                     49   \n",
       "\n",
       "        Location Size      Color  Season  Review Rating Subscription Status  \\\n",
       "0       Kentucky    L       Gray  Winter            3.1                 Yes   \n",
       "1          Maine    L     Maroon  Winter            3.1                 Yes   \n",
       "2  Massachusetts    S     Maroon  Spring            3.1                 Yes   \n",
       "3   Rhode Island    M     Maroon  Spring            3.5                 Yes   \n",
       "4         Oregon    M  Turquoise  Spring            2.7                 Yes   \n",
       "\n",
       "   Shipping Type Discount Applied  Previous Purchases Payment Method  \\\n",
       "0        Express              Yes                  14          Venmo   \n",
       "1        Express              Yes                   2           Cash   \n",
       "2  Free Shipping              Yes                  23    Credit Card   \n",
       "3   Next Day Air              Yes                  49         PayPal   \n",
       "4  Free Shipping              Yes                  31         PayPal   \n",
       "\n",
       "  Frequency of Purchases  \n",
       "0            Fortnightly  \n",
       "1            Fortnightly  \n",
       "2                 Weekly  \n",
       "3                 Weekly  \n",
       "4               Annually  "
      ]
     },
     "execution_count": 2,
     "metadata": {},
     "output_type": "execute_result"
    }
   ],
   "source": [
    "df = pd.read_csv('../Datasets/data_cleaned.csv')\n",
    "df.head()"
   ]
  },
  {
   "cell_type": "markdown",
   "metadata": {},
   "source": [
    "## Phân tích nhân khẩu học:"
   ]
  },
  {
   "cell_type": "markdown",
   "metadata": {},
   "source": [
    "### Lựa chọn thuộc tính:"
   ]
  },
  {
   "cell_type": "markdown",
   "metadata": {},
   "source": [
    "- `Customer ID`: Xác định duy nhất mỗi khách hàng, giúp liên kết các thông tin khác với cá nhân cụ thể.\n",
    "- `Age`: Tuổi của khách hàng là yếu tố cốt lõi trong việc phân khúc nhóm khách hàng theo các nhóm tuổi khác nhau.\n",
    "- `Gender`: Giới tính giúp so sánh hành vi tiêu dùng giữa nam và nữ.\n",
    "- `Location`: Thông tin về địa điểm cho phép phân tích theo vùng miền, thành phố hoặc khu vực, từ đó xác định các đặc điểm khu vực.\n",
    "- `Subscription Status`: Mặc dù không phải trực tiếp là nhân khẩu học, nhưng trạng thái đăng ký có thể liên quan đến thói quen tiêu dùng và sự trung thành của khách hàng theo nhóm nhân khẩu học."
   ]
  },
  {
   "cell_type": "code",
   "execution_count": 3,
   "metadata": {},
   "outputs": [
    {
     "data": {
      "text/html": [
       "<div>\n",
       "<style scoped>\n",
       "    .dataframe tbody tr th:only-of-type {\n",
       "        vertical-align: middle;\n",
       "    }\n",
       "\n",
       "    .dataframe tbody tr th {\n",
       "        vertical-align: top;\n",
       "    }\n",
       "\n",
       "    .dataframe thead th {\n",
       "        text-align: right;\n",
       "    }\n",
       "</style>\n",
       "<table border=\"1\" class=\"dataframe\">\n",
       "  <thead>\n",
       "    <tr style=\"text-align: right;\">\n",
       "      <th></th>\n",
       "      <th>Customer ID</th>\n",
       "      <th>Age</th>\n",
       "      <th>Gender</th>\n",
       "      <th>Location</th>\n",
       "      <th>Subscription Status</th>\n",
       "    </tr>\n",
       "  </thead>\n",
       "  <tbody>\n",
       "    <tr>\n",
       "      <th>1695</th>\n",
       "      <td>1696</td>\n",
       "      <td>54</td>\n",
       "      <td>Male</td>\n",
       "      <td>Nebraska</td>\n",
       "      <td>No</td>\n",
       "    </tr>\n",
       "    <tr>\n",
       "      <th>3246</th>\n",
       "      <td>3247</td>\n",
       "      <td>70</td>\n",
       "      <td>Female</td>\n",
       "      <td>Michigan</td>\n",
       "      <td>No</td>\n",
       "    </tr>\n",
       "    <tr>\n",
       "      <th>771</th>\n",
       "      <td>772</td>\n",
       "      <td>22</td>\n",
       "      <td>Male</td>\n",
       "      <td>Hawaii</td>\n",
       "      <td>Yes</td>\n",
       "    </tr>\n",
       "    <tr>\n",
       "      <th>286</th>\n",
       "      <td>287</td>\n",
       "      <td>27</td>\n",
       "      <td>Male</td>\n",
       "      <td>Nebraska</td>\n",
       "      <td>Yes</td>\n",
       "    </tr>\n",
       "    <tr>\n",
       "      <th>1529</th>\n",
       "      <td>1530</td>\n",
       "      <td>20</td>\n",
       "      <td>Male</td>\n",
       "      <td>Georgia</td>\n",
       "      <td>No</td>\n",
       "    </tr>\n",
       "  </tbody>\n",
       "</table>\n",
       "</div>"
      ],
      "text/plain": [
       "      Customer ID  Age  Gender  Location Subscription Status\n",
       "1695         1696   54    Male  Nebraska                  No\n",
       "3246         3247   70  Female  Michigan                  No\n",
       "771           772   22    Male    Hawaii                 Yes\n",
       "286           287   27    Male  Nebraska                 Yes\n",
       "1529         1530   20    Male   Georgia                  No"
      ]
     },
     "execution_count": 3,
     "metadata": {},
     "output_type": "execute_result"
    }
   ],
   "source": [
    "demographic_df = df[['Customer ID', 'Age', 'Gender', 'Location', 'Subscription Status']]\n",
    "demographic_df.sample(5)"
   ]
  },
  {
   "cell_type": "markdown",
   "metadata": {},
   "source": [
    "### Lựa chọn các biểu đồ:"
   ]
  },
  {
   "cell_type": "markdown",
   "metadata": {},
   "source": [
    "#### Biểu đồ **tròn (pie chart)** để trực quan hóa tỷ lệ giữa khách hàng nam và khách hàng nữ:\n",
    "- **Hiển thị tỷ lệ rõ ràng**: dễ dàng thấy được ngay tỷ lệ giữa 2 giới khách hàng."
   ]
  },
  {
   "cell_type": "code",
   "execution_count": 8,
   "metadata": {},
   "outputs": [
    {
     "data": {
      "image/png": "[encoded data removed]",
      "text/plain": [
       "<Figure size 600x600 with 1 Axes>"
      ]
     },
     "metadata": {},
     "output_type": "display_data"
    }
   ],
   "source": [
    "gender_counts = demographic_df['Gender'].value_counts()\n",
    "\n",
    "plt.figure(figsize=(6, 6))\n",
    "plt.pie(gender_counts, labels=gender_counts.index, autopct='%1.1f%%', startangle=90, colors=['skyblue', 'lightcoral'])\n",
    "plt.title('Gender Distribution')\n",
    "plt.axis('equal')\n",
    "plt.show()"
   ]
  },
  {
   "cell_type": "markdown",
   "metadata": {},
   "source": [
    "##### Nhận xét từ biểu đồ tròn:\n",
    "- Tỷ lệ khách hàng Nam và Nữ:\n",
    "    - Nam (Male): Chiếm 68.0%.\n",
    "    - Nữ (Female): Chiếm 32.0%.\n",
    "    - Khách hàng nam chiếm tỷ lệ lớn hơn gấp đôi so với khách hàng nữ.\n",
    "- Mất cân bằng giới tính:\n",
    "    - Sự chênh lệch này cho thấy rằng doanh nghiệp đang tiếp cận được nhiều khách hàng nam hơn so với nữ.\n",
    "- Khả năng nguyên nhân:\n",
    "    - Sản phẩm/dịch vụ chủ yếu phục vụ nam giới.\n",
    "    - Chiến dịch quảng cáo/Marketing không nhắm mục tiêu đủ đến khách hàng nữ.\n",
    "    - Kênh bán hàng hoặc cách tiếp cận có thể phù hợp với nam hơn nữ.\n",
    "\n",
    "##### Kết luận:\n",
    "- Cần tìm hiểu thêm trong các phần tiếp theo để xem liệu rằng sản phẩm của doanh nghiệp dành cho nam nhiều hơn hay không, hay do chiến lược tiếp thị chưa thành công đối với tệp khách hàng nữ.\n",
    "- Nếu sản phẩm được thiết kế chủ yếu cho nam, doanh nghiệp cần đánh giá lại chiến lược phát triển để không bỏ qua phân khúc khách hàng tiềm năng nữ."
   ]
  },
  {
   "cell_type": "markdown",
   "metadata": {},
   "source": [
    "#### Biểu đồ **Histogram** cho thuộc tính `Age`:\n",
    "- **Trực quan phân bố độ tuổi**: Histogram cho phép nhìn thấy cách các độ tuổi được phân bố, xác định các nhóm tuổi phổ biến, khoảng cách, cũng như các điểm bất thường (outliers).\n",
    "- **Đơn giản và hiệu quả**: Với biểu đồ này ta có thể dễ dàng trực quan hóa mật độ dữ liệu theo từng khoảng tuổi, từ đó hỗ trợ phân tích nhân khẩu học."
   ]
  },
  {
   "cell_type": "code",
   "execution_count": 9,
   "metadata": {},
   "outputs": [
    {
     "data": {
      "image/png": "[encoded data removed]",
      "text/plain": [
       "<Figure size 1000x600 with 1 Axes>"
      ]
     },
     "metadata": {},
     "output_type": "display_data"
    }
   ],
   "source": [
    "plt.figure(figsize=(10, 6))\n",
    "sns.histplot(demographic_df['Age'], bins=15, kde=True, color='skyblue')\n",
    "plt.title('Customer Age Distribution')\n",
    "plt.xlabel('Age')\n",
    "plt.ylabel('Count')\n",
    "plt.grid(axis='y', linestyle='--', alpha=0.6)\n",
    "plt.show()"
   ]
  },
  {
   "cell_type": "markdown",
   "metadata": {},
   "source": [
    "##### Nhận xét:\n",
    "Dựa trên biểu đồ histogram và đường cong mật độ KDE cho thấy:\n",
    "\n",
    "- Phân bố khá đồng đều:\n",
    "    - Mức độ tập trung ở các nhóm tuổi không chênh lệch quá lớn, chứng tỏ khách hàng trải dài trên nhiều độ tuổi.\n",
    "    - Một số khoảng tuổi có số lượng nhỉnh hơn (có thể quan sát khoảng 30-40), tuy nhiên sự chênh lệch không quá rõ rệt.\n",
    "\n",
    "- Không có cực trị (outlier) quá rõ:\n",
    "    - Biểu đồ không xuất hiện những cột cực kỳ thấp hoặc cực kỳ cao, cho thấy phân bố khách hàng về tuổi khá “tròn trịa” và ổn định.\n",
    "\n",
    "- Đường cong mật độ (KDE) “gợn sóng” nhẹ:\n",
    "    - Dễ thấy rằng đường cong có dao động, nhưng nhìn chung không có đỉnh hay đáy đột biến, củng cố quan sát rằng dữ liệu về tuổi không tập trung quá nhiều vào một nhóm duy nhất.\n",
    "\n",
    "- Hàm ý cho việc phân khúc thị trường:\n",
    "    - Do không có nhóm tuổi vượt trội, chiến lược marketing hoặc xây dựng gói dịch vụ cần xem xét đến đa dạng độ tuổi.\n",
    "    - Có thể cần kết hợp thêm các thuộc tính khác (giới tính, vị trí địa lý, sở thích) để phân khúc chính xác hơn."
   ]
  },
  {
   "cell_type": "markdown",
   "metadata": {},
   "source": [
    "##### Mở rộng: Tìm hiểu từng độ tuổi phân bố như thế nào ở từng giới tính."
   ]
  },
  {
   "cell_type": "code",
   "execution_count": 10,
   "metadata": {},
   "outputs": [
    {
     "data": {
      "image/png": "[encoded data removed]",
      "text/plain": [
       "<Figure size 1800x600 with 2 Axes>"
      ]
     },
     "metadata": {},
     "output_type": "display_data"
    }
   ],
   "source": [
    "# Đếm số lượng khách hàng ở từng độ tuổi của nam\n",
    "male_age_counts = demographic_df[demographic_df['Gender'] == 'Male']['Age'].value_counts().sort_index()\n",
    "\n",
    "# Đếm số lượng khách hàng ở từng độ tuổi của nữ\n",
    "female_age_counts = demographic_df[demographic_df['Gender'] == 'Female']['Age'].value_counts().sort_index()\n",
    "\n",
    "# Tạo figure và các axes\n",
    "fig, axes = plt.subplots(1, 2, figsize=(18, 6), sharey=True)\n",
    "\n",
    "# Biểu đồ cột cho khách hàng nam\n",
    "male_age_counts.plot(kind='bar', color='skyblue', ax=axes[0])\n",
    "axes[0].set_title('Customer Age Distribution (Male)')\n",
    "axes[0].set_xlabel('Age')\n",
    "axes[0].set_ylabel('Count')\n",
    "axes[0].grid(axis='y', linestyle='--', alpha=0.6)\n",
    "\n",
    "# Biểu đồ cột cho khách hàng nữ\n",
    "female_age_counts.plot(kind='bar', color='lightcoral', ax=axes[1])\n",
    "axes[1].set_title('Customer Age Distribution (Female)')\n",
    "axes[1].set_xlabel('Age')\n",
    "axes[1].grid(axis='y', linestyle='--', alpha=0.6)\n",
    "\n",
    "plt.tight_layout()\n",
    "plt.show()"
   ]
  },
  {
   "cell_type": "markdown",
   "metadata": {},
   "source": [
    "##### Nhận xét:\n",
    "- Số lượng khách hàng ở từng độ tuổi ở mỗi giới tính khá ngang nhau, chỉ chênh lệch một lượng nhỏ giữa các độ tuổi với nhau.\n",
    "- Khách hàng nam:\n",
    "    - Số lượng khách hàng 41 và 54 tuổi là cao nhất, ngoài ra khách hàng tuổi 25, 49 và 69 cũng chiếm số lượng nổi trội.\n",
    "    - Có chưa tới 30 khách hàng tuổi 44, bên cạnh đó độ tuổi 22 và 45 đều chưa đạt 40 khách hàng.\n",
    "- Khách hàng nữ:\n",
    "    - Trong khi số lượng khách hàng nam ở tuổi 45 ít hơn so với đa số thì ở tệp khách hàng nữ chứng kiến sự ngược lại, đây là độ tuổi của nhiều khách hàng nữ nhất.\n",
    "    - Có chưa tới 15 khách hàng nữ ở độ tuổi 20 và 67."
   ]
  },
  {
   "cell_type": "markdown",
   "metadata": {},
   "source": [
    "##### Kết luận: \n",
    "- Dữ liệu tuổi khách hàng khá cân bằng trên nhiều độ tuổi, không tập trung hẳn vào một nhóm cụ thể. Điều này gợi ý rằng doanh nghiệp có tệp khách hàng rộng về độ tuổi, cần phân tích kết hợp các yếu tố khác để phân nhóm, điều chỉnh sản phẩm và chiến lược tiếp thị phù hợp."
   ]
  },
  {
   "cell_type": "markdown",
   "metadata": {},
   "source": [
    "#### Biểu đồ **cột (bar chart)** theo nhóm để phân tích mối quan hệ giữa hai thuộc tính `Gender` và `Subscription Status`:\n",
    "- **Dễ so sánh**: Biểu đồ cột giúp so sánh số lượng khách hàng nam/nữ có trạng thái đăng ký khác nhau (đã đăng ký, chưa đăng ký).\n",
    "- **Phân nhóm trực quan**: Nhờ vào cách biểu diễn theo nhóm (hue), có thể quan sát ngay được xu hướng đăng ký ở từng nhóm giới tính.\n",
    "- **Đơn giản, trực quan**: Rất phù hợp để hiển thị dữ liệu phân loại (categorical data) và so sánh tần suất."
   ]
  },
  {
   "cell_type": "code",
   "execution_count": 12,
   "metadata": {},
   "outputs": [
    {
     "data": {
      "image/png": "[encoded data removed]",
      "text/plain": [
       "<Figure size 800x600 with 1 Axes>"
      ]
     },
     "metadata": {},
     "output_type": "display_data"
    }
   ],
   "source": [
    "plt.figure(figsize=(8, 6))\n",
    "sns.countplot(data=demographic_df, x='Gender', hue='Subscription Status')\n",
    "\n",
    "plt.title('Subscription Status by Gender')\n",
    "plt.xlabel('Gender')\n",
    "plt.ylabel('Count')\n",
    "plt.grid(axis='y', linestyle='--', alpha=0.6)\n",
    "plt.legend(title='Subscription Status')\n",
    "plt.show()"
   ]
  },
  {
   "cell_type": "markdown",
   "metadata": {},
   "source": [
    "##### Nhận xét:\n",
    "- Số lượng khách hàng Nam nhiều hơn Nữ.\n",
    "- Khách hàng Nam tồn tại cả 2 trạng thái Đăng ký & Không đăng ký, trong khi đó tất cả khách hàng Nữ đều không đăng ký.\n",
    "- Đối với khách hàng Nam, số lượng người không đăng ký vượt trội hơn số người đăng ký.\n",
    "\n",
    "##### Kết luận:\n",
    "- Ngoài việc số lượng người không đăng ký cao hơn rõ rệt thì việc không có khách hàng nữ nào đăng ký cũng là một điểm đáng chú ý. Điều này cho thấy chiến lược thất bại của doanh nghiệp trong việc thu hút khách hàng (đặc biệt là nữ).\n",
    "- Để đưa ra các chiến lược trong tương lai, cần xác thực lại dữ liệu và điều chỉnh, cải tiến để thu hút, thúc đẩy đăng ký từ khách hàng."
   ]
  },
  {
   "cell_type": "markdown",
   "metadata": {},
   "source": [
    "#### Biểu đồ nhiệt (heatmap) để trực quan dữ liệu mua hàng ở từng bang và khu vực:\n",
    "- **Sinh động**: Với thang đo số lượng bằng màu sắc và dữ liệu mua hàng được trực quan bằng bản đồ giúp cho việc quan sát và nhận xét rất dễ dàng.\n",
    "- **Khả năng khoanh vùng**: Các vùng có màu tương tự nhau có thể được nhóm lại, từ đó đưa ra các chiến lược phù hợp."
   ]
  },
  {
   "cell_type": "code",
   "execution_count": 30,
   "metadata": {},
   "outputs": [
    {
     "data": {
      "text/html": [
       "<div>\n",
       "<style scoped>\n",
       "    .dataframe tbody tr th:only-of-type {\n",
       "        vertical-align: middle;\n",
       "    }\n",
       "\n",
       "    .dataframe tbody tr th {\n",
       "        vertical-align: top;\n",
       "    }\n",
       "\n",
       "    .dataframe thead th {\n",
       "        text-align: right;\n",
       "    }\n",
       "</style>\n",
       "<table border=\"1\" class=\"dataframe\">\n",
       "  <thead>\n",
       "    <tr style=\"text-align: right;\">\n",
       "      <th></th>\n",
       "      <th>Location</th>\n",
       "      <th>Count</th>\n",
       "    </tr>\n",
       "  </thead>\n",
       "  <tbody>\n",
       "    <tr>\n",
       "      <th>5</th>\n",
       "      <td>Minnesota</td>\n",
       "      <td>88</td>\n",
       "    </tr>\n",
       "    <tr>\n",
       "      <th>14</th>\n",
       "      <td>Missouri</td>\n",
       "      <td>81</td>\n",
       "    </tr>\n",
       "    <tr>\n",
       "      <th>1</th>\n",
       "      <td>California</td>\n",
       "      <td>95</td>\n",
       "    </tr>\n",
       "    <tr>\n",
       "      <th>34</th>\n",
       "      <td>Pennsylvania</td>\n",
       "      <td>74</td>\n",
       "    </tr>\n",
       "    <tr>\n",
       "      <th>27</th>\n",
       "      <td>Texas</td>\n",
       "      <td>77</td>\n",
       "    </tr>\n",
       "  </tbody>\n",
       "</table>\n",
       "</div>"
      ],
      "text/plain": [
       "        Location  Count\n",
       "5      Minnesota     88\n",
       "14      Missouri     81\n",
       "1     California     95\n",
       "34  Pennsylvania     74\n",
       "27         Texas     77"
      ]
     },
     "execution_count": 30,
     "metadata": {},
     "output_type": "execute_result"
    }
   ],
   "source": [
    "# Đếm số lượng mua hàng ở từng bang\n",
    "location_counts = df['Location'].value_counts().reset_index()\n",
    "location_counts.columns = ['Location', 'Count']\n",
    "location_counts.sample(5)"
   ]
  },
  {
   "cell_type": "code",
   "execution_count": 34,
   "metadata": {},
   "outputs": [],
   "source": [
    "# Tải bản đồ nước Mỹ\n",
    "usa = gpd.read_file('../Datasets/110m_cultural/ne_110m_admin_0_countries.shp')\n",
    "usa = usa[usa['ADMIN'] == 'United States of America']"
   ]
  },
  {
   "cell_type": "code",
   "execution_count": 46,
   "metadata": {},
   "outputs": [],
   "source": [
    "# Tạo GeoDataFrame từ dữ liệu mua hàng\n",
    "states = gpd.read_file('../Datasets/110m_cultural/ne_110m_admin_1_states_provinces.shp')\n",
    "states = states[states['admin'] == 'United States of America']"
   ]
  },
  {
   "cell_type": "code",
   "execution_count": null,
   "metadata": {},
   "outputs": [
    {
     "data": {
      "text/html": [
       "<div>\n",
       "<style scoped>\n",
       "    .dataframe tbody tr th:only-of-type {\n",
       "        vertical-align: middle;\n",
       "    }\n",
       "\n",
       "    .dataframe tbody tr th {\n",
       "        vertical-align: top;\n",
       "    }\n",
       "\n",
       "    .dataframe thead th {\n",
       "        text-align: right;\n",
       "    }\n",
       "</style>\n",
       "<table border=\"1\" class=\"dataframe\">\n",
       "  <thead>\n",
       "    <tr style=\"text-align: right;\">\n",
       "      <th></th>\n",
       "      <th>featurecla</th>\n",
       "      <th>scalerank</th>\n",
       "      <th>adm1_code</th>\n",
       "      <th>diss_me</th>\n",
       "      <th>iso_3166_2</th>\n",
       "      <th>wikipedia</th>\n",
       "      <th>iso_a2</th>\n",
       "      <th>adm0_sr</th>\n",
       "      <th>name_alt</th>\n",
       "      <th>name_local</th>\n",
       "      <th>...</th>\n",
       "      <th>FCLASS_PL</th>\n",
       "      <th>FCLASS_GR</th>\n",
       "      <th>FCLASS_IT</th>\n",
       "      <th>FCLASS_NL</th>\n",
       "      <th>FCLASS_SE</th>\n",
       "      <th>FCLASS_BD</th>\n",
       "      <th>FCLASS_UA</th>\n",
       "      <th>FCLASS_TLC</th>\n",
       "      <th>geometry</th>\n",
       "      <th>Count</th>\n",
       "    </tr>\n",
       "    <tr>\n",
       "      <th>name</th>\n",
       "      <th></th>\n",
       "      <th></th>\n",
       "      <th></th>\n",
       "      <th></th>\n",
       "      <th></th>\n",
       "      <th></th>\n",
       "      <th></th>\n",
       "      <th></th>\n",
       "      <th></th>\n",
       "      <th></th>\n",
       "      <th></th>\n",
       "      <th></th>\n",
       "      <th></th>\n",
       "      <th></th>\n",
       "      <th></th>\n",
       "      <th></th>\n",
       "      <th></th>\n",
       "      <th></th>\n",
       "      <th></th>\n",
       "      <th></th>\n",
       "      <th></th>\n",
       "    </tr>\n",
       "  </thead>\n",
       "  <tbody>\n",
       "    <tr>\n",
       "      <th>Georgia</th>\n",
       "      <td>Admin-1 scale rank</td>\n",
       "      <td>2</td>\n",
       "      <td>USA-3543</td>\n",
       "      <td>3543</td>\n",
       "      <td>US-GA</td>\n",
       "      <td>http://en.wikipedia.org/wiki/Georgia_(U.S._state)</td>\n",
       "      <td>US</td>\n",
       "      <td>6</td>\n",
       "      <td>GA|Ga.</td>\n",
       "      <td>None</td>\n",
       "      <td>...</td>\n",
       "      <td>None</td>\n",
       "      <td>None</td>\n",
       "      <td>None</td>\n",
       "      <td>None</td>\n",
       "      <td>None</td>\n",
       "      <td>None</td>\n",
       "      <td>None</td>\n",
       "      <td>None</td>\n",
       "      <td>POLYGON ((-85.00519 30.99069, -85.05442 31.108...</td>\n",
       "      <td>79.0</td>\n",
       "    </tr>\n",
       "    <tr>\n",
       "      <th>Iowa</th>\n",
       "      <td>Admin-1 scale rank</td>\n",
       "      <td>2</td>\n",
       "      <td>USA-3529</td>\n",
       "      <td>3529</td>\n",
       "      <td>US-IA</td>\n",
       "      <td>http://en.wikipedia.org/wiki/Iowa</td>\n",
       "      <td>US</td>\n",
       "      <td>1</td>\n",
       "      <td>IA|Iowa</td>\n",
       "      <td>None</td>\n",
       "      <td>...</td>\n",
       "      <td>None</td>\n",
       "      <td>None</td>\n",
       "      <td>None</td>\n",
       "      <td>None</td>\n",
       "      <td>None</td>\n",
       "      <td>None</td>\n",
       "      <td>None</td>\n",
       "      <td>None</td>\n",
       "      <td>POLYGON ((-96.45266 43.50179, -95.35994 43.500...</td>\n",
       "      <td>69.0</td>\n",
       "    </tr>\n",
       "    <tr>\n",
       "      <th>Wisconsin</th>\n",
       "      <td>Admin-1 scale rank</td>\n",
       "      <td>2</td>\n",
       "      <td>USA-3553</td>\n",
       "      <td>3553</td>\n",
       "      <td>US-WI</td>\n",
       "      <td>http://en.wikipedia.org/wiki/Wisconsin</td>\n",
       "      <td>US</td>\n",
       "      <td>1</td>\n",
       "      <td>WI|Wis.</td>\n",
       "      <td>None</td>\n",
       "      <td>...</td>\n",
       "      <td>None</td>\n",
       "      <td>None</td>\n",
       "      <td>None</td>\n",
       "      <td>None</td>\n",
       "      <td>None</td>\n",
       "      <td>None</td>\n",
       "      <td>None</td>\n",
       "      <td>None</td>\n",
       "      <td>POLYGON ((-91.2282 43.50125, -91.25466 43.6139...</td>\n",
       "      <td>75.0</td>\n",
       "    </tr>\n",
       "    <tr>\n",
       "      <th>Maine</th>\n",
       "      <td>Admin-1 scale rank</td>\n",
       "      <td>2</td>\n",
       "      <td>USA-3561</td>\n",
       "      <td>3561</td>\n",
       "      <td>US-ME</td>\n",
       "      <td>http://en.wikipedia.org/wiki/Maine</td>\n",
       "      <td>US</td>\n",
       "      <td>6</td>\n",
       "      <td>ME|Maine</td>\n",
       "      <td>None</td>\n",
       "      <td>...</td>\n",
       "      <td>None</td>\n",
       "      <td>None</td>\n",
       "      <td>None</td>\n",
       "      <td>None</td>\n",
       "      <td>None</td>\n",
       "      <td>None</td>\n",
       "      <td>None</td>\n",
       "      <td>None</td>\n",
       "      <td>POLYGON ((-70.64573 43.09008, -70.75102 43.080...</td>\n",
       "      <td>77.0</td>\n",
       "    </tr>\n",
       "    <tr>\n",
       "      <th>Maryland</th>\n",
       "      <td>Admin-1 scale rank</td>\n",
       "      <td>2</td>\n",
       "      <td>USA-3557</td>\n",
       "      <td>3557</td>\n",
       "      <td>US-MD</td>\n",
       "      <td>http://en.wikipedia.org/wiki/Maryland</td>\n",
       "      <td>US</td>\n",
       "      <td>1</td>\n",
       "      <td>MD</td>\n",
       "      <td>None</td>\n",
       "      <td>...</td>\n",
       "      <td>None</td>\n",
       "      <td>None</td>\n",
       "      <td>None</td>\n",
       "      <td>None</td>\n",
       "      <td>None</td>\n",
       "      <td>None</td>\n",
       "      <td>None</td>\n",
       "      <td>None</td>\n",
       "      <td>POLYGON ((-75.37754 38.01538, -75.37754 38.015...</td>\n",
       "      <td>86.0</td>\n",
       "    </tr>\n",
       "  </tbody>\n",
       "</table>\n",
       "<p>5 rows × 122 columns</p>\n",
       "</div>"
      ],
      "text/plain": [
       "                   featurecla  scalerank adm1_code  diss_me iso_3166_2  \\\n",
       "name                                                                     \n",
       "Georgia    Admin-1 scale rank          2  USA-3543     3543      US-GA   \n",
       "Iowa       Admin-1 scale rank          2  USA-3529     3529      US-IA   \n",
       "Wisconsin  Admin-1 scale rank          2  USA-3553     3553      US-WI   \n",
       "Maine      Admin-1 scale rank          2  USA-3561     3561      US-ME   \n",
       "Maryland   Admin-1 scale rank          2  USA-3557     3557      US-MD   \n",
       "\n",
       "                                                   wikipedia iso_a2  adm0_sr  \\\n",
       "name                                                                           \n",
       "Georgia    http://en.wikipedia.org/wiki/Georgia_(U.S._state)     US        6   \n",
       "Iowa                       http://en.wikipedia.org/wiki/Iowa     US        1   \n",
       "Wisconsin             http://en.wikipedia.org/wiki/Wisconsin     US        1   \n",
       "Maine                     http://en.wikipedia.org/wiki/Maine     US        6   \n",
       "Maryland               http://en.wikipedia.org/wiki/Maryland     US        1   \n",
       "\n",
       "           name_alt name_local  ... FCLASS_PL FCLASS_GR FCLASS_IT FCLASS_NL  \\\n",
       "name                            ...                                           \n",
       "Georgia      GA|Ga.       None  ...      None      None      None      None   \n",
       "Iowa        IA|Iowa       None  ...      None      None      None      None   \n",
       "Wisconsin   WI|Wis.       None  ...      None      None      None      None   \n",
       "Maine      ME|Maine       None  ...      None      None      None      None   \n",
       "Maryland         MD       None  ...      None      None      None      None   \n",
       "\n",
       "          FCLASS_SE FCLASS_BD FCLASS_UA FCLASS_TLC  \\\n",
       "name                                                 \n",
       "Georgia        None      None      None       None   \n",
       "Iowa           None      None      None       None   \n",
       "Wisconsin      None      None      None       None   \n",
       "Maine          None      None      None       None   \n",
       "Maryland       None      None      None       None   \n",
       "\n",
       "                                                    geometry  Count  \n",
       "name                                                                 \n",
       "Georgia    POLYGON ((-85.00519 30.99069, -85.05442 31.108...   79.0  \n",
       "Iowa       POLYGON ((-96.45266 43.50179, -95.35994 43.500...   69.0  \n",
       "Wisconsin  POLYGON ((-91.2282 43.50125, -91.25466 43.6139...   75.0  \n",
       "Maine      POLYGON ((-70.64573 43.09008, -70.75102 43.080...   77.0  \n",
       "Maryland   POLYGON ((-75.37754 38.01538, -75.37754 38.015...   86.0  \n",
       "\n",
       "[5 rows x 122 columns]"
      ]
     },
     "execution_count": 37,
     "metadata": {},
     "output_type": "execute_result"
    }
   ],
   "source": [
    "# Merge dữ liệu mua hàng với bản đồ các bang\n",
    "merged = states.set_index('name').join(location_counts.set_index('Location'))\n",
    "merged.sample(3)"
   ]
  },
  {
   "cell_type": "code",
   "execution_count": null,
   "metadata": {},
   "outputs": [
    {
     "data": {
      "application/vnd.plotly.v1+json": {
       "config": {
        "plotlyServerURL": "https://plot.ly"
       },
       "data": [
        {
         "coloraxis": "coloraxis",
         "customdata": [
          [
           88
          ],
          [
           96
          ],
          [
           83
          ],
          [
           65
          ],
          [
           93
          ],
          [
           73
          ],
          [
           65
          ],
          [
           95
          ],
          [
           75
          ],
          [
           87
          ],
          [
           81
          ],
          [
           74
          ],
          [
           71
          ],
          [
           71
          ],
          [
           79
          ],
          [
           69
          ],
          [
           63
          ],
          [
           81
          ],
          [
           87
          ],
          [
           75
          ],
          [
           70
          ],
          [
           84
          ],
          [
           77
          ],
          [
           78
          ],
          [
           72
          ],
          [
           71
          ],
          [
           63
          ],
          [
           85
          ],
          [
           89
          ],
          [
           68
          ],
          [
           79
          ],
          [
           80
          ],
          [
           76
          ],
          [
           92
          ],
          [
           79
          ],
          [
           79
          ],
          [
           78
          ],
          [
           77
          ],
          [
           77
          ],
          [
           77
          ],
          [
           75
          ],
          [
           81
          ],
          [
           86
          ],
          [
           null
          ],
          [
           86
          ],
          [
           67
          ],
          [
           87
          ],
          [
           74
          ],
          [
           77
          ],
          [
           73
          ],
          [
           72
          ]
         ],
         "geo": "geo",
         "geojson": {
          "bbox": [
           -171.79111060289117,
           18.916190000000142,
           -66.96465999999998,
           71.35776357694175
          ],
          "features": [
           {
            "bbox": [
             -97.22894344764504,
             43.50018748633542,
             -89.4900319346622,
             49.38928538674975
            ],
            "geometry": {
             "coordinates": [
              [
               [
                -89.95765601272012,
                47.286907253603175
               ],
               [
                -90.13175391311144,
                47.29274669045216
               ],
               [
                -90.30585181350276,
                47.29801768654593
               ],
               [
                -90.47994971389409,
                47.30385712339489
               ],
               [
                -90.6540476142854,
                47.309128119488676
               ],
               [
                -90.85778194859611,
                47.21282908791278
               ],
               [
                -91.06097368036777,
                47.117046820659795
               ],
               [
                -91.26470801467849,
                47.02126455340681
               ],
               [
                -91.46844234898919,
                46.9249655218309
               ],
               [
                -91.59225908076053,
                46.876260484395914
               ],
               [
                -91.71661841507091,
                46.82760712339301
               ],
               [
                -91.8409777493813,
                46.778385321635
               ],
               [
                -91.96479448115262,
                46.72970612241605
               ],
               [
                -92.01189754918667,
                46.71172272397848
               ],
               [
                -92.27487891312,
                46.65614472104858
               ],
               [
                -92.26482784703924,
                46.09522288673644
               ],
               [
                -92.2965830146826,
                46.09628225359842
               ],
               [
                -92.54369971390233,
                45.98569468849381
               ],
               [
                -92.75696834997089,
                45.88991242124082
               ],
               [
                -92.89982784704182,
                45.705763454768714
               ],
               [
                -92.68922054723626,
                45.51843638771068
               ],
               [
                -92.76541744665064,
                45.26708222104298
               ],
               [
                -92.76647681351261,
                44.9961426865367
               ],
               [
                -92.79665584997105,
                44.77602692318949
               ],
               [
                -92.50507158076417,
                44.58391978614445
               ],
               [
                -92.38549231644078,
                44.57492808692567
               ],
               [
                -92.06215287959051,
                44.43258535417769
               ],
               [
                -91.949989183301,
                44.364837551443046
               ],
               [
                -91.87960588251947,
                44.25742808692439
               ],
               [
                -91.62770911331273,
                44.085448920257036
               ],
               [
                -91.28959021682704,
                43.93729258887629
               ],
               [
                -91.25729244664458,
                43.854739488289965
               ],
               [
                -91.2546569485977,
                43.61397899024206
               ],
               [
                -91.22819861526426,
                43.5012468531974
               ],
               [
                -92.54000484899348,
                43.51977285417405
               ],
               [
                -94.00102678096546,
                43.51341665300214
               ],
               [
                -95.35993608272871,
                43.50018748633542
               ],
               [
                -96.4526600817565,
                43.50178945573647
               ],
               [
                -96.43943091508982,
                44.43576345476367
               ],
               [
                -96.56061214881424,
                45.39301768653837
               ],
               [
                -96.73576941606754,
                45.47081655535372
               ],
               [
                -96.83470394569034,
                45.62532908790642
               ],
               [
                -96.78072791216147,
                45.76079885515958
               ],
               [
                -96.55689144568922,
                45.87244578712617
               ],
               [
                -96.53945064979075,
                46.017966620460186
               ],
               [
                -96.53890804725165,
                46.199480088885366
               ],
               [
                -96.60135901567638,
                46.3513571233911
               ],
               [
                -96.68548824744755,
                46.51328522397769
               ],
               [
                -96.73365068234358,
                46.71647695574927
               ],
               [
                -96.7458204821483,
                46.9445250514533
               ],
               [
                -96.77969438351563,
                46.999043687521294
               ],
               [
                -96.82041541216165,
                47.29220408791309
               ],
               [
                -96.82465287960957,
                47.42661448830425
               ],
               [
                -96.84423824744819,
                47.54619375262766
               ],
               [
                -96.89397681352912,
                47.74886872007637
               ],
               [
                -97.01515804725355,
                47.954205023788134
               ],
               [
                -97.13104244666809,
                48.13729462339825
               ],
               [
                -97.14850908078273,
                48.31878225360731
               ],
               [
                -97.16122148312654,
                48.51458425556122
               ],
               [
                -97.12734758175921,
                48.64212169045756
               ],
               [
                -97.1204746162644,
                48.75852285419501
               ],
               [
                -97.21413814979343,
                48.90244171812793
               ],
               [
                -97.22894344764504,
                49.00088532164389
               ],
               [
                -95.15883724646483,
                48.9998259547819
               ],
               [
                -95.15620174841791,
                49.38401439065592
               ],
               [
                -94.81754024939323,
                49.38928538674975
               ],
               [
                -94.64026424841592,
                48.84001658791925
               ],
               [
                -94.32912044958647,
                48.670672919298795
               ],
               [
                -93.63061011429733,
                48.60928131773602
               ],
               [
                -92.60984554723586,
                48.45001455341253
               ],
               [
                -91.63987891311746,
                48.13993012144516
               ],
               [
                -90.83026424840062,
                48.27010305438836
               ],
               [
                -89.59995174839577,
                48.01027395282483
               ],
               [
                -89.59940914585667,
                48.01027395282483
               ],
               [
                -89.4900319346622,
                48.01340602289096
               ],
               [
                -89.52269548211933,
                47.96053538674391
               ],
               [
                -89.61369767938538,
                47.81925202085796
               ],
               [
                -89.72800594761503,
                47.641976019880644
               ],
               [
                -89.84283098016755,
                47.464725857119504
               ],
               [
                -89.95765601272012,
                47.286907253603175
               ]
              ]
             ],
             "type": "Polygon"
            },
            "id": "0",
            "properties": {
             "Count": 88,
             "FCLASS_AR": null,
             "FCLASS_BD": null,
             "FCLASS_BR": null,
             "FCLASS_CN": null,
             "FCLASS_DE": null,
             "FCLASS_EG": null,
             "FCLASS_ES": null,
             "FCLASS_FR": null,
             "FCLASS_GB": null,
             "FCLASS_GR": null,
             "FCLASS_ID": null,
             "FCLASS_IL": null,
             "FCLASS_IN": null,
             "FCLASS_ISO": null,
             "FCLASS_IT": null,
             "FCLASS_JP": null,
             "FCLASS_KO": null,
             "FCLASS_MA": null,
             "FCLASS_NL": null,
             "FCLASS_NP": null,
             "FCLASS_PK": null,
             "FCLASS_PL": null,
             "FCLASS_PS": null,
             "FCLASS_PT": null,
             "FCLASS_RU": null,
             "FCLASS_SA": null,
             "FCLASS_SE": null,
             "FCLASS_TLC": null,
             "FCLASS_TR": null,
             "FCLASS_TW": null,
             "FCLASS_UA": null,
             "FCLASS_US": null,
             "FCLASS_VN": null,
             "abbrev": "Minn.",
             "adm0_a3": "USA",
             "adm0_label": 2,
             "adm0_sr": 1,
             "adm1_code": "USA-3514",
             "admin": "United States of America",
             "area_sqkm": 0,
             "check_me": 20,
             "code_hasc": "US.MN",
             "code_local": "US27",
             "datarank": 1,
             "diss_me": 3514,
             "featurecla": "Admin-1 scale rank",
             "fips": "US27",
             "fips_alt": null,
             "gadm_level": 1,
             "geonunit": "United States of America",
             "gn_a1_code": "US.MN",
             "gn_id": 5037779,
             "gn_level": 1,
             "gn_name": "Minnesota",
             "gn_region": null,
             "gns_adm1": null,
             "gns_id": -1,
             "gns_lang": null,
             "gns_level": -1,
             "gns_name": null,
             "gns_region": null,
             "gu_a3": "USA",
             "hasc_maybe": null,
             "id": 0,
             "iso_3166_2": "US-MN",
             "iso_a2": "US",
             "labelrank": 0,
             "latitude": 46.0592,
             "longitude": -93.364,
             "mapcolor13": 1,
             "mapcolor9": 1,
             "max_label": 7.5,
             "min_label": 3.5,
             "min_zoom": 2,
             "name": "Minnesota",
             "name_alt": "MN|Minn.",
             "name_ar": "مينيسوتا",
             "name_bn": "মিনেসোটা",
             "name_de": "Minnesota",
             "name_el": "Μινεσότα",
             "name_en": "Minnesota",
             "name_es": "Minnesota",
             "name_fa": "مینهسوتا",
             "name_fr": "Minnesota",
             "name_he": "מינסוטה",
             "name_hi": "मिनेसोटा",
             "name_hu": "Minnesota",
             "name_id": "Minnesota",
             "name_it": "Minnesota",
             "name_ja": "ミネソタ州",
             "name_ko": "미네소타",
             "name_len": 9,
             "name_local": null,
             "name_nl": "Minnesota",
             "name_pl": "Minnesota",
             "name_pt": "Minnesota",
             "name_ru": "Миннесота",
             "name_sv": "Minnesota",
             "name_tr": "Minnesota",
             "name_uk": "Міннесота",
             "name_ur": "مینیسوٹا",
             "name_vi": "Minnesota",
             "name_zh": "明尼苏达州",
             "name_zht": "明尼蘇達州",
             "ne_id": 1159315297,
             "note": null,
             "postal": "MN",
             "provnum_ne": 0,
             "region": "Midwest",
             "region_cod": null,
             "region_sub": "West North Central",
             "sameascity": -99,
             "scalerank": 2,
             "sov_a3": "US1",
             "sub_code": null,
             "type": "State",
             "type_en": "State",
             "wikidataid": "Q1527",
             "wikipedia": "http://en.wikipedia.org/wiki/Minnesota",
             "woe_id": 2347582,
             "woe_label": "Minnesota, US, United States",
             "woe_name": "Minnesota"
            },
            "type": "Feature"
           },
           {
            "bbox": [
             -116.04823401575418,
             44.3600833196722,
             -104.02661638061494,
             49.00563955341474
            ],
            "geometry": {
             "coordinates": [
              [
               [
                -116.04823401575418,
                49.00036855732097
               ],
               [
                -113.05950171593753,
                49.0014020859668
               ],
               [
                -110.0707694161209,
                49.00300405536785
               ],
               [
                -107.08203711630425,
                49.00458018655276
               ],
               [
                -104.09276221394853,
                49.00563955341474
               ],
               [
                -104.07741431355785,
                47.17156545672772
               ],
               [
                -104.02661638061494,
                45.956600857113486
               ],
               [
                -104.07795691609692,
                45.04061025652388
               ],
               [
                -105.74589128296557,
                45.051178086927564
               ],
               [
                -107.54663408082433,
                45.04588125261765
               ],
               [
                -109.10237891318732,
                45.05701752377655
               ],
               [
                -111.07140601280457,
                45.04960195574266
               ],
               [
                -111.0671943835728,
                44.54159678809741
               ],
               [
                -111.08517778201036,
                44.506146755545174
               ],
               [
                -111.19418921593007,
                44.56115631771988
               ],
               [
                -111.29154761436796,
                44.701406154960026
               ],
               [
                -111.4000164457486,
                44.72892385515544
               ],
               [
                -111.54238501671271,
                44.53048635515465
               ],
               [
                -111.77149247927873,
                44.49821442318837
               ],
               [
                -112.33613501671589,
                44.56063955339695
               ],
               [
                -112.36259335004932,
                44.46222178809708
               ],
               [
                -112.69014441613137,
                44.4987311875113
               ],
               [
                -112.87481014692638,
                44.3600833196722
               ],
               [
                -113.05208614790365,
                44.61991242123574
               ],
               [
                -113.174843512813,
                44.76543325456966
               ],
               [
                -113.37857784712371,
                44.78977285417912
               ],
               [
                -113.43942684614738,
                44.86279165300755
               ],
               [
                -113.5029371814341,
                45.124222723972125
               ],
               [
                -113.68021318241136,
                45.2490729843893
               ],
               [
                -113.79449561242484,
                45.56499685320567
               ],
               [
                -113.91410071496439,
                45.70258535418277
               ],
               [
                -114.03579871301176,
                45.730103054378205
               ],
               [
                -114.13793718143664,
                45.58933645281513
               ],
               [
                -114.33531531457545,
                45.470273952814665
               ],
               [
                -114.5136506824147,
                45.56923432065359
               ],
               [
                -114.52370174849547,
                45.825368557308266
               ],
               [
                -114.40727474654187,
                45.88991242124082
               ],
               [
                -114.4914298165292,
                46.14708018654133
               ],
               [
                -114.39404557987515,
                46.41008738869081
               ],
               [
                -114.28451738163254,
                46.6318051214391
               ],
               [
                -114.58561011438114,
                46.64133942319695
               ],
               [
                -114.8433204822207,
                46.7863176539918
               ],
               [
                -115.12164974654473,
                47.09536855731335
               ],
               [
                -115.28833207890217,
                47.250397854188975
               ],
               [
                -115.51906734908539,
                47.345120754579966
               ],
               [
                -115.70479244674239,
                47.504930121442584
               ],
               [
                -115.70427568241946,
                47.68484162046674
               ],
               [
                -115.96779964889187,
                47.95048432066312
               ],
               [
                -116.04823401575418,
                49.00036855732097
               ]
              ]
             ],
             "type": "Polygon"
            },
            "id": "1",
            "properties": {
             "Count": 96,
             "FCLASS_AR": null,
             "FCLASS_BD": null,
             "FCLASS_BR": null,
             "FCLASS_CN": null,
             "FCLASS_DE": null,
             "FCLASS_EG": null,
             "FCLASS_ES": null,
             "FCLASS_FR": null,
             "FCLASS_GB": null,
             "FCLASS_GR": null,
             "FCLASS_ID": null,
             "FCLASS_IL": null,
             "FCLASS_IN": null,
             "FCLASS_ISO": null,
             "FCLASS_IT": null,
             "FCLASS_JP": null,
             "FCLASS_KO": null,
             "FCLASS_MA": null,
             "FCLASS_NL": null,
             "FCLASS_NP": null,
             "FCLASS_PK": null,
             "FCLASS_PL": null,
             "FCLASS_PS": null,
             "FCLASS_PT": null,
             "FCLASS_RU": null,
             "FCLASS_SA": null,
             "FCLASS_SE": null,
             "FCLASS_TLC": null,
             "FCLASS_TR": null,
             "FCLASS_TW": null,
             "FCLASS_UA": null,
             "FCLASS_US": null,
             "FCLASS_VN": null,
             "abbrev": "Mont.",
             "adm0_a3": "USA",
             "adm0_label": 2,
             "adm0_sr": 1,
             "adm1_code": "USA-3515",
             "admin": "United States of America",
             "area_sqkm": 0,
             "check_me": 20,
             "code_hasc": "US.MT",
             "code_local": "US30",
             "datarank": 1,
             "diss_me": 3515,
             "featurecla": "Admin-1 scale rank",
             "fips": "US30",
             "fips_alt": null,
             "gadm_level": 1,
             "geonunit": "United States of America",
             "gn_a1_code": "US.MT",
             "gn_id": 5667009,
             "gn_level": 1,
             "gn_name": "Montana",
             "gn_region": null,
             "gns_adm1": null,
             "gns_id": -1,
             "gns_lang": null,
             "gns_level": -1,
             "gns_name": null,
             "gns_region": null,
             "gu_a3": "USA",
             "hasc_maybe": null,
             "id": 1,
             "iso_3166_2": "US-MT",
             "iso_a2": "US",
             "labelrank": 0,
             "latitude": 46.9965,
             "longitude": -110.044,
             "mapcolor13": 1,
             "mapcolor9": 1,
             "max_label": 7.5,
             "min_label": 3.5,
             "min_zoom": 2,
             "name": "Montana",
             "name_alt": "MT|Mont.",
             "name_ar": "مونتانا",
             "name_bn": "মন্টানা",
             "name_de": "Montana",
             "name_el": "Μοντάνα",
             "name_en": "Montana",
             "name_es": "Montana",
             "name_fa": "ایالت مونتانا",
             "name_fr": "Montana",
             "name_he": "מונטנה",
             "name_hi": "मोन्टाना",
             "name_hu": "Montana",
             "name_id": "Montana",
             "name_it": "Montana",
             "name_ja": "モンタナ州",
             "name_ko": "몬태나",
             "name_len": 7,
             "name_local": null,
             "name_nl": "Montana",
             "name_pl": "Montana",
             "name_pt": "Montana",
             "name_ru": "Монтана",
             "name_sv": "Montana",
             "name_tr": "Montana",
             "name_uk": "Монтана",
             "name_ur": "مونٹانا",
             "name_vi": "Montana",
             "name_zh": "蒙大拿州",
             "name_zht": "蒙大拿州",
             "ne_id": 1159315333,
             "note": null,
             "postal": "MT",
             "provnum_ne": 0,
             "region": "West",
             "region_cod": null,
             "region_sub": "Mountain",
             "sameascity": -99,
             "scalerank": 2,
             "sov_a3": "US1",
             "sub_code": null,
             "type": "State",
             "type_en": "State",
             "wikidataid": "Q1212",
             "wikipedia": "http://en.wikipedia.org/wiki/Montana",
             "woe_id": 2347585,
             "woe_label": "Montana, US, United States",
             "woe_name": "Montana"
            },
            "type": "Feature"
           },
           {
            "bbox": [
             -104.09276221394853,
             45.956600857113486,
             -96.53890804725165,
             49.00563955341474
            ],
            "geometry": {
             "coordinates": [
              [
               [
                -97.22894344764504,
                49.00088532164389
               ],
               [
                -97.21413814979343,
                48.90244171812793
               ],
               [
                -97.1204746162644,
                48.75852285419501
               ],
               [
                -97.12734758175921,
                48.64212169045756
               ],
               [
                -97.16122148312654,
                48.51458425556122
               ],
               [
                -97.14850908078273,
                48.31878225360731
               ],
               [
                -97.13104244666809,
                48.13729462339825
               ],
               [
                -97.01515804725355,
                47.954205023788134
               ],
               [
                -96.89397681352912,
                47.74886872007637
               ],
               [
                -96.84423824744819,
                47.54619375262766
               ],
               [
                -96.82465287960957,
                47.42661448830425
               ],
               [
                -96.82041541216165,
                47.29220408791309
               ],
               [
                -96.77969438351563,
                46.999043687521294
               ],
               [
                -96.7458204821483,
                46.9445250514533
               ],
               [
                -96.73365068234358,
                46.71647695574927
               ],
               [
                -96.68548824744755,
                46.51328522397769
               ],
               [
                -96.60135901567638,
                46.3513571233911
               ],
               [
                -96.53890804725165,
                46.199480088885366
               ],
               [
                -96.53945064979075,
                46.017966620460186
               ],
               [
                -98.44178931353531,
                45.96344798439215
               ],
               [
                -100.06685807981785,
                45.96556671811612
               ],
               [
                -102.11686214883646,
                45.96135508888433
               ],
               [
                -104.02661638061494,
                45.956600857113486
               ],
               [
                -104.07741431355785,
                47.17156545672772
               ],
               [
                -104.09276221394853,
                49.00563955341474
               ],
               [
                -100.62989864785396,
                49.00300405536785
               ],
               [
                -97.22894344764504,
                49.00088532164389
               ]
              ]
             ],
             "type": "Polygon"
            },
            "id": "2",
            "properties": {
             "Count": 83,
             "FCLASS_AR": null,
             "FCLASS_BD": null,
             "FCLASS_BR": null,
             "FCLASS_CN": null,
             "FCLASS_DE": null,
             "FCLASS_EG": null,
             "FCLASS_ES": null,
             "FCLASS_FR": null,
             "FCLASS_GB": null,
             "FCLASS_GR": null,
             "FCLASS_ID": null,
             "FCLASS_IL": null,
             "FCLASS_IN": null,
             "FCLASS_ISO": null,
             "FCLASS_IT": null,
             "FCLASS_JP": null,
             "FCLASS_KO": null,
             "FCLASS_MA": null,
             "FCLASS_NL": null,
             "FCLASS_NP": null,
             "FCLASS_PK": null,
             "FCLASS_PL": null,
             "FCLASS_PS": null,
             "FCLASS_PT": null,
             "FCLASS_RU": null,
             "FCLASS_SA": null,
             "FCLASS_SE": null,
             "FCLASS_TLC": null,
             "FCLASS_TR": null,
             "FCLASS_TW": null,
             "FCLASS_UA": null,
             "FCLASS_US": null,
             "FCLASS_VN": null,
             "abbrev": "N.D.",
             "adm0_a3": "USA",
             "adm0_label": 2,
             "adm0_sr": 1,
             "adm1_code": "USA-3516",
             "admin": "United States of America",
             "area_sqkm": 0,
             "check_me": 20,
             "code_hasc": "US.ND",
             "code_local": "US38",
             "datarank": 1,
             "diss_me": 3516,
             "featurecla": "Admin-1 scale rank",
             "fips": "US38",
             "fips_alt": null,
             "gadm_level": 1,
             "geonunit": "United States of America",
             "gn_a1_code": "US.ND",
             "gn_id": 5690763,
             "gn_level": 1,
             "gn_name": "North Dakota",
             "gn_region": null,
             "gns_adm1": null,
             "gns_id": -1,
             "gns_lang": null,
             "gns_level": -1,
             "gns_name": null,
             "gns_region": null,
             "gu_a3": "USA",
             "hasc_maybe": null,
             "id": 2,
             "iso_3166_2": "US-ND",
             "iso_a2": "US",
             "labelrank": 0,
             "latitude": 47.4675,
             "longitude": -100.302,
             "mapcolor13": 1,
             "mapcolor9": 1,
             "max_label": 7.5,
             "min_label": 3.5,
             "min_zoom": 2,
             "name": "North Dakota",
             "name_alt": "ND|N.D.",
             "name_ar": "داكوتا الشمالية",
             "name_bn": "নর্থ ডাকোটা",
             "name_de": "North Dakota",
             "name_el": "Βόρεια Ντακότα",
             "name_en": "North Dakota",
             "name_es": "Dakota del Norte",
             "name_fa": "داکوتای شمالی",
             "name_fr": "Dakota du Nord",
             "name_he": "דקוטה הצפונית",
             "name_hi": "उत्तर डेकोटा",
             "name_hu": "Észak-Dakota",
             "name_id": "Dakota Utara",
             "name_it": "Dakota del Nord",
             "name_ja": "ノースダコタ州",
             "name_ko": "노스다코타",
             "name_len": 12,
             "name_local": null,
             "name_nl": "Noord-Dakota",
             "name_pl": "Dakota Północna",
             "name_pt": "Dakota do Norte",
             "name_ru": "Северная Дакота",
             "name_sv": "North Dakota",
             "name_tr": "Kuzey Dakota",
             "name_uk": "Північна Дакота",
             "name_ur": "شمالی ڈکوٹا",
             "name_vi": "Bắc Dakota",
             "name_zh": "北达科他州",
             "name_zht": "北達科他州",
             "ne_id": 1159315337,
             "note": null,
             "postal": "ND",
             "provnum_ne": 0,
             "region": "Midwest",
             "region_cod": null,
             "region_sub": "West North Central",
             "sameascity": -99,
             "scalerank": 2,
             "sov_a3": "US1",
             "sub_code": null,
             "type": "State",
             "type_en": "State",
             "wikidataid": "Q1207",
             "wikipedia": "http://en.wikipedia.org/wiki/North_Dakota",
             "woe_id": 2347593,
             "woe_label": "North Dakota, US, United States",
             "woe_name": "North Dakota"
            },
            "type": "Feature"
           },
           {
            "bbox": [
             -159.80050999999997,
             18.916190000000142,
             -154.80740999999998,
             22.236180000000104
            ],
            "geometry": {
             "coordinates": [
              [
               [
                [
                 -155.93665000000001,
                 19.059390000000064
                ],
                [
                 -155.90806000000003,
                 19.338880000000017
                ],
                [
                 -156.07347000000001,
                 19.7029399999999
                ],
                [
                 -156.02368,
                 19.814220000000034
                ],
                [
                 -155.85008,
                 19.97729000000004
                ],
                [
                 -155.91907,
                 20.17394999999999
                ],
                [
                 -155.86108000000002,
                 20.267210000000034
                ],
                [
                 -155.78504999999996,
                 20.248700000000042
                ],
                [
                 -155.40213999999997,
                 20.079749999999933
                ],
                [
                 -155.22452000000004,
                 19.993020000000172
                ],
                [
                 -155.06226000000004,
                 19.859099999999955
                ],
                [
                 -154.80740999999998,
                 19.50871000000012
                ],
                [
                 -154.83146999999994,
                 19.453280000000007
                ],
                [
                 -155.22217000000003,
                 19.239720000000148
                ],
                [
                 -155.54211,
                 19.08348000000001
                ],
                [
                 -155.68816999999999,
                 18.916190000000142
                ],
                [
                 -155.93665000000001,
                 19.059390000000064
                ]
               ]
              ],
              [
               [
                [
                 -155.99566000000002,
                 20.764040000000023
                ],
                [
                 -156.07925999999998,
                 20.643969999999968
                ],
                [
                 -156.41445000000002,
                 20.572410000000048
                ],
                [
                 -156.58672999999996,
                 20.783000000000072
                ],
                [
                 -156.70166999999998,
                 20.864300000000128
                ],
                [
                 -156.71055,
                 20.926759999999945
                ],
                [
                 -156.61257999999998,
                 21.012490000000128
                ],
                [
                 -156.25711,
                 20.917450000000088
                ],
                [
                 -155.99566000000002,
                 20.764040000000023
                ]
               ]
              ],
              [
               [
                [
                 -156.75823999999997,
                 21.17684000000014
                ],
                [
                 -156.78933000000004,
                 21.068729999999903
                ],
                [
                 -157.32521000000003,
                 21.097770000000025
                ],
                [
                 -157.25027,
                 21.219579999999894
                ],
                [
                 -156.75823999999997,
                 21.17684000000014
                ]
               ]
              ],
              [
               [
                [
                 -158.12667000000002,
                 21.312440000000095
                ],
                [
                 -158.2538,
                 21.539189999999962
                ],
                [
                 -158.29264999999998,
                 21.579120000000103
                ],
                [
                 -158.02520000000004,
                 21.716959999999915
                ],
                [
                 -157.94161000000003,
                 21.6527200000001
                ],
                [
                 -157.65283000000002,
                 21.322169999999915
                ],
                [
                 -157.70702999999997,
                 21.264420000000086
                ],
                [
                 -157.77860000000004,
                 21.277289999999994
                ],
                [
                 -158.12667000000002,
                 21.312440000000095
                ]
               ]
              ],
              [
               [
                [
                 -159.80050999999997,
                 22.06533000000013
                ],
                [
                 -159.74877,
                 22.138199999999927
                ],
                [
                 -159.59619999999998,
                 22.236180000000104
                ],
                [
                 -159.36568999999997,
                 22.214940000000013
                ],
                [
                 -159.34512000000004,
                 21.98200000000014
                ],
                [
                 -159.46372,
                 21.882990000000063
                ],
                [
                 -159.80050999999997,
                 22.06533000000013
                ]
               ]
              ]
             ],
             "type": "MultiPolygon"
            },
            "id": "3",
            "properties": {
             "Count": 65,
             "FCLASS_AR": null,
             "FCLASS_BD": null,
             "FCLASS_BR": null,
             "FCLASS_CN": null,
             "FCLASS_DE": null,
             "FCLASS_EG": null,
             "FCLASS_ES": null,
             "FCLASS_FR": null,
             "FCLASS_GB": null,
             "FCLASS_GR": null,
             "FCLASS_ID": null,
             "FCLASS_IL": null,
             "FCLASS_IN": null,
             "FCLASS_ISO": null,
             "FCLASS_IT": null,
             "FCLASS_JP": null,
             "FCLASS_KO": null,
             "FCLASS_MA": null,
             "FCLASS_NL": null,
             "FCLASS_NP": null,
             "FCLASS_PK": null,
             "FCLASS_PL": null,
             "FCLASS_PS": null,
             "FCLASS_PT": null,
             "FCLASS_RU": null,
             "FCLASS_SA": null,
             "FCLASS_SE": null,
             "FCLASS_TLC": null,
             "FCLASS_TR": null,
             "FCLASS_TW": null,
             "FCLASS_UA": null,
             "FCLASS_US": null,
             "FCLASS_VN": null,
             "abbrev": "Hawaii",
             "adm0_a3": "USA",
             "adm0_label": 2,
             "adm0_sr": 8,
             "adm1_code": "USA-3517",
             "admin": "United States of America",
             "area_sqkm": 0,
             "check_me": 20,
             "code_hasc": "US.HI",
             "code_local": "US15",
             "datarank": 1,
             "diss_me": 3517,
             "featurecla": "Admin-1 scale rank",
             "fips": "US15",
             "fips_alt": null,
             "gadm_level": 1,
             "geonunit": "United States of America",
             "gn_a1_code": "US.HI",
             "gn_id": 5855797,
             "gn_level": 1,
             "gn_name": "Hawaii",
             "gn_region": null,
             "gns_adm1": null,
             "gns_id": -1,
             "gns_lang": null,
             "gns_level": -1,
             "gns_name": null,
             "gns_region": null,
             "gu_a3": "USA",
             "hasc_maybe": null,
             "id": 3,
             "iso_3166_2": "US-HI",
             "iso_a2": "US",
             "labelrank": 0,
             "latitude": 21.4919,
             "longitude": -157.999,
             "mapcolor13": 1,
             "mapcolor9": 1,
             "max_label": 7.5,
             "min_label": 3.5,
             "min_zoom": 2,
             "name": "Hawaii",
             "name_alt": "HI|Hawaii",
             "name_ar": "هاواي",
             "name_bn": "হাওয়াই",
             "name_de": "Hawaii",
             "name_el": "Χαβάη",
             "name_en": "Hawaii",
             "name_es": "Hawái",
             "name_fa": "هاوائی",
             "name_fr": "Hawaï",
             "name_he": "הוואי",
             "name_hi": "हवाई",
             "name_hu": "Hawaii",
             "name_id": "Hawaii",
             "name_it": "Hawaii",
             "name_ja": "ハワイ州",
             "name_ko": "하와이",
             "name_len": 6,
             "name_local": null,
             "name_nl": "Hawaï",
             "name_pl": "Hawaje",
             "name_pt": "Havaí",
             "name_ru": "Гавайи",
             "name_sv": "Hawaii",
             "name_tr": "Hawaii",
             "name_uk": "Гаваї",
             "name_ur": "ہوائی",
             "name_vi": "Hawaii",
             "name_zh": "夏威夷州",
             "name_zht": "夏威夷州",
             "ne_id": 1159308409,
             "note": null,
             "postal": "HI",
             "provnum_ne": 0,
             "region": "West",
             "region_cod": null,
             "region_sub": "Pacific",
             "sameascity": -99,
             "scalerank": 2,
             "sov_a3": "US1",
             "sub_code": null,
             "type": "State",
             "type_en": "State",
             "wikidataid": "Q782",
             "wikipedia": "http://en.wikipedia.org/wiki/Hawaii",
             "woe_id": 2347570,
             "woe_label": "Hawaii, US, United States",
             "woe_name": "Hawaii"
            },
            "type": "Feature"
           },
           {
            "bbox": [
             -117.19439144577179,
             41.99312185319137,
             -111.04972774945814,
             49.00036855732097
            ],
            "geometry": {
             "coordinates": [
              [
               [
                -116.04823401575418,
                49.00036855732097
               ],
               [
                -115.96779964889187,
                47.95048432066312
               ],
               [
                -115.70427568241946,
                47.68484162046674
               ],
               [
                -115.70479244674239,
                47.504930121442584
               ],
               [
                -115.51906734908539,
                47.345120754579966
               ],
               [
                -115.28833207890217,
                47.250397854188975
               ],
               [
                -115.12164974654473,
                47.09536855731335
               ],
               [
                -114.8433204822207,
                46.7863176539918
               ],
               [
                -114.58561011438114,
                46.64133942319695
               ],
               [
                -114.28451738163254,
                46.6318051214391
               ],
               [
                -114.39404557987515,
                46.41008738869081
               ],
               [
                -114.4914298165292,
                46.14708018654133
               ],
               [
                -114.40727474654187,
                45.88991242124082
               ],
               [
                -114.52370174849547,
                45.825368557308266
               ],
               [
                -114.5136506824147,
                45.56923432065359
               ],
               [
                -114.33531531457545,
                45.470273952814665
               ],
               [
                -114.13793718143664,
                45.58933645281513
               ],
               [
                -114.03579871301176,
                45.730103054378205
               ],
               [
                -113.91410071496439,
                45.70258535418277
               ],
               [
                -113.79449561242484,
                45.56499685320567
               ],
               [
                -113.68021318241136,
                45.2490729843893
               ],
               [
                -113.5029371814341,
                45.124222723972125
               ],
               [
                -113.43942684614738,
                44.86279165300755
               ],
               [
                -113.37857784712371,
                44.78977285417912
               ],
               [
                -113.174843512813,
                44.76543325456966
               ],
               [
                -113.05208614790365,
                44.61991242123574
               ],
               [
                -112.87481014692638,
                44.3600833196722
               ],
               [
                -112.69014441613137,
                44.4987311875113
               ],
               [
                -112.36259335004932,
                44.46222178809708
               ],
               [
                -112.33613501671589,
                44.56063955339695
               ],
               [
                -111.77149247927873,
                44.49821442318837
               ],
               [
                -111.54238501671271,
                44.53048635515465
               ],
               [
                -111.4000164457486,
                44.72892385515544
               ],
               [
                -111.29154761436796,
                44.701406154960026
               ],
               [
                -111.19418921593007,
                44.56115631771988
               ],
               [
                -111.08517778201036,
                44.506146755545174
               ],
               [
                -111.04972774945814,
                44.48816335710761
               ],
               [
                -111.05024451378105,
                42.00159678808724
               ],
               [
                -114.03422258182684,
                41.99312185319137
               ],
               [
                -117.0282517159534,
                42.000020656902336
               ],
               [
                -117.0139631824247,
                43.79706858985223
               ],
               [
                -116.92665585006762,
                44.081211452809214
               ],
               [
                -117.0076069812528,
                44.21141022396847
               ],
               [
                -117.19439144577179,
                44.27913218848698
               ],
               [
                -117.19229855026396,
                44.4389415553496
               ],
               [
                -117.05153194870093,
                44.66595612240786
               ],
               [
                -116.83614457890837,
                44.86385101986953
               ],
               [
                -116.69328508183749,
                45.186647854180706
               ],
               [
                -116.55887468144633,
                45.444358222020284
               ],
               [
                -116.45779557988342,
                45.57453115496351
               ],
               [
                -116.51125484908937,
                45.726408189469325
               ],
               [
                -116.67899654830879,
                45.807359320654555
               ],
               [
                -116.91500281458576,
                45.99998322202251
               ],
               [
                -116.90652787968992,
                46.17777598732283
               ],
               [
                -116.99807267949495,
                46.33016978615143
               ],
               [
                -117.02664974655237,
                47.72292715106586
               ],
               [
                -117.03142981653936,
                48.99930919045899
               ],
               [
                -116.04823401575418,
                49.00036855732097
               ]
              ]
             ],
             "type": "Polygon"
            },
            "id": "4",
            "properties": {
             "Count": 93,
             "FCLASS_AR": null,
             "FCLASS_BD": null,
             "FCLASS_BR": null,
             "FCLASS_CN": null,
             "FCLASS_DE": null,
             "FCLASS_EG": null,
             "FCLASS_ES": null,
             "FCLASS_FR": null,
             "FCLASS_GB": null,
             "FCLASS_GR": null,
             "FCLASS_ID": null,
             "FCLASS_IL": null,
             "FCLASS_IN": null,
             "FCLASS_ISO": null,
             "FCLASS_IT": null,
             "FCLASS_JP": null,
             "FCLASS_KO": null,
             "FCLASS_MA": null,
             "FCLASS_NL": null,
             "FCLASS_NP": null,
             "FCLASS_PK": null,
             "FCLASS_PL": null,
             "FCLASS_PS": null,
             "FCLASS_PT": null,
             "FCLASS_RU": null,
             "FCLASS_SA": null,
             "FCLASS_SE": null,
             "FCLASS_TLC": null,
             "FCLASS_TR": null,
             "FCLASS_TW": null,
             "FCLASS_UA": null,
             "FCLASS_US": null,
             "FCLASS_VN": null,
             "abbrev": "Idaho",
             "adm0_a3": "USA",
             "adm0_label": 2,
             "adm0_sr": 1,
             "adm1_code": "USA-3518",
             "admin": "United States of America",
             "area_sqkm": 0,
             "check_me": 20,
             "code_hasc": "US.ID",
             "code_local": "US16",
             "datarank": 1,
             "diss_me": 3518,
             "featurecla": "Admin-1 scale rank",
             "fips": "US16",
             "fips_alt": null,
             "gadm_level": 1,
             "geonunit": "United States of America",
             "gn_a1_code": "US.ID",
             "gn_id": 5596512,
             "gn_level": 1,
             "gn_name": "Idaho",
             "gn_region": null,
             "gns_adm1": null,
             "gns_id": -1,
             "gns_lang": null,
             "gns_level": -1,
             "gns_name": null,
             "gns_region": null,
             "gu_a3": "USA",
             "hasc_maybe": null,
             "id": 4,
             "iso_3166_2": "US-ID",
             "iso_a2": "US",
             "labelrank": 0,
             "latitude": 43.7825,
             "longitude": -114.133,
             "mapcolor13": 1,
             "mapcolor9": 1,
             "max_label": 7.5,
             "min_label": 3.5,
             "min_zoom": 2,
             "name": "Idaho",
             "name_alt": "ID|Idaho",
             "name_ar": "أيداهو",
             "name_bn": "আইডাহো",
             "name_de": "Idaho",
             "name_el": "Άινταχο",
             "name_en": "Idaho",
             "name_es": "Idaho",
             "name_fa": "آیداهو",
             "name_fr": "Idaho",
             "name_he": "איידהו",
             "name_hi": "आयडाहो",
             "name_hu": "Idaho",
             "name_id": "Idaho",
             "name_it": "Idaho",
             "name_ja": "アイダホ州",
             "name_ko": "아이다호",
             "name_len": 5,
             "name_local": null,
             "name_nl": "Idaho",
             "name_pl": "Idaho",
             "name_pt": "Idaho",
             "name_ru": "Айдахо",
             "name_sv": "Idaho",
             "name_tr": "Idaho",
             "name_uk": "Айдахо",
             "name_ur": "ایڈاہو",
             "name_vi": "Idaho",
             "name_zh": "爱达荷州",
             "name_zht": "愛達荷州",
             "ne_id": 1159315339,
             "note": null,
             "postal": "ID",
             "provnum_ne": 0,
             "region": "West",
             "region_cod": null,
             "region_sub": "Mountain",
             "sameascity": -99,
             "scalerank": 2,
             "sov_a3": "US1",
             "sub_code": null,
             "type": "State",
             "type_en": "State",
             "wikidataid": "Q1221",
             "wikipedia": "http://en.wikipedia.org/wiki/Idaho",
             "woe_id": 2347571,
             "woe_label": "Idaho, US, United States",
             "woe_name": "Idaho"
            },
            "type": "Feature"
           },
           {
            "bbox": [
             -124.68721008300781,
             45.59199778907822,
             -116.90652787968992,
             49.000885321643864
            ],
            "geometry": {
             "coordinates": [
              [
               [
                -117.03142981653936,
                48.99930919045899
               ],
               [
                -117.02664974655237,
                47.72292715106586
               ],
               [
                -116.99807267949495,
                46.33016978615143
               ],
               [
                -116.90652787968992,
                46.17777598732283
               ],
               [
                -116.91500281458576,
                45.99998322202251
               ],
               [
                -118.97823605027111,
                45.99256765398866
               ],
               [
                -119.33699968145743,
                45.88833629005586
               ],
               [
                -119.59204952047821,
                45.932235419287906
               ],
               [
                -119.78730891989301,
                45.85076752377984
               ],
               [
                -120.15826818910023,
                45.740670884781935
               ],
               [
                -120.6096359869536,
                45.753900051448625
               ],
               [
                -120.83719315655094,
                45.67294892026342
               ],
               [
                -121.0467410894945,
                45.637498887711104
               ],
               [
                -121.203889120094,
                45.689898790055224
               ],
               [
                -121.56107662009549,
                45.73276439064131
               ],
               [
                -121.78809118715355,
                45.70098338478181
               ],
               [
                -122.17491512107449,
                45.595150051447945
               ],
               [
                -122.42045568910925,
                45.59199778907822
               ],
               [
                -122.65170772361546,
                45.63008331967734
               ],
               [
                -122.72578588930577,
                45.77033315691756
               ],
               [
                -122.75224422263926,
                45.93807485613678
               ],
               [
                -122.9379693202963,
                46.12909678810388
               ],
               [
                -123.22849422264113,
                46.18625092221856
               ],
               [
                -123.47137345441303,
                46.27725311948467
               ],
               [
                -123.77670365460955,
                46.28203318947163
               ],
               [
                -123.99867632678428,
                46.2830694871044
               ],
               [
                -124.079635,
                46.86475000000007
               ],
               [
                -124.39567,
                47.72017000000011
               ],
               [
                -124.68721008300781,
                48.18443298339838
               ],
               [
                -124.56610107421875,
                48.379714965820426
               ],
               [
                -123.12,
                48.04000000000008
               ],
               [
                -122.58713802146673,
                47.09588532163639
               ],
               [
                -122.34002132224703,
                47.35995189064778
               ],
               [
                -122.49983068910967,
                48.18016022398439
               ],
               [
                -122.84000000000003,
                49.000000000000114
               ],
               [
                -120.00269628968556,
                49.000885321643864
               ],
               [
                -117.03142981653936,
                48.99930919045899
               ]
              ]
             ],
             "type": "Polygon"
            },
            "id": "5",
            "properties": {
             "Count": 73,
             "FCLASS_AR": null,
             "FCLASS_BD": null,
             "FCLASS_BR": null,
             "FCLASS_CN": null,
             "FCLASS_DE": null,
             "FCLASS_EG": null,
             "FCLASS_ES": null,
             "FCLASS_FR": null,
             "FCLASS_GB": null,
             "FCLASS_GR": null,
             "FCLASS_ID": null,
             "FCLASS_IL": null,
             "FCLASS_IN": null,
             "FCLASS_ISO": null,
             "FCLASS_IT": null,
             "FCLASS_JP": null,
             "FCLASS_KO": null,
             "FCLASS_MA": null,
             "FCLASS_NL": null,
             "FCLASS_NP": null,
             "FCLASS_PK": null,
             "FCLASS_PL": null,
             "FCLASS_PS": null,
             "FCLASS_PT": null,
             "FCLASS_RU": null,
             "FCLASS_SA": null,
             "FCLASS_SE": null,
             "FCLASS_TLC": null,
             "FCLASS_TR": null,
             "FCLASS_TW": null,
             "FCLASS_UA": null,
             "FCLASS_US": null,
             "FCLASS_VN": null,
             "abbrev": "Wash.",
             "adm0_a3": "USA",
             "adm0_label": 2,
             "adm0_sr": 6,
             "adm1_code": "USA-3519",
             "admin": "United States of America",
             "area_sqkm": 0,
             "check_me": 20,
             "code_hasc": "US.WA",
             "code_local": "US53",
             "datarank": 1,
             "diss_me": 3519,
             "featurecla": "Admin-1 scale rank",
             "fips": "US53",
             "fips_alt": null,
             "gadm_level": 1,
             "geonunit": "United States of America",
             "gn_a1_code": "US.WA",
             "gn_id": 5815135,
             "gn_level": 1,
             "gn_name": "Washington",
             "gn_region": null,
             "gns_adm1": null,
             "gns_id": -1,
             "gns_lang": null,
             "gns_level": -1,
             "gns_name": null,
             "gns_region": null,
             "gu_a3": "USA",
             "hasc_maybe": null,
             "id": 5,
             "iso_3166_2": "US-WA",
             "iso_a2": "US",
             "labelrank": 0,
             "latitude": 47.4865,
             "longitude": -120.361,
             "mapcolor13": 1,
             "mapcolor9": 1,
             "max_label": 7.5,
             "min_label": 3.5,
             "min_zoom": 2,
             "name": "Washington",
             "name_alt": "WA|Wash.",
             "name_ar": "واشنطن",
             "name_bn": "ওয়াশিংটন",
             "name_de": "Washington",
             "name_el": "Ουάσινγκτον",
             "name_en": "Washington",
             "name_es": "Washington",
             "name_fa": "ایالت واشینگتن",
             "name_fr": "Washington",
             "name_he": "וושינגטון",
             "name_hi": "वॉशिंगटन राज्य",
             "name_hu": "Washington",
             "name_id": "Washington",
             "name_it": "Washington",
             "name_ja": "ワシントン州",
             "name_ko": "워싱턴",
             "name_len": 10,
             "name_local": null,
             "name_nl": "Washington",
             "name_pl": "Waszyngton",
             "name_pt": "Washington",
             "name_ru": "Вашингтон",
             "name_sv": "Washington",
             "name_tr": "Vaşington",
             "name_uk": "Вашингтон",
             "name_ur": "ریاست واشنگٹن",
             "name_vi": "Washington",
             "name_zh": "华盛顿州",
             "name_zht": "華盛頓州",
             "ne_id": 1159309547,
             "note": null,
             "postal": "WA",
             "provnum_ne": 0,
             "region": "West",
             "region_cod": null,
             "region_sub": "Pacific",
             "sameascity": -99,
             "scalerank": 2,
             "sov_a3": "US1",
             "sub_code": null,
             "type": "State",
             "type_en": "State",
             "wikidataid": "Q1223",
             "wikipedia": "http://en.wikipedia.org/wiki/Washington_(state)",
             "woe_id": 2347606,
             "woe_label": "Washington, US, United States",
             "woe_name": "Washington"
            },
            "type": "Feature"
           },
           {
            "bbox": [
             -114.81474341516332,
             31.33465098726333,
             -109.04367281021746,
             37.00942088474695
            ],
            "geometry": {
             "coordinates": [
              [
               [
                -109.04522477907253,
                36.99991242120524
               ],
               [
                -109.04367281021746,
                31.34189913731541
               ],
               [
                -111.02378618044753,
                31.33465098726333
               ],
               [
                -113.30501644575611,
                32.03897492118551
               ],
               [
                -114.81474341516332,
                32.52527598726806
               ],
               [
                -114.72138999999993,
                32.72082999999998
               ],
               [
                -114.58984758182902,
                32.7162979192351
               ],
               [
                -114.47977678104735,
                32.91633738863692
               ],
               [
                -114.6559934151627,
                33.05390005139793
               ],
               [
                -114.6914434477149,
                33.20368419039579
               ],
               [
                -114.74330074751975,
                33.379874986294965
               ],
               [
                -114.54855811242783,
                33.6095250514
               ],
               [
                -114.46918311242757,
                34.067274888641464
               ],
               [
                -114.16597164595498,
                34.27258535413716
               ],
               [
                -114.35490068241404,
                34.464666652966
               ],
               [
                -114.48453101281825,
                34.653053086886075
               ],
               [
                -114.5670841134044,
                34.82821035413929
               ],
               [
                -114.62211951379533,
                34.963680121392485
               ],
               [
                -114.64222164595688,
                35.0531061874735
               ],
               [
                -114.58085588261031,
                35.24942495375046
               ],
               [
                -114.63005184615216,
                35.44522695570424
               ],
               [
                -114.65069658085275,
                35.63891022393419
               ],
               [
                -114.65017981652983,
                35.85427175551057
               ],
               [
                -114.73960588261092,
                35.99131765394861
               ],
               [
                -114.67134131555338,
                36.11461762139703
               ],
               [
                -114.46073401574782,
                36.11461762139703
               ],
               [
                -114.26916948124185,
                36.04369171807643
               ],
               [
                -114.13264034712672,
                36.004004218076275
               ],
               [
                -114.06649451379315,
                36.15642385512115
               ],
               [
                -114.023628913207,
                36.189755153949406
               ],
               [
                -114.03052771691799,
                36.994098822572425
               ],
               [
                -112.41760291222404,
                37.00942088474695
               ],
               [
                -110.49622148317988,
                37.00732798923914
               ],
               [
                -109.04522477907253,
                36.99991242120524
               ]
              ]
             ],
             "type": "Polygon"
            },
            "id": "6",
            "properties": {
             "Count": 65,
             "FCLASS_AR": null,
             "FCLASS_BD": null,
             "FCLASS_BR": null,
             "FCLASS_CN": null,
             "FCLASS_DE": null,
             "FCLASS_EG": null,
             "FCLASS_ES": null,
             "FCLASS_FR": null,
             "FCLASS_GB": null,
             "FCLASS_GR": null,
             "FCLASS_ID": null,
             "FCLASS_IL": null,
             "FCLASS_IN": null,
             "FCLASS_ISO": null,
             "FCLASS_IT": null,
             "FCLASS_JP": null,
             "FCLASS_KO": null,
             "FCLASS_MA": null,
             "FCLASS_NL": null,
             "FCLASS_NP": null,
             "FCLASS_PK": null,
             "FCLASS_PL": null,
             "FCLASS_PS": null,
             "FCLASS_PT": null,
             "FCLASS_RU": null,
             "FCLASS_SA": null,
             "FCLASS_SE": null,
             "FCLASS_TLC": null,
             "FCLASS_TR": null,
             "FCLASS_TW": null,
             "FCLASS_UA": null,
             "FCLASS_US": null,
             "FCLASS_VN": null,
             "abbrev": "Ariz.",
             "adm0_a3": "USA",
             "adm0_label": 2,
             "adm0_sr": 1,
             "adm1_code": "USA-3520",
             "admin": "United States of America",
             "area_sqkm": 0,
             "check_me": 20,
             "code_hasc": "US.AZ",
             "code_local": "US04",
             "datarank": 1,
             "diss_me": 3520,
             "featurecla": "Admin-1 scale rank",
             "fips": "US04",
             "fips_alt": null,
             "gadm_level": 1,
             "geonunit": "United States of America",
             "gn_a1_code": "US.AZ",
             "gn_id": 5551752,
             "gn_level": 1,
             "gn_name": "Arizona",
             "gn_region": null,
             "gns_adm1": null,
             "gns_id": -1,
             "gns_lang": null,
             "gns_level": -1,
             "gns_name": null,
             "gns_region": null,
             "gu_a3": "USA",
             "hasc_maybe": null,
             "id": 6,
             "iso_3166_2": "US-AZ",
             "iso_a2": "US",
             "labelrank": 0,
             "latitude": 34.3046,
             "longitude": -111.935,
             "mapcolor13": 1,
             "mapcolor9": 1,
             "max_label": 7.5,
             "min_label": 3.5,
             "min_zoom": 2,
             "name": "Arizona",
             "name_alt": "AZ|Ariz.",
             "name_ar": "أريزونا",
             "name_bn": "অ্যারিজোনা",
             "name_de": "Arizona",
             "name_el": "Αριζόνα",
             "name_en": "Arizona",
             "name_es": "Arizona",
             "name_fa": "آریزونا",
             "name_fr": "Arizona",
             "name_he": "אריזונה",
             "name_hi": "एरीजोना",
             "name_hu": "Arizona",
             "name_id": "Arizona",
             "name_it": "Arizona",
             "name_ja": "アリゾナ州",
             "name_ko": "애리조나",
             "name_len": 7,
             "name_local": null,
             "name_nl": "Arizona",
             "name_pl": "Arizona",
             "name_pt": "Arizona",
             "name_ru": "Аризона",
             "name_sv": "Arizona",
             "name_tr": "Arizona",
             "name_uk": "Аризона",
             "name_ur": "ایریزونا",
             "name_vi": "Arizona",
             "name_zh": "亚利桑那州",
             "name_zht": "亞利桑那州",
             "ne_id": 1159315341,
             "note": null,
             "postal": "AZ",
             "provnum_ne": 0,
             "region": "West",
             "region_cod": null,
             "region_sub": "Mountain",
             "sameascity": -99,
             "scalerank": 2,
             "sov_a3": "US1",
             "sub_code": null,
             "type": "State",
             "type_en": "State",
             "wikidataid": "Q816",
             "wikipedia": "http://en.wikipedia.org/wiki/Arizona",
             "woe_id": 2347561,
             "woe_label": "Arizona, US, United States",
             "woe_name": "Arizona"
            },
            "type": "Feature"
           },
           {
            "bbox": [
             -124.39795772362243,
             32.535327053348965,
             -114.16597164595498,
             41.99947805436335
            ],
            "geometry": {
             "coordinates": [
              [
               [
                -114.64222164595688,
                35.0531061874735
               ],
               [
                -114.62211951379533,
                34.963680121392485
               ],
               [
                -114.5670841134044,
                34.82821035413929
               ],
               [
                -114.48453101281825,
                34.653053086886075
               ],
               [
                -114.35490068241404,
                34.464666652966
               ],
               [
                -114.16597164595498,
                34.27258535413716
               ],
               [
                -114.46918311242757,
                34.067274888641464
               ],
               [
                -114.54855811242783,
                33.6095250514
               ],
               [
                -114.74330074751975,
                33.379874986294965
               ],
               [
                -114.6914434477149,
                33.20368419039579
               ],
               [
                -114.6559934151627,
                33.05390005139793
               ],
               [
                -114.47977678104735,
                32.91633738863692
               ],
               [
                -114.58984758182902,
                32.7162979192351
               ],
               [
                -114.72138999999993,
                32.72082999999998
               ],
               [
                -115.99107988163934,
                32.61258331962517
               ],
               [
                -117.12772884811523,
                32.535327053348965
               ],
               [
                -117.29593769127388,
                33.046224615203755
               ],
               [
                -117.94400000000002,
                33.621236431201226
               ],
               [
                -118.41060227589759,
                33.740909223124504
               ],
               [
                -118.51989482279981,
                34.02778157757575
               ],
               [
                -119.08099999999996,
                34.077999999999975
               ],
               [
                -119.43884064201677,
                34.348477178284156
               ],
               [
                -120.36781612204385,
                34.44722585706751
               ],
               [
                -120.6228651536203,
                34.60861135511499
               ],
               [
                -120.74458898988388,
                35.15682078708329
               ],
               [
                -121.71455562400223,
                36.16172068943115
               ],
               [
                -122.54745052146654,
                37.55181671808242
               ],
               [
                -122.51200048891434,
                37.78361135512762
               ],
               [
                -122.95331722068698,
                38.11379791925668
               ],
               [
                -123.72696508852863,
                38.95147288670779
               ],
               [
                -123.86507035382857,
                39.76692698827361
               ],
               [
                -124.39795772362243,
                40.31301768651804
               ],
               [
                -124.17887548892094,
                41.14224355728959
               ],
               [
                -124.21380875715033,
                41.99947805436335
               ],
               [
                -119.99897558656059,
                41.99260508886846
               ],
               [
                -120.00003495342257,
                38.99539785415594
               ],
               [
                -118.11461951380932,
                37.64442088474959
               ],
               [
                -116.32074968144536,
                36.322046820616606
               ],
               [
                -114.64222164595688,
                35.0531061874735
               ]
              ]
             ],
             "type": "Polygon"
            },
            "id": "7",
            "properties": {
             "Count": 95,
             "FCLASS_AR": null,
             "FCLASS_BD": null,
             "FCLASS_BR": null,
             "FCLASS_CN": null,
             "FCLASS_DE": null,
             "FCLASS_EG": null,
             "FCLASS_ES": null,
             "FCLASS_FR": null,
             "FCLASS_GB": null,
             "FCLASS_GR": null,
             "FCLASS_ID": null,
             "FCLASS_IL": null,
             "FCLASS_IN": null,
             "FCLASS_ISO": null,
             "FCLASS_IT": null,
             "FCLASS_JP": null,
             "FCLASS_KO": null,
             "FCLASS_MA": null,
             "FCLASS_NL": null,
             "FCLASS_NP": null,
             "FCLASS_PK": null,
             "FCLASS_PL": null,
             "FCLASS_PS": null,
             "FCLASS_PT": null,
             "FCLASS_RU": null,
             "FCLASS_SA": null,
             "FCLASS_SE": null,
             "FCLASS_TLC": null,
             "FCLASS_TR": null,
             "FCLASS_TW": null,
             "FCLASS_UA": null,
             "FCLASS_US": null,
             "FCLASS_VN": null,
             "abbrev": "Calif.",
             "adm0_a3": "USA",
             "adm0_label": 2,
             "adm0_sr": 8,
             "adm1_code": "USA-3521",
             "admin": "United States of America",
             "area_sqkm": 0,
             "check_me": 20,
             "code_hasc": "US.CA",
             "code_local": "US06",
             "datarank": 1,
             "diss_me": 3521,
             "featurecla": "Admin-1 scale rank",
             "fips": "US06",
             "fips_alt": null,
             "gadm_level": 1,
             "geonunit": "United States of America",
             "gn_a1_code": "US.CA",
             "gn_id": 5332921,
             "gn_level": 1,
             "gn_name": "California",
             "gn_region": null,
             "gns_adm1": null,
             "gns_id": -1,
             "gns_lang": null,
             "gns_level": -1,
             "gns_name": null,
             "gns_region": null,
             "gu_a3": "USA",
             "hasc_maybe": null,
             "id": 7,
             "iso_3166_2": "US-CA",
             "iso_a2": "US",
             "labelrank": 0,
             "latitude": 36.7496,
             "longitude": -119.591,
             "mapcolor13": 1,
             "mapcolor9": 1,
             "max_label": 7.5,
             "min_label": 3.5,
             "min_zoom": 2,
             "name": "California",
             "name_alt": "CA|Calif.",
             "name_ar": "كاليفورنيا",
             "name_bn": "ক্যালিফোর্নিয়া",
             "name_de": "Kalifornien",
             "name_el": "Καλιφόρνια",
             "name_en": "California",
             "name_es": "California",
             "name_fa": "کالیفرنیا",
             "name_fr": "Californie",
             "name_he": "קליפורניה",
             "name_hi": "कैलिफ़ोर्निया",
             "name_hu": "Kalifornia",
             "name_id": "California",
             "name_it": "California",
             "name_ja": "カリフォルニア州",
             "name_ko": "캘리포니아",
             "name_len": 10,
             "name_local": null,
             "name_nl": "Californië",
             "name_pl": "Kalifornia",
             "name_pt": "Califórnia",
             "name_ru": "Калифорния",
             "name_sv": "Kalifornien",
             "name_tr": "Kaliforniya",
             "name_uk": "Каліфорнія",
             "name_ur": "کیلی فورنیا",
             "name_vi": "California",
             "name_zh": "加利福尼亚州",
             "name_zht": "加利福尼亞州",
             "ne_id": 1159308415,
             "note": null,
             "postal": "CA",
             "provnum_ne": 0,
             "region": "West",
             "region_cod": null,
             "region_sub": "Pacific",
             "sameascity": -99,
             "scalerank": 2,
             "sov_a3": "US1",
             "sub_code": null,
             "type": "State",
             "type_en": "State",
             "wikidataid": "Q99",
             "wikipedia": "http://en.wikipedia.org/wiki/California",
             "woe_id": 2347563,
             "woe_label": "California, US, United States",
             "woe_name": "California"
            },
            "type": "Feature"
           },
           {
            "bbox": [
             -109.05318294964546,
             36.99198008884845,
             -102.04012264688303,
             41.00411245377336
            ],
            "geometry": {
             "coordinates": [
              [
               [
                -102.05017371296381,
                40.00081452082664
               ],
               [
                -102.04012264688303,
                38.459874986315256
               ],
               [
                -102.04118201374501,
                36.99198008884845
               ],
               [
                -103.00321631550668,
                36.995158189434406
               ],
               [
                -104.20019751668335,
                36.99619171808024
               ],
               [
                -105.8998612129792,
                36.997276923158495
               ],
               [
                -107.47997148316782,
                36.99991242120525
               ],
               [
                -109.04522477907253,
                36.99991242120524
               ],
               [
                -109.05318294964546,
                41.001993720049384
               ],
               [
                -108.05094438356073,
                41.002536322588455
               ],
               [
                -107.04973934612183,
                41.002536322588455
               ],
               [
                -105.04686418335339,
                41.003595689450435
               ],
               [
                -104.04514238159157,
                41.00411245377336
               ],
               [
                -102.04805497923984,
                41.00411245377336
               ],
               [
                -102.05017371296381,
                40.033086452792915
               ],
               [
                -102.05017371296381,
                40.00081452082664
               ]
              ]
             ],
             "type": "Polygon"
            },
            "id": "8",
            "properties": {
             "Count": 75,
             "FCLASS_AR": null,
             "FCLASS_BD": null,
             "FCLASS_BR": null,
             "FCLASS_CN": null,
             "FCLASS_DE": null,
             "FCLASS_EG": null,
             "FCLASS_ES": null,
             "FCLASS_FR": null,
             "FCLASS_GB": null,
             "FCLASS_GR": null,
             "FCLASS_ID": null,
             "FCLASS_IL": null,
             "FCLASS_IN": null,
             "FCLASS_ISO": null,
             "FCLASS_IT": null,
             "FCLASS_JP": null,
             "FCLASS_KO": null,
             "FCLASS_MA": null,
             "FCLASS_NL": null,
             "FCLASS_NP": null,
             "FCLASS_PK": null,
             "FCLASS_PL": null,
             "FCLASS_PS": null,
             "FCLASS_PT": null,
             "FCLASS_RU": null,
             "FCLASS_SA": null,
             "FCLASS_SE": null,
             "FCLASS_TLC": null,
             "FCLASS_TR": null,
             "FCLASS_TW": null,
             "FCLASS_UA": null,
             "FCLASS_US": null,
             "FCLASS_VN": null,
             "abbrev": "Colo.",
             "adm0_a3": "USA",
             "adm0_label": 2,
             "adm0_sr": 1,
             "adm1_code": "USA-3522",
             "admin": "United States of America",
             "area_sqkm": 0,
             "check_me": 20,
             "code_hasc": "US.CO",
             "code_local": "US08",
             "datarank": 1,
             "diss_me": 3522,
             "featurecla": "Admin-1 scale rank",
             "fips": "US08",
             "fips_alt": null,
             "gadm_level": 1,
             "geonunit": "United States of America",
             "gn_a1_code": "US.CO",
             "gn_id": 5417618,
             "gn_level": 1,
             "gn_name": "Colorado",
             "gn_region": null,
             "gns_adm1": null,
             "gns_id": -1,
             "gns_lang": null,
             "gns_level": -1,
             "gns_name": null,
             "gns_region": null,
             "gu_a3": "USA",
             "hasc_maybe": null,
             "id": 8,
             "iso_3166_2": "US-CO",
             "iso_a2": "US",
             "labelrank": 0,
             "latitude": 38.9998,
             "longitude": -105.543,
             "mapcolor13": 1,
             "mapcolor9": 1,
             "max_label": 7.5,
             "min_label": 3.5,
             "min_zoom": 2,
             "name": "Colorado",
             "name_alt": "CO|Colo.",
             "name_ar": "كولورادو",
             "name_bn": "কলোরাডো",
             "name_de": "Colorado",
             "name_el": "Κολοράντο",
             "name_en": "Colorado",
             "name_es": "Colorado",
             "name_fa": "کلرادو",
             "name_fr": "Colorado",
             "name_he": "קולורדו",
             "name_hi": "कॉलराडो",
             "name_hu": "Colorado",
             "name_id": "Colorado",
             "name_it": "Colorado",
             "name_ja": "コロラド州",
             "name_ko": "콜로라도",
             "name_len": 8,
             "name_local": null,
             "name_nl": "Colorado",
             "name_pl": "Kolorado",
             "name_pt": "Colorado",
             "name_ru": "Колорадо",
             "name_sv": "Colorado",
             "name_tr": "Colorado",
             "name_uk": "Колорадо",
             "name_ur": "کولوراڈو",
             "name_vi": "Colorado",
             "name_zh": "科罗拉多州",
             "name_zht": "科羅拉多州",
             "ne_id": 1159315343,
             "note": null,
             "postal": "CO",
             "provnum_ne": 0,
             "region": "West",
             "region_cod": null,
             "region_sub": "Mountain",
             "sameascity": -99,
             "scalerank": 2,
             "sov_a3": "US1",
             "sub_code": null,
             "type": "State",
             "type_en": "State",
             "wikidataid": "Q1261",
             "wikipedia": "http://en.wikipedia.org/wiki/Colorado",
             "woe_id": 2347564,
             "woe_label": "Colorado, US, United States",
             "woe_name": "Colorado"
            },
            "type": "Feature"
           },
           {
            "bbox": [
             -120.00003495342257,
             35.0531061874735,
             -114.023628913207,
             42.000020656902336
            ],
            "geometry": {
             "coordinates": [
              [
               [
                -117.0282517159534,
                42.000020656902336
               ],
               [
                -114.03422258182684,
                41.99312185319137
               ],
               [
                -114.03052771691799,
                36.994098822572425
               ],
               [
                -114.023628913207,
                36.189755153949406
               ],
               [
                -114.06649451379315,
                36.15642385512115
               ],
               [
                -114.13264034712672,
                36.004004218076275
               ],
               [
                -114.26916948124185,
                36.04369171807643
               ],
               [
                -114.46073401574782,
                36.11461762139703
               ],
               [
                -114.67134131555338,
                36.11461762139703
               ],
               [
                -114.73960588261092,
                35.99131765394861
               ],
               [
                -114.65017981652983,
                35.85427175551057
               ],
               [
                -114.65069658085275,
                35.63891022393419
               ],
               [
                -114.63005184615216,
                35.44522695570424
               ],
               [
                -114.58085588261031,
                35.24942495375046
               ],
               [
                -114.64222164595688,
                35.0531061874735
               ],
               [
                -116.32074968144536,
                36.322046820616606
               ],
               [
                -118.11461951380932,
                37.64442088474959
               ],
               [
                -120.00003495342257,
                38.99539785415594
               ],
               [
                -119.99897558656059,
                41.99260508886846
               ],
               [
                -117.0282517159534,
                41.997359320639305
               ],
               [
                -117.0282517159534,
                42.000020656902336
               ]
              ]
             ],
             "type": "Polygon"
            },
            "id": "9",
            "properties": {
             "Count": 87,
             "FCLASS_AR": null,
             "FCLASS_BD": null,
             "FCLASS_BR": null,
             "FCLASS_CN": null,
             "FCLASS_DE": null,
             "FCLASS_EG": null,
             "FCLASS_ES": null,
             "FCLASS_FR": null,
             "FCLASS_GB": null,
             "FCLASS_GR": null,
             "FCLASS_ID": null,
             "FCLASS_IL": null,
             "FCLASS_IN": null,
             "FCLASS_ISO": null,
             "FCLASS_IT": null,
             "FCLASS_JP": null,
             "FCLASS_KO": null,
             "FCLASS_MA": null,
             "FCLASS_NL": null,
             "FCLASS_NP": null,
             "FCLASS_PK": null,
             "FCLASS_PL": null,
             "FCLASS_PS": null,
             "FCLASS_PT": null,
             "FCLASS_RU": null,
             "FCLASS_SA": null,
             "FCLASS_SE": null,
             "FCLASS_TLC": null,
             "FCLASS_TR": null,
             "FCLASS_TW": null,
             "FCLASS_UA": null,
             "FCLASS_US": null,
             "FCLASS_VN": null,
             "abbrev": "Nev.",
             "adm0_a3": "USA",
             "adm0_label": 2,
             "adm0_sr": 1,
             "adm1_code": "USA-3523",
             "admin": "United States of America",
             "area_sqkm": 0,
             "check_me": 20,
             "code_hasc": "US.NV",
             "code_local": "US32",
             "datarank": 1,
             "diss_me": 3523,
             "featurecla": "Admin-1 scale rank",
             "fips": "US32",
             "fips_alt": null,
             "gadm_level": 1,
             "geonunit": "United States of America",
             "gn_a1_code": "US.NV",
             "gn_id": 5509151,
             "gn_level": 1,
             "gn_name": "Nevada",
             "gn_region": null,
             "gns_adm1": null,
             "gns_id": -1,
             "gns_lang": null,
             "gns_level": -1,
             "gns_name": null,
             "gns_region": null,
             "gu_a3": "USA",
             "hasc_maybe": null,
             "id": 9,
             "iso_3166_2": "US-NV",
             "iso_a2": "US",
             "labelrank": 0,
             "latitude": 39.4299,
             "longitude": -117.02,
             "mapcolor13": 1,
             "mapcolor9": 1,
             "max_label": 7.5,
             "min_label": 3.5,
             "min_zoom": 2,
             "name": "Nevada",
             "name_alt": "NV|Nev.",
             "name_ar": "نيفادا",
             "name_bn": "নেভাডা",
             "name_de": "Nevada",
             "name_el": "Νεβάδα",
             "name_en": "Nevada",
             "name_es": "Nevada",
             "name_fa": "نوادا",
             "name_fr": "Nevada",
             "name_he": "נבדה",
             "name_hi": "नेवाडा",
             "name_hu": "Nevada",
             "name_id": "Nevada",
             "name_it": "Nevada",
             "name_ja": "ネバダ州",
             "name_ko": "네바다",
             "name_len": 6,
             "name_local": null,
             "name_nl": "Nevada",
             "name_pl": "Nevada",
             "name_pt": "Nevada",
             "name_ru": "Невада",
             "name_sv": "Nevada",
             "name_tr": "Nevada",
             "name_uk": "Невада",
             "name_ur": "نیواڈا",
             "name_vi": "Nevada",
             "name_zh": "内华达州",
             "name_zht": "內華達州",
             "ne_id": 1159315345,
             "note": null,
             "postal": "NV",
             "provnum_ne": 0,
             "region": "West",
             "region_cod": null,
             "region_sub": "Mountain",
             "sameascity": -99,
             "scalerank": 2,
             "sov_a3": "US1",
             "sub_code": null,
             "type": "State",
             "type_en": "State",
             "wikidataid": "Q1227",
             "wikipedia": "http://en.wikipedia.org/wiki/Nevada",
             "woe_id": 2347587,
             "woe_label": "Nevada, US, United States",
             "woe_name": "Nevada"
            },
            "type": "Feature"
           },
           {
            "bbox": [
             -109.04522477907253,
             31.34189913731541,
             -103.00161434610561,
             36.99991242120525
            ],
            "geometry": {
             "coordinates": [
              [
               [
                -109.04367281021746,
                31.34189913731541
               ],
               [
                -109.04522477907253,
                36.99991242120524
               ],
               [
                -107.47997148316782,
                36.99991242120525
               ],
               [
                -105.8998612129792,
                36.997276923158495
               ],
               [
                -104.20019751668335,
                36.99619171808024
               ],
               [
                -103.00321631550668,
                36.995158189434406
               ],
               [
                -103.00161434610563,
                36.49932282159388
               ],
               [
                -103.00161434610561,
                33.879947821583414
               ],
               [
                -103.00161434610561,
                31.99928742118533
               ],
               [
                -103.92977474649996,
                31.99928742118533
               ],
               [
                -105.73000078003582,
                31.99928742118533
               ],
               [
                -106.63012671591179,
                31.99928742118533
               ],
               [
                -106.61953304729195,
                31.91409882255209
               ],
               [
                -106.50734351278624,
                31.754289455689502
               ],
               [
                -108.23999999999995,
                31.75485371816643
               ],
               [
                -108.24196631552763,
                31.342066555297265
               ],
               [
                -109.04367281021746,
                31.34189913731541
               ]
              ]
             ],
             "type": "Polygon"
            },
            "id": "10",
            "properties": {
             "Count": 81,
             "FCLASS_AR": null,
             "FCLASS_BD": null,
             "FCLASS_BR": null,
             "FCLASS_CN": null,
             "FCLASS_DE": null,
             "FCLASS_EG": null,
             "FCLASS_ES": null,
             "FCLASS_FR": null,
             "FCLASS_GB": null,
             "FCLASS_GR": null,
             "FCLASS_ID": null,
             "FCLASS_IL": null,
             "FCLASS_IN": null,
             "FCLASS_ISO": null,
             "FCLASS_IT": null,
             "FCLASS_JP": null,
             "FCLASS_KO": null,
             "FCLASS_MA": null,
             "FCLASS_NL": null,
             "FCLASS_NP": null,
             "FCLASS_PK": null,
             "FCLASS_PL": null,
             "FCLASS_PS": null,
             "FCLASS_PT": null,
             "FCLASS_RU": null,
             "FCLASS_SA": null,
             "FCLASS_SE": null,
             "FCLASS_TLC": null,
             "FCLASS_TR": null,
             "FCLASS_TW": null,
             "FCLASS_UA": null,
             "FCLASS_US": null,
             "FCLASS_VN": null,
             "abbrev": "N.M.",
             "adm0_a3": "USA",
             "adm0_label": 2,
             "adm0_sr": 1,
             "adm1_code": "USA-3524",
             "admin": "United States of America",
             "area_sqkm": 0,
             "check_me": 20,
             "code_hasc": "US.NM",
             "code_local": "US35",
             "datarank": 1,
             "diss_me": 3524,
             "featurecla": "Admin-1 scale rank",
             "fips": "US35",
             "fips_alt": null,
             "gadm_level": 1,
             "geonunit": "United States of America",
             "gn_a1_code": "US.NM",
             "gn_id": 5481136,
             "gn_level": 1,
             "gn_name": "New Mexico",
             "gn_region": null,
             "gns_adm1": null,
             "gns_id": -1,
             "gns_lang": null,
             "gns_level": -1,
             "gns_name": null,
             "gns_region": null,
             "gu_a3": "USA",
             "hasc_maybe": null,
             "id": 10,
             "iso_3166_2": "US-NM",
             "iso_a2": "US",
             "labelrank": 0,
             "latitude": 34.5002,
             "longitude": -106.024,
             "mapcolor13": 1,
             "mapcolor9": 1,
             "max_label": 7.5,
             "min_label": 3.5,
             "min_zoom": 2,
             "name": "New Mexico",
             "name_alt": "NM|N.M.",
             "name_ar": "نيومكسيكو",
             "name_bn": "নিউ মেক্সিকো",
             "name_de": "New Mexico",
             "name_el": "Νέο Μεξικό",
             "name_en": "New Mexico",
             "name_es": "Nuevo México",
             "name_fa": "نیومکزیکو",
             "name_fr": "Nouveau-Mexique",
             "name_he": "ניו מקסיקו",
             "name_hi": "नया मेक्सिको",
             "name_hu": "Új-Mexikó",
             "name_id": "New Mexico",
             "name_it": "Nuovo Messico",
             "name_ja": "ニューメキシコ州",
             "name_ko": "뉴멕시코",
             "name_len": 10,
             "name_local": null,
             "name_nl": "New Mexico",
             "name_pl": "Nowy Meksyk",
             "name_pt": "Novo México",
             "name_ru": "Нью-Мексико",
             "name_sv": "New Mexico",
             "name_tr": "New Mexico",
             "name_uk": "Нью-Мексико",
             "name_ur": "نیو میکسیکو",
             "name_vi": "New Mexico",
             "name_zh": "新墨西哥州",
             "name_zht": "新墨西哥州",
             "ne_id": 1159315347,
             "note": null,
             "postal": "NM",
             "provnum_ne": 0,
             "region": "West",
             "region_cod": null,
             "region_sub": "Mountain",
             "sameascity": -99,
             "scalerank": 2,
             "sov_a3": "US1",
             "sub_code": null,
             "type": "State",
             "type_en": "State",
             "wikidataid": "Q1522",
             "wikipedia": "http://en.wikipedia.org/wiki/New_Mexico",
             "woe_id": 2347590,
             "woe_label": "New Mexico, US, United States",
             "woe_name": "New Mexico"
            },
            "type": "Feature"
           },
           {
            "bbox": [
             -124.53283999999996,
             41.99260508886846,
             -116.45779557988342,
             46.2830694871044
            ],
            "geometry": {
             "coordinates": [
              [
               [
                -116.91500281458576,
                45.99998322202251
               ],
               [
                -116.67899654830879,
                45.807359320654555
               ],
               [
                -116.51125484908937,
                45.726408189469325
               ],
               [
                -116.45779557988342,
                45.57453115496351
               ],
               [
                -116.55887468144633,
                45.444358222020284
               ],
               [
                -116.69328508183749,
                45.186647854180706
               ],
               [
                -116.83614457890837,
                44.86385101986953
               ],
               [
                -117.05153194870093,
                44.66595612240786
               ],
               [
                -117.19229855026396,
                44.4389415553496
               ],
               [
                -117.19439144577179,
                44.27913218848698
               ],
               [
                -117.0076069812528,
                44.21141022396847
               ],
               [
                -116.92665585006762,
                44.081211452809214
               ],
               [
                -117.0139631824247,
                43.79706858985223
               ],
               [
                -117.0282517159534,
                42.000020656902336
               ],
               [
                -117.0282517159534,
                41.997359320639305
               ],
               [
                -119.99897558656059,
                41.99260508886846
               ],
               [
                -124.21380875715033,
                41.99947805436335
               ],
               [
                -124.53283999999996,
                42.7659900000001
               ],
               [
                -124.14213999999998,
                43.70838000000009
               ],
               [
                -123.89893000000001,
                45.523410000000126
               ],
               [
                -123.99867632678428,
                46.2830694871044
               ],
               [
                -123.77670365460955,
                46.28203318947163
               ],
               [
                -123.47137345441303,
                46.27725311948467
               ],
               [
                -123.22849422264113,
                46.18625092221856
               ],
               [
                -122.9379693202963,
                46.12909678810388
               ],
               [
                -122.75224422263926,
                45.93807485613678
               ],
               [
                -122.72578588930577,
                45.77033315691756
               ],
               [
                -122.65170772361546,
                45.63008331967734
               ],
               [
                -122.42045568910925,
                45.59199778907822
               ],
               [
                -122.17491512107449,
                45.595150051447945
               ],
               [
                -121.78809118715355,
                45.70098338478181
               ],
               [
                -121.56107662009549,
                45.73276439064131
               ],
               [
                -121.203889120094,
                45.689898790055224
               ],
               [
                -121.0467410894945,
                45.637498887711104
               ],
               [
                -120.83719315655094,
                45.67294892026342
               ],
               [
                -120.6096359869536,
                45.753900051448625
               ],
               [
                -120.15826818910023,
                45.740670884781935
               ],
               [
                -119.78730891989301,
                45.85076752377984
               ],
               [
                -119.59204952047821,
                45.932235419287906
               ],
               [
                -119.33699968145743,
                45.88833629005586
               ],
               [
                -118.97823605027111,
                45.99256765398866
               ],
               [
                -116.91500281458576,
                45.99998322202251
               ]
              ]
             ],
             "type": "Polygon"
            },
            "id": "11",
            "properties": {
             "Count": 74,
             "FCLASS_AR": null,
             "FCLASS_BD": null,
             "FCLASS_BR": null,
             "FCLASS_CN": null,
             "FCLASS_DE": null,
             "FCLASS_EG": null,
             "FCLASS_ES": null,
             "FCLASS_FR": null,
             "FCLASS_GB": null,
             "FCLASS_GR": null,
             "FCLASS_ID": null,
             "FCLASS_IL": null,
             "FCLASS_IN": null,
             "FCLASS_ISO": null,
             "FCLASS_IT": null,
             "FCLASS_JP": null,
             "FCLASS_KO": null,
             "FCLASS_MA": null,
             "FCLASS_NL": null,
             "FCLASS_NP": null,
             "FCLASS_PK": null,
             "FCLASS_PL": null,
             "FCLASS_PS": null,
             "FCLASS_PT": null,
             "FCLASS_RU": null,
             "FCLASS_SA": null,
             "FCLASS_SE": null,
             "FCLASS_TLC": null,
             "FCLASS_TR": null,
             "FCLASS_TW": null,
             "FCLASS_UA": null,
             "FCLASS_US": null,
             "FCLASS_VN": null,
             "abbrev": "Ore.",
             "adm0_a3": "USA",
             "adm0_label": 2,
             "adm0_sr": 6,
             "adm1_code": "USA-3525",
             "admin": "United States of America",
             "area_sqkm": 0,
             "check_me": 20,
             "code_hasc": "US.OR",
             "code_local": "US41",
             "datarank": 1,
             "diss_me": 3525,
             "featurecla": "Admin-1 scale rank",
             "fips": "US41",
             "fips_alt": null,
             "gadm_level": 1,
             "geonunit": "United States of America",
             "gn_a1_code": "US.OR",
             "gn_id": 5744337,
             "gn_level": 1,
             "gn_name": "Oregon",
             "gn_region": null,
             "gns_adm1": null,
             "gns_id": -1,
             "gns_lang": null,
             "gns_level": -1,
             "gns_name": null,
             "gns_region": null,
             "gu_a3": "USA",
             "hasc_maybe": null,
             "id": 11,
             "iso_3166_2": "US-OR",
             "iso_a2": "US",
             "labelrank": 0,
             "latitude": 43.8333,
             "longitude": -120.386,
             "mapcolor13": 1,
             "mapcolor9": 1,
             "max_label": 7.5,
             "min_label": 3.5,
             "min_zoom": 2,
             "name": "Oregon",
             "name_alt": "OR|Ore.",
             "name_ar": "أوريغون",
             "name_bn": "অরেগন",
             "name_de": "Oregon",
             "name_el": "Όρεγκον",
             "name_en": "Oregon",
             "name_es": "Oregón",
             "name_fa": "اورگن",
             "name_fr": "Oregon",
             "name_he": "אורגון",
             "name_hi": "औरिगन",
             "name_hu": "Oregon",
             "name_id": "Oregon",
             "name_it": "Oregon",
             "name_ja": "オレゴン州",
             "name_ko": "오리건",
             "name_len": 6,
             "name_local": null,
             "name_nl": "Oregon",
             "name_pl": "Oregon",
             "name_pt": "Oregon",
             "name_ru": "Орегон",
             "name_sv": "Oregon",
             "name_tr": "Oregon",
             "name_uk": "Орегон",
             "name_ur": "اوریگون",
             "name_vi": "Oregon",
             "name_zh": "俄勒冈州",
             "name_zht": "奧勒岡州",
             "ne_id": 1159309549,
             "note": null,
             "postal": "OR",
             "provnum_ne": 0,
             "region": "West",
             "region_cod": null,
             "region_sub": "Pacific",
             "sameascity": -99,
             "scalerank": 2,
             "sov_a3": "US1",
             "sub_code": null,
             "type": "State",
             "type_en": "State",
             "wikidataid": "Q824",
             "wikipedia": "http://en.wikipedia.org/wiki/Oregon",
             "woe_id": 2347596,
             "woe_label": "Oregon, US, United States",
             "woe_name": "Oregon"
            },
            "type": "Feature"
           },
           {
            "bbox": [
             -114.03422258182684,
             36.994098822572425,
             -109.04522477907253,
             42.00159678808724
            ],
            "geometry": {
             "coordinates": [
              [
               [
                -114.03422258182684,
                41.99312185319137
               ],
               [
                -111.05024451378105,
                42.00159678808724
               ],
               [
                -111.05448198122899,
                41.027935289059904
               ],
               [
                -109.05318294964546,
                41.001993720049384
               ],
               [
                -109.04522477907253,
                36.99991242120524
               ],
               [
                -110.49622148317988,
                37.00732798923914
               ],
               [
                -112.41760291222404,
                37.00942088474695
               ],
               [
                -114.03052771691799,
                36.994098822572425
               ],
               [
                -114.03422258182684,
                41.99312185319137
               ]
              ]
             ],
             "type": "Polygon"
            },
            "id": "12",
            "properties": {
             "Count": 71,
             "FCLASS_AR": null,
             "FCLASS_BD": null,
             "FCLASS_BR": null,
             "FCLASS_CN": null,
             "FCLASS_DE": null,
             "FCLASS_EG": null,
             "FCLASS_ES": null,
             "FCLASS_FR": null,
             "FCLASS_GB": null,
             "FCLASS_GR": null,
             "FCLASS_ID": null,
             "FCLASS_IL": null,
             "FCLASS_IN": null,
             "FCLASS_ISO": null,
             "FCLASS_IT": null,
             "FCLASS_JP": null,
             "FCLASS_KO": null,
             "FCLASS_MA": null,
             "FCLASS_NL": null,
             "FCLASS_NP": null,
             "FCLASS_PK": null,
             "FCLASS_PL": null,
             "FCLASS_PS": null,
             "FCLASS_PT": null,
             "FCLASS_RU": null,
             "FCLASS_SA": null,
             "FCLASS_SE": null,
             "FCLASS_TLC": null,
             "FCLASS_TR": null,
             "FCLASS_TW": null,
             "FCLASS_UA": null,
             "FCLASS_US": null,
             "FCLASS_VN": null,
             "abbrev": "Utah",
             "adm0_a3": "USA",
             "adm0_label": 2,
             "adm0_sr": 1,
             "adm1_code": "USA-3526",
             "admin": "United States of America",
             "area_sqkm": 0,
             "check_me": 20,
             "code_hasc": "US.UT",
             "code_local": "US49",
             "datarank": 1,
             "diss_me": 3526,
             "featurecla": "Admin-1 scale rank",
             "fips": "US49",
             "fips_alt": null,
             "gadm_level": 1,
             "geonunit": "United States of America",
             "gn_a1_code": "US.UT",
             "gn_id": 5549030,
             "gn_level": 1,
             "gn_name": "Utah",
             "gn_region": null,
             "gns_adm1": null,
             "gns_id": -1,
             "gns_lang": null,
             "gns_level": -1,
             "gns_name": null,
             "gns_region": null,
             "gu_a3": "USA",
             "hasc_maybe": null,
             "id": 12,
             "iso_3166_2": "US-UT",
             "iso_a2": "US",
             "labelrank": 0,
             "latitude": 39.5007,
             "longitude": -111.544,
             "mapcolor13": 1,
             "mapcolor9": 1,
             "max_label": 7.5,
             "min_label": 3.5,
             "min_zoom": 2,
             "name": "Utah",
             "name_alt": "UT",
             "name_ar": "يوتا",
             "name_bn": "ইউটা",
             "name_de": "Utah",
             "name_el": "Γιούτα",
             "name_en": "Utah",
             "name_es": "Utah",
             "name_fa": "یوتا",
             "name_fr": "Utah",
             "name_he": "יוטה",
             "name_hi": "यूटाह",
             "name_hu": "Utah",
             "name_id": "Utah",
             "name_it": "Utah",
             "name_ja": "ユタ州",
             "name_ko": "유타",
             "name_len": 4,
             "name_local": null,
             "name_nl": "Utah",
             "name_pl": "Utah",
             "name_pt": "Utah",
             "name_ru": "Юта",
             "name_sv": "Utah",
             "name_tr": "Utah",
             "name_uk": "Юта",
             "name_ur": "یوٹاہ",
             "name_vi": "Utah",
             "name_zh": "犹他州",
             "name_zht": "猶他州",
             "ne_id": 1159315349,
             "note": null,
             "postal": "UT",
             "provnum_ne": 0,
             "region": "West",
             "region_cod": null,
             "region_sub": "Mountain",
             "sameascity": -99,
             "scalerank": 2,
             "sov_a3": "US1",
             "sub_code": null,
             "type": "State",
             "type_en": "State",
             "wikidataid": "Q829",
             "wikipedia": "http://en.wikipedia.org/wiki/Utah",
             "woe_id": 2347603,
             "woe_label": "Utah, US, United States",
             "woe_name": "Utah"
            },
            "type": "Feature"
           },
           {
            "bbox": [
             -111.08517778201036,
             41.001993720049384,
             -104.04514238159157,
             45.05701752377655
            ],
            "geometry": {
             "coordinates": [
              [
               [
                -111.08517778201036,
                44.506146755545174
               ],
               [
                -111.0671943835728,
                44.54159678809741
               ],
               [
                -111.07140601280457,
                45.04960195574266
               ],
               [
                -109.10237891318732,
                45.05701752377655
               ],
               [
                -107.54663408082433,
                45.04588125261765
               ],
               [
                -105.74589128296557,
                45.051178086927564
               ],
               [
                -104.07795691609692,
                45.04061025652388
               ],
               [
                -104.05255794962545,
                43.00014048926312
               ],
               [
                -104.04514238159157,
                41.00411245377336
               ],
               [
                -105.04686418335339,
                41.003595689450435
               ],
               [
                -107.04973934612183,
                41.002536322588455
               ],
               [
                -108.05094438356073,
                41.002536322588455
               ],
               [
                -109.05318294964546,
                41.001993720049384
               ],
               [
                -111.05448198122899,
                41.027935289059904
               ],
               [
                -111.05024451378105,
                42.00159678808724
               ],
               [
                -111.04972774945814,
                44.48816335710761
               ],
               [
                -111.08517778201036,
                44.506146755545174
               ]
              ]
             ],
             "type": "Polygon"
            },
            "id": "13",
            "properties": {
             "Count": 71,
             "FCLASS_AR": null,
             "FCLASS_BD": null,
             "FCLASS_BR": null,
             "FCLASS_CN": null,
             "FCLASS_DE": null,
             "FCLASS_EG": null,
             "FCLASS_ES": null,
             "FCLASS_FR": null,
             "FCLASS_GB": null,
             "FCLASS_GR": null,
             "FCLASS_ID": null,
             "FCLASS_IL": null,
             "FCLASS_IN": null,
             "FCLASS_ISO": null,
             "FCLASS_IT": null,
             "FCLASS_JP": null,
             "FCLASS_KO": null,
             "FCLASS_MA": null,
             "FCLASS_NL": null,
             "FCLASS_NP": null,
             "FCLASS_PK": null,
             "FCLASS_PL": null,
             "FCLASS_PS": null,
             "FCLASS_PT": null,
             "FCLASS_RU": null,
             "FCLASS_SA": null,
             "FCLASS_SE": null,
             "FCLASS_TLC": null,
             "FCLASS_TR": null,
             "FCLASS_TW": null,
             "FCLASS_UA": null,
             "FCLASS_US": null,
             "FCLASS_VN": null,
             "abbrev": "Wyo.",
             "adm0_a3": "USA",
             "adm0_label": 2,
             "adm0_sr": 1,
             "adm1_code": "USA-3527",
             "admin": "United States of America",
             "area_sqkm": 0,
             "check_me": 20,
             "code_hasc": "US.WY",
             "code_local": "US56",
             "datarank": 1,
             "diss_me": 3527,
             "featurecla": "Admin-1 scale rank",
             "fips": "US56",
             "fips_alt": null,
             "gadm_level": 1,
             "geonunit": "United States of America",
             "gn_a1_code": "US.WY",
             "gn_id": 5843591,
             "gn_level": 1,
             "gn_name": "Wyoming",
             "gn_region": null,
             "gns_adm1": null,
             "gns_id": -1,
             "gns_lang": null,
             "gns_level": -1,
             "gns_name": null,
             "gns_region": null,
             "gu_a3": "USA",
             "hasc_maybe": null,
             "id": 13,
             "iso_3166_2": "US-WY",
             "iso_a2": "US",
             "labelrank": 0,
             "latitude": 42.9999,
             "longitude": -107.552,
             "mapcolor13": 1,
             "mapcolor9": 1,
             "max_label": 7.5,
             "min_label": 3.5,
             "min_zoom": 2,
             "name": "Wyoming",
             "name_alt": "WY|Wyo.",
             "name_ar": "وايومنغ",
             "name_bn": "ওয়াইয়োমিং",
             "name_de": "Wyoming",
             "name_el": "Ουαϊόμινγκ",
             "name_en": "Wyoming",
             "name_es": "Wyoming",
             "name_fa": "وایومینگ",
             "name_fr": "Wyoming",
             "name_he": "ויומינג",
             "name_hi": "वायोमिंग",
             "name_hu": "Wyoming",
             "name_id": "Wyoming",
             "name_it": "Wyoming",
             "name_ja": "ワイオミング州",
             "name_ko": "와이오밍",
             "name_len": 7,
             "name_local": null,
             "name_nl": "Wyoming",
             "name_pl": "Wyoming",
             "name_pt": "Wyoming",
             "name_ru": "Вайоминг",
             "name_sv": "Wyoming",
             "name_tr": "Wyoming",
             "name_uk": "Вайомінг",
             "name_ur": "وائیومنگ",
             "name_vi": "Wyoming",
             "name_zh": "怀俄明州",
             "name_zht": "懷俄明州",
             "ne_id": 1159315351,
             "note": null,
             "postal": "WY",
             "provnum_ne": 0,
             "region": "West",
             "region_cod": null,
             "region_sub": "Mountain",
             "sameascity": -99,
             "scalerank": 2,
             "sov_a3": "US1",
             "sub_code": null,
             "type": "State",
             "type_en": "State",
             "wikidataid": "Q1214",
             "wikipedia": "http://en.wikipedia.org/wiki/Wyoming",
             "woe_id": 2347609,
             "woe_label": "Wyoming, US, United States",
             "woe_name": "Wyoming"
            },
            "type": "Feature"
           },
           {
            "bbox": [
             -94.62861121293412,
             33.01000092216589,
             -89.66291948114342,
             36.54058645277894
            ],
            "geometry": {
             "coordinates": [
              [
               [
                -89.66291948114342,
                36.02307282159197
               ],
               [
                -89.67351314976325,
                35.94000295668279
               ],
               [
                -89.77510901564906,
                35.79923635511972
               ],
               [
                -89.95026628290238,
                35.70187795668183
               ],
               [
                -89.98889441604055,
                35.536229152970236
               ],
               [
                -90.14710181350213,
                35.40499685316502
               ],
               [
                -90.13493201369738,
                35.11395518649719
               ],
               [
                -90.249240281927,
                35.02083425550724
               ],
               [
                -90.26828304722656,
                34.94145925550691
               ],
               [
                -90.44661841506581,
                34.86683848727745
               ],
               [
                -90.4503132799747,
                34.7218602564826
               ],
               [
                -90.58420691604294,
                34.45409882256226
               ],
               [
                -90.6995487129184,
                34.39746145277036
               ],
               [
                -90.87630794957275,
                34.261474921194306
               ],
               [
                -90.9821412829065,
                34.0551050888367
               ],
               [
                -91.20068091506883,
                33.70639252373114
               ],
               [
                -91.22344438349342,
                33.46932689059217
               ],
               [
                -91.1080767484018,
                33.2068364527656
               ],
               [
                -91.15623918329783,
                33.01000092216589
               ],
               [
                -92.00130388056687,
                33.043874823533145
               ],
               [
                -93.09402787959465,
                33.01051768648881
               ],
               [
                -94.05975704626516,
                33.01211965588982
               ],
               [
                -94.00208614782744,
                33.57991445569678
               ],
               [
                -94.23333818233357,
                33.583609320605646
               ],
               [
                -94.42753821488645,
                33.57038015393891
               ],
               [
                -94.47991227901426,
                33.635983384733464
               ],
               [
                -94.45136105017299,
                34.510710354138
               ],
               [
                -94.43017371293331,
                35.48331248630335
               ],
               [
                -94.62861121293412,
                36.54058645277894
               ],
               [
                -93.41258724645789,
                36.52629791925024
               ],
               [
                -92.30717668330243,
                36.523662421203355
               ],
               [
                -91.25147884801174,
                36.52314565688043
               ],
               [
                -90.11219438348897,
                36.461754055317684
               ],
               [
                -90.02909868036363,
                36.337937323546356
               ],
               [
                -90.14180497919222,
                36.23050202081156
               ],
               [
                -90.25399451369786,
                36.12254995375383
               ],
               [
                -90.31538611526061,
                36.02307282159197
               ],
               [
                -89.66291948114342,
                36.02307282159197
               ]
              ]
             ],
             "type": "Polygon"
            },
            "id": "14",
            "properties": {
             "Count": 79,
             "FCLASS_AR": null,
             "FCLASS_BD": null,
             "FCLASS_BR": null,
             "FCLASS_CN": null,
             "FCLASS_DE": null,
             "FCLASS_EG": null,
             "FCLASS_ES": null,
             "FCLASS_FR": null,
             "FCLASS_GB": null,
             "FCLASS_GR": null,
             "FCLASS_ID": null,
             "FCLASS_IL": null,
             "FCLASS_IN": null,
             "FCLASS_ISO": null,
             "FCLASS_IT": null,
             "FCLASS_JP": null,
             "FCLASS_KO": null,
             "FCLASS_MA": null,
             "FCLASS_NL": null,
             "FCLASS_NP": null,
             "FCLASS_PK": null,
             "FCLASS_PL": null,
             "FCLASS_PS": null,
             "FCLASS_PT": null,
             "FCLASS_RU": null,
             "FCLASS_SA": null,
             "FCLASS_SE": null,
             "FCLASS_TLC": null,
             "FCLASS_TR": null,
             "FCLASS_TW": null,
             "FCLASS_UA": null,
             "FCLASS_US": null,
             "FCLASS_VN": null,
             "abbrev": "Ark.",
             "adm0_a3": "USA",
             "adm0_label": 2,
             "adm0_sr": 1,
             "adm1_code": "USA-3528",
             "admin": "United States of America",
             "area_sqkm": 0,
             "check_me": 20,
             "code_hasc": "US.AR",
             "code_local": "US05",
             "datarank": 1,
             "diss_me": 3528,
             "featurecla": "Admin-1 scale rank",
             "fips": "US05",
             "fips_alt": null,
             "gadm_level": 1,
             "geonunit": "United States of America",
             "gn_a1_code": "US.AR",
             "gn_id": 4099753,
             "gn_level": 1,
             "gn_name": "Arkansas",
             "gn_region": null,
             "gns_adm1": null,
             "gns_id": -1,
             "gns_lang": null,
             "gns_level": -1,
             "gns_name": null,
             "gns_region": null,
             "gu_a3": "USA",
             "hasc_maybe": null,
             "id": 14,
             "iso_3166_2": "US-AR",
             "iso_a2": "US",
             "labelrank": 0,
             "latitude": 34.7563,
             "longitude": -92.1428,
             "mapcolor13": 1,
             "mapcolor9": 1,
             "max_label": 7.5,
             "min_label": 3.5,
             "min_zoom": 2,
             "name": "Arkansas",
             "name_alt": "AR|Ark.",
             "name_ar": "أركنساس",
             "name_bn": "আর্কানসাস",
             "name_de": "Arkansas",
             "name_el": "Άρκανσο",
             "name_en": "Arkansas",
             "name_es": "Arkansas",
             "name_fa": "آرکانزاس",
             "name_fr": "Arkansas",
             "name_he": "ארקנסו",
             "name_hi": "अरकांसास",
             "name_hu": "Arkansas",
             "name_id": "Arkansas",
             "name_it": "Arkansas",
             "name_ja": "アーカンソー州",
             "name_ko": "아칸소",
             "name_len": 8,
             "name_local": null,
             "name_nl": "Arkansas",
             "name_pl": "Arkansas",
             "name_pt": "Arkansas",
             "name_ru": "Арканзас",
             "name_sv": "Arkansas",
             "name_tr": "Arkansas",
             "name_uk": "Арканзас",
             "name_ur": "آرکنساس",
             "name_vi": "Arkansas",
             "name_zh": "阿肯色州",
             "name_zht": "阿肯色州",
             "ne_id": 1159315355,
             "note": null,
             "postal": "AR",
             "provnum_ne": 0,
             "region": "South",
             "region_cod": null,
             "region_sub": "West South Central",
             "sameascity": -99,
             "scalerank": 2,
             "sov_a3": "US1",
             "sub_code": null,
             "type": "State",
             "type_en": "State",
             "wikidataid": "Q1612",
             "wikipedia": "http://en.wikipedia.org/wiki/Arkansas",
             "woe_id": 2347562,
             "woe_label": "Arkansas, US, United States",
             "woe_name": "Arkansas"
            },
            "type": "Feature"
           },
           {
            "bbox": [
             -96.61564754920508,
             40.3685956894479,
             -90.15663611525997,
             43.51977285417405
            ],
            "geometry": {
             "coordinates": [
              [
               [
                -96.4526600817565,
                43.50178945573647
               ],
               [
                -95.35993608272871,
                43.50018748633542
               ],
               [
                -94.00102678096546,
                43.51341665300214
               ],
               [
                -92.54000484899348,
                43.51977285417405
               ],
               [
                -91.22819861526426,
                43.5012468531974
               ],
               [
                -91.21391008173555,
                43.44675405534562
               ],
               [
                -91.08373714879232,
                43.288004055345
               ],
               [
                -91.17316321487343,
                43.21232392025354
               ],
               [
                -91.16998511428747,
                43.00223338477093
               ],
               [
                -91.12923824742532,
                42.91283315690599
               ],
               [
                -91.06469438349276,
                42.75408315690535
               ],
               [
                -90.73817684605658,
                42.65827505143622
               ],
               [
                -90.64081844761868,
                42.50536448828457
               ],
               [
                -90.58260494664188,
                42.4291675888702
               ],
               [
                -90.46460181350339,
                42.37836965592729
               ],
               [
                -90.41698198114644,
                42.27041758886956
               ],
               [
                -90.2598081123307,
                42.18998322200727
               ],
               [
                -90.15663611525997,
                42.103735256512124
               ],
               [
                -90.21006954624977,
                41.8349144557298
               ],
               [
                -90.39527787958384,
                41.60841665299452
               ],
               [
                -90.46196631545651,
                41.53645722102809
               ],
               [
                -90.69055701369962,
                41.47878632259035
               ],
               [
                -91.0339985827114,
                41.42956452083234
               ],
               [
                -91.12342464879248,
                41.25758535416499
               ],
               [
                -90.9990653144821,
                41.17981232356573
               ],
               [
                -90.95674231643505,
                41.024757188473956
               ],
               [
                -91.0874320137012,
                40.85171865494462
               ],
               [
                -91.15412044957387,
                40.699841620438804
               ],
               [
                -91.4102288480124,
                40.55114268651894
               ],
               [
                -91.43033098017392,
                40.3685956894479
               ],
               [
                -91.56740271682813,
                40.45220815689615
               ],
               [
                -91.75842464879503,
                40.61411041926658
               ],
               [
                -92.85166541214576,
                40.59243215592015
               ],
               [
                -94.00208614782744,
                40.58501658788626
               ],
               [
                -94.89849138057842,
                40.583440456701354
               ],
               [
                -95.79649858273045,
                40.58395722102428
               ],
               [
                -95.86210181352499,
                40.764928086910416
               ],
               [
                -95.83406734900665,
                40.94380605728874
               ],
               [
                -95.85574561235308,
                41.11630198827902
               ],
               [
                -95.95842668331704,
                41.40470815689996
               ],
               [
                -96.02508928097356,
                41.52428742122335
               ],
               [
                -96.09704871294,
                41.55655935318963
               ],
               [
                -96.10446428097387,
                41.78781138769577
               ],
               [
                -96.16743201372152,
                41.95343435319121
               ],
               [
                -96.34894548214672,
                42.14182078711124
               ],
               [
                -96.34682674842276,
                42.22437388769751
               ],
               [
                -96.41031124549332,
                42.389480088870044
               ],
               [
                -96.45529557980339,
                42.488957221031896
               ],
               [
                -96.4537194486185,
                42.58050202083696
               ],
               [
                -96.61564754920508,
                42.691632188480625
               ],
               [
                -96.53521318234277,
                42.85567902279118
               ],
               [
                -96.4833558825379,
                43.01600515397672
               ],
               [
                -96.45953304725134,
                43.1244998235735
               ],
               [
                -96.58707048214768,
                43.257308254563625
               ],
               [
                -96.58601111528569,
                43.5012468531974
               ],
               [
                -96.4526600817565,
                43.50178945573647
               ]
              ]
             ],
             "type": "Polygon"
            },
            "id": "15",
            "properties": {
             "Count": 69,
             "FCLASS_AR": null,
             "FCLASS_BD": null,
             "FCLASS_BR": null,
             "FCLASS_CN": null,
             "FCLASS_DE": null,
             "FCLASS_EG": null,
             "FCLASS_ES": null,
             "FCLASS_FR": null,
             "FCLASS_GB": null,
             "FCLASS_GR": null,
             "FCLASS_ID": null,
             "FCLASS_IL": null,
             "FCLASS_IN": null,
             "FCLASS_ISO": null,
             "FCLASS_IT": null,
             "FCLASS_JP": null,
             "FCLASS_KO": null,
             "FCLASS_MA": null,
             "FCLASS_NL": null,
             "FCLASS_NP": null,
             "FCLASS_PK": null,
             "FCLASS_PL": null,
             "FCLASS_PS": null,
             "FCLASS_PT": null,
             "FCLASS_RU": null,
             "FCLASS_SA": null,
             "FCLASS_SE": null,
             "FCLASS_TLC": null,
             "FCLASS_TR": null,
             "FCLASS_TW": null,
             "FCLASS_UA": null,
             "FCLASS_US": null,
             "FCLASS_VN": null,
             "abbrev": "Iowa",
             "adm0_a3": "USA",
             "adm0_label": 2,
             "adm0_sr": 1,
             "adm1_code": "USA-3529",
             "admin": "United States of America",
             "area_sqkm": 0,
             "check_me": 20,
             "code_hasc": "US.IA",
             "code_local": "US19",
             "datarank": 1,
             "diss_me": 3529,
             "featurecla": "Admin-1 scale rank",
             "fips": "US19",
             "fips_alt": null,
             "gadm_level": 1,
             "geonunit": "United States of America",
             "gn_a1_code": "US.IA",
             "gn_id": 4862182,
             "gn_level": 1,
             "gn_name": "Iowa",
             "gn_region": null,
             "gns_adm1": null,
             "gns_id": -1,
             "gns_lang": null,
             "gns_level": -1,
             "gns_name": null,
             "gns_region": null,
             "gu_a3": "USA",
             "hasc_maybe": null,
             "id": 15,
             "iso_3166_2": "US-IA",
             "iso_a2": "US",
             "labelrank": 0,
             "latitude": 42.0423,
             "longitude": -93.3891,
             "mapcolor13": 1,
             "mapcolor9": 1,
             "max_label": 7.5,
             "min_label": 3.5,
             "min_zoom": 2,
             "name": "Iowa",
             "name_alt": "IA|Iowa",
             "name_ar": "آيوا",
             "name_bn": "আইওয়া",
             "name_de": "Iowa",
             "name_el": "Άιοβα",
             "name_en": "Iowa",
             "name_es": "Iowa",
             "name_fa": "آیووا",
             "name_fr": "Iowa",
             "name_he": "איווה",
             "name_hi": "आयोवा",
             "name_hu": "Iowa",
             "name_id": "Iowa",
             "name_it": "Iowa",
             "name_ja": "アイオワ州",
             "name_ko": "아이오와",
             "name_len": 4,
             "name_local": null,
             "name_nl": "Iowa",
             "name_pl": "Iowa",
             "name_pt": "Iowa",
             "name_ru": "Айова",
             "name_sv": "Iowa",
             "name_tr": "Iowa",
             "name_uk": "Айова",
             "name_ur": "آئیووا",
             "name_vi": "Iowa",
             "name_zh": "艾奥瓦州",
             "name_zht": "愛荷華州",
             "ne_id": 1159315357,
             "note": null,
             "postal": "IA",
             "provnum_ne": 0,
             "region": "Midwest",
             "region_cod": null,
             "region_sub": "West North Central",
             "sameascity": -99,
             "scalerank": 2,
             "sov_a3": "US1",
             "sub_code": null,
             "type": "State",
             "type_en": "State",
             "wikidataid": "Q1546",
             "wikipedia": "http://en.wikipedia.org/wiki/Iowa",
             "woe_id": 2347574,
             "woe_label": "Iowa, US, United States",
             "woe_name": "Iowa"
            },
            "type": "Feature"
           },
           {
            "bbox": [
             -102.05017371296381,
             36.99198008884845,
             -94.60481421586371,
             40.00135712336569
            ],
            "geometry": {
             "coordinates": [
              [
               [
                -102.04118201374501,
                36.99198008884845
               ],
               [
                -102.04012264688303,
                38.459874986315256
               ],
               [
                -102.05017371296381,
                40.00081452082664
               ],
               [
                -102.04805497923984,
                40.00081452082664
               ],
               [
                -100.30022884804795,
                40.00081452082664
               ],
               [
                -99.00007564980055,
                40.00081452082664
               ],
               [
                -96.69977678097625,
                40.00135712336569
               ],
               [
                -95.32288408077542,
                40.00135712336569
               ],
               [
                -95.08530168331355,
                39.86800608983651
               ],
               [
                -94.95510291215416,
                39.87012482356049
               ],
               [
                -94.92655168331291,
                39.72512075454949
               ],
               [
                -95.06729244665982,
                39.53991242121542
               ],
               [
                -94.99109554724546,
                39.44467275650149
               ],
               [
                -94.86779557979705,
                39.23458222101888
               ],
               [
                -94.60481421586371,
                39.13985932062788
               ],
               [
                -94.6153820462674,
                38.06883942316266
               ],
               [
                -94.62279761430128,
                36.99991242120525
               ],
               [
                -95.50016008175271,
                36.99885305434327
               ],
               [
                -97.29984351274949,
                36.99727692315837
               ],
               [
                -99.10006954628534,
                36.995158189434406
               ],
               [
                -100.10021521686225,
                36.994098822572425
               ],
               [
                -101.09979244668396,
                36.99303945571043
               ],
               [
                -102.04118201374501,
                36.99198008884845
               ]
              ]
             ],
             "type": "Polygon"
            },
            "id": "16",
            "properties": {
             "Count": 63,
             "FCLASS_AR": null,
             "FCLASS_BD": null,
             "FCLASS_BR": null,
             "FCLASS_CN": null,
             "FCLASS_DE": null,
             "FCLASS_EG": null,
             "FCLASS_ES": null,
             "FCLASS_FR": null,
             "FCLASS_GB": null,
             "FCLASS_GR": null,
             "FCLASS_ID": null,
             "FCLASS_IL": null,
             "FCLASS_IN": null,
             "FCLASS_ISO": null,
             "FCLASS_IT": null,
             "FCLASS_JP": null,
             "FCLASS_KO": null,
             "FCLASS_MA": null,
             "FCLASS_NL": null,
             "FCLASS_NP": null,
             "FCLASS_PK": null,
             "FCLASS_PL": null,
             "FCLASS_PS": null,
             "FCLASS_PT": null,
             "FCLASS_RU": null,
             "FCLASS_SA": null,
             "FCLASS_SE": null,
             "FCLASS_TLC": null,
             "FCLASS_TR": null,
             "FCLASS_TW": null,
             "FCLASS_UA": null,
             "FCLASS_US": null,
             "FCLASS_VN": null,
             "abbrev": "Kans.",
             "adm0_a3": "USA",
             "adm0_label": 2,
             "adm0_sr": 1,
             "adm1_code": "USA-3530",
             "admin": "United States of America",
             "area_sqkm": 0,
             "check_me": 20,
             "code_hasc": "US.KS",
             "code_local": "US20",
             "datarank": 1,
             "diss_me": 3530,
             "featurecla": "Admin-1 scale rank",
             "fips": "US20",
             "fips_alt": null,
             "gadm_level": 1,
             "geonunit": "United States of America",
             "gn_a1_code": "US.KS",
             "gn_id": 4273857,
             "gn_level": 1,
             "gn_name": "Kansas",
             "gn_region": null,
             "gns_adm1": null,
             "gns_id": -1,
             "gns_lang": null,
             "gns_level": -1,
             "gns_name": null,
             "gns_region": null,
             "gu_a3": "USA",
             "hasc_maybe": null,
             "id": 16,
             "iso_3166_2": "US-KS",
             "iso_a2": "US",
             "labelrank": 0,
             "latitude": 38.5,
             "longitude": -98.3309,
             "mapcolor13": 1,
             "mapcolor9": 1,
             "max_label": 7.5,
             "min_label": 3.5,
             "min_zoom": 2,
             "name": "Kansas",
             "name_alt": "KS|Kans.",
             "name_ar": "كانساس",
             "name_bn": "ক্যান্সাস",
             "name_de": "Kansas",
             "name_el": "Κάνσας",
             "name_en": "Kansas",
             "name_es": "Kansas",
             "name_fa": "کانزاس",
             "name_fr": "Kansas",
             "name_he": "קנזס",
             "name_hi": "केन्सास",
             "name_hu": "Kansas",
             "name_id": "Kansas",
             "name_it": "Kansas",
             "name_ja": "カンザス州",
             "name_ko": "캔자스",
             "name_len": 6,
             "name_local": null,
             "name_nl": "Kansas",
             "name_pl": "Kansas",
             "name_pt": "Kansas",
             "name_ru": "Канзас",
             "name_sv": "Kansas",
             "name_tr": "Kansas",
             "name_uk": "Канзас",
             "name_ur": "کنساس",
             "name_vi": "Kansas",
             "name_zh": "堪萨斯州",
             "name_zht": "堪薩斯州",
             "ne_id": 1159315359,
             "note": null,
             "postal": "KS",
             "provnum_ne": 0,
             "region": "Midwest",
             "region_cod": null,
             "region_sub": "West North Central",
             "sameascity": -99,
             "scalerank": 2,
             "sov_a3": "US1",
             "sub_code": null,
             "type": "State",
             "type_en": "State",
             "wikidataid": "Q1558",
             "wikipedia": "http://en.wikipedia.org/wiki/Kansas",
             "woe_id": 2347575,
             "woe_label": "Kansas, US, United States",
             "woe_name": "Kansas"
            },
            "type": "Feature"
           },
           {
            "bbox": [
             -95.79649858273045,
             36.02307282159197,
             -89.10305701369326,
             40.61411041926658
            ],
            "geometry": {
             "coordinates": [
              [
               [
                -89.66291948114342,
                36.02307282159197
               ],
               [
                -90.31538611526061,
                36.02307282159197
               ],
               [
                -90.25399451369786,
                36.12254995375383
               ],
               [
                -90.14180497919222,
                36.23050202081156
               ],
               [
                -90.02909868036363,
                36.337937323546356
               ],
               [
                -90.11219438348897,
                36.461754055317684
               ],
               [
                -91.25147884801174,
                36.52314565688043
               ],
               [
                -92.30717668330243,
                36.523662421203355
               ],
               [
                -93.41258724645789,
                36.52629791925024
               ],
               [
                -94.62861121293412,
                36.54058645277894
               ],
               [
                -94.61750077999136,
                36.99991242120525
               ],
               [
                -94.62279761430128,
                36.99991242120525
               ],
               [
                -94.6153820462674,
                38.06883942316266
               ],
               [
                -94.60481421586371,
                39.13985932062788
               ],
               [
                -94.86779557979705,
                39.23458222101888
               ],
               [
                -94.99109554724546,
                39.44467275650149
               ],
               [
                -95.06729244665982,
                39.53991242121542
               ],
               [
                -94.92655168331291,
                39.72512075454949
               ],
               [
                -94.95510291215416,
                39.87012482356049
               ],
               [
                -95.08530168331355,
                39.86800608983651
               ],
               [
                -95.32288408077542,
                40.00135712336569
               ],
               [
                -95.45254024939575,
                40.21514252375718
               ],
               [
                -95.60811214881042,
                40.3431708847603
               ],
               [
                -95.77637061235276,
                40.50140412043801
               ],
               [
                -95.79649858273045,
                40.58395722102428
               ],
               [
                -94.89849138057842,
                40.583440456701354
               ],
               [
                -94.00208614782744,
                40.58501658788626
               ],
               [
                -92.85166541214576,
                40.59243215592015
               ],
               [
                -91.75842464879503,
                40.61411041926658
               ],
               [
                -91.56740271682813,
                40.45220815689615
               ],
               [
                -91.43033098017392,
                40.3685956894479
               ],
               [
                -91.51763831253103,
                40.119877020827104
               ],
               [
                -91.42821224644996,
                39.82090302180248
               ],
               [
                -91.2625892809545,
                39.615049953767794
               ],
               [
                -91.0715673489876,
                39.445189520824414
               ],
               [
                -90.84137468134344,
                39.31077912043325
               ],
               [
                -90.74928727899933,
                39.265278021800256
               ],
               [
                -90.66570064976722,
                39.074772854156265
               ],
               [
                -90.64981014683747,
                38.907547919259756
               ],
               [
                -90.53552771682399,
                38.865767523751785
               ],
               [
                -90.3465986803649,
                38.93031138768433
               ],
               [
                -90.1560935127209,
                38.76944265395973
               ],
               [
                -90.2127308825128,
                38.584776923164725
               ],
               [
                -90.30533504917983,
                38.439256089830806
               ],
               [
                -90.36987891311239,
                38.26355622003844
               ],
               [
                -90.22807878290348,
                38.11328115493366
               ],
               [
                -90.03015804722561,
                37.97199778904769
               ],
               [
                -89.91690914585797,
                37.968277085922665
               ],
               [
                -89.65498714878662,
                37.74867808689835
               ],
               [
                -89.5539080472237,
                37.71904165297896
               ],
               [
                -89.47928727899424,
                37.477221788069144
               ],
               [
                -89.51633928094752,
                37.32692088474823
               ],
               [
                -89.38828508172826,
                37.08140615492954
               ],
               [
                -89.28033301467053,
                37.107347723940066
               ],
               [
                -89.10305701369326,
                36.952292588848294
               ],
               [
                -89.13426957879756,
                36.85175608982445
               ],
               [
                -89.115226813498,
                36.694582221008716
               ],
               [
                -89.27397681349862,
                36.61151235609954
               ],
               [
                -89.49835588250994,
                36.5061957870887
               ],
               [
                -89.52427161330432,
                36.40935415297372
               ],
               [
                -89.585120612328,
                36.26701142022576
               ],
               [
                -89.66291948114342,
                36.02307282159197
               ]
              ]
             ],
             "type": "Polygon"
            },
            "id": "17",
            "properties": {
             "Count": 81,
             "FCLASS_AR": null,
             "FCLASS_BD": null,
             "FCLASS_BR": null,
             "FCLASS_CN": null,
             "FCLASS_DE": null,
             "FCLASS_EG": null,
             "FCLASS_ES": null,
             "FCLASS_FR": null,
             "FCLASS_GB": null,
             "FCLASS_GR": null,
             "FCLASS_ID": null,
             "FCLASS_IL": null,
             "FCLASS_IN": null,
             "FCLASS_ISO": null,
             "FCLASS_IT": null,
             "FCLASS_JP": null,
             "FCLASS_KO": null,
             "FCLASS_MA": null,
             "FCLASS_NL": null,
             "FCLASS_NP": null,
             "FCLASS_PK": null,
             "FCLASS_PL": null,
             "FCLASS_PS": null,
             "FCLASS_PT": null,
             "FCLASS_RU": null,
             "FCLASS_SA": null,
             "FCLASS_SE": null,
             "FCLASS_TLC": null,
             "FCLASS_TR": null,
             "FCLASS_TW": null,
             "FCLASS_UA": null,
             "FCLASS_US": null,
             "FCLASS_VN": null,
             "abbrev": "Mo.",
             "adm0_a3": "USA",
             "adm0_label": 2,
             "adm0_sr": 1,
             "adm1_code": "USA-3531",
             "admin": "United States of America",
             "area_sqkm": 0,
             "check_me": 20,
             "code_hasc": "US.MO",
             "code_local": "US29",
             "datarank": 1,
             "diss_me": 3531,
             "featurecla": "Admin-1 scale rank",
             "fips": "US29",
             "fips_alt": "US17",
             "gadm_level": 1,
             "geonunit": "United States of America",
             "gn_a1_code": "US.MO",
             "gn_id": 4398678,
             "gn_level": 1,
             "gn_name": "Missouri",
             "gn_region": null,
             "gns_adm1": null,
             "gns_id": -1,
             "gns_lang": null,
             "gns_level": -1,
             "gns_name": null,
             "gns_region": null,
             "gu_a3": "USA",
             "hasc_maybe": "US.IL|USA-MOS",
             "id": 17,
             "iso_3166_2": "US-MO",
             "iso_a2": "US",
             "labelrank": 0,
             "latitude": 38.5487,
             "longitude": -92.446,
             "mapcolor13": 1,
             "mapcolor9": 1,
             "max_label": 7.5,
             "min_label": 3.5,
             "min_zoom": 2,
             "name": "Missouri",
             "name_alt": "MO",
             "name_ar": "ميزوري",
             "name_bn": "মিসৌরি",
             "name_de": "Missouri",
             "name_el": "Μιζούρι",
             "name_en": "Missouri",
             "name_es": "Misuri",
             "name_fa": "میزوری",
             "name_fr": "Missouri",
             "name_he": "מיזורי",
             "name_hi": "मिसौरी",
             "name_hu": "Missouri",
             "name_id": "Missouri",
             "name_it": "Missouri",
             "name_ja": "ミズーリ州",
             "name_ko": "미주리",
             "name_len": 8,
             "name_local": null,
             "name_nl": "Missouri",
             "name_pl": "Missouri",
             "name_pt": "Missouri",
             "name_ru": "Миссури",
             "name_sv": "Missouri",
             "name_tr": "Missouri",
             "name_uk": "Міссурі",
             "name_ur": "مسوری",
             "name_vi": "Missouri",
             "name_zh": "密苏里州",
             "name_zht": "密蘇里州",
             "ne_id": 1159315361,
             "note": null,
             "postal": "MO",
             "provnum_ne": 0,
             "region": "Midwest",
             "region_cod": null,
             "region_sub": "West North Central",
             "sameascity": -99,
             "scalerank": 2,
             "sov_a3": "US1",
             "sub_code": null,
             "type": "State",
             "type_en": "State",
             "wikidataid": "Q1581",
             "wikipedia": "http://en.wikipedia.org/wiki/Missouri",
             "woe_id": 2347584,
             "woe_label": "Missouri, US, United States",
             "woe_name": "Missouri"
            },
            "type": "Feature"
           },
           {
            "bbox": [
             -104.05255794962545,
             40.00081452082664,
             -95.32288408077542,
             43.00014048926312
            ],
            "geometry": {
             "coordinates": [
              [
               [
                -102.05017371296381,
                40.00081452082664
               ],
               [
                -102.05017371296381,
                40.033086452792915
               ],
               [
                -102.04805497923984,
                41.00411245377336
               ],
               [
                -104.04514238159157,
                41.00411245377336
               ],
               [
                -104.05255794962545,
                43.00014048926312
               ],
               [
                -102.09991227904473,
                43.00014048926312
               ],
               [
                -100.59974544961165,
                43.00014048926312
               ],
               [
                -98.59418311236405,
                43.00014048926312
               ],
               [
                -98.33595598020155,
                42.87366242122876
               ],
               [
                -97.96820064979643,
                42.79428742122843
               ],
               [
                -97.88192684608515,
                42.83978851986143
               ],
               [
                -97.64434444862326,
                42.83609365495256
               ],
               [
                -97.28715694862183,
                42.846144721033326
               ],
               [
                -97.02838721392027,
                42.717547919275006
               ],
               [
                -96.75426957882803,
                42.63396129004289
               ],
               [
                -96.70876848019503,
                42.55086558691757
               ],
               [
                -96.62303727902282,
                42.502728990237685
               ],
               [
                -96.45529557980339,
                42.488957221031896
               ],
               [
                -96.41031124549332,
                42.389480088870044
               ],
               [
                -96.34682674842276,
                42.22437388769751
               ],
               [
                -96.34894548214672,
                42.14182078711124
               ],
               [
                -96.16743201372152,
                41.95343435319121
               ],
               [
                -96.10446428097387,
                41.78781138769577
               ],
               [
                -96.09704871294,
                41.55655935318963
               ],
               [
                -96.02508928097356,
                41.52428742122335
               ],
               [
                -95.95842668331704,
                41.40470815689996
               ],
               [
                -95.85574561235308,
                41.11630198827902
               ],
               [
                -95.83406734900665,
                40.94380605728874
               ],
               [
                -95.86210181352499,
                40.764928086910416
               ],
               [
                -95.79649858273045,
                40.58395722102428
               ],
               [
                -95.77637061235276,
                40.50140412043801
               ],
               [
                -95.60811214881042,
                40.3431708847603
               ],
               [
                -95.45254024939575,
                40.21514252375718
               ],
               [
                -95.32288408077542,
                40.00135712336569
               ],
               [
                -96.69977678097625,
                40.00135712336569
               ],
               [
                -99.00007564980055,
                40.00081452082664
               ],
               [
                -100.30022884804795,
                40.00081452082664
               ],
               [
                -102.04805497923984,
                40.00081452082664
               ],
               [
                -102.05017371296381,
                40.00081452082664
               ]
              ]
             ],
             "type": "Polygon"
            },
            "id": "18",
            "properties": {
             "Count": 87,
             "FCLASS_AR": null,
             "FCLASS_BD": null,
             "FCLASS_BR": null,
             "FCLASS_CN": null,
             "FCLASS_DE": null,
             "FCLASS_EG": null,
             "FCLASS_ES": null,
             "FCLASS_FR": null,
             "FCLASS_GB": null,
             "FCLASS_GR": null,
             "FCLASS_ID": null,
             "FCLASS_IL": null,
             "FCLASS_IN": null,
             "FCLASS_ISO": null,
             "FCLASS_IT": null,
             "FCLASS_JP": null,
             "FCLASS_KO": null,
             "FCLASS_MA": null,
             "FCLASS_NL": null,
             "FCLASS_NP": null,
             "FCLASS_PK": null,
             "FCLASS_PL": null,
             "FCLASS_PS": null,
             "FCLASS_PT": null,
             "FCLASS_RU": null,
             "FCLASS_SA": null,
             "FCLASS_SE": null,
             "FCLASS_TLC": null,
             "FCLASS_TR": null,
             "FCLASS_TW": null,
             "FCLASS_UA": null,
             "FCLASS_US": null,
             "FCLASS_VN": null,
             "abbrev": "Nebr.",
             "adm0_a3": "USA",
             "adm0_label": 2,
             "adm0_sr": 1,
             "adm1_code": "USA-3532",
             "admin": "United States of America",
             "area_sqkm": 0,
             "check_me": 20,
             "code_hasc": "US.NE",
             "code_local": "US31",
             "datarank": 1,
             "diss_me": 3532,
             "featurecla": "Admin-1 scale rank",
             "fips": "US31",
             "fips_alt": null,
             "gadm_level": 1,
             "geonunit": "United States of America",
             "gn_a1_code": "US.NE",
             "gn_id": 5073708,
             "gn_level": 1,
             "gn_name": "Nebraska",
             "gn_region": null,
             "gns_adm1": null,
             "gns_id": -1,
             "gns_lang": null,
             "gns_level": -1,
             "gns_name": null,
             "gns_region": null,
             "gu_a3": "USA",
             "hasc_maybe": null,
             "id": 18,
             "iso_3166_2": "US-NE",
             "iso_a2": "US",
             "labelrank": 0,
             "latitude": 41.5002,
             "longitude": -99.6855,
             "mapcolor13": 1,
             "mapcolor9": 1,
             "max_label": 7.5,
             "min_label": 3.5,
             "min_zoom": 2,
             "name": "Nebraska",
             "name_alt": "NE|Nebr.",
             "name_ar": "نبراسكا",
             "name_bn": "নেব্রাস্কা",
             "name_de": "Nebraska",
             "name_el": "Νεμπράσκα",
             "name_en": "Nebraska",
             "name_es": "Nebraska",
             "name_fa": "نبراسکا",
             "name_fr": "Nebraska",
             "name_he": "נברסקה",
             "name_hi": "नेब्रास्का",
             "name_hu": "Nebraska",
             "name_id": "Nebraska",
             "name_it": "Nebraska",
             "name_ja": "ネブラスカ州",
             "name_ko": "네브래스카",
             "name_len": 8,
             "name_local": null,
             "name_nl": "Nebraska",
             "name_pl": "Nebraska",
             "name_pt": "Nebraska",
             "name_ru": "Небраска",
             "name_sv": "Nebraska",
             "name_tr": "Nebraska",
             "name_uk": "Небраска",
             "name_ur": "نیبراسکا",
             "name_vi": "Nebraska",
             "name_zh": "內布拉斯加州",
             "name_zht": "內布拉斯加州",
             "ne_id": 1159315363,
             "note": null,
             "postal": "NE",
             "provnum_ne": 0,
             "region": "Midwest",
             "region_cod": null,
             "region_sub": "West North Central",
             "sameascity": -99,
             "scalerank": 2,
             "sov_a3": "US1",
             "sub_code": null,
             "type": "State",
             "type_en": "State",
             "wikidataid": "Q1553",
             "wikipedia": "http://en.wikipedia.org/wiki/Nebraska",
             "woe_id": 2347586,
             "woe_label": "Nebraska, US, United States",
             "woe_name": "Nebraska"
            },
            "type": "Feature"
           },
           {
            "bbox": [
             -103.00321631550668,
             33.635983384733464,
             -94.43017371293331,
             36.99991242120525
            ],
            "geometry": {
             "coordinates": [
              [
               [
                -103.00321631550668,
                36.995158189434406
               ],
               [
                -102.04118201374501,
                36.99198008884845
               ],
               [
                -101.09979244668396,
                36.99303945571043
               ],
               [
                -100.10021521686225,
                36.994098822572425
               ],
               [
                -99.10006954628534,
                36.995158189434406
               ],
               [
                -97.29984351274949,
                36.99727692315837
               ],
               [
                -95.50016008175271,
                36.99885305434327
               ],
               [
                -94.62279761430128,
                36.99991242120525
               ],
               [
                -94.61750077999136,
                36.99991242120525
               ],
               [
                -94.62861121293412,
                36.54058645277894
               ],
               [
                -94.43017371293331,
                35.48331248630335
               ],
               [
                -94.45136105017299,
                34.510710354138
               ],
               [
                -94.47991227901426,
                33.635983384733464
               ],
               [
                -94.91014441606023,
                33.8317853866875
               ],
               [
                -95.19059241410824,
                33.93816132256019
               ],
               [
                -95.41812374548935,
                33.87041351982555
               ],
               [
                -95.76949764685799,
                33.88100718844538
               ],
               [
                -95.9774694486166,
                33.879431057260476
               ],
               [
                -96.14890601274487,
                33.797937323536246
               ],
               [
                -96.31613094764138,
                33.75613108981207
               ],
               [
                -96.4627111478373,
                33.805327053354006
               ],
               [
                -96.79661841509122,
                33.751351019825066
               ],
               [
                -96.94795284705799,
                33.91805919039871
               ],
               [
                -97.10406734901173,
                33.77359772392673
               ],
               [
                -97.37658301470293,
                33.8381415878593
               ],
               [
                -97.6570310127509,
                33.99371348727395
               ],
               [
                -97.95709021685369,
                33.89369375257304
               ],
               [
                -98.08832251665889,
                34.13448008883702
               ],
               [
                -98.55397884804097,
                34.11065725355047
               ],
               [
                -98.85189348020361,
                34.164633287079326
               ],
               [
                -99.18740271685863,
                34.23555919040001
               ],
               [
                -99.33607581256231,
                34.442962551403355
               ],
               [
                -99.59908301471181,
                34.37629995374684
               ],
               [
                -99.76152787962133,
                34.45779368747117
               ],
               [
                -100.00019548216133,
                34.56522899020594
               ],
               [
                -100.00019548216133,
                35.51984772393371
               ],
               [
                -100.00019548216133,
                36.49932282159388
               ],
               [
                -101.00083207884502,
                36.49932282159388
               ],
               [
                -102.00149451374489,
                36.49932282159398
               ],
               [
                -103.00161434610563,
                36.49932282159388
               ],
               [
                -103.00321631550668,
                36.995158189434406
               ]
              ]
             ],
             "type": "Polygon"
            },
            "id": "19",
            "properties": {
             "Count": 75,
             "FCLASS_AR": null,
             "FCLASS_BD": null,
             "FCLASS_BR": null,
             "FCLASS_CN": null,
             "FCLASS_DE": null,
             "FCLASS_EG": null,
             "FCLASS_ES": null,
             "FCLASS_FR": null,
             "FCLASS_GB": null,
             "FCLASS_GR": null,
             "FCLASS_ID": null,
             "FCLASS_IL": null,
             "FCLASS_IN": null,
             "FCLASS_ISO": null,
             "FCLASS_IT": null,
             "FCLASS_JP": null,
             "FCLASS_KO": null,
             "FCLASS_MA": null,
             "FCLASS_NL": null,
             "FCLASS_NP": null,
             "FCLASS_PK": null,
             "FCLASS_PL": null,
             "FCLASS_PS": null,
             "FCLASS_PT": null,
             "FCLASS_RU": null,
             "FCLASS_SA": null,
             "FCLASS_SE": null,
             "FCLASS_TLC": null,
             "FCLASS_TR": null,
             "FCLASS_TW": null,
             "FCLASS_UA": null,
             "FCLASS_US": null,
             "FCLASS_VN": null,
             "abbrev": "Okla.",
             "adm0_a3": "USA",
             "adm0_label": 2,
             "adm0_sr": 1,
             "adm1_code": "USA-3533",
             "admin": "United States of America",
             "area_sqkm": 0,
             "check_me": 20,
             "code_hasc": "US.OK",
             "code_local": "US40",
             "datarank": 1,
             "diss_me": 3533,
             "featurecla": "Admin-1 scale rank",
             "fips": "US40",
             "fips_alt": null,
             "gadm_level": 1,
             "geonunit": "United States of America",
             "gn_a1_code": "US.OK",
             "gn_id": 4544379,
             "gn_level": 1,
             "gn_name": "Oklahoma",
             "gn_region": null,
             "gns_adm1": null,
             "gns_id": -1,
             "gns_lang": null,
             "gns_level": -1,
             "gns_name": null,
             "gns_region": null,
             "gu_a3": "USA",
             "hasc_maybe": null,
             "id": 19,
             "iso_3166_2": "US-OK",
             "iso_a2": "US",
             "labelrank": 0,
             "latitude": 35.452,
             "longitude": -97.1309,
             "mapcolor13": 1,
             "mapcolor9": 1,
             "max_label": 7.5,
             "min_label": 3.5,
             "min_zoom": 2,
             "name": "Oklahoma",
             "name_alt": "OK|Okla.",
             "name_ar": "أوكلاهوما",
             "name_bn": "ওকলাহোমা",
             "name_de": "Oklahoma",
             "name_el": "Οκλαχόμα",
             "name_en": "Oklahoma",
             "name_es": "Oklahoma",
             "name_fa": "اکلاهما",
             "name_fr": "Oklahoma",
             "name_he": "אוקלהומה",
             "name_hi": "ओक्लाहोमा",
             "name_hu": "Oklahoma",
             "name_id": "Oklahoma",
             "name_it": "Oklahoma",
             "name_ja": "オクラホマ州",
             "name_ko": "오클라호마",
             "name_len": 8,
             "name_local": null,
             "name_nl": "Oklahoma",
             "name_pl": "Oklahoma",
             "name_pt": "Oklahoma",
             "name_ru": "Оклахома",
             "name_sv": "Oklahoma",
             "name_tr": "Oklahoma",
             "name_uk": "Оклахома",
             "name_ur": "اوکلاہوما",
             "name_vi": "Oklahoma",
             "name_zh": "俄克拉荷马州",
             "name_zht": "奧克拉荷馬州",
             "ne_id": 1159315365,
             "note": null,
             "postal": "OK",
             "provnum_ne": 0,
             "region": "South",
             "region_cod": null,
             "region_sub": "West South Central",
             "sameascity": -99,
             "scalerank": 2,
             "sov_a3": "US1",
             "sub_code": null,
             "type": "State",
             "type_en": "State",
             "wikidataid": "Q1649",
             "wikipedia": "http://en.wikipedia.org/wiki/Oklahoma",
             "woe_id": 2347595,
             "woe_label": "Oklahoma, US, United States",
             "woe_name": "Oklahoma"
            },
            "type": "Feature"
           },
           {
            "bbox": [
             -104.07795691609692,
             42.488957221031896,
             -96.43943091508982,
             46.017966620460186
            ],
            "geometry": {
             "coordinates": [
              [
               [
                -96.53945064979075,
                46.017966620460186
               ],
               [
                -96.55689144568922,
                45.87244578712617
               ],
               [
                -96.78072791216147,
                45.76079885515958
               ],
               [
                -96.83470394569034,
                45.62532908790642
               ],
               [
                -96.73576941606754,
                45.47081655535372
               ],
               [
                -96.56061214881424,
                45.39301768653837
               ],
               [
                -96.43943091508982,
                44.43576345476367
               ],
               [
                -96.4526600817565,
                43.50178945573647
               ],
               [
                -96.58601111528569,
                43.5012468531974
               ],
               [
                -96.58707048214768,
                43.257308254563625
               ],
               [
                -96.45953304725134,
                43.1244998235735
               ],
               [
                -96.4833558825379,
                43.01600515397672
               ],
               [
                -96.53521318234277,
                42.85567902279118
               ],
               [
                -96.61564754920508,
                42.691632188480625
               ],
               [
                -96.4537194486185,
                42.58050202083696
               ],
               [
                -96.45529557980339,
                42.488957221031896
               ],
               [
                -96.62303727902282,
                42.502728990237685
               ],
               [
                -96.70876848019503,
                42.55086558691757
               ],
               [
                -96.75426957882803,
                42.63396129004289
               ],
               [
                -97.02838721392027,
                42.717547919275006
               ],
               [
                -97.28715694862183,
                42.846144721033326
               ],
               [
                -97.64434444862326,
                42.83609365495256
               ],
               [
                -97.88192684608515,
                42.83978851986143
               ],
               [
                -97.96820064979643,
                42.79428742122843
               ],
               [
                -98.33595598020155,
                42.87366242122876
               ],
               [
                -98.59418311236405,
                43.00014048926312
               ],
               [
                -100.59974544961165,
                43.00014048926312
               ],
               [
                -102.09991227904473,
                43.00014048926312
               ],
               [
                -104.05255794962545,
                43.00014048926312
               ],
               [
                -104.07795691609692,
                45.04061025652388
               ],
               [
                -104.02661638061494,
                45.956600857113486
               ],
               [
                -102.11686214883646,
                45.96135508888433
               ],
               [
                -100.06685807981785,
                45.96556671811612
               ],
               [
                -98.44178931353531,
                45.96344798439215
               ],
               [
                -96.53945064979075,
                46.017966620460186
               ]
              ]
             ],
             "type": "Polygon"
            },
            "id": "20",
            "properties": {
             "Count": 70,
             "FCLASS_AR": null,
             "FCLASS_BD": null,
             "FCLASS_BR": null,
             "FCLASS_CN": null,
             "FCLASS_DE": null,
             "FCLASS_EG": null,
             "FCLASS_ES": null,
             "FCLASS_FR": null,
             "FCLASS_GB": null,
             "FCLASS_GR": null,
             "FCLASS_ID": null,
             "FCLASS_IL": null,
             "FCLASS_IN": null,
             "FCLASS_ISO": null,
             "FCLASS_IT": null,
             "FCLASS_JP": null,
             "FCLASS_KO": null,
             "FCLASS_MA": null,
             "FCLASS_NL": null,
             "FCLASS_NP": null,
             "FCLASS_PK": null,
             "FCLASS_PL": null,
             "FCLASS_PS": null,
             "FCLASS_PT": null,
             "FCLASS_RU": null,
             "FCLASS_SA": null,
             "FCLASS_SE": null,
             "FCLASS_TLC": null,
             "FCLASS_TR": null,
             "FCLASS_TW": null,
             "FCLASS_UA": null,
             "FCLASS_US": null,
             "FCLASS_VN": null,
             "abbrev": "S.D.",
             "adm0_a3": "USA",
             "adm0_label": 2,
             "adm0_sr": 1,
             "adm1_code": "USA-3534",
             "admin": "United States of America",
             "area_sqkm": 0,
             "check_me": 20,
             "code_hasc": "US.SD",
             "code_local": "US46",
             "datarank": 1,
             "diss_me": 3534,
             "featurecla": "Admin-1 scale rank",
             "fips": "US46",
             "fips_alt": null,
             "gadm_level": 1,
             "geonunit": "United States of America",
             "gn_a1_code": "US.SD",
             "gn_id": 5769223,
             "gn_level": 1,
             "gn_name": "South Dakota",
             "gn_region": null,
             "gns_adm1": null,
             "gns_id": -1,
             "gns_lang": null,
             "gns_level": -1,
             "gns_name": null,
             "gns_region": null,
             "gu_a3": "USA",
             "hasc_maybe": null,
             "id": 20,
             "iso_3166_2": "US-SD",
             "iso_a2": "US",
             "labelrank": 0,
             "latitude": 44.4711,
             "longitude": -100.255,
             "mapcolor13": 1,
             "mapcolor9": 1,
             "max_label": 7.5,
             "min_label": 3.5,
             "min_zoom": 2,
             "name": "South Dakota",
             "name_alt": "SD|S.D.",
             "name_ar": "داكوتا الجنوبية",
             "name_bn": "দক্ষিণ ডাকোটা",
             "name_de": "South Dakota",
             "name_el": "Νότια Ντακότα",
             "name_en": "South Dakota",
             "name_es": "Dakota del Sur",
             "name_fa": "داکوتای جنوبی",
             "name_fr": "Dakota du Sud",
             "name_he": "דקוטה הדרומית",
             "name_hi": "दक्षिण डकोटा",
             "name_hu": "Dél-Dakota",
             "name_id": "Dakota Selatan",
             "name_it": "Dakota del Sud",
             "name_ja": "サウスダコタ州",
             "name_ko": "사우스다코타",
             "name_len": 12,
             "name_local": null,
             "name_nl": "South Dakota",
             "name_pl": "Dakota Południowa",
             "name_pt": "Dakota do Sul",
             "name_ru": "Южная Дакота",
             "name_sv": "South Dakota",
             "name_tr": "Güney Dakota",
             "name_uk": "Південна Дакота",
             "name_ur": "جنوبی ڈکوٹا",
             "name_vi": "Nam Dakota",
             "name_zh": "南达科他州",
             "name_zht": "南達科他州",
             "ne_id": 1159315367,
             "note": null,
             "postal": "SD",
             "provnum_ne": 0,
             "region": "Midwest",
             "region_cod": null,
             "region_sub": "West North Central",
             "sameascity": -99,
             "scalerank": 2,
             "sov_a3": "US1",
             "sub_code": null,
             "type": "State",
             "type_en": "State",
             "wikidataid": "Q1211",
             "wikipedia": "http://en.wikipedia.org/wiki/South_Dakota",
             "woe_id": 2347600,
             "woe_label": "South Dakota, US, United States",
             "woe_name": "South Dakota"
            },
            "type": "Feature"
           },
           {
            "bbox": [
             -94.05975704626516,
             29.11743000000007,
             -89.21767,
             33.043874823533145
            ],
            "geometry": {
             "coordinates": [
              [
               [
                -94.05975704626516,
                33.01211965588982
               ],
               [
                -93.09402787959465,
                33.01051768648881
               ],
               [
                -92.00130388056687,
                33.043874823533145
               ],
               [
                -91.15623918329783,
                33.01000092216589
               ],
               [
                -91.08479651565432,
                32.95284678805103
               ],
               [
                -91.17579871292025,
                32.80838532157918
               ],
               [
                -91.03082048212548,
                32.60253225354444
               ],
               [
                -91.0720841133105,
                32.47871552177321
               ],
               [
                -90.94297054722921,
                32.30673635510567
               ],
               [
                -91.08161841506836,
                32.20459788668086
               ],
               [
                -91.12817888056327,
                32.01569468843792
               ],
               [
                -91.32131954625419,
                31.859580186484266
               ],
               [
                -91.41128821487433,
                31.6500322535407
               ],
               [
                -91.50229041214038,
                31.40872915295381
               ],
               [
                -91.62453101272678,
                31.29708222098708
               ],
               [
                -91.58378414586463,
                31.04733002372052
               ],
               [
                -90.70166744664232,
                31.015574856077194
               ],
               [
                -89.75921851271931,
                31.01345612235326
               ],
               [
                -89.78779557977674,
                30.847290554318647
               ],
               [
                -89.8539414131103,
                30.683243720008136
               ],
               [
                -89.79045691603972,
                30.556791490189937
               ],
               [
                -89.65868201369545,
                30.440881252559336
               ],
               [
                -89.62323198114325,
                30.27525828706382
               ],
               [
                -89.60470598016661,
                30.17629791922485
               ],
               [
                -89.59392913902984,
                30.1603780541948
               ],
               [
                -89.59383117841975,
                30.159994004836847
               ],
               [
                -89.59370212735638,
                30.16004270590898
               ],
               [
                -89.41373499999992,
                29.894190000000037
               ],
               [
                -89.43,
                29.488640000000032
               ],
               [
                -89.21767,
                29.29108000000008
               ],
               [
                -89.4083872138898,
                29.159770819611367
               ],
               [
                -89.77927999999991,
                29.307140000000004
               ],
               [
                -90.15462999999994,
                29.11743000000007
               ],
               [
                -90.880225,
                29.14853499999998
               ],
               [
                -91.62678499999993,
                29.677000000000135
               ],
               [
                -92.49905999999999,
                29.55230000000006
               ],
               [
                -93.22636999999997,
                29.78375000000011
               ],
               [
                -93.84842000000003,
                29.71363000000008
               ],
               [
                -93.91847368037912,
                29.821771755486566
               ],
               [
                -93.81687781449335,
                29.96835195568235
               ],
               [
                -93.66711951371155,
                30.10064362234965
               ],
               [
                -93.66448401566464,
                30.300140489212254
               ],
               [
                -93.73750281449298,
                30.3668030868688
               ],
               [
                -93.65019548213593,
                30.60547068940889
               ],
               [
                -93.5861683825263,
                30.713939520789552
               ],
               [
                -93.48984351273424,
                31.079601955686883
               ],
               [
                -93.57823605016944,
                31.216131089801934
               ],
               [
                -93.69412044958403,
                31.443662421183035
               ],
               [
                -93.7793090482171,
                31.67543122001223
               ],
               [
                -93.83486121293095,
                31.829943752564816
               ],
               [
                -93.9989080472414,
                31.942650051393343
               ],
               [
                -94.05975704626516,
                33.01211965588982
               ]
              ]
             ],
             "type": "Polygon"
            },
            "id": "21",
            "properties": {
             "Count": 84,
             "FCLASS_AR": null,
             "FCLASS_BD": null,
             "FCLASS_BR": null,
             "FCLASS_CN": null,
             "FCLASS_DE": null,
             "FCLASS_EG": null,
             "FCLASS_ES": null,
             "FCLASS_FR": null,
             "FCLASS_GB": null,
             "FCLASS_GR": null,
             "FCLASS_ID": null,
             "FCLASS_IL": null,
             "FCLASS_IN": null,
             "FCLASS_ISO": null,
             "FCLASS_IT": null,
             "FCLASS_JP": null,
             "FCLASS_KO": null,
             "FCLASS_MA": null,
             "FCLASS_NL": null,
             "FCLASS_NP": null,
             "FCLASS_PK": null,
             "FCLASS_PL": null,
             "FCLASS_PS": null,
             "FCLASS_PT": null,
             "FCLASS_RU": null,
             "FCLASS_SA": null,
             "FCLASS_SE": null,
             "FCLASS_TLC": null,
             "FCLASS_TR": null,
             "FCLASS_TW": null,
             "FCLASS_UA": null,
             "FCLASS_US": null,
             "FCLASS_VN": null,
             "abbrev": "La.",
             "adm0_a3": "USA",
             "adm0_label": 2,
             "adm0_sr": 5,
             "adm1_code": "USA-3535",
             "admin": "United States of America",
             "area_sqkm": 0,
             "check_me": 20,
             "code_hasc": "US.LA",
             "code_local": "US22",
             "datarank": 1,
             "diss_me": 3535,
             "featurecla": "Admin-1 scale rank",
             "fips": "US22",
             "fips_alt": null,
             "gadm_level": 1,
             "geonunit": "United States of America",
             "gn_a1_code": "US.LA",
             "gn_id": 4331987,
             "gn_level": 1,
             "gn_name": "Louisiana",
             "gn_region": null,
             "gns_adm1": null,
             "gns_id": -1,
             "gns_lang": null,
             "gns_level": -1,
             "gns_name": null,
             "gns_region": null,
             "gu_a3": "USA",
             "hasc_maybe": null,
             "id": 21,
             "iso_3166_2": "US-LA",
             "iso_a2": "US",
             "labelrank": 0,
             "latitude": 30.5274,
             "longitude": -91.9991,
             "mapcolor13": 1,
             "mapcolor9": 1,
             "max_label": 7.5,
             "min_label": 3.5,
             "min_zoom": 2,
             "name": "Louisiana",
             "name_alt": "LA",
             "name_ar": "لويزيانا",
             "name_bn": "লুইজিয়ানা",
             "name_de": "Louisiana",
             "name_el": "Λουιζιάνα",
             "name_en": "Louisiana",
             "name_es": "Luisiana",
             "name_fa": "لوئیزیانا",
             "name_fr": "Louisiane",
             "name_he": "לואיזיאנה",
             "name_hi": "लुईज़ियाना",
             "name_hu": "Louisiana",
             "name_id": "Louisiana",
             "name_it": "Louisiana",
             "name_ja": "ルイジアナ州",
             "name_ko": "루이지애나",
             "name_len": 9,
             "name_local": null,
             "name_nl": "Louisiana",
             "name_pl": "Luizjana",
             "name_pt": "Luisiana",
             "name_ru": "Луизиана",
             "name_sv": "Louisiana",
             "name_tr": "Louisiana",
             "name_uk": "Луїзіана",
             "name_ur": "لوزیانا",
             "name_vi": "Louisiana",
             "name_zh": "路易斯安那州",
             "name_zht": "路易斯安那州",
             "ne_id": 1159315221,
             "note": null,
             "postal": "LA",
             "provnum_ne": 0,
             "region": "South",
             "region_cod": null,
             "region_sub": "West South Central",
             "sameascity": -99,
             "scalerank": 2,
             "sov_a3": "US1",
             "sub_code": null,
             "type": "State",
             "type_en": "State",
             "wikidataid": "Q1588",
             "wikipedia": "http://en.wikipedia.org/wiki/Louisiana",
             "woe_id": 2347577,
             "woe_label": "Louisiana, US, United States",
             "woe_name": "Louisiana"
            },
            "type": "Feature"
           },
           {
            "bbox": [
             -106.63012671591179,
             25.83979258880396,
             -93.48984351273424,
             36.49932282159398
            ],
            "geometry": {
             "coordinates": [
              [
               [
                -106.50734351278624,
                31.754289455689502
               ],
               [
                -106.61953304729195,
                31.91409882255209
               ],
               [
                -106.63012671591179,
                31.99928742118533
               ],
               [
                -105.73000078003582,
                31.99928742118533
               ],
               [
                -103.92977474649996,
                31.99928742118533
               ],
               [
                -103.00161434610561,
                31.99928742118533
               ],
               [
                -103.00161434610561,
                33.879947821583414
               ],
               [
                -103.00161434610563,
                36.49932282159388
               ],
               [
                -102.00149451374489,
                36.49932282159398
               ],
               [
                -101.00083207884502,
                36.49932282159388
               ],
               [
                -100.00019548216133,
                36.49932282159388
               ],
               [
                -100.00019548216133,
                35.51984772393371
               ],
               [
                -100.00019548216133,
                34.56522899020594
               ],
               [
                -99.76152787962133,
                34.45779368747117
               ],
               [
                -99.59908301471181,
                34.37629995374684
               ],
               [
                -99.33607581256231,
                34.442962551403355
               ],
               [
                -99.18740271685863,
                34.23555919040001
               ],
               [
                -98.85189348020361,
                34.164633287079326
               ],
               [
                -98.55397884804097,
                34.11065725355047
               ],
               [
                -98.08832251665889,
                34.13448008883702
               ],
               [
                -97.95709021685369,
                33.89369375257304
               ],
               [
                -97.6570310127509,
                33.99371348727395
               ],
               [
                -97.37658301470293,
                33.8381415878593
               ],
               [
                -97.10406734901173,
                33.77359772392673
               ],
               [
                -96.94795284705799,
                33.91805919039871
               ],
               [
                -96.79661841509122,
                33.751351019825066
               ],
               [
                -96.4627111478373,
                33.805327053354006
               ],
               [
                -96.31613094764138,
                33.75613108981207
               ],
               [
                -96.14890601274487,
                33.797937323536246
               ],
               [
                -95.9774694486166,
                33.879431057260476
               ],
               [
                -95.76949764685799,
                33.88100718844538
               ],
               [
                -95.41812374548935,
                33.87041351982555
               ],
               [
                -95.19059241410824,
                33.93816132256019
               ],
               [
                -94.91014441606023,
                33.8317853866875
               ],
               [
                -94.47991227901426,
                33.635983384733464
               ],
               [
                -94.42753821488645,
                33.57038015393891
               ],
               [
                -94.23333818233357,
                33.583609320605646
               ],
               [
                -94.00208614782744,
                33.57991445569678
               ],
               [
                -94.05975704626516,
                33.01211965588982
               ],
               [
                -93.9989080472414,
                31.942650051393343
               ],
               [
                -93.83486121293095,
                31.829943752564816
               ],
               [
                -93.7793090482171,
                31.67543122001223
               ],
               [
                -93.69412044958403,
                31.443662421183035
               ],
               [
                -93.57823605016944,
                31.216131089801934
               ],
               [
                -93.48984351273424,
                31.079601955686883
               ],
               [
                -93.5861683825263,
                30.713939520789552
               ],
               [
                -93.65019548213593,
                30.60547068940889
               ],
               [
                -93.73750281449298,
                30.3668030868688
               ],
               [
                -93.66448401566464,
                30.300140489212254
               ],
               [
                -93.66711951371155,
                30.10064362234965
               ],
               [
                -93.81687781449335,
                29.96835195568235
               ],
               [
                -93.91847368037912,
                29.821771755486566
               ],
               [
                -93.84842000000003,
                29.71363000000008
               ],
               [
                -94.69000281449689,
                29.4799321558757
               ],
               [
                -95.60017981645365,
                28.738556220000362
               ],
               [
                -96.5939434476424,
                28.307290554308565
               ],
               [
                -97.14003414588689,
                27.829981187444673
               ],
               [
                -97.37022681353096,
                27.380189520776185
               ],
               [
                -97.37976111528883,
                26.69015412038283
               ],
               [
                -97.33002254920791,
                26.21020925547191
               ],
               [
                -97.14003414588689,
                25.869945787046277
               ],
               [
                -97.53003618039355,
                25.83979258880396
               ],
               [
                -98.24017371294855,
                26.059934190367358
               ],
               [
                -99.0201777819621,
                26.370018622334726
               ],
               [
                -99.30010901568716,
                26.839912421164684
               ],
               [
                -99.52022477903438,
                27.53999888763883
               ],
               [
                -100.11026628294297,
                28.109912421169724
               ],
               [
                -100.45580074746255,
                28.696233221953378
               ],
               [
                -100.95744971393594,
                29.38097178803673
               ],
               [
                -101.662290412181,
                29.779422919223236
               ],
               [
                -102.47986324747075,
                29.759863389600753
               ],
               [
                -103.11010901570234,
                28.96980825450646
               ],
               [
                -103.9398258125807,
                29.269841620393095
               ],
               [
                -104.45682267944477,
                29.571993720003775
               ],
               [
                -104.7055413480656,
                30.121805121373143
               ],
               [
                -105.03732988159555,
                30.64409882254705
               ],
               [
                -105.6315830147359,
                31.083839423134748
               ],
               [
                -106.1427662829671,
                31.399737453735042
               ],
               [
                -106.50734351278624,
                31.754289455689502
               ]
              ]
             ],
             "type": "Polygon"
            },
            "id": "22",
            "properties": {
             "Count": 77,
             "FCLASS_AR": null,
             "FCLASS_BD": null,
             "FCLASS_BR": null,
             "FCLASS_CN": null,
             "FCLASS_DE": null,
             "FCLASS_EG": null,
             "FCLASS_ES": null,
             "FCLASS_FR": null,
             "FCLASS_GB": null,
             "FCLASS_GR": null,
             "FCLASS_ID": null,
             "FCLASS_IL": null,
             "FCLASS_IN": null,
             "FCLASS_ISO": null,
             "FCLASS_IT": null,
             "FCLASS_JP": null,
             "FCLASS_KO": null,
             "FCLASS_MA": null,
             "FCLASS_NL": null,
             "FCLASS_NP": null,
             "FCLASS_PK": null,
             "FCLASS_PL": null,
             "FCLASS_PS": null,
             "FCLASS_PT": null,
             "FCLASS_RU": null,
             "FCLASS_SA": null,
             "FCLASS_SE": null,
             "FCLASS_TLC": null,
             "FCLASS_TR": null,
             "FCLASS_TW": null,
             "FCLASS_UA": null,
             "FCLASS_US": null,
             "FCLASS_VN": null,
             "abbrev": "Tex.",
             "adm0_a3": "USA",
             "adm0_label": 2,
             "adm0_sr": 4,
             "adm1_code": "USA-3536",
             "admin": "United States of America",
             "area_sqkm": 0,
             "check_me": 20,
             "code_hasc": "US.TX",
             "code_local": "US48",
             "datarank": 1,
             "diss_me": 3536,
             "featurecla": "Admin-1 scale rank",
             "fips": "US48",
             "fips_alt": null,
             "gadm_level": 1,
             "geonunit": "United States of America",
             "gn_a1_code": "US.TX",
             "gn_id": 4736286,
             "gn_level": 1,
             "gn_name": "Texas",
             "gn_region": null,
             "gns_adm1": null,
             "gns_id": -1,
             "gns_lang": null,
             "gns_level": -1,
             "gns_name": null,
             "gns_region": null,
             "gu_a3": "USA",
             "hasc_maybe": null,
             "id": 22,
             "iso_3166_2": "US-TX",
             "iso_a2": "US",
             "labelrank": 0,
             "latitude": 31.131,
             "longitude": -98.7607,
             "mapcolor13": 1,
             "mapcolor9": 1,
             "max_label": 7.5,
             "min_label": 3.5,
             "min_zoom": 2,
             "name": "Texas",
             "name_alt": "TX|Tex.",
             "name_ar": "تكساس",
             "name_bn": "টেক্সাস",
             "name_de": "Texas",
             "name_el": "Τέξας",
             "name_en": "Texas",
             "name_es": "Texas",
             "name_fa": "تگزاس",
             "name_fr": "Texas",
             "name_he": "טקסס",
             "name_hi": "टॅक्सस",
             "name_hu": "Texas",
             "name_id": "Texas",
             "name_it": "Texas",
             "name_ja": "テキサス州",
             "name_ko": "텍사스",
             "name_len": 5,
             "name_local": null,
             "name_nl": "Texas",
             "name_pl": "Teksas",
             "name_pt": "Texas",
             "name_ru": "Техас",
             "name_sv": "Texas",
             "name_tr": "Teksas",
             "name_uk": "Техас",
             "name_ur": "ٹیکساس",
             "name_vi": "Texas",
             "name_zh": "得克萨斯州",
             "name_zht": "德克薩斯州",
             "ne_id": 1159315211,
             "note": null,
             "postal": "TX",
             "provnum_ne": 0,
             "region": "South",
             "region_cod": null,
             "region_sub": "West South Central",
             "sameascity": -99,
             "scalerank": 2,
             "sov_a3": "US1",
             "sub_code": null,
             "type": "State",
             "type_en": "State",
             "wikidataid": "Q1439",
             "wikipedia": "http://en.wikipedia.org/wiki/Texas",
             "woe_id": 2347602,
             "woe_label": "Texas, US, United States",
             "woe_name": "Texas"
            },
            "type": "Feature"
           },
           {
            "bbox": [
             -73.69267981636597,
             40.95323936094951,
             -71.79295081245215,
             42.054513454754115
            ],
            "geometry": {
             "coordinates": [
              [
               [
                -73.49793718127407,
                42.054513454754115
               ],
               [
                -72.73222164578922,
                42.03598745377748
               ],
               [
                -71.8009089830251,
                42.013249823569055
               ],
               [
                -71.79295081245215,
                41.466616522785614
               ],
               [
                -71.853825649692,
                41.32003632258983
               ],
               [
                -72.29514238146447,
                41.26975515396981
               ],
               [
                -72.87616634793818,
                41.22055919042799
               ],
               [
                -73.64788653178721,
                40.95323936094951
               ],
               [
                -73.64826921714257,
                40.954623463363454
               ],
               [
                -73.64788653178721,
                40.95476927691993
               ],
               [
                -73.65668718127472,
                40.9850696884738
               ],
               [
                -73.69267981636597,
                41.107310289060365
               ],
               [
                -73.47517371284943,
                41.2046686874981
               ],
               [
                -73.55348934598777,
                41.28985728613134
               ],
               [
                -73.49793718127407,
                42.054513454754115
               ]
              ]
             ],
             "type": "Polygon"
            },
            "id": "23",
            "properties": {
             "Count": 78,
             "FCLASS_AR": null,
             "FCLASS_BD": null,
             "FCLASS_BR": null,
             "FCLASS_CN": null,
             "FCLASS_DE": null,
             "FCLASS_EG": null,
             "FCLASS_ES": null,
             "FCLASS_FR": null,
             "FCLASS_GB": null,
             "FCLASS_GR": null,
             "FCLASS_ID": null,
             "FCLASS_IL": null,
             "FCLASS_IN": null,
             "FCLASS_ISO": null,
             "FCLASS_IT": null,
             "FCLASS_JP": null,
             "FCLASS_KO": null,
             "FCLASS_MA": null,
             "FCLASS_NL": null,
             "FCLASS_NP": null,
             "FCLASS_PK": null,
             "FCLASS_PL": null,
             "FCLASS_PS": null,
             "FCLASS_PT": null,
             "FCLASS_RU": null,
             "FCLASS_SA": null,
             "FCLASS_SE": null,
             "FCLASS_TLC": null,
             "FCLASS_TR": null,
             "FCLASS_TW": null,
             "FCLASS_UA": null,
             "FCLASS_US": null,
             "FCLASS_VN": null,
             "abbrev": "Conn.",
             "adm0_a3": "USA",
             "adm0_label": 2,
             "adm0_sr": 1,
             "adm1_code": "USA-3537",
             "admin": "United States of America",
             "area_sqkm": 0,
             "check_me": 20,
             "code_hasc": "US.CT",
             "code_local": "US09",
             "datarank": 1,
             "diss_me": 3537,
             "featurecla": "Admin-1 scale rank",
             "fips": "US09",
             "fips_alt": null,
             "gadm_level": 1,
             "geonunit": "United States of America",
             "gn_a1_code": "US.CT",
             "gn_id": 4831725,
             "gn_level": 1,
             "gn_name": "Connecticut",
             "gn_region": null,
             "gns_adm1": null,
             "gns_id": -1,
             "gns_lang": null,
             "gns_level": -1,
             "gns_name": null,
             "gns_region": null,
             "gu_a3": "USA",
             "hasc_maybe": null,
             "id": 23,
             "iso_3166_2": "US-CT",
             "iso_a2": "US",
             "labelrank": 0,
             "latitude": 41.6486,
             "longitude": -72.7594,
             "mapcolor13": 1,
             "mapcolor9": 1,
             "max_label": 7.5,
             "min_label": 3.5,
             "min_zoom": 2,
             "name": "Connecticut",
             "name_alt": "CT|Conn.",
             "name_ar": "كونيتيكت",
             "name_bn": "কানেটিকাট",
             "name_de": "Connecticut",
             "name_el": "Κονέκτικατ",
             "name_en": "Connecticut",
             "name_es": "Connecticut",
             "name_fa": "کانتیکت",
             "name_fr": "Connecticut",
             "name_he": "קונטיקט",
             "name_hi": "कनेक्टिकट",
             "name_hu": "Connecticut",
             "name_id": "Connecticut",
             "name_it": "Connecticut",
             "name_ja": "コネチカット州",
             "name_ko": "코네티컷",
             "name_len": 11,
             "name_local": null,
             "name_nl": "Connecticut",
             "name_pl": "Connecticut",
             "name_pt": "Connecticut",
             "name_ru": "Коннектикут",
             "name_sv": "Connecticut",
             "name_tr": "Connecticut",
             "name_uk": "Коннектикут",
             "name_ur": "کنیکٹیکٹ",
             "name_vi": "Connecticut",
             "name_zh": "康涅狄格州",
             "name_zht": "康乃狄克州",
             "ne_id": 1159315301,
             "note": null,
             "postal": "CT",
             "provnum_ne": 0,
             "region": "Northeast",
             "region_cod": null,
             "region_sub": "New England",
             "sameascity": -99,
             "scalerank": 2,
             "sov_a3": "US1",
             "sub_code": null,
             "type": "State",
             "type_en": "State",
             "wikidataid": "Q779",
             "wikipedia": "http://en.wikipedia.org/wiki/Connecticut",
             "woe_id": 2347565,
             "woe_label": "Connecticut, US, United States",
             "woe_name": "Connecticut"
            },
            "type": "Feature"
           },
           {
            "bbox": [
             -73.49793718127407,
             41.47506561946534,
             -69.88479855007472,
             42.88425608984859
            ],
            "geometry": {
             "coordinates": [
              [
               [
                -71.8009089830251,
                42.013249823569055
               ],
               [
                -72.73222164578922,
                42.03598745377748
               ],
               [
                -73.49793718127407,
                42.054513454754115
               ],
               [
                -73.28203304715862,
                42.74348948828549
               ],
               [
                -72.45707048205115,
                42.72708222103286
               ],
               [
                -71.24897884793177,
                42.71809052181413
               ],
               [
                -71.14578101264487,
                42.816508287114004
               ],
               [
                -70.93359758165442,
                42.88425608984859
               ],
               [
                -70.81505184597688,
                42.865187486332886
               ],
               [
                -70.82510291205764,
                42.33496145280212
               ],
               [
                -70.49491634792872,
                41.80473541927135
               ],
               [
                -70.08005794948956,
                41.77987905533895
               ],
               [
                -70.18483191596133,
                42.144998887697184
               ],
               [
                -69.88479855007472,
                41.922764390625986
               ],
               [
                -69.96520707872087,
                41.63699372005193
               ],
               [
                -70.63989457872357,
                41.47506561946534
               ],
               [
                -71.1203820461734,
                41.49465098730397
               ],
               [
                -71.14789974636884,
                41.64758738867177
               ],
               [
                -71.30507361518457,
                41.76241242122431
               ],
               [
                -71.37915178087496,
                42.02436025651181
               ],
               [
                -71.8009089830251,
                42.013249823569055
               ]
              ]
             ],
             "type": "Polygon"
            },
            "id": "24",
            "properties": {
             "Count": 72,
             "FCLASS_AR": null,
             "FCLASS_BD": null,
             "FCLASS_BR": null,
             "FCLASS_CN": null,
             "FCLASS_DE": null,
             "FCLASS_EG": null,
             "FCLASS_ES": null,
             "FCLASS_FR": null,
             "FCLASS_GB": null,
             "FCLASS_GR": null,
             "FCLASS_ID": null,
             "FCLASS_IL": null,
             "FCLASS_IN": null,
             "FCLASS_ISO": null,
             "FCLASS_IT": null,
             "FCLASS_JP": null,
             "FCLASS_KO": null,
             "FCLASS_MA": null,
             "FCLASS_NL": null,
             "FCLASS_NP": null,
             "FCLASS_PK": null,
             "FCLASS_PL": null,
             "FCLASS_PS": null,
             "FCLASS_PT": null,
             "FCLASS_RU": null,
             "FCLASS_SA": null,
             "FCLASS_SE": null,
             "FCLASS_TLC": null,
             "FCLASS_TR": null,
             "FCLASS_TW": null,
             "FCLASS_UA": null,
             "FCLASS_US": null,
             "FCLASS_VN": null,
             "abbrev": "Mass.",
             "adm0_a3": "USA",
             "adm0_label": 2,
             "adm0_sr": 6,
             "adm1_code": "USA-3513",
             "admin": "United States of America",
             "area_sqkm": 0,
             "check_me": 20,
             "code_hasc": "US.MA",
             "code_local": "US25",
             "datarank": 1,
             "diss_me": 3513,
             "featurecla": "Admin-1 scale rank",
             "fips": "US25",
             "fips_alt": null,
             "gadm_level": 1,
             "geonunit": "United States of America",
             "gn_a1_code": "US.MA",
             "gn_id": 6254926,
             "gn_level": 1,
             "gn_name": "Massachusetts",
             "gn_region": null,
             "gns_adm1": null,
             "gns_id": -1,
             "gns_lang": null,
             "gns_level": -1,
             "gns_name": null,
             "gns_region": null,
             "gu_a3": "USA",
             "hasc_maybe": null,
             "id": 24,
             "iso_3166_2": "US-MA",
             "iso_a2": "US",
             "labelrank": 0,
             "latitude": 42.3739,
             "longitude": -71.9993,
             "mapcolor13": 1,
             "mapcolor9": 1,
             "max_label": 7.5,
             "min_label": 3.5,
             "min_zoom": 2,
             "name": "Massachusetts",
             "name_alt": "Commonwealth of Massachusetts|MA|Mass.",
             "name_ar": "ماساتشوستس",
             "name_bn": "ম্যাসাচুসেটস",
             "name_de": "Massachusetts",
             "name_el": "Μασαχουσέτη",
             "name_en": "Massachusetts",
             "name_es": "Massachusetts",
             "name_fa": "ماساچوست",
             "name_fr": "Massachusetts",
             "name_he": "מסצ'וסטס",
             "name_hi": "मैसाचूसिट्स",
             "name_hu": "Massachusetts",
             "name_id": "Massachusetts",
             "name_it": "Massachusetts",
             "name_ja": "マサチューセッツ州",
             "name_ko": "매사추세츠",
             "name_len": 13,
             "name_local": null,
             "name_nl": "Massachusetts",
             "name_pl": "Massachusetts",
             "name_pt": "Massachusetts",
             "name_ru": "Массачусетс",
             "name_sv": "Massachusetts",
             "name_tr": "Massachusetts",
             "name_uk": "Массачусетс",
             "name_ur": "میساچوسٹس",
             "name_vi": "Massachusetts",
             "name_zh": "马萨诸塞州",
             "name_zht": "麻薩諸塞州",
             "ne_id": 1159312157,
             "note": null,
             "postal": "MA",
             "provnum_ne": 0,
             "region": "Northeast",
             "region_cod": null,
             "region_sub": "New England",
             "sameascity": -99,
             "scalerank": 2,
             "sov_a3": "US1",
             "sub_code": null,
             "type": "State",
             "type_en": "State",
             "wikidataid": "Q771",
             "wikipedia": "http://en.wikipedia.org/wiki/Massachusetts",
             "woe_id": 2347580,
             "woe_label": "Massachusetts, US, United States",
             "woe_name": "Massachusetts"
            },
            "type": "Feature"
           },
           {
            "bbox": [
             -72.53750484891344,
             42.71809052181413,
             -70.64573401557249,
             45.30523999999997
            ],
            "geometry": {
             "coordinates": [
              [
               [
                -70.81505184597688,
                42.865187486332886
               ],
               [
                -70.93359758165442,
                42.88425608984859
               ],
               [
                -71.14578101264487,
                42.816508287114004
               ],
               [
                -71.24897884793177,
                42.71809052181413
               ],
               [
                -72.45707048205115,
                42.72708222103286
               ],
               [
                -72.53750484891344,
                42.83079682064263
               ],
               [
                -72.45864661323606,
                42.96045298926299
               ],
               [
                -72.43430701362658,
                43.222917588873365
               ],
               [
                -72.4036112128452,
                43.285368557298106
               ],
               [
                -72.36976314969402,
                43.521891587898004
               ],
               [
                -72.26020911323525,
                43.72138845476078
               ],
               [
                -72.17819861518808,
                43.80869578711793
               ],
               [
                -72.05913611518758,
                44.04576142025695
               ],
               [
                -72.036372646763,
                44.20663015398147
               ],
               [
                -72.00304134793475,
                44.304014390635515
               ],
               [
                -71.80990068224389,
                44.3521509873155
               ],
               [
                -71.58552161323257,
                44.46803538672992
               ],
               [
                -71.54637671577146,
                44.59239472104031
               ],
               [
                -71.62045488146187,
                44.73579682065026
               ],
               [
                -71.50351111518535,
                45.00779572201852
               ],
               [
                -71.50508724637027,
                45.00831248634144
               ],
               [
                -71.40509334988542,
                45.254912421238316
               ],
               [
                -71.08481999999998,
                45.30523999999997
               ],
               [
                -70.94416541205806,
                43.46633942318431
               ],
               [
                -70.98176001655037,
                43.36789581966826
               ],
               [
                -70.79761105007827,
                43.21973948828747
               ],
               [
                -70.75102474636725,
                43.08003225358635
               ],
               [
                -70.64573401557249,
                43.090083319667144
               ],
               [
                -70.81505184597688,
                42.865187486332886
               ]
              ]
             ],
             "type": "Polygon"
            },
            "id": "25",
            "properties": {
             "Count": 71,
             "FCLASS_AR": null,
             "FCLASS_BD": null,
             "FCLASS_BR": null,
             "FCLASS_CN": null,
             "FCLASS_DE": null,
             "FCLASS_EG": null,
             "FCLASS_ES": null,
             "FCLASS_FR": null,
             "FCLASS_GB": null,
             "FCLASS_GR": null,
             "FCLASS_ID": null,
             "FCLASS_IL": null,
             "FCLASS_IN": null,
             "FCLASS_ISO": null,
             "FCLASS_IT": null,
             "FCLASS_JP": null,
             "FCLASS_KO": null,
             "FCLASS_MA": null,
             "FCLASS_NL": null,
             "FCLASS_NP": null,
             "FCLASS_PK": null,
             "FCLASS_PL": null,
             "FCLASS_PS": null,
             "FCLASS_PT": null,
             "FCLASS_RU": null,
             "FCLASS_SA": null,
             "FCLASS_SE": null,
             "FCLASS_TLC": null,
             "FCLASS_TR": null,
             "FCLASS_TW": null,
             "FCLASS_UA": null,
             "FCLASS_US": null,
             "FCLASS_VN": null,
             "abbrev": "N.H.",
             "adm0_a3": "USA",
             "adm0_label": 2,
             "adm0_sr": 1,
             "adm1_code": "USA-3538",
             "admin": "United States of America",
             "area_sqkm": 0,
             "check_me": 20,
             "code_hasc": "US.NH",
             "code_local": "US33",
             "datarank": 1,
             "diss_me": 3538,
             "featurecla": "Admin-1 scale rank",
             "fips": "US33",
             "fips_alt": null,
             "gadm_level": 1,
             "geonunit": "United States of America",
             "gn_a1_code": "US.NH",
             "gn_id": 5090174,
             "gn_level": 1,
             "gn_name": "New Hampshire",
             "gn_region": null,
             "gns_adm1": null,
             "gns_id": -1,
             "gns_lang": null,
             "gns_level": -1,
             "gns_name": null,
             "gns_region": null,
             "gu_a3": "USA",
             "hasc_maybe": null,
             "id": 25,
             "iso_3166_2": "US-NH",
             "iso_a2": "US",
             "labelrank": 0,
             "latitude": 43.5993,
             "longitude": -71.6301,
             "mapcolor13": 1,
             "mapcolor9": 1,
             "max_label": 7.5,
             "min_label": 3.5,
             "min_zoom": 2,
             "name": "New Hampshire",
             "name_alt": "NH|N.H.",
             "name_ar": "نيوهامبشير",
             "name_bn": "নিউ হ্যাম্প্শায়ার",
             "name_de": "New Hampshire",
             "name_el": "Νιου Χάμσαϊρ",
             "name_en": "New Hampshire",
             "name_es": "Nuevo Hampshire",
             "name_fa": "نیوهمپشایر",
             "name_fr": "New Hampshire",
             "name_he": "ניו המפשייר",
             "name_hi": "नया हेम्पशायर",
             "name_hu": "New Hampshire",
             "name_id": "New Hampshire",
             "name_it": "New Hampshire",
             "name_ja": "ニューハンプシャー州",
             "name_ko": "뉴햄프셔",
             "name_len": 13,
             "name_local": null,
             "name_nl": "New Hampshire",
             "name_pl": "New Hampshire",
             "name_pt": "Nova Hampshire",
             "name_ru": "Нью-Гэмпшир",
             "name_sv": "New Hampshire",
             "name_tr": "New Hampshire",
             "name_uk": "Нью-Гемпшир",
             "name_ur": "نیو ہیمپشائر",
             "name_vi": "New Hampshire",
             "name_zh": "新罕布什尔州",
             "name_zht": "新罕布夏州",
             "ne_id": 1159315303,
             "note": null,
             "postal": "NH",
             "provnum_ne": 0,
             "region": "Northeast",
             "region_cod": null,
             "region_sub": "New England",
             "sameascity": -99,
             "scalerank": 2,
             "sov_a3": "US1",
             "sub_code": null,
             "type": "State",
             "type_en": "State",
             "wikidataid": "Q759",
             "wikipedia": "http://en.wikipedia.org/wiki/New_Hampshire",
             "woe_id": 2347588,
             "woe_label": "New Hampshire, US, United States",
             "woe_name": "New Hampshire"
            },
            "type": "Feature"
           },
           {
            "bbox": [
             -71.853825649692,
             41.32003632258983,
             -71.1203820461734,
             42.02436025651181
            ],
            "geometry": {
             "coordinates": [
              [
               [
                -71.853825649692,
                41.32003632258983
               ],
               [
                -71.79295081245215,
                41.466616522785614
               ],
               [
                -71.8009089830251,
                42.013249823569055
               ],
               [
                -71.37915178087496,
                42.02436025651181
               ],
               [
                -71.30507361518457,
                41.76241242122431
               ],
               [
                -71.14789974636884,
                41.64758738867177
               ],
               [
                -71.1203820461734,
                41.49465098730397
               ],
               [
                -71.853825649692,
                41.32003632258983
               ]
              ]
             ],
             "type": "Polygon"
            },
            "id": "26",
            "properties": {
             "Count": 63,
             "FCLASS_AR": null,
             "FCLASS_BD": null,
             "FCLASS_BR": null,
             "FCLASS_CN": null,
             "FCLASS_DE": null,
             "FCLASS_EG": null,
             "FCLASS_ES": null,
             "FCLASS_FR": null,
             "FCLASS_GB": null,
             "FCLASS_GR": null,
             "FCLASS_ID": null,
             "FCLASS_IL": null,
             "FCLASS_IN": null,
             "FCLASS_ISO": null,
             "FCLASS_IT": null,
             "FCLASS_JP": null,
             "FCLASS_KO": null,
             "FCLASS_MA": null,
             "FCLASS_NL": null,
             "FCLASS_NP": null,
             "FCLASS_PK": null,
             "FCLASS_PL": null,
             "FCLASS_PS": null,
             "FCLASS_PT": null,
             "FCLASS_RU": null,
             "FCLASS_SA": null,
             "FCLASS_SE": null,
             "FCLASS_TLC": null,
             "FCLASS_TR": null,
             "FCLASS_TW": null,
             "FCLASS_UA": null,
             "FCLASS_US": null,
             "FCLASS_VN": null,
             "abbrev": "R.I.",
             "adm0_a3": "USA",
             "adm0_label": 2,
             "adm0_sr": 6,
             "adm1_code": "USA-3539",
             "admin": "United States of America",
             "area_sqkm": 0,
             "check_me": 20,
             "code_hasc": "US.RI",
             "code_local": "US44",
             "datarank": 1,
             "diss_me": 3539,
             "featurecla": "Admin-1 scale rank",
             "fips": "US44",
             "fips_alt": null,
             "gadm_level": 1,
             "geonunit": "United States of America",
             "gn_a1_code": "US.RI",
             "gn_id": 5224323,
             "gn_level": 1,
             "gn_name": "Rhode Island",
             "gn_region": null,
             "gns_adm1": null,
             "gns_id": -1,
             "gns_lang": null,
             "gns_level": -1,
             "gns_name": null,
             "gns_region": null,
             "gu_a3": "USA",
             "hasc_maybe": null,
             "id": 26,
             "iso_3166_2": "US-RI",
             "iso_a2": "US",
             "labelrank": 0,
             "latitude": 41.6242,
             "longitude": -71.5082,
             "mapcolor13": 1,
             "mapcolor9": 1,
             "max_label": 7.5,
             "min_label": 3.5,
             "min_zoom": 2,
             "name": "Rhode Island",
             "name_alt": "State of Rhode Island and Providence Plantations|RI|R.I.",
             "name_ar": "رود آيلاند",
             "name_bn": "রোড আইল্যান্ড",
             "name_de": "Rhode Island",
             "name_el": "Ρόουντ Άιλαντ",
             "name_en": "Rhode Island",
             "name_es": "Rhode Island",
             "name_fa": "رود آیلند",
             "name_fr": "Rhode Island",
             "name_he": "רוד איילנד",
             "name_hi": "रोड आइलैंड",
             "name_hu": "Rhode Island",
             "name_id": "Rhode Island",
             "name_it": "Rhode Island",
             "name_ja": "ロードアイランド州",
             "name_ko": "로드아일랜드",
             "name_len": 12,
             "name_local": null,
             "name_nl": "Rhode Island",
             "name_pl": "Rhode Island",
             "name_pt": "Rhode Island",
             "name_ru": "Род-Айленд",
             "name_sv": "Rhode Island",
             "name_tr": "Rhode Island",
             "name_uk": "Род-Айленд",
             "name_ur": "رہوڈ آئی لینڈ",
             "name_vi": "Rhode Island",
             "name_zh": "罗得岛州",
             "name_zht": "羅德島州",
             "ne_id": 1159312213,
             "note": null,
             "postal": "RI",
             "provnum_ne": 0,
             "region": "Northeast",
             "region_cod": null,
             "region_sub": "New England",
             "sameascity": -99,
             "scalerank": 2,
             "sov_a3": "US1",
             "sub_code": null,
             "type": "State",
             "type_en": "State",
             "wikidataid": "Q1387",
             "wikipedia": "http://en.wikipedia.org/wiki/Rhode_Island",
             "woe_id": 2347598,
             "woe_label": "Rhode Island, US, United States",
             "woe_name": "Rhode Island"
            },
            "type": "Feature"
           },
           {
            "bbox": [
             -73.4296726142165,
             42.72708222103286,
             -71.50351111518535,
             45.00831248634144
            ],
            "geometry": {
             "coordinates": [
              [
               [
                -72.45707048205115,
                42.72708222103286
               ],
               [
                -73.28203304715862,
                42.74348948828549
               ],
               [
                -73.23971004911158,
                43.56793528907005
               ],
               [
                -73.38311214872152,
                43.57535085710395
               ],
               [
                -73.40163814969816,
                43.61343638770307
               ],
               [
                -73.33812781441145,
                43.758440456714084
               ],
               [
                -73.4296726142165,
                44.01984568946249
               ],
               [
                -73.32913611519265,
                44.22673228614301
               ],
               [
                -73.3841715155835,
                44.379151923187905
               ],
               [
                -73.40796851265391,
                44.67600718848857
               ],
               [
                -73.36828101265375,
                44.804603990246875
               ],
               [
                -73.34766211616932,
                45.00725311947946
               ],
               [
                -71.50508724637027,
                45.00831248634144
               ],
               [
                -71.50351111518535,
                45.00779572201852
               ],
               [
                -71.62045488146187,
                44.73579682065026
               ],
               [
                -71.54637671577146,
                44.59239472104031
               ],
               [
                -71.58552161323257,
                44.46803538672992
               ],
               [
                -71.80990068224389,
                44.3521509873155
               ],
               [
                -72.00304134793475,
                44.304014390635515
               ],
               [
                -72.036372646763,
                44.20663015398147
               ],
               [
                -72.05913611518758,
                44.04576142025695
               ],
               [
                -72.17819861518808,
                43.80869578711793
               ],
               [
                -72.26020911323525,
                43.72138845476078
               ],
               [
                -72.36976314969402,
                43.521891587898004
               ],
               [
                -72.4036112128452,
                43.285368557298106
               ],
               [
                -72.43430701362658,
                43.222917588873365
               ],
               [
                -72.45864661323606,
                42.96045298926299
               ],
               [
                -72.53750484891344,
                42.83079682064263
               ],
               [
                -72.45707048205115,
                42.72708222103286
               ]
              ]
             ],
             "type": "Polygon"
            },
            "id": "27",
            "properties": {
             "Count": 85,
             "FCLASS_AR": null,
             "FCLASS_BD": null,
             "FCLASS_BR": null,
             "FCLASS_CN": null,
             "FCLASS_DE": null,
             "FCLASS_EG": null,
             "FCLASS_ES": null,
             "FCLASS_FR": null,
             "FCLASS_GB": null,
             "FCLASS_GR": null,
             "FCLASS_ID": null,
             "FCLASS_IL": null,
             "FCLASS_IN": null,
             "FCLASS_ISO": null,
             "FCLASS_IT": null,
             "FCLASS_JP": null,
             "FCLASS_KO": null,
             "FCLASS_MA": null,
             "FCLASS_NL": null,
             "FCLASS_NP": null,
             "FCLASS_PK": null,
             "FCLASS_PL": null,
             "FCLASS_PS": null,
             "FCLASS_PT": null,
             "FCLASS_RU": null,
             "FCLASS_SA": null,
             "FCLASS_SE": null,
             "FCLASS_TLC": null,
             "FCLASS_TR": null,
             "FCLASS_TW": null,
             "FCLASS_UA": null,
             "FCLASS_US": null,
             "FCLASS_VN": null,
             "abbrev": "Vt.",
             "adm0_a3": "USA",
             "adm0_label": 2,
             "adm0_sr": 1,
             "adm1_code": "USA-3540",
             "admin": "United States of America",
             "area_sqkm": 0,
             "check_me": 20,
             "code_hasc": "US.VT",
             "code_local": "US50",
             "datarank": 1,
             "diss_me": 3540,
             "featurecla": "Admin-1 scale rank",
             "fips": "US50",
             "fips_alt": null,
             "gadm_level": 1,
             "geonunit": "United States of America",
             "gn_a1_code": "US.VT",
             "gn_id": 5242283,
             "gn_level": 1,
             "gn_name": "Vermont",
             "gn_region": null,
             "gns_adm1": null,
             "gns_id": -1,
             "gns_lang": null,
             "gns_level": -1,
             "gns_name": null,
             "gns_region": null,
             "gu_a3": "USA",
             "hasc_maybe": null,
             "id": 27,
             "iso_3166_2": "US-VT",
             "iso_a2": "US",
             "labelrank": 0,
             "latitude": 44.0886,
             "longitude": -72.7317,
             "mapcolor13": 1,
             "mapcolor9": 1,
             "max_label": 7.5,
             "min_label": 3.5,
             "min_zoom": 2,
             "name": "Vermont",
             "name_alt": "VT",
             "name_ar": "فيرمونت",
             "name_bn": "ভার্মন্ট",
             "name_de": "Vermont",
             "name_el": "Βερμόντ",
             "name_en": "Vermont",
             "name_es": "Vermont",
             "name_fa": "ورمونت",
             "name_fr": "Vermont",
             "name_he": "ורמונט",
             "name_hi": "वर्मांट",
             "name_hu": "Vermont",
             "name_id": "Vermont",
             "name_it": "Vermont",
             "name_ja": "バーモント州",
             "name_ko": "버몬트",
             "name_len": 7,
             "name_local": null,
             "name_nl": "Vermont",
             "name_pl": "Vermont",
             "name_pt": "Vermont",
             "name_ru": "Вермонт",
             "name_sv": "Vermont",
             "name_tr": "Vermont",
             "name_uk": "Вермонт",
             "name_ur": "ورمونٹ",
             "name_vi": "Vermont",
             "name_zh": "佛蒙特州",
             "name_zht": "佛蒙特州",
             "ne_id": 1159315305,
             "note": null,
             "postal": "VT",
             "provnum_ne": 0,
             "region": "Northeast",
             "region_cod": null,
             "region_sub": "New England",
             "sameascity": -99,
             "scalerank": 2,
             "sov_a3": "US1",
             "sub_code": null,
             "type": "State",
             "type_en": "State",
             "wikidataid": "Q16551",
             "wikipedia": "http://en.wikipedia.org/wiki/Vermont",
             "woe_id": 2347604,
             "woe_label": "Vermont, US, United States",
             "woe_name": "Vermont"
            },
            "type": "Feature"
           },
           {
            "bbox": [
             -88.44953101271409,
             30.274198920201783,
             -84.89884334993945,
             34.999672756483704
            ],
            "geometry": {
             "coordinates": [
              [
               [
                -88.16696428094212,
                34.999672756483704
               ],
               [
                -86.90967668328085,
                34.99913015394465
               ],
               [
                -85.62538814974705,
                34.98590098727793
               ],
               [
                -85.36555904818351,
                33.74447805433026
               ],
               [
                -85.12955278190654,
                32.750714423141375
               ],
               [
                -84.98615068229658,
                32.43796865491096
               ],
               [
                -84.89884334993945,
                32.25911652274878
               ],
               [
                -85.06392371289584,
                32.083416652956416
               ],
               [
                -85.11950171582576,
                31.76539988863223
               ],
               [
                -85.06552568229691,
                31.5770134547122
               ],
               [
                -85.09038204622931,
                31.400280056274084
               ],
               [
                -85.11789974642471,
                31.236233221963445
               ],
               [
                -85.05441524935415,
                31.108695787067106
               ],
               [
                -85.00519344759613,
                30.990692653928605
               ],
               [
                -87.0456632148569,
                30.984879055295778
               ],
               [
                -87.61715287957273,
                30.927724921180967
               ],
               [
                -87.63304338250248,
                30.851528021766683
               ],
               [
                -87.4049694485823,
                30.60864878999479
               ],
               [
                -87.45788611524918,
                30.411270656855976
               ],
               [
                -87.53038814975469,
                30.274198920201783
               ],
               [
                -88.41780168328688,
                30.38481232352254
               ],
               [
                -88.44953101271409,
                31.91198008882813
               ],
               [
                -88.27334021681494,
                33.510047919238175
               ],
               [
                -88.09552161329862,
                34.80598948825383
               ],
               [
                -88.16696428094212,
                34.999672756483704
               ]
              ]
             ],
             "type": "Polygon"
            },
            "id": "28",
            "properties": {
             "Count": 89,
             "FCLASS_AR": null,
             "FCLASS_BD": null,
             "FCLASS_BR": null,
             "FCLASS_CN": null,
             "FCLASS_DE": null,
             "FCLASS_EG": null,
             "FCLASS_ES": null,
             "FCLASS_FR": null,
             "FCLASS_GB": null,
             "FCLASS_GR": null,
             "FCLASS_ID": null,
             "FCLASS_IL": null,
             "FCLASS_IN": null,
             "FCLASS_ISO": null,
             "FCLASS_IT": null,
             "FCLASS_JP": null,
             "FCLASS_KO": null,
             "FCLASS_MA": null,
             "FCLASS_NL": null,
             "FCLASS_NP": null,
             "FCLASS_PK": null,
             "FCLASS_PL": null,
             "FCLASS_PS": null,
             "FCLASS_PT": null,
             "FCLASS_RU": null,
             "FCLASS_SA": null,
             "FCLASS_SE": null,
             "FCLASS_TLC": null,
             "FCLASS_TR": null,
             "FCLASS_TW": null,
             "FCLASS_UA": null,
             "FCLASS_US": null,
             "FCLASS_VN": null,
             "abbrev": "Ala.",
             "adm0_a3": "USA",
             "adm0_label": 2,
             "adm0_sr": 5,
             "adm1_code": "USA-3541",
             "admin": "United States of America",
             "area_sqkm": 0,
             "check_me": 20,
             "code_hasc": "US.AL",
             "code_local": "US01",
             "datarank": 1,
             "diss_me": 3541,
             "featurecla": "Admin-1 scale rank",
             "fips": "US01",
             "fips_alt": null,
             "gadm_level": 1,
             "geonunit": "United States of America",
             "gn_a1_code": "US.AL",
             "gn_id": 4829764,
             "gn_level": 1,
             "gn_name": "Alabama",
             "gn_region": null,
             "gns_adm1": null,
             "gns_id": -1,
             "gns_lang": null,
             "gns_level": -1,
             "gns_name": null,
             "gns_region": null,
             "gu_a3": "USA",
             "hasc_maybe": null,
             "id": 28,
             "iso_3166_2": "US-AL",
             "iso_a2": "US",
             "labelrank": 0,
             "latitude": 32.8551,
             "longitude": -86.7184,
             "mapcolor13": 1,
             "mapcolor9": 1,
             "max_label": 7.5,
             "min_label": 3.5,
             "min_zoom": 2,
             "name": "Alabama",
             "name_alt": "AL|Ala.",
             "name_ar": "ألاباما",
             "name_bn": "অ্যালাবামা",
             "name_de": "Alabama",
             "name_el": "Αλαμπάμα",
             "name_en": "Alabama",
             "name_es": "Alabama",
             "name_fa": "آلاباما",
             "name_fr": "Alabama",
             "name_he": "אלבמה",
             "name_hi": "अलाबामा",
             "name_hu": "Alabama",
             "name_id": "Alabama",
             "name_it": "Alabama",
             "name_ja": "アラバマ州",
             "name_ko": "앨라배마",
             "name_len": 7,
             "name_local": null,
             "name_nl": "Alabama",
             "name_pl": "Alabama",
             "name_pt": "Alabama",
             "name_ru": "Алабама",
             "name_sv": "Alabama",
             "name_tr": "Alabama",
             "name_uk": "Алабама",
             "name_ur": "الاباما",
             "name_vi": "Alabama",
             "name_zh": "亚拉巴马州",
             "name_zht": "阿拉巴馬州",
             "ne_id": 1159315233,
             "note": null,
             "postal": "AL",
             "provnum_ne": 0,
             "region": "South",
             "region_cod": null,
             "region_sub": "East South Central",
             "sameascity": -99,
             "scalerank": 2,
             "sov_a3": "US1",
             "sub_code": null,
             "type": "State",
             "type_en": "State",
             "wikidataid": "Q173",
             "wikipedia": "http://en.wikipedia.org/wiki/Alabama",
             "woe_id": 2347559,
             "woe_label": "Alabama, US, United States",
             "woe_name": "Alabama"
            },
            "type": "Feature"
           },
           {
            "bbox": [
             -87.63304338250248,
             25.07991649016799,
             -80.05653928497765,
             30.990692653928605
            ],
            "geometry": {
             "coordinates": [
              [
               [
                -87.53038814975469,
                30.274198920201783
               ],
               [
                -87.45788611524918,
                30.411270656855976
               ],
               [
                -87.4049694485823,
                30.60864878999479
               ],
               [
                -87.63304338250248,
                30.851528021766683
               ],
               [
                -87.61715287957273,
                30.927724921180967
               ],
               [
                -87.0456632148569,
                30.984879055295778
               ],
               [
                -85.00519344759613,
                30.990692653928605
               ],
               [
                -84.85331641309023,
                30.721355088823486
               ],
               [
                -83.84789974641967,
                30.675311387651334
               ],
               [
                -82.22600908072297,
                30.52555308686948
               ],
               [
                -82.15193091503261,
                30.35093842215514
               ],
               [
                -82.02281734895132,
                30.440364488236412
               ],
               [
                -82.02015601268835,
                30.78801768647986
               ],
               [
                -81.8995173815029,
                30.82189158784729
               ],
               [
                -81.70159664582513,
                30.748330186479848
               ],
               [
                -81.49047258169657,
                30.729830023719217
               ],
               [
                -81.31371000000001,
                30.035520000000133
               ],
               [
                -80.97983191600446,
                29.179898789989068
               ],
               [
                -80.53558499999997,
                28.47213000000005
               ],
               [
                -80.53004024933603,
                28.04007172292728
               ],
               [
                -80.05653928497765,
                26.879999999999995
               ],
               [
                -80.08801499999998,
                26.205765000000042
               ],
               [
                -80.13155999999987,
                25.81677500000012
               ],
               [
                -80.38103000000001,
                25.20616000000001
               ],
               [
                -80.67979855011788,
                25.07991649016799
               ],
               [
                -81.17191321483341,
                25.201097723892417
               ],
               [
                -81.33012061229499,
                25.639753119402087
               ],
               [
                -81.71007158072098,
                25.869945787046277
               ],
               [
                -82.23978084992882,
                26.729841620383013
               ],
               [
                -82.70514999999995,
                27.495040000000074
               ],
               [
                -82.85525999999999,
                27.886240000000043
               ],
               [
                -82.64988501659712,
                28.55016978608029
               ],
               [
                -82.9299999999999,
                29.100000000000136
               ],
               [
                -83.70958999999993,
                29.9365600000001
               ],
               [
                -84.0997965156264,
                30.090049953729817
               ],
               [
                -85.10882000000004,
                29.6361500000001
               ],
               [
                -85.28783999999996,
                29.68612000000013
               ],
               [
                -85.7731,
                30.152609999999925
               ],
               [
                -86.40006954623453,
                30.40016022391336
               ],
               [
                -87.53038814975469,
                30.274198920201783
               ]
              ]
             ],
             "type": "Polygon"
            },
            "id": "29",
            "properties": {
             "Count": 68,
             "FCLASS_AR": null,
             "FCLASS_BD": null,
             "FCLASS_BR": null,
             "FCLASS_CN": null,
             "FCLASS_DE": null,
             "FCLASS_EG": null,
             "FCLASS_ES": null,
             "FCLASS_FR": null,
             "FCLASS_GB": null,
             "FCLASS_GR": null,
             "FCLASS_ID": null,
             "FCLASS_IL": null,
             "FCLASS_IN": null,
             "FCLASS_ISO": null,
             "FCLASS_IT": null,
             "FCLASS_JP": null,
             "FCLASS_KO": null,
             "FCLASS_MA": null,
             "FCLASS_NL": null,
             "FCLASS_NP": null,
             "FCLASS_PK": null,
             "FCLASS_PL": null,
             "FCLASS_PS": null,
             "FCLASS_PT": null,
             "FCLASS_RU": null,
             "FCLASS_SA": null,
             "FCLASS_SE": null,
             "FCLASS_TLC": null,
             "FCLASS_TR": null,
             "FCLASS_TW": null,
             "FCLASS_UA": null,
             "FCLASS_US": null,
             "FCLASS_VN": null,
             "abbrev": "Fla.",
             "adm0_a3": "USA",
             "adm0_label": 2,
             "adm0_sr": 5,
             "adm1_code": "USA-3542",
             "admin": "United States of America",
             "area_sqkm": 0,
             "check_me": 20,
             "code_hasc": "US.FL",
             "code_local": "US12",
             "datarank": 8,
             "diss_me": 3542,
             "featurecla": "Admin-1 scale rank",
             "fips": "US12",
             "fips_alt": null,
             "gadm_level": 1,
             "geonunit": "United States of America",
             "gn_a1_code": "US.FL",
             "gn_id": 4155751,
             "gn_level": 1,
             "gn_name": "Florida",
             "gn_region": null,
             "gns_adm1": null,
             "gns_id": -1,
             "gns_lang": null,
             "gns_level": -1,
             "gns_name": null,
             "gns_region": null,
             "gu_a3": "USA",
             "hasc_maybe": null,
             "id": 29,
             "iso_3166_2": "US-FL",
             "iso_a2": "US",
             "labelrank": 0,
             "latitude": 28.1568,
             "longitude": -81.6228,
             "mapcolor13": 1,
             "mapcolor9": 1,
             "max_label": 7.5,
             "min_label": 3.5,
             "min_zoom": 2,
             "name": "Florida",
             "name_alt": "FL|Fla.",
             "name_ar": "فلوريدا",
             "name_bn": "ফ্লোরিডা",
             "name_de": "Florida",
             "name_el": "Φλόριντα",
             "name_en": "Florida",
             "name_es": "Florida",
             "name_fa": "فلوریدا",
             "name_fr": "Floride",
             "name_he": "פלורידה",
             "name_hi": "फ़्लोरिडा",
             "name_hu": "Florida",
             "name_id": "Florida",
             "name_it": "Florida",
             "name_ja": "フロリダ州",
             "name_ko": "플로리다",
             "name_len": 7,
             "name_local": null,
             "name_nl": "Florida",
             "name_pl": "Floryda",
             "name_pt": "Flórida",
             "name_ru": "Флорида",
             "name_sv": "Florida",
             "name_tr": "Florida",
             "name_uk": "Флорида",
             "name_ur": "فلوریڈا",
             "name_vi": "Florida",
             "name_zh": "佛罗里达州",
             "name_zht": "佛羅里達州",
             "ne_id": 1159315207,
             "note": null,
             "postal": "FL",
             "provnum_ne": 0,
             "region": "South",
             "region_cod": null,
             "region_sub": "South Atlantic",
             "sameascity": -99,
             "scalerank": 2,
             "sov_a3": "US1",
             "sub_code": null,
             "type": "State",
             "type_en": "State",
             "wikidataid": "Q812",
             "wikipedia": "http://en.wikipedia.org/wiki/Florida",
             "woe_id": 2347568,
             "woe_label": "Florida, US, United States",
             "woe_name": "Florida"
            },
            "type": "Feature"
           },
           {
            "bbox": [
             -85.62538814974705,
             30.35093842215514,
             -80.86500688345194,
             34.98696035413991
            ],
            "geometry": {
             "coordinates": [
              [
               [
                -85.00519344759613,
                30.990692653928605
               ],
               [
                -85.05441524935415,
                31.108695787067106
               ],
               [
                -85.11789974642471,
                31.236233221963445
               ],
               [
                -85.09038204622931,
                31.400280056274084
               ],
               [
                -85.06552568229691,
                31.5770134547122
               ],
               [
                -85.11950171582576,
                31.76539988863223
               ],
               [
                -85.06392371289584,
                32.083416652956416
               ],
               [
                -84.89884334993945,
                32.25911652274878
               ],
               [
                -84.98615068229658,
                32.43796865491096
               ],
               [
                -85.12955278190654,
                32.750714423141375
               ],
               [
                -85.36555904818351,
                33.74447805433026
               ],
               [
                -85.62538814974705,
                34.98590098727793
               ],
               [
                -84.8543757799523,
                34.97690928805915
               ],
               [
                -84.32097164583558,
                34.98696035413991
               ],
               [
                -83.07637061230196,
                34.97902802178311
               ],
               [
                -83.18592464876076,
                34.895958156873974
               ],
               [
                -83.34625077994627,
                34.706512356091935
               ],
               [
                -83.07637061230196,
                34.54034678805738
               ],
               [
                -82.9028153144497,
                34.4794977890337
               ],
               [
                -82.71654761425356,
                34.163057155894535
               ],
               [
                -82.59748511425317,
                33.98578115491722
               ],
               [
                -82.24928931347051,
                33.748715521778195
               ],
               [
                -82.18050798209003,
                33.624356187467924
               ],
               [
                -81.94344234895101,
                33.46136872001921
               ],
               [
                -81.82701534699743,
                33.22324372001839
               ],
               [
                -81.50739661327219,
                33.02162811943151
               ],
               [
                -81.43595394562868,
                32.79303742118839
               ],
               [
                -81.37670691600607,
                32.68244985608385
               ],
               [
                -81.41109758169631,
                32.60888845471641
               ],
               [
                -81.22482988150023,
                32.49936025647378
               ],
               [
                -81.12641211620041,
                32.31203318941573
               ],
               [
                -81.1279882473853,
                32.121528021771724
               ],
               [
                -81.03644344758027,
                32.084476019818396
               ],
               [
                -80.86500688345194,
                32.03316132255259
               ],
               [
                -81.33629000000002,
                31.440490000000068
               ],
               [
                -81.49047258169657,
                30.729830023719217
               ],
               [
                -81.70159664582513,
                30.748330186479848
               ],
               [
                -81.8995173815029,
                30.82189158784729
               ],
               [
                -82.02015601268835,
                30.78801768647986
               ],
               [
                -82.02281734895132,
                30.440364488236412
               ],
               [
                -82.15193091503261,
                30.35093842215514
               ],
               [
                -82.22600908072297,
                30.52555308686948
               ],
               [
                -83.84789974641967,
                30.675311387651334
               ],
               [
                -84.85331641309023,
                30.721355088823486
               ],
               [
                -85.00519344759613,
                30.990692653928605
               ]
              ]
             ],
             "type": "Polygon"
            },
            "id": "30",
            "properties": {
             "Count": 79,
             "FCLASS_AR": null,
             "FCLASS_BD": null,
             "FCLASS_BR": null,
             "FCLASS_CN": null,
             "FCLASS_DE": null,
             "FCLASS_EG": null,
             "FCLASS_ES": null,
             "FCLASS_FR": null,
             "FCLASS_GB": null,
             "FCLASS_GR": null,
             "FCLASS_ID": null,
             "FCLASS_IL": null,
             "FCLASS_IN": null,
             "FCLASS_ISO": null,
             "FCLASS_IT": null,
             "FCLASS_JP": null,
             "FCLASS_KO": null,
             "FCLASS_MA": null,
             "FCLASS_NL": null,
             "FCLASS_NP": null,
             "FCLASS_PK": null,
             "FCLASS_PL": null,
             "FCLASS_PS": null,
             "FCLASS_PT": null,
             "FCLASS_RU": null,
             "FCLASS_SA": null,
             "FCLASS_SE": null,
             "FCLASS_TLC": null,
             "FCLASS_TR": null,
             "FCLASS_TW": null,
             "FCLASS_UA": null,
             "FCLASS_US": null,
             "FCLASS_VN": null,
             "abbrev": "Ga.",
             "adm0_a3": "USA",
             "adm0_label": 2,
             "adm0_sr": 6,
             "adm1_code": "USA-3543",
             "admin": "United States of America",
             "area_sqkm": 0,
             "check_me": 20,
             "code_hasc": "US.GA",
             "code_local": "US13",
             "datarank": 1,
             "diss_me": 3543,
             "featurecla": "Admin-1 scale rank",
             "fips": "US13",
             "fips_alt": null,
             "gadm_level": 1,
             "geonunit": "United States of America",
             "gn_a1_code": "US.GA",
             "gn_id": 4197000,
             "gn_level": 1,
             "gn_name": "Georgia",
             "gn_region": null,
             "gns_adm1": null,
             "gns_id": -1,
             "gns_lang": null,
             "gns_level": -1,
             "gns_name": null,
             "gns_region": null,
             "gu_a3": "USA",
             "hasc_maybe": null,
             "id": 30,
             "iso_3166_2": "US-GA",
             "iso_a2": "US",
             "labelrank": 0,
             "latitude": 32.8547,
             "longitude": -83.4078,
             "mapcolor13": 1,
             "mapcolor9": 1,
             "max_label": 7.5,
             "min_label": 3.5,
             "min_zoom": 2,
             "name": "Georgia",
             "name_alt": "GA|Ga.",
             "name_ar": "جورجيا",
             "name_bn": "জর্জিয়া",
             "name_de": "Georgia",
             "name_el": "Τζόρτζια",
             "name_en": "Georgia",
             "name_es": "Georgia",
             "name_fa": "جورجیا",
             "name_fr": "Géorgie",
             "name_he": "ג'ורג'יה",
             "name_hi": "जॉर्जिया",
             "name_hu": "Georgia",
             "name_id": "Georgia",
             "name_it": "Georgia",
             "name_ja": "ジョージア州",
             "name_ko": "조지아",
             "name_len": 7,
             "name_local": null,
             "name_nl": "Georgia",
             "name_pl": "Georgia",
             "name_pt": "Geórgia",
             "name_ru": "Джорджия",
             "name_sv": "Georgia",
             "name_tr": "Georgia",
             "name_uk": "Джорджія",
             "name_ur": "ریاست جارجیا",
             "name_vi": "Georgia",
             "name_zh": "佐治亚州",
             "name_zht": "喬治亞州",
             "ne_id": 1159311857,
             "note": null,
             "postal": "GA",
             "provnum_ne": 0,
             "region": "South",
             "region_cod": null,
             "region_sub": "South Atlantic",
             "sameascity": -99,
             "scalerank": 2,
             "sov_a3": "US1",
             "sub_code": null,
             "type": "State",
             "type_en": "State",
             "wikidataid": "Q1428",
             "wikipedia": "http://en.wikipedia.org/wiki/Georgia_(U.S._state)",
             "woe_id": 2347569,
             "woe_label": "Georgia, US, United States",
             "woe_name": "Georgia"
            },
            "type": "Feature"
           },
           {
            "bbox": [
             -91.62453101272678,
             30.159994004836847,
             -88.09552161329862,
             35.02135101983015
            ],
            "geometry": {
             "coordinates": [
              [
               [
                -91.15623918329783,
                33.01000092216589
               ],
               [
                -91.1080767484018,
                33.2068364527656
               ],
               [
                -91.22344438349342,
                33.46932689059217
               ],
               [
                -91.20068091506883,
                33.70639252373114
               ],
               [
                -90.9821412829065,
                34.0551050888367
               ],
               [
                -90.87630794957275,
                34.261474921194306
               ],
               [
                -90.6995487129184,
                34.39746145277036
               ],
               [
                -90.58420691604294,
                34.45409882256226
               ],
               [
                -90.4503132799747,
                34.7218602564826
               ],
               [
                -90.44661841506581,
                34.86683848727745
               ],
               [
                -90.26828304722656,
                34.94145925550691
               ],
               [
                -90.249240281927,
                35.02083425550724
               ],
               [
                -89.26392574741786,
                35.02135101983015
               ],
               [
                -88.16696428094212,
                34.999672756483704
               ],
               [
                -88.09552161329862,
                34.80598948825383
               ],
               [
                -88.27334021681494,
                33.510047919238175
               ],
               [
                -88.44953101271409,
                31.91198008882813
               ],
               [
                -88.41780168328688,
                30.38481232352254
               ],
               [
                -89.1804899999999,
                30.31598000000008
               ],
               [
                -89.59370212735638,
                30.16004270590898
               ],
               [
                -89.59383117841975,
                30.159994004836847
               ],
               [
                -89.59392913902984,
                30.1603780541948
               ],
               [
                -89.60470598016661,
                30.17629791922485
               ],
               [
                -89.62323198114325,
                30.27525828706382
               ],
               [
                -89.65868201369545,
                30.440881252559336
               ],
               [
                -89.79045691603972,
                30.556791490189937
               ],
               [
                -89.8539414131103,
                30.683243720008136
               ],
               [
                -89.78779557977674,
                30.847290554318647
               ],
               [
                -89.75921851271931,
                31.01345612235326
               ],
               [
                -90.70166744664232,
                31.015574856077194
               ],
               [
                -91.58378414586463,
                31.04733002372052
               ],
               [
                -91.62453101272678,
                31.29708222098708
               ],
               [
                -91.50229041214038,
                31.40872915295381
               ],
               [
                -91.41128821487433,
                31.6500322535407
               ],
               [
                -91.32131954625419,
                31.859580186484266
               ],
               [
                -91.12817888056327,
                32.01569468843792
               ],
               [
                -91.08161841506836,
                32.20459788668086
               ],
               [
                -90.94297054722921,
                32.30673635510567
               ],
               [
                -91.0720841133105,
                32.47871552177321
               ],
               [
                -91.03082048212548,
                32.60253225354444
               ],
               [
                -91.17579871292025,
                32.80838532157918
               ],
               [
                -91.08479651565432,
                32.95284678805103
               ],
               [
                -91.15623918329783,
                33.01000092216589
               ]
              ]
             ],
             "type": "Polygon"
            },
            "id": "31",
            "properties": {
             "Count": 80,
             "FCLASS_AR": null,
             "FCLASS_BD": null,
             "FCLASS_BR": null,
             "FCLASS_CN": null,
             "FCLASS_DE": null,
             "FCLASS_EG": null,
             "FCLASS_ES": null,
             "FCLASS_FR": null,
             "FCLASS_GB": null,
             "FCLASS_GR": null,
             "FCLASS_ID": null,
             "FCLASS_IL": null,
             "FCLASS_IN": null,
             "FCLASS_ISO": null,
             "FCLASS_IT": null,
             "FCLASS_JP": null,
             "FCLASS_KO": null,
             "FCLASS_MA": null,
             "FCLASS_NL": null,
             "FCLASS_NP": null,
             "FCLASS_PK": null,
             "FCLASS_PL": null,
             "FCLASS_PS": null,
             "FCLASS_PT": null,
             "FCLASS_RU": null,
             "FCLASS_SA": null,
             "FCLASS_SE": null,
             "FCLASS_TLC": null,
             "FCLASS_TR": null,
             "FCLASS_TW": null,
             "FCLASS_UA": null,
             "FCLASS_US": null,
             "FCLASS_VN": null,
             "abbrev": "Miss.",
             "adm0_a3": "USA",
             "adm0_label": 2,
             "adm0_sr": 5,
             "adm1_code": "USA-3544",
             "admin": "United States of America",
             "area_sqkm": 0,
             "check_me": 20,
             "code_hasc": "US.MS",
             "code_local": "US28",
             "datarank": 1,
             "diss_me": 3544,
             "featurecla": "Admin-1 scale rank",
             "fips": "US28",
             "fips_alt": null,
             "gadm_level": 1,
             "geonunit": "United States of America",
             "gn_a1_code": "US.MS",
             "gn_id": 4436296,
             "gn_level": 1,
             "gn_name": "Mississippi",
             "gn_region": null,
             "gns_adm1": null,
             "gns_id": -1,
             "gns_lang": null,
             "gns_level": -1,
             "gns_name": null,
             "gns_region": null,
             "gu_a3": "USA",
             "hasc_maybe": null,
             "id": 31,
             "iso_3166_2": "US-MS",
             "iso_a2": "US",
             "labelrank": 0,
             "latitude": 32.8657,
             "longitude": -89.7189,
             "mapcolor13": 1,
             "mapcolor9": 1,
             "max_label": 7.5,
             "min_label": 3.5,
             "min_zoom": 2,
             "name": "Mississippi",
             "name_alt": "MS|Miss.",
             "name_ar": "مسيسيبي",
             "name_bn": "মিসিসিপি",
             "name_de": "Mississippi",
             "name_el": "Μισισίπι",
             "name_en": "Mississippi",
             "name_es": "Misisipi",
             "name_fa": "میسیسیپی",
             "name_fr": "Mississippi",
             "name_he": "מיסיסיפי",
             "name_hi": "मिसिसिप्पी",
             "name_hu": "Mississippi",
             "name_id": "Mississippi",
             "name_it": "Mississippi",
             "name_ja": "ミシシッピ州",
             "name_ko": "미시시피",
             "name_len": 11,
             "name_local": null,
             "name_nl": "Mississippi",
             "name_pl": "Missisipi",
             "name_pt": "Mississippi",
             "name_ru": "Миссисипи",
             "name_sv": "Mississippi",
             "name_tr": "Mississippi",
             "name_uk": "Міссісіпі",
             "name_ur": "مسیسپی",
             "name_vi": "Mississippi",
             "name_zh": "密西西比州",
             "name_zht": "密西西比州",
             "ne_id": 1159315231,
             "note": null,
             "postal": "MS",
             "provnum_ne": 0,
             "region": "South",
             "region_cod": null,
             "region_sub": "East South Central",
             "sameascity": -99,
             "scalerank": 2,
             "sov_a3": "US1",
             "sub_code": null,
             "type": "State",
             "type_en": "State",
             "wikidataid": "Q1494",
             "wikipedia": "http://en.wikipedia.org/wiki/Mississippi",
             "woe_id": 2347583,
             "woe_label": "Mississippi, US, United States",
             "woe_name": "Mississippi"
            },
            "type": "Feature"
           },
           {
            "bbox": [
             -83.34625077994627,
             32.03316132255259,
             -78.55411434600785,
             35.180101019830886
            ],
            "geometry": {
             "coordinates": [
              [
               [
                -80.86500688345194,
                32.03316132255259
               ],
               [
                -81.03644344758027,
                32.084476019818396
               ],
               [
                -81.1279882473853,
                32.121528021771724
               ],
               [
                -81.12641211620041,
                32.31203318941573
               ],
               [
                -81.22482988150023,
                32.49936025647378
               ],
               [
                -81.41109758169631,
                32.60888845471641
               ],
               [
                -81.37670691600607,
                32.68244985608385
               ],
               [
                -81.43595394562868,
                32.79303742118839
               ],
               [
                -81.50739661327219,
                33.02162811943151
               ],
               [
                -81.82701534699743,
                33.22324372001839
               ],
               [
                -81.94344234895101,
                33.46136872001921
               ],
               [
                -82.18050798209003,
                33.624356187467924
               ],
               [
                -82.24928931347051,
                33.748715521778195
               ],
               [
                -82.59748511425317,
                33.98578115491722
               ],
               [
                -82.71654761425356,
                34.163057155894535
               ],
               [
                -82.9028153144497,
                34.4794977890337
               ],
               [
                -83.07637061230196,
                34.54034678805738
               ],
               [
                -83.34625077994627,
                34.706512356091935
               ],
               [
                -83.18592464876076,
                34.895958156873974
               ],
               [
                -83.07637061230196,
                34.97902802178311
               ],
               [
                -82.9763767158172,
                35.0086644557025
               ],
               [
                -82.4366163805285,
                35.180101019830886
               ],
               [
                -81.51426957876708,
                35.17165192315099
               ],
               [
                -81.04597774933814,
                35.125608221979064
               ],
               [
                -81.0380195787651,
                35.03724152275993
               ],
               [
                -80.9374830797413,
                35.103387356093606
               ],
               [
                -80.78085181346466,
                34.93404368747309
               ],
               [
                -80.7835131497277,
                34.81764252373563
               ],
               [
                -79.67277991404609,
                34.80756561943866
               ],
               [
                -78.55411434600785,
                33.86142182060689
               ],
               [
                -79.06067000000002,
                33.493949999999984
               ],
               [
                -79.20357000000001,
                33.15839000000011
               ],
               [
                -80.30132500000002,
                32.509355000000085
               ],
               [
                -80.86500688345194,
                32.03316132255259
               ]
              ]
             ],
             "type": "Polygon"
            },
            "id": "32",
            "properties": {
             "Count": 76,
             "FCLASS_AR": null,
             "FCLASS_BD": null,
             "FCLASS_BR": null,
             "FCLASS_CN": null,
             "FCLASS_DE": null,
             "FCLASS_EG": null,
             "FCLASS_ES": null,
             "FCLASS_FR": null,
             "FCLASS_GB": null,
             "FCLASS_GR": null,
             "FCLASS_ID": null,
             "FCLASS_IL": null,
             "FCLASS_IN": null,
             "FCLASS_ISO": null,
             "FCLASS_IT": null,
             "FCLASS_JP": null,
             "FCLASS_KO": null,
             "FCLASS_MA": null,
             "FCLASS_NL": null,
             "FCLASS_NP": null,
             "FCLASS_PK": null,
             "FCLASS_PL": null,
             "FCLASS_PS": null,
             "FCLASS_PT": null,
             "FCLASS_RU": null,
             "FCLASS_SA": null,
             "FCLASS_SE": null,
             "FCLASS_TLC": null,
             "FCLASS_TR": null,
             "FCLASS_TW": null,
             "FCLASS_UA": null,
             "FCLASS_US": null,
             "FCLASS_VN": null,
             "abbrev": "S.C.",
             "adm0_a3": "USA",
             "adm0_label": 2,
             "adm0_sr": 1,
             "adm1_code": "USA-3545",
             "admin": "United States of America",
             "area_sqkm": 0,
             "check_me": 20,
             "code_hasc": "US.SC",
             "code_local": "US45",
             "datarank": 1,
             "diss_me": 3545,
             "featurecla": "Admin-1 scale rank",
             "fips": "US45",
             "fips_alt": null,
             "gadm_level": 1,
             "geonunit": "United States of America",
             "gn_a1_code": "US.SC",
             "gn_id": 4597040,
             "gn_level": 1,
             "gn_name": "South Carolina",
             "gn_region": null,
             "gns_adm1": null,
             "gns_id": -1,
             "gns_lang": null,
             "gns_level": -1,
             "gns_name": null,
             "gns_region": null,
             "gu_a3": "USA",
             "hasc_maybe": null,
             "id": 32,
             "iso_3166_2": "US-SC",
             "iso_a2": "US",
             "labelrank": 0,
             "latitude": 33.8578,
             "longitude": -80.6471,
             "mapcolor13": 1,
             "mapcolor9": 1,
             "max_label": 7.5,
             "min_label": 3.5,
             "min_zoom": 2,
             "name": "South Carolina",
             "name_alt": "SC|S.C.",
             "name_ar": "كارولاينا الجنوبية",
             "name_bn": "সাউথ ক্যারোলাইনা",
             "name_de": "South Carolina",
             "name_el": "Νότια Καρολίνα",
             "name_en": "South Carolina",
             "name_es": "Carolina del Sur",
             "name_fa": "کارولینای جنوبی",
             "name_fr": "Caroline du Sud",
             "name_he": "קרוליינה הדרומית",
             "name_hi": "दक्षिणी केरोलाइना",
             "name_hu": "Dél-Karolina",
             "name_id": "Carolina Selatan",
             "name_it": "Carolina del Sud",
             "name_ja": "サウスカロライナ州",
             "name_ko": "사우스캐롤라이나",
             "name_len": 14,
             "name_local": null,
             "name_nl": "South Carolina",
             "name_pl": "Karolina Południowa",
             "name_pt": "Carolina do Sul",
             "name_ru": "Южная Каролина",
             "name_sv": "South Carolina",
             "name_tr": "Güney Karolina",
             "name_uk": "Південна Кароліна",
             "name_ur": "جنوبی کیرولینا",
             "name_vi": "Nam Carolina",
             "name_zh": "南卡罗来纳州",
             "name_zht": "南卡羅萊納州",
             "ne_id": 1159315307,
             "note": null,
             "postal": "SC",
             "provnum_ne": 0,
             "region": "South",
             "region_cod": null,
             "region_sub": "South Atlantic",
             "sameascity": -99,
             "scalerank": 2,
             "sov_a3": "US1",
             "sub_code": null,
             "type": "State",
             "type_en": "State",
             "wikidataid": "Q1456",
             "wikipedia": "http://en.wikipedia.org/wiki/South_Carolina",
             "woe_id": 2347599,
             "woe_label": "South Carolina, US, United States",
             "woe_name": "South Carolina"
            },
            "type": "Feature"
           },
           {
            "bbox": [
             -91.51763831253103,
             36.952292588848294,
             -87.039307013685,
             42.50536448828457
            ],
            "geometry": {
             "coordinates": [
              [
               [
                -91.43033098017392,
                40.3685956894479
               ],
               [
                -91.4102288480124,
                40.55114268651894
               ],
               [
                -91.15412044957387,
                40.699841620438804
               ],
               [
                -91.0874320137012,
                40.85171865494462
               ],
               [
                -90.95674231643505,
                41.024757188473956
               ],
               [
                -90.9990653144821,
                41.17981232356573
               ],
               [
                -91.12342464879248,
                41.25758535416499
               ],
               [
                -91.0339985827114,
                41.42956452083234
               ],
               [
                -90.69055701369962,
                41.47878632259035
               ],
               [
                -90.46196631545651,
                41.53645722102809
               ],
               [
                -90.39527787958384,
                41.60841665299452
               ],
               [
                -90.21006954624977,
                41.8349144557298
               ],
               [
                -90.15663611525997,
                42.103735256512124
               ],
               [
                -90.2598081123307,
                42.18998322200727
               ],
               [
                -90.41698198114644,
                42.27041758886956
               ],
               [
                -90.46460181350339,
                42.37836965592729
               ],
               [
                -90.58260494664188,
                42.4291675888702
               ],
               [
                -90.64081844761868,
                42.50536448828457
               ],
               [
                -89.62005388055731,
                42.50536448828457
               ],
               [
                -88.5765516832875,
                42.50324575456061
               ],
               [
                -87.80659868035474,
                42.49425405534181
               ],
               [
                -87.80659868035474,
                42.4968895533887
               ],
               [
                -87.48964128289253,
                42.49531342220381
               ],
               [
                -87.039307013685,
                42.492652085940904
               ],
               [
                -87.084808112318,
                42.30956248633066
               ],
               [
                -87.13033504916714,
                42.12701548925962
               ],
               [
                -87.17583614780017,
                41.9439000514335
               ],
               [
                -87.22133724643314,
                41.76083629003941
               ],
               [
                -87.37163814975403,
                41.76083629003941
               ],
               [
                -87.52085384799682,
                41.76083629003941
               ],
               [
                -87.52137061231974,
                41.70843638769544
               ],
               [
                -87.52615068230674,
                41.70843638769544
               ],
               [
                -87.52721004916873,
                40.55008331965696
               ],
               [
                -87.52826941603071,
                39.39227285415754
               ],
               [
                -87.64203508172127,
                39.1139435898335
               ],
               [
                -87.55999874545792,
                39.040382188466026
               ],
               [
                -87.50708207879104,
                38.86946238866065
               ],
               [
                -87.51504024936399,
                38.73505198826949
               ],
               [
                -87.59865271681224,
                38.6742029892458
               ],
               [
                -87.6711289131016,
                38.508580023750355
               ],
               [
                -87.87855811232117,
                38.29055715591093
               ],
               [
                -88.01880794956132,
                38.02173635512861
               ],
               [
                -88.05107988152758,
                37.81960399021895
               ],
               [
                -88.04420691603278,
                37.744983221989486
               ],
               [
                -88.15742997918427,
                37.605818589827464
               ],
               [
                -88.0717246162282,
                37.51161245375938
               ],
               [
                -88.24739864780442,
                37.43859365493097
               ],
               [
                -88.47387061232357,
                37.35498118748272
               ],
               [
                -88.43524247918538,
                37.13644155532039
               ],
               [
                -88.5664747789906,
                37.05388845473412
               ],
               [
                -88.80777787957749,
                37.14649262140115
               ],
               [
                -89.07396318231294,
                37.20046865493002
               ],
               [
                -89.14168514683143,
                37.10362702081504
               ],
               [
                -89.10305701369326,
                36.952292588848294
               ],
               [
                -89.28033301467053,
                37.107347723940066
               ],
               [
                -89.38828508172826,
                37.08140615492954
               ],
               [
                -89.51633928094752,
                37.32692088474823
               ],
               [
                -89.47928727899424,
                37.477221788069144
               ],
               [
                -89.5539080472237,
                37.71904165297896
               ],
               [
                -89.65498714878662,
                37.74867808689835
               ],
               [
                -89.91690914585797,
                37.968277085922665
               ],
               [
                -90.03015804722561,
                37.97199778904769
               ],
               [
                -90.22807878290348,
                38.11328115493366
               ],
               [
                -90.36987891311239,
                38.26355622003844
               ],
               [
                -90.30533504917983,
                38.439256089830806
               ],
               [
                -90.2127308825128,
                38.584776923164725
               ],
               [
                -90.1560935127209,
                38.76944265395973
               ],
               [
                -90.3465986803649,
                38.93031138768433
               ],
               [
                -90.53552771682399,
                38.865767523751785
               ],
               [
                -90.64981014683747,
                38.907547919259756
               ],
               [
                -90.66570064976722,
                39.074772854156265
               ],
               [
                -90.74928727899933,
                39.265278021800256
               ],
               [
                -90.84137468134344,
                39.31077912043325
               ],
               [
                -91.0715673489876,
                39.445189520824414
               ],
               [
                -91.2625892809545,
                39.615049953767794
               ],
               [
                -91.42821224644996,
                39.82090302180248
               ],
               [
                -91.51763831253103,
                40.119877020827104
               ],
               [
                -91.43033098017392,
                40.3685956894479
               ]
              ]
             ],
             "type": "Polygon"
            },
            "id": "33",
            "properties": {
             "Count": 92,
             "FCLASS_AR": null,
             "FCLASS_BD": null,
             "FCLASS_BR": null,
             "FCLASS_CN": null,
             "FCLASS_DE": null,
             "FCLASS_EG": null,
             "FCLASS_ES": null,
             "FCLASS_FR": null,
             "FCLASS_GB": null,
             "FCLASS_GR": null,
             "FCLASS_ID": null,
             "FCLASS_IL": null,
             "FCLASS_IN": null,
             "FCLASS_ISO": null,
             "FCLASS_IT": null,
             "FCLASS_JP": null,
             "FCLASS_KO": null,
             "FCLASS_MA": null,
             "FCLASS_NL": null,
             "FCLASS_NP": null,
             "FCLASS_PK": null,
             "FCLASS_PL": null,
             "FCLASS_PS": null,
             "FCLASS_PT": null,
             "FCLASS_RU": null,
             "FCLASS_SA": null,
             "FCLASS_SE": null,
             "FCLASS_TLC": null,
             "FCLASS_TR": null,
             "FCLASS_TW": null,
             "FCLASS_UA": null,
             "FCLASS_US": null,
             "FCLASS_VN": null,
             "abbrev": "Ill.",
             "adm0_a3": "USA",
             "adm0_label": 2,
             "adm0_sr": 1,
             "adm1_code": "USA-3546",
             "admin": "United States of America",
             "area_sqkm": 0,
             "check_me": 20,
             "code_hasc": "US.IL",
             "code_local": "US17",
             "datarank": 1,
             "diss_me": 3546,
             "featurecla": "Admin-1 scale rank",
             "fips": "US17",
             "fips_alt": null,
             "gadm_level": 1,
             "geonunit": "United States of America",
             "gn_a1_code": "US.IL",
             "gn_id": 4896861,
             "gn_level": 1,
             "gn_name": "Illinois",
             "gn_region": null,
             "gns_adm1": null,
             "gns_id": -1,
             "gns_lang": null,
             "gns_level": -1,
             "gns_name": null,
             "gns_region": null,
             "gu_a3": "USA",
             "hasc_maybe": null,
             "id": 33,
             "iso_3166_2": "US-IL",
             "iso_a2": "US",
             "labelrank": 0,
             "latitude": 39.946,
             "longitude": -89.1991,
             "mapcolor13": 1,
             "mapcolor9": 1,
             "max_label": 7.5,
             "min_label": 3.5,
             "min_zoom": 2,
             "name": "Illinois",
             "name_alt": "IL|Ill.",
             "name_ar": "إلينوي",
             "name_bn": "ইলিনয়",
             "name_de": "Illinois",
             "name_el": "Ιλινόι",
             "name_en": "Illinois",
             "name_es": "Illinois",
             "name_fa": "ایلینوی",
             "name_fr": "Illinois",
             "name_he": "אילינוי",
             "name_hi": "इलिनॉय",
             "name_hu": "Illinois",
             "name_id": "Illinois",
             "name_it": "Illinois",
             "name_ja": "イリノイ州",
             "name_ko": "일리노이",
             "name_len": 8,
             "name_local": null,
             "name_nl": "Illinois",
             "name_pl": "Illinois",
             "name_pt": "Illinois",
             "name_ru": "Иллинойс",
             "name_sv": "Illinois",
             "name_tr": "Illinois",
             "name_uk": "Іллінойс",
             "name_ur": "الینوائے",
             "name_vi": "Illinois",
             "name_zh": "伊利诺伊州",
             "name_zht": "伊利諾州",
             "ne_id": 1159315309,
             "note": null,
             "postal": "IL",
             "provnum_ne": 0,
             "region": "Midwest",
             "region_cod": null,
             "region_sub": "East North Central",
             "sameascity": -99,
             "scalerank": 2,
             "sov_a3": "US1",
             "sub_code": null,
             "type": "State",
             "type_en": "State",
             "wikidataid": "Q1204",
             "wikipedia": "http://en.wikipedia.org/wiki/Illinois",
             "woe_id": 2347572,
             "woe_label": "Illinois, US, United States",
             "woe_name": "Illinois"
            },
            "type": "Feature"
           },
           {
            "bbox": [
             -88.05107988152758,
             37.78361135512766,
             -84.79988298210053,
             41.76083629003949
            ],
            "geometry": {
             "coordinates": [
              [
               [
                -88.05107988152758,
                37.81960399021895
               ],
               [
                -88.01880794956132,
                38.02173635512861
               ],
               [
                -87.87855811232117,
                38.29055715591093
               ],
               [
                -87.6711289131016,
                38.508580023750355
               ],
               [
                -87.59865271681224,
                38.6742029892458
               ],
               [
                -87.51504024936399,
                38.73505198826949
               ],
               [
                -87.50708207879104,
                38.86946238866065
               ],
               [
                -87.55999874545792,
                39.040382188466026
               ],
               [
                -87.64203508172127,
                39.1139435898335
               ],
               [
                -87.52826941603071,
                39.39227285415754
               ],
               [
                -87.52721004916873,
                40.55008331965696
               ],
               [
                -87.52615068230674,
                41.70843638769544
               ],
               [
                -87.52137061231974,
                41.70843638769544
               ],
               [
                -87.52085384799682,
                41.76083629003941
               ],
               [
                -87.37163814975403,
                41.76083629003941
               ],
               [
                -87.22133724643314,
                41.76083629003941
               ],
               [
                -86.91812577996058,
                41.76083629003949
               ],
               [
                -86.82446224643155,
                41.76083629003941
               ],
               [
                -86.82446224643155,
                41.7560562200524
               ],
               [
                -85.7481455146564,
                41.751301988281554
               ],
               [
                -84.80729855013442,
                41.7560562200524
               ],
               [
                -84.80675594759535,
                41.67774058691407
               ],
               [
                -84.8099340481813,
                40.77286041926722
               ],
               [
                -84.8178663805381,
                39.79974152277896
               ],
               [
                -84.82367997917093,
                39.10652802179962
               ],
               [
                -84.88137671582481,
                39.05942495376557
               ],
               [
                -84.79988298210053,
                38.85517385513195
               ],
               [
                -84.84326534700955,
                38.78109568944154
               ],
               [
                -85.01154964876804,
                38.77949372004049
               ],
               [
                -85.16763831250564,
                38.6911270208214
               ],
               [
                -85.4041871813217,
                38.72711965591269
               ],
               [
                -85.42589128288428,
                38.53503835708379
               ],
               [
                -85.5666320462312,
                38.46199372003923
               ],
               [
                -85.69840694857547,
                38.290014553371876
               ],
               [
                -85.83969031446145,
                38.25880198826758
               ],
               [
                -86.05983191602483,
                37.960887356104934
               ],
               [
                -86.26250688347356,
                38.04661855727716
               ],
               [
                -86.32547461622121,
                38.16937592218649
               ],
               [
                -86.49957251661253,
                37.969879055323716
               ],
               [
                -86.61016008171714,
                37.85874888768005
               ],
               [
                -86.82552161329352,
                37.97623525649561
               ],
               [
                -87.05571428093768,
                37.88096975356555
               ],
               [
                -87.13139441602912,
                37.78361135512766
               ],
               [
                -87.43936011427255,
                37.9360051539564
               ],
               [
                -87.65366227898694,
                37.82647695571377
               ],
               [
                -87.91137264682652,
                37.90424998631303
               ],
               [
                -87.92142371290728,
                37.793662421208424
               ],
               [
                -88.05107988152758,
                37.81960399021895
               ]
              ]
             ],
             "type": "Polygon"
            },
            "id": "34",
            "properties": {
             "Count": 79,
             "FCLASS_AR": null,
             "FCLASS_BD": null,
             "FCLASS_BR": null,
             "FCLASS_CN": null,
             "FCLASS_DE": null,
             "FCLASS_EG": null,
             "FCLASS_ES": null,
             "FCLASS_FR": null,
             "FCLASS_GB": null,
             "FCLASS_GR": null,
             "FCLASS_ID": null,
             "FCLASS_IL": null,
             "FCLASS_IN": null,
             "FCLASS_ISO": null,
             "FCLASS_IT": null,
             "FCLASS_JP": null,
             "FCLASS_KO": null,
             "FCLASS_MA": null,
             "FCLASS_NL": null,
             "FCLASS_NP": null,
             "FCLASS_PK": null,
             "FCLASS_PL": null,
             "FCLASS_PS": null,
             "FCLASS_PT": null,
             "FCLASS_RU": null,
             "FCLASS_SA": null,
             "FCLASS_SE": null,
             "FCLASS_TLC": null,
             "FCLASS_TR": null,
             "FCLASS_TW": null,
             "FCLASS_UA": null,
             "FCLASS_US": null,
             "FCLASS_VN": null,
             "abbrev": "Ind.",
             "adm0_a3": "USA",
             "adm0_label": 2,
             "adm0_sr": 1,
             "adm1_code": "USA-3547",
             "admin": "United States of America",
             "area_sqkm": 0,
             "check_me": 20,
             "code_hasc": "US.IN",
             "code_local": "US18",
             "datarank": 1,
             "diss_me": 3547,
             "featurecla": "Admin-1 scale rank",
             "fips": "US18",
             "fips_alt": null,
             "gadm_level": 1,
             "geonunit": "United States of America",
             "gn_a1_code": "US.IN",
             "gn_id": 4921868,
             "gn_level": 1,
             "gn_name": "Indiana",
             "gn_region": null,
             "gns_adm1": null,
             "gns_id": -1,
             "gns_lang": null,
             "gns_level": -1,
             "gns_name": null,
             "gns_region": null,
             "gu_a3": "USA",
             "hasc_maybe": null,
             "id": 34,
             "iso_3166_2": "US-IN",
             "iso_a2": "US",
             "labelrank": 0,
             "latitude": 39.8874,
             "longitude": -86.1396,
             "mapcolor13": 1,
             "mapcolor9": 1,
             "max_label": 7.5,
             "min_label": 3.5,
             "min_zoom": 2,
             "name": "Indiana",
             "name_alt": "IN|Ind.",
             "name_ar": "إنديانا",
             "name_bn": "ইন্ডিয়ানা",
             "name_de": "Indiana",
             "name_el": "Ιντιάνα",
             "name_en": "Indiana",
             "name_es": "Indiana",
             "name_fa": "ایندیانا",
             "name_fr": "Indiana",
             "name_he": "אינדיאנה",
             "name_hi": "इंडियाना",
             "name_hu": "Indiana",
             "name_id": "Indiana",
             "name_it": "Indiana",
             "name_ja": "インディアナ州",
             "name_ko": "인디애나",
             "name_len": 7,
             "name_local": null,
             "name_nl": "Indiana",
             "name_pl": "Indiana",
             "name_pt": "Indiana",
             "name_ru": "Индиана",
             "name_sv": "Indiana",
             "name_tr": "Indiana",
             "name_uk": "Індіана",
             "name_ur": "انڈیانا",
             "name_vi": "Indiana",
             "name_zh": "印第安纳州",
             "name_zht": "印第安纳州",
             "ne_id": 1159315311,
             "note": null,
             "postal": "IN",
             "provnum_ne": 0,
             "region": "Midwest",
             "region_cod": null,
             "region_sub": "East North Central",
             "sameascity": -99,
             "scalerank": 2,
             "sov_a3": "US1",
             "sub_code": null,
             "type": "State",
             "type_en": "State",
             "wikidataid": "Q1415",
             "wikipedia": "http://en.wikipedia.org/wiki/Indiana",
             "woe_id": 2347573,
             "woe_label": "Indiana, US, United States",
             "woe_name": "Indiana"
            },
            "type": "Feature"
           },
           {
            "bbox": [
             -89.49835588250994,
             36.4972040878699,
             -81.9725361803314,
             39.10652802179962
            ],
            "geometry": {
             "coordinates": [
              [
               [
                -89.49835588250994,
                36.5061957870887
               ],
               [
                -89.27397681349862,
                36.61151235609954
               ],
               [
                -89.115226813498,
                36.694582221008716
               ],
               [
                -89.13426957879756,
                36.85175608982445
               ],
               [
                -89.10305701369326,
                36.952292588848294
               ],
               [
                -89.14168514683143,
                37.10362702081504
               ],
               [
                -89.07396318231294,
                37.20046865493002
               ],
               [
                -88.80777787957749,
                37.14649262140115
               ],
               [
                -88.5664747789906,
                37.05388845473412
               ],
               [
                -88.43524247918538,
                37.13644155532039
               ],
               [
                -88.47387061232357,
                37.35498118748272
               ],
               [
                -88.24739864780442,
                37.43859365493097
               ],
               [
                -88.0717246162282,
                37.51161245375938
               ],
               [
                -88.15742997918427,
                37.605818589827464
               ],
               [
                -88.04420691603278,
                37.744983221989486
               ],
               [
                -88.05107988152758,
                37.81960399021895
               ],
               [
                -87.92142371290728,
                37.793662421208424
               ],
               [
                -87.91137264682652,
                37.90424998631303
               ],
               [
                -87.65366227898694,
                37.82647695571377
               ],
               [
                -87.43936011427255,
                37.9360051539564
               ],
               [
                -87.13139441602912,
                37.78361135512766
               ],
               [
                -87.05571428093768,
                37.88096975356555
               ],
               [
                -86.82552161329352,
                37.97623525649561
               ],
               [
                -86.61016008171714,
                37.85874888768005
               ],
               [
                -86.49957251661253,
                37.969879055323716
               ],
               [
                -86.32547461622121,
                38.16937592218649
               ],
               [
                -86.26250688347356,
                38.04661855727716
               ],
               [
                -86.05983191602483,
                37.960887356104934
               ],
               [
                -85.83969031446145,
                38.25880198826758
               ],
               [
                -85.69840694857547,
                38.290014553371876
               ],
               [
                -85.5666320462312,
                38.46199372003923
               ],
               [
                -85.42589128288428,
                38.53503835708379
               ],
               [
                -85.4041871813217,
                38.72711965591269
               ],
               [
                -85.16763831250564,
                38.6911270208214
               ],
               [
                -85.01154964876804,
                38.77949372004049
               ],
               [
                -84.84326534700955,
                38.78109568944154
               ],
               [
                -84.79988298210053,
                38.85517385513195
               ],
               [
                -84.88137671582481,
                39.05942495376557
               ],
               [
                -84.82367997917093,
                39.10652802179962
               ],
               [
                -84.48132361523727,
                39.08324778905212
               ],
               [
                -84.30459021679906,
                38.98692291926008
               ],
               [
                -84.03894751660269,
                38.76099355728
               ],
               [
                -83.82673824739611,
                38.69006765395942
               ],
               [
                -83.67274247916633,
                38.60911652277419
               ],
               [
                -83.43461747916538,
                38.63715098729253
               ],
               [
                -83.25894344758916,
                38.57948008885481
               ],
               [
                -83.04464128287475,
                38.63451548924564
               ],
               [
                -82.85519548209274,
                38.65143952082124
               ],
               [
                -82.77527787955336,
                38.51121552179724
               ],
               [
                -82.5890101793573,
                38.415433254544254
               ],
               [
                -82.56996741405774,
                38.320193589830325
               ],
               [
                -82.58056108267758,
                38.11328115493366
               ],
               [
                -82.46149858267711,
                37.95716665297992
               ],
               [
                -82.41333614778108,
                37.80531545669025
               ],
               [
                -82.26729855012425,
                37.67565928806994
               ],
               [
                -82.16727881542333,
                37.554478054345495
               ],
               [
                -81.9725361803314,
                37.53595205336886
               ],
               [
                -82.07538986207479,
                37.459358179410245
               ],
               [
                -82.37258911132812,
                37.23803901672363
               ],
               [
                -82.6847915649414,
                37.12109565734863
               ],
               [
                -82.68479213152052,
                37.12109377295471
               ],
               [
                -82.68479244661029,
                37.121093654929695
               ],
               [
                -82.70913176984146,
                37.040143442951724
               ],
               [
                -82.81550788879395,
                36.93482780456543
               ],
               [
                -83.0733530067755,
                36.82260930628833
               ],
               [
                -83.08908301464577,
                36.81576345473316
               ],
               [
                -83.09948313683732,
                36.80443780881003
               ],
               [
                -83.17850875854492,
                36.71838188171387
               ],
               [
                -83.33059243922776,
                36.67266067363208
               ],
               [
                -83.38436214876154,
                36.65649669040961
               ],
               [
                -83.67328508170539,
                36.59985932061771
               ],
               [
                -84.35009131543205,
                36.567044786112376
               ],
               [
                -85.23114864779235,
                36.60991038669849
               ],
               [
                -85.51901221387423,
                36.59774058689375
               ],
               [
                -86.09262061231402,
                36.62577505141209
               ],
               [
                -86.67788204623565,
                36.63373322198504
               ],
               [
                -87.21658301466228,
                36.63900421807881
               ],
               [
                -87.84204871290697,
                36.61096975356047
               ],
               [
                -87.87434648308938,
                36.65649669040961
               ],
               [
                -88.07278398309018,
                36.654377956685636
               ],
               [
                -88.06960588250422,
                36.4972040878699
               ],
               [
                -89.49835588250994,
                36.5061957870887
               ]
              ]
             ],
             "type": "Polygon"
            },
            "id": "35",
            "properties": {
             "Count": 79,
             "FCLASS_AR": null,
             "FCLASS_BD": null,
             "FCLASS_BR": null,
             "FCLASS_CN": null,
             "FCLASS_DE": null,
             "FCLASS_EG": null,
             "FCLASS_ES": null,
             "FCLASS_FR": null,
             "FCLASS_GB": null,
             "FCLASS_GR": null,
             "FCLASS_ID": null,
             "FCLASS_IL": null,
             "FCLASS_IN": null,
             "FCLASS_ISO": null,
             "FCLASS_IT": null,
             "FCLASS_JP": null,
             "FCLASS_KO": null,
             "FCLASS_MA": null,
             "FCLASS_NL": null,
             "FCLASS_NP": null,
             "FCLASS_PK": null,
             "FCLASS_PL": null,
             "FCLASS_PS": null,
             "FCLASS_PT": null,
             "FCLASS_RU": null,
             "FCLASS_SA": null,
             "FCLASS_SE": null,
             "FCLASS_TLC": null,
             "FCLASS_TR": null,
             "FCLASS_TW": null,
             "FCLASS_UA": null,
             "FCLASS_US": null,
             "FCLASS_VN": null,
             "abbrev": "Ky.",
             "adm0_a3": "USA",
             "adm0_label": 2,
             "adm0_sr": 1,
             "adm1_code": "USA-3548",
             "admin": "United States of America",
             "area_sqkm": 0,
             "check_me": 20,
             "code_hasc": "US.KY",
             "code_local": "US21",
             "datarank": 1,
             "diss_me": 3548,
             "featurecla": "Admin-1 scale rank",
             "fips": "US21",
             "fips_alt": "US18",
             "gadm_level": 1,
             "geonunit": "United States of America",
             "gn_a1_code": "US.KY",
             "gn_id": 6254925,
             "gn_level": 1,
             "gn_name": "Kentucky",
             "gn_region": null,
             "gns_adm1": null,
             "gns_id": -1,
             "gns_lang": null,
             "gns_level": -1,
             "gns_name": null,
             "gns_region": null,
             "gu_a3": "USA",
             "hasc_maybe": "US.IN|USA-KEN",
             "id": 35,
             "iso_3166_2": "US-KY",
             "iso_a2": "US",
             "labelrank": 0,
             "latitude": 37.3994,
             "longitude": -85.5729,
             "mapcolor13": 1,
             "mapcolor9": 1,
             "max_label": 7.5,
             "min_label": 3.5,
             "min_zoom": 2,
             "name": "Kentucky",
             "name_alt": "Commonwealth of Kentucky|KY",
             "name_ar": "كنتاكي",
             "name_bn": "কেন্টাকি",
             "name_de": "Kentucky",
             "name_el": "Κεντάκι",
             "name_en": "Kentucky",
             "name_es": "Kentucky",
             "name_fa": "کنتاکی",
             "name_fr": "Kentucky",
             "name_he": "קנטקי",
             "name_hi": "केन्टकी",
             "name_hu": "Kentucky",
             "name_id": "Kentucky",
             "name_it": "Kentucky",
             "name_ja": "ケンタッキー州",
             "name_ko": "켄터키",
             "name_len": 8,
             "name_local": null,
             "name_nl": "Kentucky",
             "name_pl": "Kentucky",
             "name_pt": "Kentucky",
             "name_ru": "Кентукки",
             "name_sv": "Kentucky",
             "name_tr": "Kentucky",
             "name_uk": "Кентуккі",
             "name_ur": "کینٹکی",
             "name_vi": "Kentucky",
             "name_zh": "肯塔基州",
             "name_zht": "肯塔基州",
             "ne_id": 1159315313,
             "note": null,
             "postal": "KY",
             "provnum_ne": 0,
             "region": "South",
             "region_cod": null,
             "region_sub": "East South Central",
             "sameascity": -99,
             "scalerank": 2,
             "sov_a3": "US1",
             "sub_code": null,
             "type": "State",
             "type_en": "State",
             "wikidataid": "Q1603",
             "wikipedia": "http://en.wikipedia.org/wiki/Kentucky",
             "woe_id": 2347576,
             "woe_label": "Kentucky, US, United States",
             "woe_name": "Kentucky"
            },
            "type": "Feature"
           },
           {
            "bbox": [
             -84.32097164583558,
             33.86142182060689,
             -75.72731014677777,
             36.58557319641113
            ],
            "geometry": {
             "coordinates": [
              [
               [
                -83.07637061230196,
                34.97902802178311
               ],
               [
                -84.32097164583558,
                34.98696035413991
               ],
               [
                -84.29875077995008,
                35.19862702080742
               ],
               [
                -84.08708411328257,
                35.26159475355507
               ],
               [
                -84.01776017936302,
                35.36900421807373
               ],
               [
                -83.87596004915412,
                35.490211290014315
               ],
               [
                -83.67328508170539,
                35.51666962334775
               ],
               [
                -83.43833818229038,
                35.56268748630367
               ],
               [
                -83.20972164583114,
                35.64896129001495
               ],
               [
                -83.11078711620837,
                35.737327989234075
               ],
               [
                -82.92028194856437,
                35.817219753557296
               ],
               [
                -82.92557878287428,
                35.889721788062786
               ],
               [
                -82.6742246162066,
                36.02519155531594
               ],
               [
                -82.59324764680525,
                35.937341620419886
               ],
               [
                -82.22389034699907,
                36.125728054339774
               ],
               [
                -82.0513944160088,
                36.10614268650116
               ],
               [
                -81.89739864777903,
                36.273910223936724
               ],
               [
                -81.6936643134683,
                36.317292588845746
               ],
               [
                -81.70477474641106,
                36.46015208591663
               ],
               [
                -81.67937577993962,
                36.58557078708901
               ],
               [
                -82.06990138690504,
                36.570483202477405
               ],
               [
                -81.67937469482422,
                36.58557319641113
               ],
               [
                -79.99239730834961,
                36.54218864440918
               ],
               [
                -77.99954795837402,
                36.53743553161621
               ],
               [
                -76.94121551513672,
                36.54588508605957
               ],
               [
                -75.99324725779447,
                36.550562300522934
               ],
               [
                -75.8680767483408,
                36.55118012139883
               ],
               [
                -75.86807671493632,
                36.551179883937685
               ],
               [
                -75.72731014677777,
                35.550517686499006
               ],
               [
                -76.36336951364223,
                34.80862498630063
               ],
               [
                -77.39763500000004,
                34.51201000000003
               ],
               [
                -78.05495999999994,
                33.925470000000075
               ],
               [
                -78.55411434600785,
                33.86142182060689
               ],
               [
                -79.67277991404609,
                34.80756561943866
               ],
               [
                -80.7835131497277,
                34.81764252373563
               ],
               [
                -80.78085181346466,
                34.93404368747309
               ],
               [
                -80.9374830797413,
                35.103387356093606
               ],
               [
                -81.0380195787651,
                35.03724152275993
               ],
               [
                -81.04597774933814,
                35.125608221979064
               ],
               [
                -81.51426957876708,
                35.17165192315099
               ],
               [
                -82.4366163805285,
                35.180101019830886
               ],
               [
                -82.9763767158172,
                35.0086644557025
               ],
               [
                -83.07637061230196,
                34.97902802178311
               ]
              ]
             ],
             "type": "Polygon"
            },
            "id": "36",
            "properties": {
             "Count": 78,
             "FCLASS_AR": null,
             "FCLASS_BD": null,
             "FCLASS_BR": null,
             "FCLASS_CN": null,
             "FCLASS_DE": null,
             "FCLASS_EG": null,
             "FCLASS_ES": null,
             "FCLASS_FR": null,
             "FCLASS_GB": null,
             "FCLASS_GR": null,
             "FCLASS_ID": null,
             "FCLASS_IL": null,
             "FCLASS_IN": null,
             "FCLASS_ISO": null,
             "FCLASS_IT": null,
             "FCLASS_JP": null,
             "FCLASS_KO": null,
             "FCLASS_MA": null,
             "FCLASS_NL": null,
             "FCLASS_NP": null,
             "FCLASS_PK": null,
             "FCLASS_PL": null,
             "FCLASS_PS": null,
             "FCLASS_PT": null,
             "FCLASS_RU": null,
             "FCLASS_SA": null,
             "FCLASS_SE": null,
             "FCLASS_TLC": null,
             "FCLASS_TR": null,
             "FCLASS_TW": null,
             "FCLASS_UA": null,
             "FCLASS_US": null,
             "FCLASS_VN": null,
             "abbrev": "N.C.",
             "adm0_a3": "USA",
             "adm0_label": 2,
             "adm0_sr": 5,
             "adm1_code": "USA-3549",
             "admin": "United States of America",
             "area_sqkm": 0,
             "check_me": 20,
             "code_hasc": "US.NC",
             "code_local": "US37",
             "datarank": 1,
             "diss_me": 3549,
             "featurecla": "Admin-1 scale rank",
             "fips": "US37",
             "fips_alt": null,
             "gadm_level": 1,
             "geonunit": "United States of America",
             "gn_a1_code": "US.NC",
             "gn_id": 4482348,
             "gn_level": 1,
             "gn_name": "North Carolina",
             "gn_region": null,
             "gns_adm1": null,
             "gns_id": -1,
             "gns_lang": null,
             "gns_level": -1,
             "gns_name": null,
             "gns_region": null,
             "gu_a3": "USA",
             "hasc_maybe": null,
             "id": 36,
             "iso_3166_2": "US-NC",
             "iso_a2": "US",
             "labelrank": 0,
             "latitude": 35.6152,
             "longitude": -78.866,
             "mapcolor13": 1,
             "mapcolor9": 1,
             "max_label": 7.5,
             "min_label": 3.5,
             "min_zoom": 2,
             "name": "North Carolina",
             "name_alt": "NC|N.C.",
             "name_ar": "كارولاينا الشمالية",
             "name_bn": "নর্থ ক্যারোলাইনা",
             "name_de": "North Carolina",
             "name_el": "Βόρεια Καρολίνα",
             "name_en": "North Carolina",
             "name_es": "Carolina del Norte",
             "name_fa": "کارولینای شمالی",
             "name_fr": "Caroline du Nord",
             "name_he": "קרוליינה הצפונית",
             "name_hi": "उत्तरी केरोलिना",
             "name_hu": "Észak-Karolina",
             "name_id": "Carolina Utara",
             "name_it": "Carolina del Nord",
             "name_ja": "ノースカロライナ州",
             "name_ko": "노스캐롤라이나",
             "name_len": 14,
             "name_local": null,
             "name_nl": "North Carolina",
             "name_pl": "Karolina Północna",
             "name_pt": "Carolina do Norte",
             "name_ru": "Северная Каролина",
             "name_sv": "North Carolina",
             "name_tr": "Kuzey Karolina",
             "name_uk": "Північна Кароліна",
             "name_ur": "شمالی کیرولینا",
             "name_vi": "Bắc Carolina",
             "name_zh": "北卡罗来纳州",
             "name_zht": "北卡羅萊納州",
             "ne_id": 1159314887,
             "note": null,
             "postal": "NC",
             "provnum_ne": 0,
             "region": "South",
             "region_cod": null,
             "region_sub": "South Atlantic",
             "sameascity": -99,
             "scalerank": 2,
             "sov_a3": "US1",
             "sub_code": null,
             "type": "State",
             "type_en": "State",
             "wikidataid": "Q1454",
             "wikipedia": "http://en.wikipedia.org/wiki/North_Carolina",
             "woe_id": 2347592,
             "woe_label": "North Carolina, US, United States",
             "woe_name": "North Carolina"
            },
            "type": "Feature"
           },
           {
            "bbox": [
             -84.82367997917093,
             38.415433254544254,
             -80.5162684801303,
             42.324910386721456
            ],
            "geometry": {
             "coordinates": [
              [
               [
                -84.82367997917093,
                39.10652802179962
               ],
               [
                -84.8178663805381,
                39.79974152277896
               ],
               [
                -84.8099340481813,
                40.77286041926722
               ],
               [
                -84.80675594759535,
                41.67774058691407
               ],
               [
                -84.29505591504122,
                41.68515615494796
               ],
               [
                -83.83996741406284,
                41.68515615494796
               ],
               [
                -83.46267778189986,
                41.694147854166715
               ],
               [
                -83.14199968131265,
                41.97568105729283
               ],
               [
                -83.1218975491511,
                41.94973948828235
               ],
               [
                -83.029810146807,
                41.83279572200584
               ],
               [
                -82.8663059150355,
                41.75287811946646
               ],
               [
                -82.6900892809202,
                41.675105088867184
               ],
               [
                -82.4392777167916,
                41.675105088867184
               ],
               [
                -82.21332251659538,
                41.77881968847697
               ],
               [
                -81.97413814973245,
                41.88889048925867
               ],
               [
                -81.76086951366389,
                41.98679149023562
               ],
               [
                -81.50739661327225,
                42.103735256512124
               ],
               [
                -81.27774654816716,
                42.209025987306816
               ],
               [
                -81.0279685126844,
                42.24713735612208
               ],
               [
                -80.68243404816478,
                42.299511420249885
               ],
               [
                -80.5205059475782,
                42.32439362239843
               ],
               [
                -80.5162684801303,
                42.324910386721456
               ],
               [
                -80.5162684801303,
                42.32439362239842
               ],
               [
                -80.5189298163933,
                40.64111135513909
               ],
               [
                -80.65755184601625,
                40.5908301865191
               ],
               [
                -80.6152288479692,
                40.463835354161816
               ],
               [
                -80.66178931346417,
                40.23364268651767
               ],
               [
                -80.76498714875106,
                39.973296820631205
               ],
               [
                -80.86182878286601,
                39.75739268651576
               ],
               [
                -80.87875281444161,
                39.65422068944504
               ],
               [
                -81.15075171580989,
                39.426146755524854
               ],
               [
                -81.26609351268534,
                39.37744171808977
               ],
               [
                -81.40104651561558,
                39.34940725357143
               ],
               [
                -81.52222774934002,
                39.37162811945693
               ],
               [
                -81.74500484895029,
                39.19964895278957
               ],
               [
                -81.78575171581242,
                39.019220689442506
               ],
               [
                -81.81696428091672,
                38.92183645278847
               ],
               [
                -81.90587358267489,
                38.8821489527883
               ],
               [
                -81.91856014680255,
                38.9937958847549
               ],
               [
                -82.05402991405569,
                39.01816132258051
               ],
               [
                -82.19479651561875,
                38.80119782160308
               ],
               [
                -82.21066118033235,
                38.57948008885481
               ],
               [
                -82.34083411327558,
                38.44083222101571
               ],
               [
                -82.5890101793573,
                38.415433254544254
               ],
               [
                -82.77527787955336,
                38.51121552179724
               ],
               [
                -82.85519548209274,
                38.65143952082124
               ],
               [
                -83.04464128287475,
                38.63451548924564
               ],
               [
                -83.25894344758916,
                38.57948008885481
               ],
               [
                -83.43461747916538,
                38.63715098729253
               ],
               [
                -83.67274247916633,
                38.60911652277419
               ],
               [
                -83.82673824739611,
                38.69006765395942
               ],
               [
                -84.03894751660269,
                38.76099355728
               ],
               [
                -84.30459021679906,
                38.98692291926008
               ],
               [
                -84.48132361523727,
                39.08324778905212
               ],
               [
                -84.82367997917093,
                39.10652802179962
               ]
              ]
             ],
             "type": "Polygon"
            },
            "id": "37",
            "properties": {
             "Count": 77,
             "FCLASS_AR": null,
             "FCLASS_BD": null,
             "FCLASS_BR": null,
             "FCLASS_CN": null,
             "FCLASS_DE": null,
             "FCLASS_EG": null,
             "FCLASS_ES": null,
             "FCLASS_FR": null,
             "FCLASS_GB": null,
             "FCLASS_GR": null,
             "FCLASS_ID": null,
             "FCLASS_IL": null,
             "FCLASS_IN": null,
             "FCLASS_ISO": null,
             "FCLASS_IT": null,
             "FCLASS_JP": null,
             "FCLASS_KO": null,
             "FCLASS_MA": null,
             "FCLASS_NL": null,
             "FCLASS_NP": null,
             "FCLASS_PK": null,
             "FCLASS_PL": null,
             "FCLASS_PS": null,
             "FCLASS_PT": null,
             "FCLASS_RU": null,
             "FCLASS_SA": null,
             "FCLASS_SE": null,
             "FCLASS_TLC": null,
             "FCLASS_TR": null,
             "FCLASS_TW": null,
             "FCLASS_UA": null,
             "FCLASS_US": null,
             "FCLASS_VN": null,
             "abbrev": "Ohio",
             "adm0_a3": "USA",
             "adm0_label": 2,
             "adm0_sr": 1,
             "adm1_code": "USA-3550",
             "admin": "United States of America",
             "area_sqkm": 0,
             "check_me": 20,
             "code_hasc": "US.OH",
             "code_local": "US39",
             "datarank": 1,
             "diss_me": 3550,
             "featurecla": "Admin-1 scale rank",
             "fips": "US39",
             "fips_alt": null,
             "gadm_level": 1,
             "geonunit": "United States of America",
             "gn_a1_code": "US.OH",
             "gn_id": 5165418,
             "gn_level": 1,
             "gn_name": "Ohio",
             "gn_region": null,
             "gns_adm1": null,
             "gns_id": -1,
             "gns_lang": null,
             "gns_level": -1,
             "gns_name": null,
             "gns_region": null,
             "gu_a3": "USA",
             "hasc_maybe": null,
             "id": 37,
             "iso_3166_2": "US-OH",
             "iso_a2": "US",
             "labelrank": 0,
             "latitude": 40.0924,
             "longitude": -82.6719,
             "mapcolor13": 1,
             "mapcolor9": 1,
             "max_label": 7.5,
             "min_label": 3.5,
             "min_zoom": 2,
             "name": "Ohio",
             "name_alt": "OH|Ohio",
             "name_ar": "أوهايو",
             "name_bn": "ওহাইও",
             "name_de": "Ohio",
             "name_el": "Οχάιο",
             "name_en": "Ohio",
             "name_es": "Ohio",
             "name_fa": "اوهایو",
             "name_fr": "Ohio",
             "name_he": "אוהיו",
             "name_hi": "ओहायो",
             "name_hu": "Ohio",
             "name_id": "Ohio",
             "name_it": "Ohio",
             "name_ja": "オハイオ州",
             "name_ko": "오하이오",
             "name_len": 4,
             "name_local": null,
             "name_nl": "Ohio",
             "name_pl": "Ohio",
             "name_pt": "Ohio",
             "name_ru": "Огайо",
             "name_sv": "Ohio",
             "name_tr": "Ohio",
             "name_uk": "Огайо",
             "name_ur": "اوہائیو",
             "name_vi": "Ohio",
             "name_zh": "俄亥俄州",
             "name_zht": "俄亥俄州",
             "ne_id": 1159315315,
             "note": null,
             "postal": "OH",
             "provnum_ne": 0,
             "region": "Midwest",
             "region_cod": null,
             "region_sub": "East North Central",
             "sameascity": -99,
             "scalerank": 2,
             "sov_a3": "US1",
             "sub_code": null,
             "type": "State",
             "type_en": "State",
             "wikidataid": "Q1397",
             "wikipedia": "http://en.wikipedia.org/wiki/Ohio",
             "woe_id": 2347594,
             "woe_label": "Ohio, US, United States",
             "woe_name": "Ohio"
            },
            "type": "Feature"
           },
           {
            "bbox": [
             -90.249240281927,
             34.97690928805915,
             -81.67937577993962,
             36.67266067363208
            ],
            "geometry": {
             "coordinates": [
              [
               [
                -90.249240281927,
                35.02083425550724
               ],
               [
                -90.13493201369738,
                35.11395518649719
               ],
               [
                -90.14710181350213,
                35.40499685316502
               ],
               [
                -89.98889441604055,
                35.536229152970236
               ],
               [
                -89.95026628290238,
                35.70187795668183
               ],
               [
                -89.77510901564906,
                35.79923635511972
               ],
               [
                -89.67351314976325,
                35.94000295668279
               ],
               [
                -89.66291948114342,
                36.02307282159197
               ],
               [
                -89.585120612328,
                36.26701142022576
               ],
               [
                -89.52427161330432,
                36.40935415297372
               ],
               [
                -89.49835588250994,
                36.5061957870887
               ],
               [
                -88.06960588250422,
                36.4972040878699
               ],
               [
                -88.07278398309018,
                36.654377956685636
               ],
               [
                -87.87434648308938,
                36.65649669040961
               ],
               [
                -87.84204871290697,
                36.61096975356047
               ],
               [
                -87.21658301466228,
                36.63900421807881
               ],
               [
                -86.67788204623565,
                36.63373322198504
               ],
               [
                -86.09262061231402,
                36.62577505141209
               ],
               [
                -85.51901221387423,
                36.59774058689375
               ],
               [
                -85.23114864779235,
                36.60991038669849
               ],
               [
                -84.35009131543205,
                36.567044786112376
               ],
               [
                -83.67328508170539,
                36.59985932061771
               ],
               [
                -83.38436214876154,
                36.65649669040961
               ],
               [
                -83.33059243922776,
                36.67266067363208
               ],
               [
                -83.38436126708984,
                36.65649604797363
               ],
               [
                -83.67328420892706,
                36.59985930073531
               ],
               [
                -82.18632158072288,
                36.565985419250396
               ],
               [
                -82.06990138690504,
                36.570483202477405
               ],
               [
                -81.67937577993962,
                36.58557078708901
               ],
               [
                -81.70477474641106,
                36.46015208591663
               ],
               [
                -81.6936643134683,
                36.317292588845746
               ],
               [
                -81.89739864777903,
                36.273910223936724
               ],
               [
                -82.0513944160088,
                36.10614268650116
               ],
               [
                -82.22389034699907,
                36.125728054339774
               ],
               [
                -82.59324764680525,
                35.937341620419886
               ],
               [
                -82.6742246162066,
                36.02519155531594
               ],
               [
                -82.92557878287428,
                35.889721788062786
               ],
               [
                -82.92028194856437,
                35.817219753557296
               ],
               [
                -83.11078711620837,
                35.737327989234075
               ],
               [
                -83.20972164583114,
                35.64896129001495
               ],
               [
                -83.43833818229038,
                35.56268748630367
               ],
               [
                -83.67328508170539,
                35.51666962334775
               ],
               [
                -83.87596004915412,
                35.490211290014315
               ],
               [
                -84.01776017936302,
                35.36900421807373
               ],
               [
                -84.08708411328257,
                35.26159475355507
               ],
               [
                -84.29875077995008,
                35.19862702080742
               ],
               [
                -84.32097164583558,
                34.98696035413991
               ],
               [
                -84.8543757799523,
                34.97690928805915
               ],
               [
                -85.62538814974705,
                34.98590098727793
               ],
               [
                -86.90967668328085,
                34.99913015394465
               ],
               [
                -88.16696428094212,
                34.999672756483704
               ],
               [
                -89.26392574741786,
                35.02135101983015
               ],
               [
                -90.249240281927,
                35.02083425550724
               ]
              ]
             ],
             "type": "Polygon"
            },
            "id": "38",
            "properties": {
             "Count": 77,
             "FCLASS_AR": null,
             "FCLASS_BD": null,
             "FCLASS_BR": null,
             "FCLASS_CN": null,
             "FCLASS_DE": null,
             "FCLASS_EG": null,
             "FCLASS_ES": null,
             "FCLASS_FR": null,
             "FCLASS_GB": null,
             "FCLASS_GR": null,
             "FCLASS_ID": null,
             "FCLASS_IL": null,
             "FCLASS_IN": null,
             "FCLASS_ISO": null,
             "FCLASS_IT": null,
             "FCLASS_JP": null,
             "FCLASS_KO": null,
             "FCLASS_MA": null,
             "FCLASS_NL": null,
             "FCLASS_NP": null,
             "FCLASS_PK": null,
             "FCLASS_PL": null,
             "FCLASS_PS": null,
             "FCLASS_PT": null,
             "FCLASS_RU": null,
             "FCLASS_SA": null,
             "FCLASS_SE": null,
             "FCLASS_TLC": null,
             "FCLASS_TR": null,
             "FCLASS_TW": null,
             "FCLASS_UA": null,
             "FCLASS_US": null,
             "FCLASS_VN": null,
             "abbrev": "Tenn.",
             "adm0_a3": "USA",
             "adm0_label": 2,
             "adm0_sr": 1,
             "adm1_code": "USA-3551",
             "admin": "United States of America",
             "area_sqkm": 0,
             "check_me": 20,
             "code_hasc": "US.TN",
             "code_local": "US47",
             "datarank": 1,
             "diss_me": 3551,
             "featurecla": "Admin-1 scale rank",
             "fips": "US47",
             "fips_alt": null,
             "gadm_level": 1,
             "geonunit": "United States of America",
             "gn_a1_code": "US.TN",
             "gn_id": 4662168,
             "gn_level": 1,
             "gn_name": "Tennessee",
             "gn_region": null,
             "gns_adm1": null,
             "gns_id": -1,
             "gns_lang": null,
             "gns_level": -1,
             "gns_name": null,
             "gns_region": null,
             "gu_a3": "USA",
             "hasc_maybe": null,
             "id": 38,
             "iso_3166_2": "US-TN",
             "iso_a2": "US",
             "labelrank": 0,
             "latitude": 35.7514,
             "longitude": -86.3415,
             "mapcolor13": 1,
             "mapcolor9": 1,
             "max_label": 7.5,
             "min_label": 3.5,
             "min_zoom": 2,
             "name": "Tennessee",
             "name_alt": "TN|Tenn.",
             "name_ar": "تينيسي",
             "name_bn": "টেনেসী",
             "name_de": "Tennessee",
             "name_el": "Τενεσί",
             "name_en": "Tennessee",
             "name_es": "Tennessee",
             "name_fa": "تنسی",
             "name_fr": "Tennessee",
             "name_he": "טנסי",
             "name_hi": "टेनेसी",
             "name_hu": "Tennessee",
             "name_id": "Tennessee",
             "name_it": "Tennessee",
             "name_ja": "テネシー州",
             "name_ko": "테네시",
             "name_len": 9,
             "name_local": null,
             "name_nl": "Tennessee",
             "name_pl": "Tennessee",
             "name_pt": "Tennessee",
             "name_ru": "Теннесси",
             "name_sv": "Tennessee",
             "name_tr": "Tennessee",
             "name_uk": "Теннессі",
             "name_ur": "ٹینیسی",
             "name_vi": "Tennessee",
             "name_zh": "田纳西州",
             "name_zht": "田納西州",
             "ne_id": 1159315319,
             "note": null,
             "postal": "TN",
             "provnum_ne": 0,
             "region": "South",
             "region_cod": null,
             "region_sub": "East South Central",
             "sameascity": -99,
             "scalerank": 2,
             "sov_a3": "US1",
             "sub_code": null,
             "type": "State",
             "type_en": "State",
             "wikidataid": "Q1509",
             "wikipedia": "http://en.wikipedia.org/wiki/Tennessee",
             "woe_id": 2347601,
             "woe_label": "Tennessee, US, United States",
             "woe_name": "Tennessee"
            },
            "type": "Feature"
           },
           {
            "bbox": [
             -83.67328420892706,
             36.53743553161621,
             -75.37753868103027,
             39.40550422668457
            ],
            "geometry": {
             "coordinates": [
              [
               [
                [
                 -83.33059243922776,
                 36.67266067363208
                ],
                [
                 -83.17850875854492,
                 36.71838188171387
                ],
                [
                 -83.09948313683732,
                 36.80443780881003
                ],
                [
                 -83.08908301464577,
                 36.81576345473316
                ],
                [
                 -83.0733530067755,
                 36.82260930628833
                ],
                [
                 -82.81550788879395,
                 36.93482780456543
                ],
                [
                 -82.70913176984146,
                 37.040143442951724
                ],
                [
                 -82.68479244661029,
                 37.121093654929695
                ],
                [
                 -82.68479213152052,
                 37.12109377295471
                ],
                [
                 -82.6847915649414,
                 37.12109565734863
                ],
                [
                 -82.37258911132812,
                 37.23803901672363
                ],
                [
                 -82.07538986207479,
                 37.459358179410245
                ],
                [
                 -81.9725361803314,
                 37.53595205336886
                ],
                [
                 -81.92809444856039,
                 37.366091620425465
                ],
                [
                 -81.83874171324607,
                 37.29435542623226
                ],
                [
                 -81.81538772583008,
                 37.27560615539551
                ],
                [
                 -81.66351127624512,
                 37.195173263549805
                ],
                [
                 -81.43343360042127,
                 37.28319918373153
                ],
                [
                 -81.3481298489487,
                 37.31583629002162
                ],
                [
                 -81.3481292729979,
                 37.31583595255335
                ],
                [
                 -81.34812927246094,
                 37.31583595275879
                ],
                [
                 -81.22800827026367,
                 37.24545478820801
                ],
                [
                 -80.91531813243837,
                 37.31553155101449
                ],
                [
                 -80.85492997915506,
                 37.32906545668834
                ],
                [
                 -80.84166996984384,
                 37.38376497066467
                ],
                [
                 -80.833251953125,
                 37.41849327087402
                ],
                [
                 -80.72000312805176,
                 37.38304328918457
                ],
                [
                 -80.60294111399195,
                 37.452076624914405
                ],
                [
                 -80.59618608266965,
                 37.456060289045624
                ],
                [
                 -80.5961859173229,
                 37.45606027207203
                ],
                [
                 -80.5961856842041,
                 37.4560604095459
                ],
                [
                 -80.45699501037598,
                 37.44177436828613
                ],
                [
                 -80.29824533321333,
                 37.519029200305404
                ],
                [
                 -80.28577911611927,
                 37.57167259382654
                ],
                [
                 -80.27656755677725,
                 37.610574309812414
                ],
                [
                 -80.29297461619709,
                 37.7280591904139
                ],
                [
                 -80.29297442533623,
                 37.728059434204695
                ],
                [
                 -80.2929744720459,
                 37.72805976867676
                ],
                [
                 -80.15750503540039,
                 37.90109825134277
                ],
                [
                 -79.96436348401359,
                 38.031789518560714
                ],
                [
                 -79.91514238149504,
                 38.17942698826727
                ],
                [
                 -79.81891914251666,
                 38.27920277298852
                ],
                [
                 -79.74367926400072,
                 38.35722137799588
                ],
                [
                 -79.64792355011377,
                 38.57472585708395
                ],
                [
                 -79.64792348203814,
                 38.57472581747799
                ],
                [
                 -79.64792251586914,
                 38.57472801208496
                ],
                [
                 -79.51508903503418,
                 38.497446060180664
                ],
                [
                 -79.36639022827148,
                 38.42602729797363
                ],
                [
                 -79.22298812866211,
                 38.46463203430176
                ],
                [
                 -79.17482566833496,
                 38.5556583404541
                ],
                [
                 -79.07640838623047,
                 38.68001747131348
                ],
                [
                 -79.00735469485451,
                 38.76812744525416
                ],
                [
                 -78.96527787953812,
                 38.82181671808755
                ],
                [
                 -78.96527744663842,
                 38.821816468533605
                ],
                [
                 -78.96527671813965,
                 38.82181739807129
                ],
                [
                 -78.89280128479004,
                 38.780038833618164
                ],
                [
                 -78.74461936950684,
                 38.90915107727051
                ],
                [
                 -78.6299356254404,
                 38.985706719408256
                ],
                [
                 -78.54884334991405,
                 39.039839585926956
                ],
                [
                 -78.51354985444293,
                 39.068071449123266
                ],
                [
                 -78.42448425292969,
                 39.13931846618652
                ],
                [
                 -78.36231391159738,
                 39.34917137453467
                ],
                [
                 -78.34562577992627,
                 39.40550202082426
                ],
                [
                 -78.34562560474399,
                 39.40550192787474
                ],
                [
                 -78.34562492370605,
                 39.40550422668457
                ],
                [
                 -77.881075040849,
                 39.159017223477484
                ],
                [
                 -77.83498511423412,
                 39.13456248631796
                ],
                [
                 -77.72279557972846,
                 39.32243215591507
                ],
                [
                 -77.69582987282635,
                 39.31620052507624
                ],
                [
                 -77.57621574401855,
                 39.28856086730957
                ],
                [
                 -77.44340705871582,
                 39.213422775268555
                ],
                [
                 -77.44340804127478,
                 39.213421340218346
                ],
                [
                 -77.44340694854247,
                 39.213420721995476
                ],
                [
                 -77.50088163990247,
                 39.12947981343377
                ],
                [
                 -77.5169677734375,
                 39.10598564147949
                ],
                [
                 -77.30581855773926,
                 39.04567909240723
                ],
                [
                 -77.11955070495605,
                 38.93400764465332
                ],
                [
                 -77.11954986485948,
                 38.9340067776485
                ],
                [
                 -77.03647994995117,
                 38.848276138305664
                ],
                [
                 -77.04123497009277,
                 38.7895450592041
                ],
                [
                 -77.04123501575428,
                 38.7895448536498
                ],
                [
                 -77.05921745300293,
                 38.70859336853027
                ],
                [
                 -77.09807033337478,
                 38.687120586479026
                ],
                [
                 -77.22962154815099,
                 38.61441335708423
                ],
                [
                 -77.34338699431744,
                 38.39161084918188
                ],
                [
                 -77.21057891845703,
                 38.33711814880371
                ],
                [
                 -77.0481071472168,
                 38.380502700805664
                ],
                [
                 -77.00225319734794,
                 38.26961787393406
                ],
                [
                 -76.98989486694336,
                 38.23973274230957
                ],
                [
                 -76.3016185760498,
                 37.91794776916504
                ],
                [
                 -76.25873947143555,
                 36.96640205383301
                ],
                [
                 -75.97179985046387,
                 36.897260665893555
                ],
                [
                 -75.86807632446289,
                 36.55117988586426
                ],
                [
                 -75.86807671493632,
                 36.551179883937685
                ],
                [
                 -75.8680767483408,
                 36.55118012139883
                ],
                [
                 -75.99324725779447,
                 36.550562300522934
                ],
                [
                 -76.94121551513672,
                 36.54588508605957
                ],
                [
                 -77.99954795837402,
                 36.53743553161621
                ],
                [
                 -79.99239730834961,
                 36.54218864440918
                ],
                [
                 -81.67937469482422,
                 36.58557319641113
                ],
                [
                 -82.06990138690504,
                 36.570483202477405
                ],
                [
                 -82.18632158072288,
                 36.565985419250396
                ],
                [
                 -83.67328420892706,
                 36.59985930073531
                ],
                [
                 -83.38436126708984,
                 36.65649604797363
                ],
                [
                 -83.33059243922776,
                 36.67266067363208
                ]
               ]
              ],
              [
               [
                [
                 -75.37754063414677,
                 38.01537999412076
                ],
                [
                 -75.94003486633301,
                 37.216875076293945
                ],
                [
                 -76.03106307983398,
                 37.25656318664551
                ],
                [
                 -75.72205038686438,
                 37.93705028942895
                ],
                [
                 -75.72204971313477,
                 37.93705177307129
                ],
                [
                 -75.60984992980957,
                 38.00003242492676
                ],
                [
                 -75.37753868103027,
                 38.01538276672363
                ],
                [
                 -75.37754063414677,
                 38.01537999412076
                ]
               ]
              ]
             ],
             "type": "MultiPolygon"
            },
            "id": "39",
            "properties": {
             "Count": 77,
             "FCLASS_AR": null,
             "FCLASS_BD": null,
             "FCLASS_BR": null,
             "FCLASS_CN": null,
             "FCLASS_DE": null,
             "FCLASS_EG": null,
             "FCLASS_ES": null,
             "FCLASS_FR": null,
             "FCLASS_GB": null,
             "FCLASS_GR": null,
             "FCLASS_ID": null,
             "FCLASS_IL": null,
             "FCLASS_IN": null,
             "FCLASS_ISO": null,
             "FCLASS_IT": null,
             "FCLASS_JP": null,
             "FCLASS_KO": null,
             "FCLASS_MA": null,
             "FCLASS_NL": null,
             "FCLASS_NP": null,
             "FCLASS_PK": null,
             "FCLASS_PL": null,
             "FCLASS_PS": null,
             "FCLASS_PT": null,
             "FCLASS_RU": null,
             "FCLASS_SA": null,
             "FCLASS_SE": null,
             "FCLASS_TLC": null,
             "FCLASS_TR": null,
             "FCLASS_TW": null,
             "FCLASS_UA": null,
             "FCLASS_US": null,
             "FCLASS_VN": null,
             "abbrev": "Va.",
             "adm0_a3": "USA",
             "adm0_label": 2,
             "adm0_sr": 6,
             "adm1_code": "USA-3552",
             "admin": "United States of America",
             "area_sqkm": 0,
             "check_me": 20,
             "code_hasc": "US.VA",
             "code_local": "US51",
             "datarank": 1,
             "diss_me": 3552,
             "featurecla": "Admin-1 scale rank",
             "fips": "US51",
             "fips_alt": null,
             "gadm_level": 1,
             "geonunit": "United States of America",
             "gn_a1_code": "US.VA",
             "gn_id": 6254928,
             "gn_level": 1,
             "gn_name": "Virginia",
             "gn_region": null,
             "gns_adm1": null,
             "gns_id": -1,
             "gns_lang": null,
             "gns_level": -1,
             "gns_name": null,
             "gns_region": null,
             "gu_a3": "USA",
             "hasc_maybe": null,
             "id": 39,
             "iso_3166_2": "US-VA",
             "iso_a2": "US",
             "labelrank": 0,
             "latitude": 37.7403,
             "longitude": -78.2431,
             "mapcolor13": 1,
             "mapcolor9": 1,
             "max_label": 7.5,
             "min_label": 3.5,
             "min_zoom": 2,
             "name": "Virginia",
             "name_alt": "VA",
             "name_ar": "فرجينيا",
             "name_bn": "ভার্জিনিয়া",
             "name_de": "Virginia",
             "name_el": "Βιρτζίνια",
             "name_en": "Virginia",
             "name_es": "Virginia",
             "name_fa": "ویرجینیا",
             "name_fr": "Virginie",
             "name_he": "וירג'יניה",
             "name_hi": "वर्जीनिया",
             "name_hu": "Virginia",
             "name_id": "Virginia",
             "name_it": "Virginia",
             "name_ja": "バージニア州",
             "name_ko": "버지니아",
             "name_len": 8,
             "name_local": null,
             "name_nl": "Virginia",
             "name_pl": "Wirginia",
             "name_pt": "Virgínia",
             "name_ru": "Виргиния",
             "name_sv": "Virginia",
             "name_tr": "Virjinya",
             "name_uk": "Вірджинія",
             "name_ur": "ورجینیا",
             "name_vi": "Virginia",
             "name_zh": "弗吉尼亚州",
             "name_zht": "維吉尼亞州",
             "ne_id": 1159315259,
             "note": null,
             "postal": "VA",
             "provnum_ne": 0,
             "region": "South",
             "region_cod": null,
             "region_sub": "South Atlantic",
             "sameascity": -99,
             "scalerank": 2,
             "sov_a3": "US1",
             "sub_code": null,
             "type": "State",
             "type_en": "State",
             "wikidataid": "Q1370",
             "wikipedia": "http://en.wikipedia.org/wiki/Virginia",
             "woe_id": 2347605,
             "woe_label": "Virginia, US, United States",
             "woe_name": "Virginia"
            },
            "type": "Feature"
           },
           {
            "bbox": [
             -92.89982784704182,
             42.492652085940904,
             -86.26459977898139,
             47.309128119488676
            ],
            "geometry": {
             "coordinates": [
              [
               [
                -91.22819861526426,
                43.5012468531974
               ],
               [
                -91.2546569485977,
                43.61397899024206
               ],
               [
                -91.25729244664458,
                43.854739488289965
               ],
               [
                -91.28959021682704,
                43.93729258887629
               ],
               [
                -91.62770911331273,
                44.085448920257036
               ],
               [
                -91.87960588251947,
                44.25742808692439
               ],
               [
                -91.949989183301,
                44.364837551443046
               ],
               [
                -92.06215287959051,
                44.43258535417769
               ],
               [
                -92.38549231644078,
                44.57492808692567
               ],
               [
                -92.50507158076417,
                44.58391978614445
               ],
               [
                -92.79665584997105,
                44.77602692318949
               ],
               [
                -92.76647681351261,
                44.9961426865367
               ],
               [
                -92.76541744665064,
                45.26708222104298
               ],
               [
                -92.68922054723626,
                45.51843638771068
               ],
               [
                -92.89982784704182,
                45.705763454768714
               ],
               [
                -92.75696834997089,
                45.88991242124082
               ],
               [
                -92.54369971390233,
                45.98569468849381
               ],
               [
                -92.2965830146826,
                46.09628225359842
               ],
               [
                -92.26482784703924,
                46.09522288673644
               ],
               [
                -92.27487891312,
                46.65614472104858
               ],
               [
                -92.01189754918667,
                46.71172272397848
               ],
               [
                -91.96479448115262,
                46.72970612241605
               ],
               [
                -91.8409777493813,
                46.778385321635
               ],
               [
                -91.71661841507091,
                46.82760712339301
               ],
               [
                -91.59225908076053,
                46.876260484395914
               ],
               [
                -91.46844234898919,
                46.9249655218309
               ],
               [
                -91.26470801467849,
                47.02126455340681
               ],
               [
                -91.06097368036777,
                47.117046820659795
               ],
               [
                -90.85778194859611,
                47.21282908791278
               ],
               [
                -90.6540476142854,
                47.309128119488676
               ],
               [
                -90.47994971389409,
                47.30385712339489
               ],
               [
                -90.30585181350276,
                47.29801768654593
               ],
               [
                -90.13175391311144,
                47.29274669045216
               ],
               [
                -89.95765601272012,
                47.286907253603175
               ],
               [
                -90.01481014683492,
                47.19959992124606
               ],
               [
                -90.07144751662682,
                47.11174998634988
               ],
               [
                -90.12805904820257,
                47.023900051453694
               ],
               [
                -90.18521318231738,
                46.93607595477364
               ],
               [
                -90.24182471389315,
                46.84822601987753
               ],
               [
                -90.29897884800795,
                46.760918687520345
               ],
               [
                -90.3555903795837,
                46.67306875262415
               ],
               [
                -90.39527787958384,
                46.611677151061414
               ],
               [
                -90.41062577997457,
                46.58418528908214
               ],
               [
                -90.3968798489849,
                46.576252956725284
               ],
               [
                -90.33497148309922,
                46.59687185320979
               ],
               [
                -90.33391211623724,
                46.593693752623835
               ],
               [
                -90.17673824742151,
                46.5608792181185
               ],
               [
                -90.09630388055922,
                46.38099355731049
               ],
               [
                -89.22106014683175,
                46.202115586932166
               ],
               [
                -88.64427364780602,
                46.02220408790805
               ],
               [
                -88.36170691603405,
                46.02062795672322
               ],
               [
                -88.16696428094212,
                46.00791555437945
               ],
               [
                -88.11192888055128,
                45.843351955745845
               ],
               [
                -87.87540584995136,
                45.77984162045912
               ],
               [
                -87.78701331251612,
                45.639617621435136
               ],
               [
                -87.84788814975595,
                45.55918325457283
               ],
               [
                -87.89338924838894,
                45.39671255144718
               ],
               [
                -87.67324764682556,
                45.387746690444544
               ],
               [
                -87.74732581251595,
                45.22687795671993
               ],
               [
                -87.61397477898677,
                45.108874823581445
               ],
               [
                -87.6129154121248,
                45.11045095476635
               ],
               [
                -87.45946224643407,
                45.068127956719295
               ],
               [
                -87.41977474643392,
                45.18401235613382
               ],
               [
                -87.24461747918065,
                45.28984568946771
               ],
               [
                -87.11550391309937,
                45.452290554377086
               ],
               [
                -86.94246537957002,
                45.452290554377086
               ],
               [
                -86.77420691602771,
                45.45229055437716
               ],
               [
                -86.4815632799588,
                45.32317698829584
               ],
               [
                -86.26459977898139,
                45.22687795671993
               ],
               [
                -86.40167151563557,
                45.13321442319092
               ],
               [
                -86.53608191602675,
                45.04166962338586
               ],
               [
                -86.71493404818892,
                44.84641022397102
               ],
               [
                -86.82234351270758,
                44.59133535417833
               ],
               [
                -86.91866838249962,
                44.36168528907325
               ],
               [
                -87.03243404819018,
                44.09128835710602
               ],
               [
                -87.08323198113311,
                43.89018952084234
               ],
               [
                -87.14196224643281,
                43.65787811947408
               ],
               [
                -87.14514034701875,
                43.571087551439874
               ],
               [
                -87.15519141309953,
                43.326632188483174
               ],
               [
                -87.11392778191447,
                43.030293687505434
               ],
               [
                -87.07953711622423,
                42.782117621423694
               ],
               [
                -87.039307013685,
                42.492652085940904
               ],
               [
                -87.48964128289253,
                42.49531342220381
               ],
               [
                -87.80659868035474,
                42.4968895533887
               ],
               [
                -87.80659868035474,
                42.49425405534181
               ],
               [
                -88.5765516832875,
                42.50324575456061
               ],
               [
                -89.62005388055731,
                42.50536448828457
               ],
               [
                -90.64081844761868,
                42.50536448828457
               ],
               [
                -90.73817684605658,
                42.65827505143622
               ],
               [
                -91.06469438349276,
                42.75408315690535
               ],
               [
                -91.12923824742532,
                42.91283315690599
               ],
               [
                -91.16998511428747,
                43.00223338477093
               ],
               [
                -91.17316321487343,
                43.21232392025354
               ],
               [
                -91.08373714879232,
                43.288004055345
               ],
               [
                -91.21391008173555,
                43.44675405534562
               ],
               [
                -91.22819861526426,
                43.5012468531974
               ]
              ]
             ],
             "type": "Polygon"
            },
            "id": "40",
            "properties": {
             "Count": 75,
             "FCLASS_AR": null,
             "FCLASS_BD": null,
             "FCLASS_BR": null,
             "FCLASS_CN": null,
             "FCLASS_DE": null,
             "FCLASS_EG": null,
             "FCLASS_ES": null,
             "FCLASS_FR": null,
             "FCLASS_GB": null,
             "FCLASS_GR": null,
             "FCLASS_ID": null,
             "FCLASS_IL": null,
             "FCLASS_IN": null,
             "FCLASS_ISO": null,
             "FCLASS_IT": null,
             "FCLASS_JP": null,
             "FCLASS_KO": null,
             "FCLASS_MA": null,
             "FCLASS_NL": null,
             "FCLASS_NP": null,
             "FCLASS_PK": null,
             "FCLASS_PL": null,
             "FCLASS_PS": null,
             "FCLASS_PT": null,
             "FCLASS_RU": null,
             "FCLASS_SA": null,
             "FCLASS_SE": null,
             "FCLASS_TLC": null,
             "FCLASS_TR": null,
             "FCLASS_TW": null,
             "FCLASS_UA": null,
             "FCLASS_US": null,
             "FCLASS_VN": null,
             "abbrev": "Wis.",
             "adm0_a3": "USA",
             "adm0_label": 2,
             "adm0_sr": 1,
             "adm1_code": "USA-3553",
             "admin": "United States of America",
             "area_sqkm": 0,
             "check_me": 20,
             "code_hasc": "US.WI",
             "code_local": "US55",
             "datarank": 1,
             "diss_me": 3553,
             "featurecla": "Admin-1 scale rank",
             "fips": "US55",
             "fips_alt": null,
             "gadm_level": 1,
             "geonunit": "United States of America",
             "gn_a1_code": "US.WI",
             "gn_id": 5279468,
             "gn_level": 1,
             "gn_name": "Wisconsin",
             "gn_region": null,
             "gns_adm1": null,
             "gns_id": -1,
             "gns_lang": null,
             "gns_level": -1,
             "gns_name": null,
             "gns_region": null,
             "gu_a3": "USA",
             "hasc_maybe": null,
             "id": 40,
             "iso_3166_2": "US-WI",
             "iso_a2": "US",
             "labelrank": 0,
             "latitude": 44.3709,
             "longitude": -89.5831,
             "mapcolor13": 1,
             "mapcolor9": 1,
             "max_label": 7.5,
             "min_label": 3.5,
             "min_zoom": 2,
             "name": "Wisconsin",
             "name_alt": "WI|Wis.",
             "name_ar": "ويسكونسن",
             "name_bn": "উইসকনসিন",
             "name_de": "Wisconsin",
             "name_el": "Ουισκόνσιν",
             "name_en": "Wisconsin",
             "name_es": "Wisconsin",
             "name_fa": "ویسکانسین",
             "name_fr": "Wisconsin",
             "name_he": "ויסקונסין",
             "name_hi": "विस्कॉन्सिन",
             "name_hu": "Wisconsin",
             "name_id": "Wisconsin",
             "name_it": "Wisconsin",
             "name_ja": "ウィスコンシン州",
             "name_ko": "위스콘신",
             "name_len": 9,
             "name_local": null,
             "name_nl": "Wisconsin",
             "name_pl": "Wisconsin",
             "name_pt": "Wisconsin",
             "name_ru": "Висконсин",
             "name_sv": "Wisconsin",
             "name_tr": "Wisconsin",
             "name_uk": "Вісконсин",
             "name_ur": "وسکونسن",
             "name_vi": "Wisconsin",
             "name_zh": "威斯康星州",
             "name_zht": "威斯康辛州",
             "ne_id": 1159315321,
             "note": null,
             "postal": "WI",
             "provnum_ne": 0,
             "region": "Midwest",
             "region_cod": null,
             "region_sub": "East North Central",
             "sameascity": -99,
             "scalerank": 2,
             "sov_a3": "US1",
             "sub_code": null,
             "type": "State",
             "type_en": "State",
             "wikidataid": "Q1537",
             "wikipedia": "http://en.wikipedia.org/wiki/Wisconsin",
             "woe_id": 2347608,
             "woe_label": "Wisconsin, US, United States",
             "woe_name": "Wisconsin"
            },
            "type": "Feature"
           },
           {
            "bbox": [
             -82.5890101793573,
             37.195173263549805,
             -77.72279557972846,
             40.64111135513909
            ],
            "geometry": {
             "coordinates": [
              [
               [
                -81.9725361803314,
                37.53595205336886
               ],
               [
                -82.16727881542333,
                37.554478054345495
               ],
               [
                -82.26729855012425,
                37.67565928806994
               ],
               [
                -82.41333614778108,
                37.80531545669025
               ],
               [
                -82.46149858267711,
                37.95716665297992
               ],
               [
                -82.58056108267758,
                38.11328115493366
               ],
               [
                -82.56996741405774,
                38.320193589830325
               ],
               [
                -82.5890101793573,
                38.415433254544254
               ],
               [
                -82.34083411327558,
                38.44083222101571
               ],
               [
                -82.21066118033235,
                38.57948008885481
               ],
               [
                -82.19479651561875,
                38.80119782160308
               ],
               [
                -82.05402991405569,
                39.01816132258051
               ],
               [
                -81.91856014680255,
                38.9937958847549
               ],
               [
                -81.90587358267489,
                38.8821489527883
               ],
               [
                -81.81696428091672,
                38.92183645278847
               ],
               [
                -81.78575171581242,
                39.019220689442506
               ],
               [
                -81.74500484895029,
                39.19964895278957
               ],
               [
                -81.52222774934002,
                39.37162811945693
               ],
               [
                -81.40104651561558,
                39.34940725357143
               ],
               [
                -81.26609351268534,
                39.37744171808977
               ],
               [
                -81.15075171580989,
                39.426146755524854
               ],
               [
                -80.87875281444161,
                39.65422068944504
               ],
               [
                -80.86182878286601,
                39.75739268651576
               ],
               [
                -80.76498714875106,
                39.973296820631205
               ],
               [
                -80.66178931346417,
                40.23364268651767
               ],
               [
                -80.6152288479692,
                40.463835354161816
               ],
               [
                -80.65755184601625,
                40.5908301865191
               ],
               [
                -80.5189298163933,
                40.64111135513909
               ],
               [
                -80.5189298163933,
                39.72088328710156
               ],
               [
                -79.47752051463135,
                39.720883287101685
               ],
               [
                -79.4859954495272,
                39.213420721995476
               ],
               [
                -79.33251644562031,
                39.30284678807645
               ],
               [
                -79.16107988149203,
                39.41821442316805
               ],
               [
                -78.96315914581419,
                39.457901923168265
               ],
               [
                -78.82929134796206,
                39.562650051423844
               ],
               [
                -78.5340122138463,
                39.522445787100764
               ],
               [
                -78.42500077992659,
                39.59652395279116
               ],
               [
                -78.2324027167748,
                39.67220408788273
               ],
               [
                -77.92335181345322,
                39.59282908788229
               ],
               [
                -77.80165381540587,
                39.44994375259526
               ],
               [
                -77.72279557972846,
                39.32243215591507
               ],
               [
                -77.83498511423412,
                39.13456248631796
               ],
               [
                -77.881075040849,
                39.159017223477484
               ],
               [
                -78.34562492370605,
                39.40550422668457
               ],
               [
                -78.34562560474399,
                39.40550192787474
               ],
               [
                -78.34562577992627,
                39.40550202082426
               ],
               [
                -78.36231391159738,
                39.34917137453467
               ],
               [
                -78.42448425292969,
                39.13931846618652
               ],
               [
                -78.51354985444293,
                39.068071449123266
               ],
               [
                -78.54884334991405,
                39.039839585926956
               ],
               [
                -78.6299356254404,
                38.985706719408256
               ],
               [
                -78.74461936950684,
                38.90915107727051
               ],
               [
                -78.89280128479004,
                38.780038833618164
               ],
               [
                -78.96527671813965,
                38.82181739807129
               ],
               [
                -78.96527744663842,
                38.821816468533605
               ],
               [
                -78.96527787953812,
                38.82181671808755
               ],
               [
                -79.00735469485451,
                38.76812744525416
               ],
               [
                -79.07640838623047,
                38.68001747131348
               ],
               [
                -79.17482566833496,
                38.5556583404541
               ],
               [
                -79.22298812866211,
                38.46463203430176
               ],
               [
                -79.36639022827148,
                38.42602729797363
               ],
               [
                -79.51508903503418,
                38.497446060180664
               ],
               [
                -79.64792251586914,
                38.57472801208496
               ],
               [
                -79.64792348203814,
                38.57472581747799
               ],
               [
                -79.64792355011377,
                38.57472585708395
               ],
               [
                -79.74367926400072,
                38.35722137799588
               ],
               [
                -79.81891914251666,
                38.27920277298852
               ],
               [
                -79.91514238149504,
                38.17942698826727
               ],
               [
                -79.96436348401359,
                38.031789518560714
               ],
               [
                -80.15750503540039,
                37.90109825134277
               ],
               [
                -80.2929744720459,
                37.72805976867676
               ],
               [
                -80.29297442533623,
                37.728059434204695
               ],
               [
                -80.29297461619709,
                37.7280591904139
               ],
               [
                -80.27656755677725,
                37.610574309812414
               ],
               [
                -80.28577911611927,
                37.57167259382654
               ],
               [
                -80.29824533321333,
                37.519029200305404
               ],
               [
                -80.45699501037598,
                37.44177436828613
               ],
               [
                -80.5961856842041,
                37.4560604095459
               ],
               [
                -80.5961859173229,
                37.45606027207203
               ],
               [
                -80.59618608266965,
                37.456060289045624
               ],
               [
                -80.60294111399195,
                37.452076624914405
               ],
               [
                -80.72000312805176,
                37.38304328918457
               ],
               [
                -80.833251953125,
                37.41849327087402
               ],
               [
                -80.84166996984384,
                37.38376497066467
               ],
               [
                -80.85492997915506,
                37.32906545668834
               ],
               [
                -80.91531813243837,
                37.31553155101449
               ],
               [
                -81.22800827026367,
                37.24545478820801
               ],
               [
                -81.34812927246094,
                37.31583595275879
               ],
               [
                -81.3481292729979,
                37.31583595255335
               ],
               [
                -81.3481298489487,
                37.31583629002162
               ],
               [
                -81.43343360042127,
                37.28319918373153
               ],
               [
                -81.66351127624512,
                37.195173263549805
               ],
               [
                -81.81538772583008,
                37.27560615539551
               ],
               [
                -81.83874171324607,
                37.29435542623226
               ],
               [
                -81.92809444856039,
                37.366091620425465
               ],
               [
                -81.9725361803314,
                37.53595205336886
               ]
              ]
             ],
             "type": "Polygon"
            },
            "id": "41",
            "properties": {
             "Count": 81,
             "FCLASS_AR": null,
             "FCLASS_BD": null,
             "FCLASS_BR": null,
             "FCLASS_CN": null,
             "FCLASS_DE": null,
             "FCLASS_EG": null,
             "FCLASS_ES": null,
             "FCLASS_FR": null,
             "FCLASS_GB": null,
             "FCLASS_GR": null,
             "FCLASS_ID": null,
             "FCLASS_IL": null,
             "FCLASS_IN": null,
             "FCLASS_ISO": null,
             "FCLASS_IT": null,
             "FCLASS_JP": null,
             "FCLASS_KO": null,
             "FCLASS_MA": null,
             "FCLASS_NL": null,
             "FCLASS_NP": null,
             "FCLASS_PK": null,
             "FCLASS_PL": null,
             "FCLASS_PS": null,
             "FCLASS_PT": null,
             "FCLASS_RU": null,
             "FCLASS_SA": null,
             "FCLASS_SE": null,
             "FCLASS_TLC": null,
             "FCLASS_TR": null,
             "FCLASS_TW": null,
             "FCLASS_UA": null,
             "FCLASS_US": null,
             "FCLASS_VN": null,
             "abbrev": "W.Va.",
             "adm0_a3": "USA",
             "adm0_label": 2,
             "adm0_sr": 1,
             "adm1_code": "USA-3554",
             "admin": "United States of America",
             "area_sqkm": 0,
             "check_me": 20,
             "code_hasc": "US.WV",
             "code_local": "US54",
             "datarank": 1,
             "diss_me": 3554,
             "featurecla": "Admin-1 scale rank",
             "fips": "US54",
             "fips_alt": null,
             "gadm_level": 1,
             "geonunit": "United States of America",
             "gn_a1_code": "US.WV",
             "gn_id": 4826850,
             "gn_level": 1,
             "gn_name": "West Virginia",
             "gn_region": null,
             "gns_adm1": null,
             "gns_id": -1,
             "gns_lang": null,
             "gns_level": -1,
             "gns_name": null,
             "gns_region": null,
             "gu_a3": "USA",
             "hasc_maybe": null,
             "id": 41,
             "iso_3166_2": "US-WV",
             "iso_a2": "US",
             "labelrank": 0,
             "latitude": 38.6422,
             "longitude": -80.7128,
             "mapcolor13": 1,
             "mapcolor9": 1,
             "max_label": 7.5,
             "min_label": 3.5,
             "min_zoom": 2,
             "name": "West Virginia",
             "name_alt": "WV|W.Va.",
             "name_ar": "فيرجينيا الغربية",
             "name_bn": "পশ্চিম ভার্জিনিয়া",
             "name_de": "West Virginia",
             "name_el": "Δυτική Βιρτζίνια",
             "name_en": "West Virginia",
             "name_es": "Virginia Occidental",
             "name_fa": "ویرجینیای غربی",
             "name_fr": "Virginie-Occidentale",
             "name_he": "וירג'יניה המערבית",
             "name_hi": "पश्चिमी वर्जीनिया",
             "name_hu": "Nyugat-Virginia",
             "name_id": "Virginia Barat",
             "name_it": "Virginia Occidentale",
             "name_ja": "ウェストバージニア州",
             "name_ko": "웨스트버지니아",
             "name_len": 13,
             "name_local": null,
             "name_nl": "West Virginia",
             "name_pl": "Wirginia Zachodnia",
             "name_pt": "Virgínia Ocidental",
             "name_ru": "Западная Виргиния",
             "name_sv": "West Virginia",
             "name_tr": "Batı Virginia",
             "name_uk": "Західна Вірджинія",
             "name_ur": "مغربی ورجینیا",
             "name_vi": "Tây Virginia",
             "name_zh": "西維吉尼亞州",
             "name_zht": "西維吉尼亞州",
             "ne_id": 1159315323,
             "note": null,
             "postal": "WV",
             "provnum_ne": 0,
             "region": "South",
             "region_cod": null,
             "region_sub": "South Atlantic",
             "sameascity": -99,
             "scalerank": 2,
             "sov_a3": "US1",
             "sub_code": null,
             "type": "State",
             "type_en": "State",
             "wikidataid": "Q1371",
             "wikipedia": "http://en.wikipedia.org/wiki/West_Virginia",
             "woe_id": 2347607,
             "woe_label": "West Virginia, US, United States",
             "woe_name": "West Virginia"
            },
            "type": "Feature"
           },
           {
            "bbox": [
             -75.78764238147852,
             38.44876455337254,
             -75.04838517932711,
             39.847361355135945
            ],
            "geometry": {
             "coordinates": [
              [
               [
                -75.04838517932711,
                38.44876455337254
               ],
               [
                -75.71462358265006,
                38.44930715591158
               ],
               [
                -75.78764238147852,
                39.72354462336466
               ],
               [
                -75.71090287952501,
                39.80237702082593
               ],
               [
                -75.62096004912104,
                39.847361355135945
               ],
               [
                -75.40557267932849,
                39.795504055331094
               ],
               [
                -75.55427161324837,
                39.69124685318229
               ],
               [
                -75.527813279915,
                39.49864879003036
               ],
               [
                -75.3198673163725,
                38.95994782160369
               ],
               [
                -75.07183476478986,
                38.78203223017931
               ],
               [
                -75.04838517932711,
                38.44876455337254
               ]
              ]
             ],
             "type": "Polygon"
            },
            "id": "42",
            "properties": {
             "Count": 86,
             "FCLASS_AR": null,
             "FCLASS_BD": null,
             "FCLASS_BR": null,
             "FCLASS_CN": null,
             "FCLASS_DE": null,
             "FCLASS_EG": null,
             "FCLASS_ES": null,
             "FCLASS_FR": null,
             "FCLASS_GB": null,
             "FCLASS_GR": null,
             "FCLASS_ID": null,
             "FCLASS_IL": null,
             "FCLASS_IN": null,
             "FCLASS_ISO": null,
             "FCLASS_IT": null,
             "FCLASS_JP": null,
             "FCLASS_KO": null,
             "FCLASS_MA": null,
             "FCLASS_NL": null,
             "FCLASS_NP": null,
             "FCLASS_PK": null,
             "FCLASS_PL": null,
             "FCLASS_PS": null,
             "FCLASS_PT": null,
             "FCLASS_RU": null,
             "FCLASS_SA": null,
             "FCLASS_SE": null,
             "FCLASS_TLC": null,
             "FCLASS_TR": null,
             "FCLASS_TW": null,
             "FCLASS_UA": null,
             "FCLASS_US": null,
             "FCLASS_VN": null,
             "abbrev": "Del.",
             "adm0_a3": "USA",
             "adm0_label": 2,
             "adm0_sr": 1,
             "adm1_code": "USA-3555",
             "admin": "United States of America",
             "area_sqkm": 0,
             "check_me": 20,
             "code_hasc": "US.DE",
             "code_local": "US10",
             "datarank": 1,
             "diss_me": 3555,
             "featurecla": "Admin-1 scale rank",
             "fips": "US10",
             "fips_alt": null,
             "gadm_level": 1,
             "geonunit": "United States of America",
             "gn_a1_code": "US.DE",
             "gn_id": 4142224,
             "gn_level": 1,
             "gn_name": "Delaware",
             "gn_region": null,
             "gns_adm1": null,
             "gns_id": -1,
             "gns_lang": null,
             "gns_level": -1,
             "gns_name": null,
             "gns_region": null,
             "gu_a3": "USA",
             "hasc_maybe": null,
             "id": 42,
             "iso_3166_2": "US-DE",
             "iso_a2": "US",
             "labelrank": 0,
             "latitude": 38.8657,
             "longitude": -75.4112,
             "mapcolor13": 1,
             "mapcolor9": 1,
             "max_label": 7.5,
             "min_label": 3.5,
             "min_zoom": 2,
             "name": "Delaware",
             "name_alt": "DE|Del.",
             "name_ar": "ديلاوير",
             "name_bn": "ডেলাওয়্যার",
             "name_de": "Delaware",
             "name_el": "Ντέλαγουερ",
             "name_en": "Delaware",
             "name_es": "Delaware",
             "name_fa": "دلاویر",
             "name_fr": "Delaware",
             "name_he": "דלאוור",
             "name_hi": "डेलावेयर",
             "name_hu": "Delaware",
             "name_id": "Delaware",
             "name_it": "Delaware",
             "name_ja": "デラウェア州",
             "name_ko": "델라웨어",
             "name_len": 8,
             "name_local": null,
             "name_nl": "Delaware",
             "name_pl": "Delaware",
             "name_pt": "Delaware",
             "name_ru": "Делавэр",
             "name_sv": "Delaware",
             "name_tr": "Delaware",
             "name_uk": "Делавер",
             "name_ur": "ڈیلاویئر",
             "name_vi": "Delaware",
             "name_zh": "特拉华州",
             "name_zht": "特拉華州",
             "ne_id": 1159315325,
             "note": null,
             "postal": "DE",
             "provnum_ne": 0,
             "region": "South",
             "region_cod": null,
             "region_sub": "South Atlantic",
             "sameascity": -99,
             "scalerank": 2,
             "sov_a3": "US1",
             "sub_code": null,
             "type": "State",
             "type_en": "State",
             "wikidataid": "Q1393",
             "wikipedia": "http://en.wikipedia.org/wiki/Delaware",
             "woe_id": 2347566,
             "woe_label": "Delaware, US, United States",
             "woe_name": "Delaware"
            },
            "type": "Feature"
           },
           {
            "bbox": [
             -77.11954986485948,
             38.7895448536498,
             -76.91157894561064,
             38.98216868748922
            ],
            "geometry": {
             "coordinates": [
              [
               [
                -77.04123501575428,
                38.7895448536498
               ],
               [
                -77.04123497009277,
                38.7895450592041
               ],
               [
                -77.03647994995117,
                38.848276138305664
               ],
               [
                -77.11954986485948,
                38.9340067776485
               ],
               [
                -77.03859961618406,
                38.98216868748922
               ],
               [
                -76.91157894561064,
                38.87845408787943
               ],
               [
                -77.04123501575428,
                38.7895448536498
               ]
              ]
             ],
             "type": "Polygon"
            },
            "id": "43",
            "properties": {
             "Count": null,
             "FCLASS_AR": null,
             "FCLASS_BD": null,
             "FCLASS_BR": null,
             "FCLASS_CN": null,
             "FCLASS_DE": null,
             "FCLASS_EG": null,
             "FCLASS_ES": null,
             "FCLASS_FR": null,
             "FCLASS_GB": null,
             "FCLASS_GR": null,
             "FCLASS_ID": null,
             "FCLASS_IL": null,
             "FCLASS_IN": null,
             "FCLASS_ISO": null,
             "FCLASS_IT": null,
             "FCLASS_JP": null,
             "FCLASS_KO": null,
             "FCLASS_MA": null,
             "FCLASS_NL": null,
             "FCLASS_NP": null,
             "FCLASS_PK": null,
             "FCLASS_PL": null,
             "FCLASS_PS": null,
             "FCLASS_PT": null,
             "FCLASS_RU": null,
             "FCLASS_SA": null,
             "FCLASS_SE": null,
             "FCLASS_TLC": null,
             "FCLASS_TR": null,
             "FCLASS_TW": null,
             "FCLASS_UA": null,
             "FCLASS_US": null,
             "FCLASS_VN": null,
             "abbrev": "D.C.",
             "adm0_a3": "USA",
             "adm0_label": 2,
             "adm0_sr": 1,
             "adm1_code": "USA-3556",
             "admin": "United States of America",
             "area_sqkm": 0,
             "check_me": 20,
             "code_hasc": "US.DC",
             "code_local": "US11",
             "datarank": 1,
             "diss_me": 3556,
             "featurecla": "Admin-1 scale rank",
             "fips": "US11",
             "fips_alt": null,
             "gadm_level": 1,
             "geonunit": "United States of America",
             "gn_a1_code": "US.DC",
             "gn_id": 4138106,
             "gn_level": 1,
             "gn_name": "District of Columbia",
             "gn_region": null,
             "gns_adm1": null,
             "gns_id": -1,
             "gns_lang": null,
             "gns_level": -1,
             "gns_name": null,
             "gns_region": null,
             "gu_a3": "USA",
             "hasc_maybe": null,
             "id": 43,
             "iso_3166_2": "US-DC",
             "iso_a2": "US",
             "labelrank": 9,
             "latitude": 38.8922,
             "longitude": -77.0113,
             "mapcolor13": 1,
             "mapcolor9": 1,
             "max_label": 7.5,
             "min_label": 3.5,
             "min_zoom": 2,
             "name": "District of Columbia",
             "name_alt": "DC|D.C.",
             "name_ar": "واشنطن",
             "name_bn": "ওয়াশিংটন",
             "name_de": "Washington",
             "name_el": "Ουάσινγκτον",
             "name_en": "Washington",
             "name_es": "Washington D. C.",
             "name_fa": "واشینگتن، دی. سی.",
             "name_fr": "Washington",
             "name_he": "וושינגטון די. סי.",
             "name_hi": "वॉशिंगटन डी॰ सी॰",
             "name_hu": "Washington",
             "name_id": "Washington",
             "name_it": "Washington",
             "name_ja": "ワシントンD.C.",
             "name_ko": "워싱턴 D.C.",
             "name_len": 20,
             "name_local": null,
             "name_nl": "Washington D.C.",
             "name_pl": "Waszyngton",
             "name_pt": "Washington",
             "name_ru": "Вашингтон",
             "name_sv": "Washington",
             "name_tr": "Washington",
             "name_uk": "Вашингтон",
             "name_ur": "واشنگٹن ڈی سی",
             "name_vi": "Washington",
             "name_zh": "华盛顿哥伦比亚特区",
             "name_zht": "華盛頓哥倫比亞特區",
             "ne_id": 1159315327,
             "note": null,
             "postal": "DC",
             "provnum_ne": 0,
             "region": "South",
             "region_cod": null,
             "region_sub": "South Atlantic",
             "sameascity": 9,
             "scalerank": 2,
             "sov_a3": "US1",
             "sub_code": null,
             "type": "Federal District",
             "type_en": "Federal District",
             "wikidataid": "Q61",
             "wikipedia": "http://en.wikipedia.org/wiki/Washington,_D.C.",
             "woe_id": 2347567,
             "woe_label": "District of Columbia, US, United States",
             "woe_name": "District of Columbia"
            },
            "type": "Feature"
           },
           {
            "bbox": [
             -79.4859954495272,
             37.93705028942895,
             -75.04838517932711,
             39.72566335708859
            ],
            "geometry": {
             "coordinates": [
              [
               [
                -75.37754063414677,
                38.01537999412076
               ],
               [
                -75.37753868103027,
                38.01538276672363
               ],
               [
                -75.60984992980957,
                38.00003242492676
               ],
               [
                -75.72204971313477,
                37.93705177307129
               ],
               [
                -75.72205038686438,
                37.93705028942895
               ],
               [
                -76.23286999999999,
                38.31921500000004
               ],
               [
                -76.35000000000002,
                39.14999999999998
               ],
               [
                -76.54272500000002,
                38.71761500000014
               ],
               [
                -76.32932999999997,
                38.08326000000005
               ],
               [
                -76.98989457874893,
                38.2397333847519
               ],
               [
                -77.00225319734794,
                38.26961787393406
               ],
               [
                -77.0481071472168,
                38.380502700805664
               ],
               [
                -77.21057891845703,
                38.33711814880371
               ],
               [
                -77.34338699431744,
                38.39161084918188
               ],
               [
                -77.22962154815099,
                38.61441335708423
               ],
               [
                -77.09807033337478,
                38.687120586479026
               ],
               [
                -77.05921745300293,
                38.70859336853027
               ],
               [
                -77.04123501575428,
                38.7895448536498
               ],
               [
                -76.91157894561064,
                38.87845408787943
               ],
               [
                -77.03859961618406,
                38.98216868748922
               ],
               [
                -77.11954986485948,
                38.9340067776485
               ],
               [
                -77.11955070495605,
                38.93400764465332
               ],
               [
                -77.30581855773926,
                39.04567909240723
               ],
               [
                -77.5169677734375,
                39.10598564147949
               ],
               [
                -77.50088163990247,
                39.12947981343377
               ],
               [
                -77.44340694854247,
                39.213420721995476
               ],
               [
                -77.44340804127478,
                39.213421340218346
               ],
               [
                -77.44340705871582,
                39.213422775268555
               ],
               [
                -77.57621574401855,
                39.28856086730957
               ],
               [
                -77.69582987282635,
                39.31620052507624
               ],
               [
                -77.72279557972846,
                39.32243215591507
               ],
               [
                -77.80165381540587,
                39.44994375259526
               ],
               [
                -77.92335181345322,
                39.59282908788229
               ],
               [
                -78.2324027167748,
                39.67220408788273
               ],
               [
                -78.42500077992659,
                39.59652395279116
               ],
               [
                -78.5340122138463,
                39.522445787100764
               ],
               [
                -78.82929134796206,
                39.562650051423844
               ],
               [
                -78.96315914581419,
                39.457901923168265
               ],
               [
                -79.16107988149203,
                39.41821442316805
               ],
               [
                -79.33251644562031,
                39.30284678807645
               ],
               [
                -79.4859954495272,
                39.213420721995476
               ],
               [
                -79.47752051463135,
                39.720883287101685
               ],
               [
                -78.54990271677599,
                39.71982392023972
               ],
               [
                -78.23291948109767,
                39.72140005142455
               ],
               [
                -77.5232987128656,
                39.72566335708859
               ],
               [
                -76.66818294951588,
                39.720883287101685
               ],
               [
                -75.78764238147852,
                39.72354462336466
               ],
               [
                -75.71462358265006,
                38.44930715591158
               ],
               [
                -75.04838517932711,
                38.44876455337254
               ],
               [
                -75.05673000000002,
                38.40412000000015
               ],
               [
                -75.37753821481016,
                38.01538015395681
               ],
               [
                -75.37754063414677,
                38.01537999412076
               ]
              ]
             ],
             "type": "Polygon"
            },
            "id": "44",
            "properties": {
             "Count": 86,
             "FCLASS_AR": null,
             "FCLASS_BD": null,
             "FCLASS_BR": null,
             "FCLASS_CN": null,
             "FCLASS_DE": null,
             "FCLASS_EG": null,
             "FCLASS_ES": null,
             "FCLASS_FR": null,
             "FCLASS_GB": null,
             "FCLASS_GR": null,
             "FCLASS_ID": null,
             "FCLASS_IL": null,
             "FCLASS_IN": null,
             "FCLASS_ISO": null,
             "FCLASS_IT": null,
             "FCLASS_JP": null,
             "FCLASS_KO": null,
             "FCLASS_MA": null,
             "FCLASS_NL": null,
             "FCLASS_NP": null,
             "FCLASS_PK": null,
             "FCLASS_PL": null,
             "FCLASS_PS": null,
             "FCLASS_PT": null,
             "FCLASS_RU": null,
             "FCLASS_SA": null,
             "FCLASS_SE": null,
             "FCLASS_TLC": null,
             "FCLASS_TR": null,
             "FCLASS_TW": null,
             "FCLASS_UA": null,
             "FCLASS_US": null,
             "FCLASS_VN": null,
             "abbrev": "Md.",
             "adm0_a3": "USA",
             "adm0_label": 2,
             "adm0_sr": 1,
             "adm1_code": "USA-3557",
             "admin": "United States of America",
             "area_sqkm": 0,
             "check_me": 20,
             "code_hasc": "US.MD",
             "code_local": "US24",
             "datarank": 1,
             "diss_me": 3557,
             "featurecla": "Admin-1 scale rank",
             "fips": "US24",
             "fips_alt": null,
             "gadm_level": 1,
             "geonunit": "United States of America",
             "gn_a1_code": "US.MD",
             "gn_id": 4361885,
             "gn_level": 1,
             "gn_name": "Maryland",
             "gn_region": null,
             "gns_adm1": null,
             "gns_id": -1,
             "gns_lang": null,
             "gns_level": -1,
             "gns_name": null,
             "gns_region": null,
             "gu_a3": "USA",
             "hasc_maybe": null,
             "id": 44,
             "iso_3166_2": "US-MD",
             "iso_a2": "US",
             "labelrank": 0,
             "latitude": 39.3874,
             "longitude": -77.0454,
             "mapcolor13": 1,
             "mapcolor9": 1,
             "max_label": 7.5,
             "min_label": 3.5,
             "min_zoom": 2,
             "name": "Maryland",
             "name_alt": "MD",
             "name_ar": "ماريلند",
             "name_bn": "মেরিল্যান্ড",
             "name_de": "Maryland",
             "name_el": "Μέριλαντ",
             "name_en": "Maryland",
             "name_es": "Maryland",
             "name_fa": "مریلند",
             "name_fr": "Maryland",
             "name_he": "מרילנד",
             "name_hi": "मैरीलैंड",
             "name_hu": "Maryland",
             "name_id": "Maryland",
             "name_it": "Maryland",
             "name_ja": "メリーランド州",
             "name_ko": "메릴랜드",
             "name_len": 8,
             "name_local": null,
             "name_nl": "Maryland",
             "name_pl": "Maryland",
             "name_pt": "Maryland",
             "name_ru": "Мэриленд",
             "name_sv": "Maryland",
             "name_tr": "Maryland",
             "name_uk": "Меріленд",
             "name_ur": "میری لینڈ",
             "name_vi": "Maryland",
             "name_zh": "马里兰州",
             "name_zht": "馬里蘭州",
             "ne_id": 1159315329,
             "note": null,
             "postal": "MD",
             "provnum_ne": 0,
             "region": "South",
             "region_cod": null,
             "region_sub": "South Atlantic",
             "sameascity": -99,
             "scalerank": 2,
             "sov_a3": "US1",
             "sub_code": null,
             "type": "State",
             "type_en": "State",
             "wikidataid": "Q1391",
             "wikipedia": "http://en.wikipedia.org/wiki/Maryland",
             "woe_id": 2347579,
             "woe_label": "Maryland, US, United States",
             "woe_name": "Maryland"
            },
            "type": "Feature"
           },
           {
            "bbox": [
             -75.55427161324837,
             38.939303086903124,
             -73.91279557971325,
             41.35548635514192
            ],
            "geometry": {
             "coordinates": [
              [
               [
                -75.527813279915,
                39.49864879003036
               ],
               [
                -75.55427161324837,
                39.69124685318229
               ],
               [
                -75.40557267932849,
                39.795504055331094
               ],
               [
                -75.200804816372,
                39.88704885513607
               ],
               [
                -75.12881954618945,
                39.949499823560814
               ],
               [
                -74.89175391305048,
                40.08179149022811
               ],
               [
                -74.76318294950823,
                40.19077708593164
               ],
               [
                -75.07802161324645,
                40.44954682063326
               ],
               [
                -75.09548824736112,
                40.555380153966894
               ],
               [
                -75.20395707874178,
                40.58661855728735
               ],
               [
                -75.19920284697093,
                40.74746145279573
               ],
               [
                -75.08225908069448,
                40.8697020533823
               ],
               [
                -75.1357183499004,
                40.999874986325494
               ],
               [
                -74.97590898303775,
                41.087724921221536
               ],
               [
                -74.80126848010735,
                41.31156138769393
               ],
               [
                -74.67902787952096,
                41.35548635514192
               ],
               [
                -73.91279557971325,
                40.96018748632537
               ],
               [
                -73.95232499999992,
                40.75075000000004
               ],
               [
                -74.25675391304787,
                40.473369655919726
               ],
               [
                -73.96244000000002,
                40.42763000000002
               ],
               [
                -74.17843827990953,
                39.70925608983589
               ],
               [
                -74.90604244657914,
                38.939303086903124
               ],
               [
                -74.9806632148086,
                39.19649669041985
               ],
               [
                -75.2002622138329,
                39.2483539902247
               ],
               [
                -75.527813279915,
                39.49864879003036
               ]
              ]
             ],
             "type": "Polygon"
            },
            "id": "45",
            "properties": {
             "Count": 67,
             "FCLASS_AR": null,
             "FCLASS_BD": null,
             "FCLASS_BR": null,
             "FCLASS_CN": null,
             "FCLASS_DE": null,
             "FCLASS_EG": null,
             "FCLASS_ES": null,
             "FCLASS_FR": null,
             "FCLASS_GB": null,
             "FCLASS_GR": null,
             "FCLASS_ID": null,
             "FCLASS_IL": null,
             "FCLASS_IN": null,
             "FCLASS_ISO": null,
             "FCLASS_IT": null,
             "FCLASS_JP": null,
             "FCLASS_KO": null,
             "FCLASS_MA": null,
             "FCLASS_NL": null,
             "FCLASS_NP": null,
             "FCLASS_PK": null,
             "FCLASS_PL": null,
             "FCLASS_PS": null,
             "FCLASS_PT": null,
             "FCLASS_RU": null,
             "FCLASS_SA": null,
             "FCLASS_SE": null,
             "FCLASS_TLC": null,
             "FCLASS_TR": null,
             "FCLASS_TW": null,
             "FCLASS_UA": null,
             "FCLASS_US": null,
             "FCLASS_VN": null,
             "abbrev": "N.J.",
             "adm0_a3": "USA",
             "adm0_label": 2,
             "adm0_sr": 5,
             "adm1_code": "USA-3558",
             "admin": "United States of America",
             "area_sqkm": 0,
             "check_me": 20,
             "code_hasc": "US.NJ",
             "code_local": "US34",
             "datarank": 1,
             "diss_me": 3558,
             "featurecla": "Admin-1 scale rank",
             "fips": "US34",
             "fips_alt": null,
             "gadm_level": 1,
             "geonunit": "United States of America",
             "gn_a1_code": "US.NJ",
             "gn_id": 5101760,
             "gn_level": 1,
             "gn_name": "New Jersey",
             "gn_region": null,
             "gns_adm1": null,
             "gns_id": -1,
             "gns_lang": null,
             "gns_level": -1,
             "gns_name": null,
             "gns_region": null,
             "gu_a3": "USA",
             "hasc_maybe": null,
             "id": 45,
             "iso_3166_2": "US-NJ",
             "iso_a2": "US",
             "labelrank": 0,
             "latitude": 40.0449,
             "longitude": -74.4653,
             "mapcolor13": 1,
             "mapcolor9": 1,
             "max_label": 7.5,
             "min_label": 3.5,
             "min_zoom": 2,
             "name": "New Jersey",
             "name_alt": "NJ|N.J.",
             "name_ar": "نيوجيرسي",
             "name_bn": "নিউ জার্সি",
             "name_de": "New Jersey",
             "name_el": "Νιου Τζέρσεϊ",
             "name_en": "New Jersey",
             "name_es": "Nueva Jersey",
             "name_fa": "نیوجرسی",
             "name_fr": "New Jersey",
             "name_he": "ניו ג'רזי",
             "name_hi": "न्यू जर्सी",
             "name_hu": "New Jersey",
             "name_id": "New Jersey",
             "name_it": "New Jersey",
             "name_ja": "ニュージャージー州",
             "name_ko": "뉴저지",
             "name_len": 10,
             "name_local": null,
             "name_nl": "New Jersey",
             "name_pl": "New Jersey",
             "name_pt": "Nova Jérsia",
             "name_ru": "Нью-Джерси",
             "name_sv": "New Jersey",
             "name_tr": "New Jersey",
             "name_uk": "Нью-Джерсі",
             "name_ur": "نیو جرسی",
             "name_vi": "New Jersey",
             "name_zh": "新泽西州",
             "name_zht": "紐澤西州",
             "ne_id": 1159315267,
             "note": null,
             "postal": "NJ",
             "provnum_ne": 0,
             "region": "Northeast",
             "region_cod": null,
             "region_sub": "Middle Atlantic",
             "sameascity": -99,
             "scalerank": 2,
             "sov_a3": "US1",
             "sub_code": null,
             "type": "State",
             "type_en": "State",
             "wikidataid": "Q1408",
             "wikipedia": "http://en.wikipedia.org/wiki/New_Jersey",
             "woe_id": 2347589,
             "woe_label": "New Jersey, US, United States",
             "woe_name": "New Jersey"
            },
            "type": "Feature"
           },
           {
            "bbox": [
             -79.77325657258632,
             40.62788218847237,
             -71.94482784695793,
             45.00725311947946
            ],
            "geometry": {
             "coordinates": [
              [
               [
                -73.49793718127407,
                42.054513454754115
               ],
               [
                -73.55348934598777,
                41.28985728613134
               ],
               [
                -73.47517371284943,
                41.2046686874981
               ],
               [
                -73.69267981636597,
                41.107310289060365
               ],
               [
                -73.65668718127472,
                40.9850696884738
               ],
               [
                -73.64788653178721,
                40.95476927691993
               ],
               [
                -73.64826921714257,
                40.954623463363454
               ],
               [
                -73.71000000000004,
                40.93110235165449
               ],
               [
                -72.24116634793569,
                41.11948008886509
               ],
               [
                -71.94482784695793,
                40.93003428808305
               ],
               [
                -73.34500077990629,
                40.63000092219647
               ],
               [
                -73.98211951363277,
                40.62788218847237
               ],
               [
                -73.95232499999992,
                40.75075000000004
               ],
               [
                -73.91279557971325,
                40.96018748632537
               ],
               [
                -74.67902787952096,
                41.35548635514192
               ],
               [
                -74.84043921578461,
                41.42638642024633
               ],
               [
                -75.01081641305097,
                41.49571035416608
               ],
               [
                -75.07538611519954,
                41.6412311874999
               ],
               [
                -75.04892778186621,
                41.751301988281625
               ],
               [
                -75.1679902818666,
                41.84178742122464
               ],
               [
                -75.38547054716696,
                41.99896129004043
               ],
               [
                -76.74383724639114,
                42.00053742122532
               ],
               [
                -78.20064754913136,
                42.00002065690239
               ],
               [
                -79.76008724640326,
                42.00002065690239
               ],
               [
                -79.76008724640326,
                42.50006765397467
               ],
               [
                -79.77303961320486,
                42.54612229847678
               ],
               [
                -79.77325657258632,
                42.54689373950663
               ],
               [
                -78.93936214874367,
                42.86361135514812
               ],
               [
                -78.91977678090512,
                42.96520722103389
               ],
               [
                -79.00999999999988,
                43.26999999999998
               ],
               [
                -79.17167355011185,
                43.46633942318431
               ],
               [
                -79.00232988149139,
                43.527188422207985
               ],
               [
                -78.84569861521464,
                43.58328318946087
               ],
               [
                -78.72027991404235,
                43.62508942318499
               ],
               [
                -76.82003414580555,
                43.628784288093755
               ],
               [
                -76.69676001657331,
                43.78489879004758
               ],
               [
                -76.58614661325254,
                43.9240634222096
               ],
               [
                -76.49999999999994,
                44.018458893758634
               ],
               [
                -76.37499999999989,
                44.09631000000002
               ],
               [
                -75.31826534697143,
                44.816231187512585
               ],
               [
                -74.86689754911805,
                45.00038015398479
               ],
               [
                -73.34766211616932,
                45.00725311947946
               ],
               [
                -73.36828101265375,
                44.804603990246875
               ],
               [
                -73.40796851265391,
                44.67600718848857
               ],
               [
                -73.3841715155835,
                44.379151923187905
               ],
               [
                -73.32913611519265,
                44.22673228614301
               ],
               [
                -73.4296726142165,
                44.01984568946249
               ],
               [
                -73.33812781441145,
                43.758440456714084
               ],
               [
                -73.40163814969816,
                43.61343638770307
               ],
               [
                -73.38311214872152,
                43.57535085710395
               ],
               [
                -73.23971004911158,
                43.56793528907005
               ],
               [
                -73.28203304715862,
                42.74348948828549
               ],
               [
                -73.49793718127407,
                42.054513454754115
               ]
              ]
             ],
             "type": "Polygon"
            },
            "id": "46",
            "properties": {
             "Count": 87,
             "FCLASS_AR": null,
             "FCLASS_BD": null,
             "FCLASS_BR": null,
             "FCLASS_CN": null,
             "FCLASS_DE": null,
             "FCLASS_EG": null,
             "FCLASS_ES": null,
             "FCLASS_FR": null,
             "FCLASS_GB": null,
             "FCLASS_GR": null,
             "FCLASS_ID": null,
             "FCLASS_IL": null,
             "FCLASS_IN": null,
             "FCLASS_ISO": null,
             "FCLASS_IT": null,
             "FCLASS_JP": null,
             "FCLASS_KO": null,
             "FCLASS_MA": null,
             "FCLASS_NL": null,
             "FCLASS_NP": null,
             "FCLASS_PK": null,
             "FCLASS_PL": null,
             "FCLASS_PS": null,
             "FCLASS_PT": null,
             "FCLASS_RU": null,
             "FCLASS_SA": null,
             "FCLASS_SE": null,
             "FCLASS_TLC": null,
             "FCLASS_TR": null,
             "FCLASS_TW": null,
             "FCLASS_UA": null,
             "FCLASS_US": null,
             "FCLASS_VN": null,
             "abbrev": "N.Y.",
             "adm0_a3": "USA",
             "adm0_label": 2,
             "adm0_sr": 3,
             "adm1_code": "USA-3559",
             "admin": "United States of America",
             "area_sqkm": 0,
             "check_me": 20,
             "code_hasc": "US.NY",
             "code_local": "US36",
             "datarank": 1,
             "diss_me": 3559,
             "featurecla": "Admin-1 scale rank",
             "fips": "US36",
             "fips_alt": null,
             "gadm_level": 1,
             "geonunit": "United States of America",
             "gn_a1_code": "US.NY",
             "gn_id": 5128638,
             "gn_level": 1,
             "gn_name": "New York",
             "gn_region": null,
             "gns_adm1": null,
             "gns_id": -1,
             "gns_lang": null,
             "gns_level": -1,
             "gns_name": null,
             "gns_region": null,
             "gu_a3": "USA",
             "hasc_maybe": null,
             "id": 46,
             "iso_3166_2": "US-NY",
             "iso_a2": "US",
             "labelrank": 0,
             "latitude": 43.1988,
             "longitude": -75.3242,
             "mapcolor13": 1,
             "mapcolor9": 1,
             "max_label": 7.5,
             "min_label": 3.5,
             "min_zoom": 2,
             "name": "New York",
             "name_alt": "NY|N.Y.",
             "name_ar": "نيويورك",
             "name_bn": "নিউ ইয়র্ক",
             "name_de": "New York",
             "name_el": "Νέα Υόρκη",
             "name_en": "New York",
             "name_es": "Nueva York",
             "name_fa": "نیویورک",
             "name_fr": "État de New York",
             "name_he": "ניו יורק",
             "name_hi": "न्यूयॉर्क",
             "name_hu": "New York",
             "name_id": "New York",
             "name_it": "New York",
             "name_ja": "ニューヨーク州",
             "name_ko": "뉴욕",
             "name_len": 8,
             "name_local": null,
             "name_nl": "New York",
             "name_pl": "Nowy Jork",
             "name_pt": "Nova Iorque",
             "name_ru": "Нью-Йорк",
             "name_sv": "New York",
             "name_tr": "New York",
             "name_uk": "штат Нью-Йорк",
             "name_ur": "نیویارک",
             "name_vi": "New York",
             "name_zh": "纽约州",
             "name_zht": "紐約州",
             "ne_id": 1159312155,
             "note": null,
             "postal": "NY",
             "provnum_ne": 0,
             "region": "Northeast",
             "region_cod": null,
             "region_sub": "Middle Atlantic",
             "sameascity": -99,
             "scalerank": 2,
             "sov_a3": "US1",
             "sub_code": null,
             "type": "State",
             "type_en": "State",
             "wikidataid": "Q1384",
             "wikipedia": "http://en.wikipedia.org/wiki/New_York",
             "woe_id": 2347591,
             "woe_label": "New York, US, United States",
             "woe_name": "New York"
            },
            "type": "Feature"
           },
           {
            "bbox": [
             -80.5189298163933,
             39.71982392023972,
             -74.67902787952096,
             42.54612229847678
            ],
            "geometry": {
             "coordinates": [
              [
               [
                -80.5189298163933,
                40.64111135513909
               ],
               [
                -80.5162684801303,
                42.32439362239842
               ],
               [
                -80.5162684801303,
                42.324910386721456
               ],
               [
                -80.24744767934794,
                42.36619985612248
               ],
               [
                -79.77303961320486,
                42.54612229847678
               ],
               [
                -79.76008724640326,
                42.50006765397467
               ],
               [
                -79.76008724640326,
                42.00002065690239
               ],
               [
                -78.20064754913136,
                42.00002065690239
               ],
               [
                -76.74383724639114,
                42.00053742122532
               ],
               [
                -75.38547054716696,
                41.99896129004043
               ],
               [
                -75.1679902818666,
                41.84178742122464
               ],
               [
                -75.04892778186621,
                41.751301988281625
               ],
               [
                -75.07538611519954,
                41.6412311874999
               ],
               [
                -75.01081641305097,
                41.49571035416608
               ],
               [
                -74.84043921578461,
                41.42638642024633
               ],
               [
                -74.67902787952096,
                41.35548635514192
               ],
               [
                -74.80126848010735,
                41.31156138769393
               ],
               [
                -74.97590898303775,
                41.087724921221536
               ],
               [
                -75.1357183499004,
                40.999874986325494
               ],
               [
                -75.08225908069448,
                40.8697020533823
               ],
               [
                -75.19920284697093,
                40.74746145279573
               ],
               [
                -75.20395707874178,
                40.58661855728735
               ],
               [
                -75.09548824736112,
                40.555380153966894
               ],
               [
                -75.07802161324645,
                40.44954682063326
               ],
               [
                -74.76318294950823,
                40.19077708593164
               ],
               [
                -74.89175391305048,
                40.08179149022811
               ],
               [
                -75.12881954618945,
                39.949499823560814
               ],
               [
                -75.200804816372,
                39.88704885513607
               ],
               [
                -75.40557267932849,
                39.795504055331094
               ],
               [
                -75.62096004912104,
                39.847361355135945
               ],
               [
                -75.71090287952501,
                39.80237702082593
               ],
               [
                -75.78764238147852,
                39.72354462336466
               ],
               [
                -76.66818294951588,
                39.720883287101685
               ],
               [
                -77.5232987128656,
                39.72566335708859
               ],
               [
                -78.23291948109767,
                39.72140005142455
               ],
               [
                -78.54990271677599,
                39.71982392023972
               ],
               [
                -79.47752051463135,
                39.720883287101685
               ],
               [
                -80.5189298163933,
                39.72088328710156
               ],
               [
                -80.5189298163933,
                40.64111135513909
               ]
              ]
             ],
             "type": "Polygon"
            },
            "id": "47",
            "properties": {
             "Count": 74,
             "FCLASS_AR": null,
             "FCLASS_BD": null,
             "FCLASS_BR": null,
             "FCLASS_CN": null,
             "FCLASS_DE": null,
             "FCLASS_EG": null,
             "FCLASS_ES": null,
             "FCLASS_FR": null,
             "FCLASS_GB": null,
             "FCLASS_GR": null,
             "FCLASS_ID": null,
             "FCLASS_IL": null,
             "FCLASS_IN": null,
             "FCLASS_ISO": null,
             "FCLASS_IT": null,
             "FCLASS_JP": null,
             "FCLASS_KO": null,
             "FCLASS_MA": null,
             "FCLASS_NL": null,
             "FCLASS_NP": null,
             "FCLASS_PK": null,
             "FCLASS_PL": null,
             "FCLASS_PS": null,
             "FCLASS_PT": null,
             "FCLASS_RU": null,
             "FCLASS_SA": null,
             "FCLASS_SE": null,
             "FCLASS_TLC": null,
             "FCLASS_TR": null,
             "FCLASS_TW": null,
             "FCLASS_UA": null,
             "FCLASS_US": null,
             "FCLASS_VN": null,
             "abbrev": "Pa.",
             "adm0_a3": "USA",
             "adm0_label": 2,
             "adm0_sr": 1,
             "adm1_code": "USA-3560",
             "admin": "United States of America",
             "area_sqkm": 0,
             "check_me": 20,
             "code_hasc": "US.PA",
             "code_local": "US42",
             "datarank": 1,
             "diss_me": 3560,
             "featurecla": "Admin-1 scale rank",
             "fips": "US42",
             "fips_alt": null,
             "gadm_level": 1,
             "geonunit": "United States of America",
             "gn_a1_code": "US.PA",
             "gn_id": 6254927,
             "gn_level": 1,
             "gn_name": "Pennsylvania",
             "gn_region": null,
             "gns_adm1": null,
             "gns_id": -1,
             "gns_lang": null,
             "gns_level": -1,
             "gns_name": null,
             "gns_region": null,
             "gu_a3": "USA",
             "hasc_maybe": null,
             "id": 47,
             "iso_3166_2": "US-PA",
             "iso_a2": "US",
             "labelrank": 0,
             "latitude": 40.8601,
             "longitude": -77.6094,
             "mapcolor13": 1,
             "mapcolor9": 1,
             "max_label": 7.5,
             "min_label": 3.5,
             "min_zoom": 2,
             "name": "Pennsylvania",
             "name_alt": "Commonwealth of Pennsylvania|PA",
             "name_ar": "بنسيلفانيا",
             "name_bn": "পেনসিলভেনিয়া",
             "name_de": "Pennsylvania",
             "name_el": "Πενσιλβάνια",
             "name_en": "Pennsylvania",
             "name_es": "Pensilvania",
             "name_fa": "پنسیلوانیا",
             "name_fr": "Pennsylvanie",
             "name_he": "פנסילבניה",
             "name_hi": "पेन्सिलवेनिया",
             "name_hu": "Pennsylvania",
             "name_id": "Pennsylvania",
             "name_it": "Pennsylvania",
             "name_ja": "ペンシルベニア州",
             "name_ko": "펜실베이니아",
             "name_len": 12,
             "name_local": null,
             "name_nl": "Pennsylvania",
             "name_pl": "Pensylwania",
             "name_pt": "Pensilvânia",
             "name_ru": "Пенсильвания",
             "name_sv": "Pennsylvania",
             "name_tr": "Pensilvanya",
             "name_uk": "Пенсильванія",
             "name_ur": "پنسلوانیا",
             "name_vi": "Pennsylvania",
             "name_zh": "宾夕法尼亚州",
             "name_zht": "賓夕法尼亞州",
             "ne_id": 1159315331,
             "note": null,
             "postal": "PA",
             "provnum_ne": 0,
             "region": "Northeast",
             "region_cod": null,
             "region_sub": "Middle Atlantic",
             "sameascity": -99,
             "scalerank": 2,
             "sov_a3": "US1",
             "sub_code": null,
             "type": "State",
             "type_en": "State",
             "wikidataid": "Q1400",
             "wikipedia": "http://en.wikipedia.org/wiki/Pennsylvania",
             "woe_id": 2347597,
             "woe_label": "Pennsylvania, US, United States",
             "woe_name": "Pennsylvania"
            },
            "type": "Feature"
           },
           {
            "bbox": [
             -71.08481999999998,
             43.08003225358635,
             -66.96465999999998,
             47.44777598732787
            ],
            "geometry": {
             "coordinates": [
              [
               [
                -70.64573401557249,
                43.090083319667144
               ],
               [
                -70.75102474636725,
                43.08003225358635
               ],
               [
                -70.79761105007827,
                43.21973948828747
               ],
               [
                -70.98176001655037,
                43.36789581966826
               ],
               [
                -70.94416541205806,
                43.46633942318431
               ],
               [
                -71.08481999999998,
                45.30523999999997
               ],
               [
                -70.6600225491012,
                45.46022288673396
               ],
               [
                -70.30495378282376,
                45.914794623389355
               ],
               [
                -70.00014034695016,
                46.69317088478567
               ],
               [
                -69.23708614772835,
                47.44777598732787
               ],
               [
                -68.90478084987546,
                47.184794623394396
               ],
               [
                -68.23430497910454,
                47.35462921812177
               ],
               [
                -67.79035274928509,
                47.066248887716995
               ],
               [
                -67.79141211614706,
                45.702585354182816
               ],
               [
                -67.13734351262877,
                45.137451890638886
               ],
               [
                -66.96465999999998,
                44.809699999999964
               ],
               [
                -68.03251999999992,
                44.32520000000005
               ],
               [
                -69.05999999999995,
                43.980000000000075
               ],
               [
                -70.11617000000001,
                43.68405000000001
               ],
               [
                -70.64573401557249,
                43.090083319667144
               ]
              ]
             ],
             "type": "Polygon"
            },
            "id": "48",
            "properties": {
             "Count": 77,
             "FCLASS_AR": null,
             "FCLASS_BD": null,
             "FCLASS_BR": null,
             "FCLASS_CN": null,
             "FCLASS_DE": null,
             "FCLASS_EG": null,
             "FCLASS_ES": null,
             "FCLASS_FR": null,
             "FCLASS_GB": null,
             "FCLASS_GR": null,
             "FCLASS_ID": null,
             "FCLASS_IL": null,
             "FCLASS_IN": null,
             "FCLASS_ISO": null,
             "FCLASS_IT": null,
             "FCLASS_JP": null,
             "FCLASS_KO": null,
             "FCLASS_MA": null,
             "FCLASS_NL": null,
             "FCLASS_NP": null,
             "FCLASS_PK": null,
             "FCLASS_PL": null,
             "FCLASS_PS": null,
             "FCLASS_PT": null,
             "FCLASS_RU": null,
             "FCLASS_SA": null,
             "FCLASS_SE": null,
             "FCLASS_TLC": null,
             "FCLASS_TR": null,
             "FCLASS_TW": null,
             "FCLASS_UA": null,
             "FCLASS_US": null,
             "FCLASS_VN": null,
             "abbrev": "Maine",
             "adm0_a3": "USA",
             "adm0_label": 2,
             "adm0_sr": 6,
             "adm1_code": "USA-3561",
             "admin": "United States of America",
             "area_sqkm": 0,
             "check_me": 20,
             "code_hasc": "US.ME",
             "code_local": "US23",
             "datarank": 1,
             "diss_me": 3561,
             "featurecla": "Admin-1 scale rank",
             "fips": "US23",
             "fips_alt": null,
             "gadm_level": 1,
             "geonunit": "United States of America",
             "gn_a1_code": "US.ME",
             "gn_id": 4971068,
             "gn_level": 1,
             "gn_name": "Maine",
             "gn_region": null,
             "gns_adm1": null,
             "gns_id": -1,
             "gns_lang": null,
             "gns_level": -1,
             "gns_name": null,
             "gns_region": null,
             "gu_a3": "USA",
             "hasc_maybe": null,
             "id": 48,
             "iso_3166_2": "US-ME",
             "iso_a2": "US",
             "labelrank": 0,
             "latitude": 45.148,
             "longitude": -69.1973,
             "mapcolor13": 1,
             "mapcolor9": 1,
             "max_label": 7.5,
             "min_label": 3.5,
             "min_zoom": 2,
             "name": "Maine",
             "name_alt": "ME|Maine",
             "name_ar": "مين",
             "name_bn": "মেইন",
             "name_de": "Maine",
             "name_el": "Μέιν",
             "name_en": "Maine",
             "name_es": "Maine",
             "name_fa": "مین",
             "name_fr": "Maine",
             "name_he": "מיין",
             "name_hi": "मेन",
             "name_hu": "Maine",
             "name_id": "Maine",
             "name_it": "Maine",
             "name_ja": "メイン州",
             "name_ko": "메인",
             "name_len": 5,
             "name_local": null,
             "name_nl": "Maine",
             "name_pl": "Maine",
             "name_pt": "Maine",
             "name_ru": "Мэн",
             "name_sv": "Maine",
             "name_tr": "Maine",
             "name_uk": "Мен",
             "name_ur": "مینے",
             "name_vi": "Maine",
             "name_zh": "缅因州",
             "name_zht": "缅因州",
             "ne_id": 1159308501,
             "note": null,
             "postal": "ME",
             "provnum_ne": 0,
             "region": "Northeast",
             "region_cod": null,
             "region_sub": "New England",
             "sameascity": -99,
             "scalerank": 2,
             "sov_a3": "US1",
             "sub_code": null,
             "type": "State",
             "type_en": "State",
             "wikidataid": "Q724",
             "wikipedia": "http://en.wikipedia.org/wiki/Maine",
             "woe_id": 2347578,
             "woe_label": "Maine, US, United States",
             "woe_name": "Maine"
            },
            "type": "Feature"
           },
           {
            "bbox": [
             -90.41062577997457,
             41.67774058691407,
             -82.13764238150395,
             48.30291758889382
            ],
            "geometry": {
             "coordinates": [
              [
               [
                -89.95765601272012,
                47.286907253603175
               ],
               [
                -89.84283098016755,
                47.464725857119504
               ],
               [
                -89.72800594761503,
                47.641976019880644
               ],
               [
                -89.61369767938538,
                47.81925202085796
               ],
               [
                -89.52269548211933,
                47.96053538674391
               ],
               [
                -89.4900319346622,
                48.01340602289096
               ],
               [
                -89.48888455722101,
                48.01526321783575
               ],
               [
                -89.27291744663665,
                48.0198082545827
               ],
               [
                -89.18561011427948,
                48.04732595477816
               ],
               [
                -88.3781141832867,
                48.30291758889382
               ],
               [
                -87.49439551466338,
                47.96159475360588
               ],
               [
                -87.20810807976642,
                47.84837169045443
               ],
               [
                -86.92184648308546,
                47.73512278908686
               ],
               [
                -86.67206844760278,
                47.63616242124789
               ],
               [
                -86.49533504916462,
                47.56683848732831
               ],
               [
                -86.42864661329185,
                47.539837551455776
               ],
               [
                -86.23444658073907,
                47.45994578713254
               ],
               [
                -86.04024654818625,
                47.380054022809304
               ],
               [
                -85.84656327995629,
                47.30013642026995
               ],
               [
                -85.6523632474034,
                47.22021881773054
               ],
               [
                -85.45816321485046,
                47.13981028908444
               ],
               [
                -85.26396318229769,
                47.05989268654503
               ],
               [
                -85.07027991406778,
                46.98000092222179
               ],
               [
                -84.87607988151484,
                46.90008331968238
               ],
               [
                -84.8268580797569,
                46.766732286153285
               ],
               [
                -84.77923824739992,
                46.63710195574913
               ],
               [
                -84.54374874544584,
                46.53868419044926
               ],
               [
                -84.54323198112297,
                46.53868419044926
               ],
               [
                -84.60490000000004,
                46.439599999999984
               ],
               [
                -84.33669999999995,
                46.40877000000012
               ],
               [
                -84.14211951367338,
                46.512225857115766
               ],
               [
                -84.12837358268371,
                46.48364879005834
               ],
               [
                -84.11514441601707,
                46.37091665301364
               ],
               [
                -84.09185126416145,
                46.27541860613826
               ],
               [
                -83.89076534700575,
                46.116926988299156
               ],
               [
                -83.76322791210941,
                46.10896881772612
               ],
               [
                -83.66904761425741,
                46.122740586931855
               ],
               [
                -83.61613094759059,
                46.116926988299156
               ],
               [
                -83.46955074739469,
                45.99468638771259
               ],
               [
                -83.59285071484305,
                45.81689362241241
               ],
               [
                -83.39704871288916,
                45.72904368751631
               ],
               [
                -83.17905168326581,
                45.6327188177242
               ],
               [
                -82.91922258170234,
                45.51791962338791
               ],
               [
                -82.76047258170172,
                45.44751048439019
               ],
               [
                -82.55092464875815,
                45.34751658790532
               ],
               [
                -82.51547461620595,
                45.20411448829543
               ],
               [
                -82.48529557974746,
                45.08399262143297
               ],
               [
                -82.44666744660935,
                44.91570831967442
               ],
               [
                -82.40752254914821,
                44.74372915300711
               ],
               [
                -82.36835181347101,
                44.57280935320176
               ],
               [
                -82.32654557974689,
                44.39129588477658
               ],
               [
                -82.28104448111384,
                44.19234162045291
               ],
               [
                -82.24084021679079,
                44.015608222014635
               ],
               [
                -82.19637264680358,
                43.822441718107655
               ],
               [
                -82.13764238150395,
                43.5710875514398
               ],
               [
                -82.19055904817077,
                43.47427175554117
               ],
               [
                -82.41703101268996,
                43.01760712337784
               ],
               [
                -82.42974341503373,
                42.98003835710159
               ],
               [
                -82.90017981640278,
                42.43022695573222
               ],
               [
                -83.11977881542708,
                42.07991242122563
               ],
               [
                -83.12877051464591,
                42.06880198828293
               ],
               [
                -83.14199968131265,
                41.97568105729283
               ],
               [
                -83.46267778189986,
                41.694147854166715
               ],
               [
                -83.83996741406284,
                41.68515615494796
               ],
               [
                -84.29505591504122,
                41.68515615494796
               ],
               [
                -84.80675594759535,
                41.67774058691407
               ],
               [
                -84.80729855013442,
                41.7560562200524
               ],
               [
                -85.7481455146564,
                41.751301988281554
               ],
               [
                -86.82446224643155,
                41.7560562200524
               ],
               [
                -86.82446224643155,
                41.76083629003941
               ],
               [
                -86.91812577996058,
                41.76083629003949
               ],
               [
                -87.22133724643314,
                41.76083629003941
               ],
               [
                -87.17583614780017,
                41.9439000514335
               ],
               [
                -87.13033504916714,
                42.12701548925962
               ],
               [
                -87.084808112318,
                42.30956248633066
               ],
               [
                -87.039307013685,
                42.492652085940904
               ],
               [
                -87.07953711622423,
                42.782117621423694
               ],
               [
                -87.11392778191447,
                43.030293687505434
               ],
               [
                -87.15519141309953,
                43.326632188483174
               ],
               [
                -87.14514034701875,
                43.571087551439874
               ],
               [
                -87.14196224643281,
                43.65787811947408
               ],
               [
                -87.08323198113311,
                43.89018952084234
               ],
               [
                -87.03243404819018,
                44.09128835710602
               ],
               [
                -86.91866838249962,
                44.36168528907325
               ],
               [
                -86.82234351270758,
                44.59133535417833
               ],
               [
                -86.71493404818892,
                44.84641022397102
               ],
               [
                -86.53608191602675,
                45.04166962338586
               ],
               [
                -86.40167151563557,
                45.13321442319092
               ],
               [
                -86.26459977898139,
                45.22687795671993
               ],
               [
                -86.4815632799588,
                45.32317698829584
               ],
               [
                -86.77420691602771,
                45.45229055437716
               ],
               [
                -86.94246537957002,
                45.452290554377086
               ],
               [
                -87.11550391309937,
                45.452290554377086
               ],
               [
                -87.24461747918065,
                45.28984568946771
               ],
               [
                -87.41977474643392,
                45.18401235613382
               ],
               [
                -87.45946224643407,
                45.068127956719295
               ],
               [
                -87.6129154121248,
                45.11045095476635
               ],
               [
                -87.61397477898677,
                45.108874823581445
               ],
               [
                -87.74732581251595,
                45.22687795671993
               ],
               [
                -87.67324764682556,
                45.387746690444544
               ],
               [
                -87.89338924838894,
                45.39671255144718
               ],
               [
                -87.84788814975595,
                45.55918325457283
               ],
               [
                -87.78701331251612,
                45.639617621435136
               ],
               [
                -87.87540584995136,
                45.77984162045912
               ],
               [
                -88.11192888055128,
                45.843351955745845
               ],
               [
                -88.16696428094212,
                46.00791555437945
               ],
               [
                -88.36170691603405,
                46.02062795672322
               ],
               [
                -88.64427364780602,
                46.02220408790805
               ],
               [
                -89.22106014683175,
                46.202115586932166
               ],
               [
                -90.09630388055922,
                46.38099355731049
               ],
               [
                -90.17673824742151,
                46.5608792181185
               ],
               [
                -90.33391211623724,
                46.593693752623835
               ],
               [
                -90.33497148309922,
                46.59687185320979
               ],
               [
                -90.3968798489849,
                46.576252956725284
               ],
               [
                -90.41062577997457,
                46.58418528908214
               ],
               [
                -90.39527787958384,
                46.611677151061414
               ],
               [
                -90.3555903795837,
                46.67306875262415
               ],
               [
                -90.29897884800795,
                46.760918687520345
               ],
               [
                -90.24182471389315,
                46.84822601987753
               ],
               [
                -90.18521318231738,
                46.93607595477364
               ],
               [
                -90.12805904820257,
                47.023900051453694
               ],
               [
                -90.07144751662682,
                47.11174998634988
               ],
               [
                -90.01481014683492,
                47.19959992124606
               ],
               [
                -89.95765601272012,
                47.286907253603175
               ]
              ]
             ],
             "type": "Polygon"
            },
            "id": "49",
            "properties": {
             "Count": 73,
             "FCLASS_AR": null,
             "FCLASS_BD": null,
             "FCLASS_BR": null,
             "FCLASS_CN": null,
             "FCLASS_DE": null,
             "FCLASS_EG": null,
             "FCLASS_ES": null,
             "FCLASS_FR": null,
             "FCLASS_GB": null,
             "FCLASS_GR": null,
             "FCLASS_ID": null,
             "FCLASS_IL": null,
             "FCLASS_IN": null,
             "FCLASS_ISO": null,
             "FCLASS_IT": null,
             "FCLASS_JP": null,
             "FCLASS_KO": null,
             "FCLASS_MA": null,
             "FCLASS_NL": null,
             "FCLASS_NP": null,
             "FCLASS_PK": null,
             "FCLASS_PL": null,
             "FCLASS_PS": null,
             "FCLASS_PT": null,
             "FCLASS_RU": null,
             "FCLASS_SA": null,
             "FCLASS_SE": null,
             "FCLASS_TLC": null,
             "FCLASS_TR": null,
             "FCLASS_TW": null,
             "FCLASS_UA": null,
             "FCLASS_US": null,
             "FCLASS_VN": null,
             "abbrev": "Mich.",
             "adm0_a3": "USA",
             "adm0_label": 2,
             "adm0_sr": 1,
             "adm1_code": "USA-3562",
             "admin": "United States of America",
             "area_sqkm": 0,
             "check_me": 20,
             "code_hasc": "US.MI",
             "code_local": "US26",
             "datarank": 1,
             "diss_me": 3562,
             "featurecla": "Admin-1 scale rank",
             "fips": "US26",
             "fips_alt": null,
             "gadm_level": 1,
             "geonunit": "United States of America",
             "gn_a1_code": "US.MI",
             "gn_id": 5001836,
             "gn_level": 1,
             "gn_name": "Michigan",
             "gn_region": null,
             "gns_adm1": null,
             "gns_id": -1,
             "gns_lang": null,
             "gns_level": -1,
             "gns_name": null,
             "gns_region": null,
             "gu_a3": "USA",
             "hasc_maybe": null,
             "id": 49,
             "iso_3166_2": "US-MI",
             "iso_a2": "US",
             "labelrank": 0,
             "latitude": 43.4343,
             "longitude": -84.9479,
             "mapcolor13": 1,
             "mapcolor9": 1,
             "max_label": 7.5,
             "min_label": 3.5,
             "min_zoom": 2,
             "name": "Michigan",
             "name_alt": "MI|Mich.",
             "name_ar": "ميشيغان",
             "name_bn": "মিশিগান",
             "name_de": "Michigan",
             "name_el": "Μίσιγκαν",
             "name_en": "Michigan",
             "name_es": "Míchigan",
             "name_fa": "میشیگان",
             "name_fr": "Michigan",
             "name_he": "מישיגן",
             "name_hi": "मिशिगन",
             "name_hu": "Michigan",
             "name_id": "Michigan",
             "name_it": "Michigan",
             "name_ja": "ミシガン州",
             "name_ko": "미시간",
             "name_len": 8,
             "name_local": null,
             "name_nl": "Michigan",
             "name_pl": "Michigan",
             "name_pt": "Michigan",
             "name_ru": "Мичиган",
             "name_sv": "Michigan",
             "name_tr": "Michigan",
             "name_uk": "Мічиган",
             "name_ur": "مشی گن",
             "name_vi": "Michigan",
             "name_zh": "密歇根州",
             "name_zht": "密歇根州",
             "ne_id": 1159314665,
             "note": null,
             "postal": "MI",
             "provnum_ne": 0,
             "region": "Midwest",
             "region_cod": null,
             "region_sub": "East North Central",
             "sameascity": -99,
             "scalerank": 2,
             "sov_a3": "US1",
             "sub_code": null,
             "type": "State",
             "type_en": "State",
             "wikidataid": "Q1166",
             "wikipedia": "http://en.wikipedia.org/wiki/Michigan",
             "woe_id": 2347581,
             "woe_label": "Michigan, US, United States",
             "woe_name": "Michigan"
            },
            "type": "Feature"
           },
           {
            "bbox": [
             -171.79111060289117,
             54.404173082082195,
             -129.97999426335826,
             71.35776357694175
            ],
            "geometry": {
             "coordinates": [
              [
               [
                [
                 -153.22872941792107,
                 57.968968410872435
                ],
                [
                 -152.5647906158351,
                 57.90142731386709
                ],
                [
                 -152.14114722390633,
                 57.59105866152203
                ],
                [
                 -153.0063140533369,
                 57.115842190166006
                ],
                [
                 -154.0050902984581,
                 56.73467682558106
                ],
                [
                 -154.51640275777007,
                 56.992748928446815
                ],
                [
                 -154.67099280497115,
                 57.46119578717253
                ],
                [
                 -153.76277950744145,
                 57.81657461204378
                ],
                [
                 -153.22872941792107,
                 57.968968410872435
                ]
               ]
              ],
              [
               [
                [
                 -166.46779212142462,
                 60.38416982689773
                ],
                [
                 -165.67442969466367,
                 60.29360687930625
                ],
                [
                 -165.57916419173358,
                 59.909986884187674
                ],
                [
                 -166.19277014876727,
                 59.7544408229889
                ],
                [
                 -166.848337368822,
                 59.94140615502107
                ],
                [
                 -167.45527706609005,
                 60.21306915957939
                ],
                [
                 -166.46779212142462,
                 60.38416982689773
                ]
               ]
              ],
              [
               [
                [
                 -171.73165686753939,
                 63.782515367276005
                ],
                [
                 -171.11443356024523,
                 63.592191067144995
                ],
                [
                 -170.4911124339407,
                 63.69497549097355
                ],
                [
                 -169.68250545965356,
                 63.43111562769127
                ],
                [
                 -168.68943946030066,
                 63.2975062120006
                ],
                [
                 -168.7719408844546,
                 63.18859813094548
                ],
                [
                 -169.52943986720504,
                 62.97693146427798
                ],
                [
                 -170.29055620021597,
                 63.19443756779441
                ],
                [
                 -170.67138566799088,
                 63.375821845139
                ],
                [
                 -171.55306311753867,
                 63.31778921167512
                ],
                [
                 -171.79111060289117,
                 63.4058458523005
                ],
                [
                 -171.73165686753939,
                 63.782515367276005
                ]
               ]
              ],
              [
               [
                [
                 -140.9859883290049,
                 69.71199839952624
                ],
                [
                 -140.98598752156073,
                 69.71199839952624
                ],
                [
                 -140.99249875202946,
                 66.00002859156871
                ],
                [
                 -140.99776974812323,
                 60.3063967962986
                ],
                [
                 -140.0129978161532,
                 60.27683787702762
                ],
                [
                 -139.03900042031586,
                 60.000007229240055
                ],
                [
                 -138.34087765826888,
                 59.56210114199871
                ],
                [
                 -137.4525081107393,
                 58.90498362897523
                ],
                [
                 -136.47972511106087,
                 59.463864244211834
                ],
                [
                 -135.4758328991428,
                 59.787772121817284
                ],
                [
                 -134.94498674842458,
                 59.270542711008034
                ],
                [
                 -134.27110023312235,
                 58.86111033795942
                ],
                [
                 -133.3555488822072,
                 58.41028514264519
                ],
                [
                 -132.730420695661,
                 57.69288707135314
                ],
                [
                 -131.70782161525324,
                 56.552103990293915
                ],
                [
                 -130.0077703457152,
                 55.91581207948417
                ],
                [
                 -129.97999426335826,
                 55.28499787049725
                ],
                [
                 -130.53611018946725,
                 54.8027534043494
                ],
                [
                 -131.08581823797215,
                 55.17890615500187
                ],
                [
                 -131.9672114671423,
                 55.49777558045906
                ],
                [
                 -132.25001074285956,
                 56.36999624289746
                ],
                [
                 -133.53918108435641,
                 57.17888743756214
                ],
                [
                 -134.07806292029613,
                 58.12306753196691
                ],
                [
                 -135.03821103227915,
                 58.18771474876394
                ],
                [
                 -136.62806230995477,
                 58.21220937767032
                ],
                [
                 -137.800006279686,
                 58.49999542910382
                ],
                [
                 -139.867787041413,
                 59.53776154238915
                ],
                [
                 -140.825273817133,
                 59.727517401764885
                ],
                [
                 -142.57444353556446,
                 60.084446519605024
                ],
                [
                 -143.9588809948799,
                 59.99918040632343
                ],
                [
                 -145.92555681682782,
                 60.458609727614316
                ],
                [
                 -147.11437394914665,
                 60.884656073644635
                ],
                [
                 -148.22430620012764,
                 60.672989406977024
                ],
                [
                 -148.01806555885076,
                 59.97832896589364
                ],
                [
                 -148.57082251686077,
                 59.91417267520313
                ],
                [
                 -149.72785783587585,
                 59.70565827090559
                ],
                [
                 -150.60824337461634,
                 59.36821116803952
                ],
                [
                 -151.7163927886833,
                 59.15582103131999
                ],
                [
                 -151.85943315326716,
                 59.74498403587961
                ],
                [
                 -151.40971900124717,
                 60.72580272077943
                ],
                [
                 -150.3469414947325,
                 61.03358755150987
                ],
                [
                 -150.62111080625706,
                 61.284424953854455
                ],
                [
                 -151.89583919981683,
                 60.72719798445132
                ],
                [
                 -152.57832984109558,
                 60.06165721296429
                ],
                [
                 -154.0191721262576,
                 59.35027944603428
                ],
                [
                 -153.28751135965308,
                 58.86472768821983
                ],
                [
                 -154.23249243875847,
                 58.14637360293057
                ],
                [
                 -155.30749142151012,
                 57.72779450136636
                ],
                [
                 -156.30833472392308,
                 57.42277435976365
                ],
                [
                 -156.5560973785464,
                 56.97998484967064
                ],
                [
                 -158.11721655986773,
                 56.46360809999402
                ],
                [
                 -158.43332129619714,
                 55.994153550838575
                ],
                [
                 -159.60332739971744,
                 55.56668610292013
                ],
                [
                 -160.2897196116342,
                 55.643580634170405
                ],
                [
                 -161.2230476552578,
                 55.364734605523495
                ],
                [
                 -162.23776607974096,
                 55.02418691672011
                ],
                [
                 -163.06944658104638,
                 54.68973704692718
                ],
                [
                 -164.7855692210273,
                 54.404173082082195
                ],
                [
                 -164.9422263255201,
                 54.57222483989534
                ],
                [
                 -163.84833960676565,
                 55.03943146424615
                ],
                [
                 -162.8700013906159,
                 55.34804311789321
                ],
                [
                 -161.804174974596,
                 55.894986477270436
                ],
                [
                 -160.56360470278122,
                 56.00805451112507
                ],
                [
                 -160.0705598622844,
                 56.41805532492879
                ],
                [
                 -158.68444291891953,
                 57.01667511659787
                ],
                [
                 -158.46109737855406,
                 57.21692129172891
                ],
                [
                 -157.72277035218386,
                 57.57000051536306
                ],
                [
                 -157.55027442119365,
                 58.32832632103026
                ],
                [
                 -157.041674974577,
                 58.91888458926172
                ],
                [
                 -158.19473120830557,
                 58.615802313869835
                ],
                [
                 -158.51721798402306,
                 58.78778148053732
                ],
                [
                 -159.05860612692882,
                 58.424186102931685
                ],
                [
                 -159.71166704001732,
                 58.931390285876375
                ],
                [
                 -159.98128882550017,
                 58.572549140041644
                ],
                [
                 -160.3552711659965,
                 59.07112335879367
                ],
                [
                 -161.35500342511511,
                 58.670837714260756
                ],
                [
                 -161.96889360252644,
                 58.67166453717738
                ],
                [
                 -162.05498653872465,
                 59.26692536074745
                ],
                [
                 -161.87417070213542,
                 59.63362132429063
                ],
                [
                 -162.51805904849215,
                 59.98972361921392
                ],
                [
                 -163.81834143782024,
                 59.79805573184342
                ],
                [
                 -164.66221757714655,
                 60.26748444278269
                ],
                [
                 -165.3463877024748,
                 60.50749563256244
                ],
                [
                 -165.35083187565192,
                 61.073895168697504
                ],
                [
                 -166.12137915755605,
                 61.50001902937623
                ],
                [
                 -165.7344518707706,
                 62.07499685327184
                ],
                [
                 -164.91917863671785,
                 62.63307648380794
                ],
                [
                 -164.56250790103934,
                 63.14637848576308
                ],
                [
                 -163.7533324859971,
                 63.2194489610236
                ],
                [
                 -163.0672244944579,
                 63.05945872664802
                ],
                [
                 -162.2605553863817,
                 63.54193573674121
                ],
                [
                 -161.53444983624857,
                 63.455816962326764
                ],
                [
                 -160.7725066803211,
                 63.7661081000233
                ],
                [
                 -160.95833513084264,
                 64.2227985704028
                ],
                [
                 -161.5180684072121,
                 64.40278758407533
                ],
                [
                 -160.77777767641484,
                 64.78860382756642
                ],
                [
                 -161.3919262359876,
                 64.77723501246214
                ],
                [
                 -162.45305009666893,
                 64.55944468856808
                ],
                [
                 -162.7577860178941,
                 64.33860545516882
                ],
                [
                 -163.54639421288428,
                 64.5591604681905
                ],
                [
                 -164.96082984114514,
                 64.44694509546872
                ],
                [
                 -166.4252882558645,
                 64.68667206487072
                ],
                [
                 -166.84500423893914,
                 65.08889557561457
                ],
                [
                 -168.11056006576706,
                 65.66999705673675
                ],
                [
                 -166.70527116602193,
                 66.08831777613943
                ],
                [
                 -164.4747096425755,
                 66.5766600612975
                ],
                [
                 -163.65251176659567,
                 66.5766600612975
                ],
                [
                 -163.78860165103626,
                 66.0772073431965
                ],
                [
                 -161.67777442121013,
                 66.11611969671242
                ],
                [
                 -162.48971452538007,
                 66.73556509059512
                ],
                [
                 -163.7197169667912,
                 67.11639455837013
                ],
                [
                 -164.43099138085654,
                 67.61633820257782
                ],
                [
                 -165.39028683170673,
                 68.04277212185025
                ],
                [
                 -166.76444068099607,
                 68.35887685817971
                ],
                [
                 -166.2047074046267,
                 68.8830309109162
                ],
                [
                 -164.43081051334357,
                 68.91553538682774
                ],
                [
                 -163.16861365461452,
                 69.37111481391293
                ],
                [
                 -162.930566169262,
                 69.85806183539927
                ],
                [
                 -161.9088972646355,
                 70.33332998318764
                ],
                [
                 -160.93479651593367,
                 70.44768992784958
                ],
                [
                 -159.03917578838704,
                 70.89164215766897
                ],
                [
                 -158.11972286683397,
                 70.82472117785107
                ],
                [
                 -156.58082455139802,
                 71.35776357694175
                ],
                [
                 -155.0677902903243,
                 71.14777639432373
                ],
                [
                 -154.3441652089412,
                 70.69640859647023
                ],
                [
                 -153.9000062733925,
                 70.88998851183572
                ],
                [
                 -152.2100060699353,
                 70.82999217394467
                ],
                [
                 -152.27000240782613,
                 70.60000621202988
                ],
                [
                 -150.7399924387445,
                 70.43001658800574
                ],
                [
                 -149.72000301816752,
                 70.53001048449045
                ],
                [
                 -147.61336157935696,
                 70.2140349392418
                ],
                [
                 -145.68998980022536,
                 70.12000967068678
                ],
                [
                 -144.92001095907642,
                 69.9899917670403
                ],
                [
                 -143.58944618042528,
                 70.15251414659832
                ],
                [
                 -142.07251034871354,
                 69.85193817817265
                ],
                [
                 -140.9859883290049,
                 69.71199839952624
                ]
               ]
              ]
             ],
             "type": "MultiPolygon"
            },
            "id": "50",
            "properties": {
             "Count": 72,
             "FCLASS_AR": null,
             "FCLASS_BD": null,
             "FCLASS_BR": null,
             "FCLASS_CN": null,
             "FCLASS_DE": null,
             "FCLASS_EG": null,
             "FCLASS_ES": null,
             "FCLASS_FR": null,
             "FCLASS_GB": null,
             "FCLASS_GR": null,
             "FCLASS_ID": null,
             "FCLASS_IL": null,
             "FCLASS_IN": null,
             "FCLASS_ISO": null,
             "FCLASS_IT": null,
             "FCLASS_JP": null,
             "FCLASS_KO": null,
             "FCLASS_MA": null,
             "FCLASS_NL": null,
             "FCLASS_NP": null,
             "FCLASS_PK": null,
             "FCLASS_PL": null,
             "FCLASS_PS": null,
             "FCLASS_PT": null,
             "FCLASS_RU": null,
             "FCLASS_SA": null,
             "FCLASS_SE": null,
             "FCLASS_TLC": null,
             "FCLASS_TR": null,
             "FCLASS_TW": null,
             "FCLASS_UA": null,
             "FCLASS_US": null,
             "FCLASS_VN": null,
             "abbrev": "Alaska",
             "adm0_a3": "USA",
             "adm0_label": 2,
             "adm0_sr": 6,
             "adm1_code": "USA-3563",
             "admin": "United States of America",
             "area_sqkm": 0,
             "check_me": 20,
             "code_hasc": "US.AK",
             "code_local": "US02",
             "datarank": 1,
             "diss_me": 3563,
             "featurecla": "Admin-1 scale rank",
             "fips": "US02",
             "fips_alt": null,
             "gadm_level": 1,
             "geonunit": "United States of America",
             "gn_a1_code": "US.AK",
             "gn_id": 5879092,
             "gn_level": 1,
             "gn_name": "Alaska",
             "gn_region": null,
             "gns_adm1": null,
             "gns_id": -1,
             "gns_lang": null,
             "gns_level": -1,
             "gns_name": null,
             "gns_region": null,
             "gu_a3": "USA",
             "hasc_maybe": null,
             "id": 50,
             "iso_3166_2": "US-AK",
             "iso_a2": "US",
             "labelrank": 0,
             "latitude": 65.3609,
             "longitude": -151.604,
             "mapcolor13": 1,
             "mapcolor9": 1,
             "max_label": 7.5,
             "min_label": 3.5,
             "min_zoom": 2,
             "name": "Alaska",
             "name_alt": "AK|Alaska",
             "name_ar": "ألاسكا",
             "name_bn": "আলাস্কা",
             "name_de": "Alaska",
             "name_el": "Αλάσκα",
             "name_en": "Alaska",
             "name_es": "Alaska",
             "name_fa": "آلاسکا",
             "name_fr": "Alaska",
             "name_he": "אלסקה",
             "name_hi": "अलास्का",
             "name_hu": "Alaszka",
             "name_id": "Alaska",
             "name_it": "Alaska",
             "name_ja": "アラスカ州",
             "name_ko": "알래스카",
             "name_len": 6,
             "name_local": null,
             "name_nl": "Alaska",
             "name_pl": "Alaska",
             "name_pt": "Alasca",
             "name_ru": "Аляска",
             "name_sv": "Alaska",
             "name_tr": "Alaska",
             "name_uk": "Аляска",
             "name_ur": "الاسکا",
             "name_vi": "Alaska",
             "name_zh": "阿拉斯加州",
             "name_zht": "阿拉斯加州",
             "ne_id": 1159308731,
             "note": null,
             "postal": "AK",
             "provnum_ne": 0,
             "region": "West",
             "region_cod": null,
             "region_sub": "Pacific",
             "sameascity": -99,
             "scalerank": 2,
             "sov_a3": "US1",
             "sub_code": null,
             "type": "State",
             "type_en": "State",
             "wikidataid": "Q797",
             "wikipedia": "http://en.wikipedia.org/wiki/Alaska",
             "woe_id": 2347560,
             "woe_label": "Alaska, US, United States",
             "woe_name": "Alaska"
            },
            "type": "Feature"
           }
          ],
          "type": "FeatureCollection"
         },
         "hovertemplate": "<b>%{hovertext}</b><br><br>id=%{location}<br>Số lượt mua=%{z}<extra></extra>",
         "hovertext": [
          "Minnesota",
          "Montana",
          "North Dakota",
          "Hawaii",
          "Idaho",
          "Washington",
          "Arizona",
          "California",
          "Colorado",
          "Nevada",
          "New Mexico",
          "Oregon",
          "Utah",
          "Wyoming",
          "Arkansas",
          "Iowa",
          "Kansas",
          "Missouri",
          "Nebraska",
          "Oklahoma",
          "South Dakota",
          "Louisiana",
          "Texas",
          "Connecticut",
          "Massachusetts",
          "New Hampshire",
          "Rhode Island",
          "Vermont",
          "Alabama",
          "Florida",
          "Georgia",
          "Mississippi",
          "South Carolina",
          "Illinois",
          "Indiana",
          "Kentucky",
          "North Carolina",
          "Ohio",
          "Tennessee",
          "Virginia",
          "Wisconsin",
          "West Virginia",
          "Delaware",
          "District of Columbia",
          "Maryland",
          "New Jersey",
          "New York",
          "Pennsylvania",
          "Maine",
          "Michigan",
          "Alaska"
         ],
         "locations": [
          0,
          1,
          2,
          3,
          4,
          5,
          6,
          7,
          8,
          9,
          10,
          11,
          12,
          13,
          14,
          15,
          16,
          17,
          18,
          19,
          20,
          21,
          22,
          23,
          24,
          25,
          26,
          27,
          28,
          29,
          30,
          31,
          32,
          33,
          34,
          35,
          36,
          37,
          38,
          39,
          40,
          41,
          42,
          43,
          44,
          45,
          46,
          47,
          48,
          49,
          50
         ],
         "name": "",
         "type": "choropleth",
         "z": [
          88,
          96,
          83,
          65,
          93,
          73,
          65,
          95,
          75,
          87,
          81,
          74,
          71,
          71,
          79,
          69,
          63,
          81,
          87,
          75,
          70,
          84,
          77,
          78,
          72,
          71,
          63,
          85,
          89,
          68,
          79,
          80,
          76,
          92,
          79,
          79,
          78,
          77,
          77,
          77,
          75,
          81,
          86,
          null,
          86,
          67,
          87,
          74,
          77,
          73,
          72
         ]
        }
       ],
       "layout": {
        "coloraxis": {
         "colorbar": {
          "title": {
           "text": "Số lượt mua"
          }
         },
         "colorscale": [
          [
           0,
           "rgb(255,255,229)"
          ],
          [
           0.125,
           "rgb(247,252,185)"
          ],
          [
           0.25,
           "rgb(217,240,163)"
          ],
          [
           0.375,
           "rgb(173,221,142)"
          ],
          [
           0.5,
           "rgb(120,198,121)"
          ],
          [
           0.625,
           "rgb(65,171,93)"
          ],
          [
           0.75,
           "rgb(35,132,67)"
          ],
          [
           0.875,
           "rgb(0,104,55)"
          ],
          [
           1,
           "rgb(0,69,41)"
          ]
         ]
        },
        "geo": {
         "center": {},
         "domain": {
          "x": [
           0,
           1
          ],
          "y": [
           0,
           1
          ]
         },
         "fitbounds": "locations",
         "scope": "usa",
         "visible": false
        },
        "legend": {
         "tracegroupgap": 0
        },
        "margin": {
         "b": 0,
         "l": 0,
         "r": 0,
         "t": 50
        },
        "template": {
         "data": {
          "bar": [
           {
            "error_x": {
             "color": "#2a3f5f"
            },
            "error_y": {
             "color": "#2a3f5f"
            },
            "marker": {
             "line": {
              "color": "#E5ECF6",
              "width": 0.5
             },
             "pattern": {
              "fillmode": "overlay",
              "size": 10,
              "solidity": 0.2
             }
            },
            "type": "bar"
           }
          ],
          "barpolar": [
           {
            "marker": {
             "line": {
              "color": "#E5ECF6",
              "width": 0.5
             },
             "pattern": {
              "fillmode": "overlay",
              "size": 10,
              "solidity": 0.2
             }
            },
            "type": "barpolar"
           }
          ],
          "carpet": [
           {
            "aaxis": {
             "endlinecolor": "#2a3f5f",
             "gridcolor": "white",
             "linecolor": "white",
             "minorgridcolor": "white",
             "startlinecolor": "#2a3f5f"
            },
            "baxis": {
             "endlinecolor": "#2a3f5f",
             "gridcolor": "white",
             "linecolor": "white",
             "minorgridcolor": "white",
             "startlinecolor": "#2a3f5f"
            },
            "type": "carpet"
           }
          ],
          "choropleth": [
           {
            "colorbar": {
             "outlinewidth": 0,
             "ticks": ""
            },
            "type": "choropleth"
           }
          ],
          "contour": [
           {
            "colorbar": {
             "outlinewidth": 0,
             "ticks": ""
            },
            "colorscale": [
             [
              0,
              "#0d0887"
             ],
             [
              0.1111111111111111,
              "#46039f"
             ],
             [
              0.2222222222222222,
              "#7201a8"
             ],
             [
              0.3333333333333333,
              "#9c179e"
             ],
             [
              0.4444444444444444,
              "#bd3786"
             ],
             [
              0.5555555555555556,
              "#d8576b"
             ],
             [
              0.6666666666666666,
              "#ed7953"
             ],
             [
              0.7777777777777778,
              "#fb9f3a"
             ],
             [
              0.8888888888888888,
              "#fdca26"
             ],
             [
              1,
              "#f0f921"
             ]
            ],
            "type": "contour"
           }
          ],
          "contourcarpet": [
           {
            "colorbar": {
             "outlinewidth": 0,
             "ticks": ""
            },
            "type": "contourcarpet"
           }
          ],
          "heatmap": [
           {
            "colorbar": {
             "outlinewidth": 0,
             "ticks": ""
            },
            "colorscale": [
             [
              0,
              "#0d0887"
             ],
             [
              0.1111111111111111,
              "#46039f"
             ],
             [
              0.2222222222222222,
              "#7201a8"
             ],
             [
              0.3333333333333333,
              "#9c179e"
             ],
             [
              0.4444444444444444,
              "#bd3786"
             ],
             [
              0.5555555555555556,
              "#d8576b"
             ],
             [
              0.6666666666666666,
              "#ed7953"
             ],
             [
              0.7777777777777778,
              "#fb9f3a"
             ],
             [
              0.8888888888888888,
              "#fdca26"
             ],
             [
              1,
              "#f0f921"
             ]
            ],
            "type": "heatmap"
           }
          ],
          "heatmapgl": [
           {
            "colorbar": {
             "outlinewidth": 0,
             "ticks": ""
            },
            "colorscale": [
             [
              0,
              "#0d0887"
             ],
             [
              0.1111111111111111,
              "#46039f"
             ],
             [
              0.2222222222222222,
              "#7201a8"
             ],
             [
              0.3333333333333333,
              "#9c179e"
             ],
             [
              0.4444444444444444,
              "#bd3786"
             ],
             [
              0.5555555555555556,
              "#d8576b"
             ],
             [
              0.6666666666666666,
              "#ed7953"
             ],
             [
              0.7777777777777778,
              "#fb9f3a"
             ],
             [
              0.8888888888888888,
              "#fdca26"
             ],
             [
              1,
              "#f0f921"
             ]
            ],
            "type": "heatmapgl"
           }
          ],
          "histogram": [
           {
            "marker": {
             "pattern": {
              "fillmode": "overlay",
              "size": 10,
              "solidity": 0.2
             }
            },
            "type": "histogram"
           }
          ],
          "histogram2d": [
           {
            "colorbar": {
             "outlinewidth": 0,
             "ticks": ""
            },
            "colorscale": [
             [
              0,
              "#0d0887"
             ],
             [
              0.1111111111111111,
              "#46039f"
             ],
             [
              0.2222222222222222,
              "#7201a8"
             ],
             [
              0.3333333333333333,
              "#9c179e"
             ],
             [
              0.4444444444444444,
              "#bd3786"
             ],
             [
              0.5555555555555556,
              "#d8576b"
             ],
             [
              0.6666666666666666,
              "#ed7953"
             ],
             [
              0.7777777777777778,
              "#fb9f3a"
             ],
             [
              0.8888888888888888,
              "#fdca26"
             ],
             [
              1,
              "#f0f921"
             ]
            ],
            "type": "histogram2d"
           }
          ],
          "histogram2dcontour": [
           {
            "colorbar": {
             "outlinewidth": 0,
             "ticks": ""
            },
            "colorscale": [
             [
              0,
              "#0d0887"
             ],
             [
              0.1111111111111111,
              "#46039f"
             ],
             [
              0.2222222222222222,
              "#7201a8"
             ],
             [
              0.3333333333333333,
              "#9c179e"
             ],
             [
              0.4444444444444444,
              "#bd3786"
             ],
             [
              0.5555555555555556,
              "#d8576b"
             ],
             [
              0.6666666666666666,
              "#ed7953"
             ],
             [
              0.7777777777777778,
              "#fb9f3a"
             ],
             [
              0.8888888888888888,
              "#fdca26"
             ],
             [
              1,
              "#f0f921"
             ]
            ],
            "type": "histogram2dcontour"
           }
          ],
          "mesh3d": [
           {
            "colorbar": {
             "outlinewidth": 0,
             "ticks": ""
            },
            "type": "mesh3d"
           }
          ],
          "parcoords": [
           {
            "line": {
             "colorbar": {
              "outlinewidth": 0,
              "ticks": ""
             }
            },
            "type": "parcoords"
           }
          ],
          "pie": [
           {
            "automargin": true,
            "type": "pie"
           }
          ],
          "scatter": [
           {
            "fillpattern": {
             "fillmode": "overlay",
             "size": 10,
             "solidity": 0.2
            },
            "type": "scatter"
           }
          ],
          "scatter3d": [
           {
            "line": {
             "colorbar": {
              "outlinewidth": 0,
              "ticks": ""
             }
            },
            "marker": {
             "colorbar": {
              "outlinewidth": 0,
              "ticks": ""
             }
            },
            "type": "scatter3d"
           }
          ],
          "scattercarpet": [
           {
            "marker": {
             "colorbar": {
              "outlinewidth": 0,
              "ticks": ""
             }
            },
            "type": "scattercarpet"
           }
          ],
          "scattergeo": [
           {
            "marker": {
             "colorbar": {
              "outlinewidth": 0,
              "ticks": ""
             }
            },
            "type": "scattergeo"
           }
          ],
          "scattergl": [
           {
            "marker": {
             "colorbar": {
              "outlinewidth": 0,
              "ticks": ""
             }
            },
            "type": "scattergl"
           }
          ],
          "scattermapbox": [
           {
            "marker": {
             "colorbar": {
              "outlinewidth": 0,
              "ticks": ""
             }
            },
            "type": "scattermapbox"
           }
          ],
          "scatterpolar": [
           {
            "marker": {
             "colorbar": {
              "outlinewidth": 0,
              "ticks": ""
             }
            },
            "type": "scatterpolar"
           }
          ],
          "scatterpolargl": [
           {
            "marker": {
             "colorbar": {
              "outlinewidth": 0,
              "ticks": ""
             }
            },
            "type": "scatterpolargl"
           }
          ],
          "scatterternary": [
           {
            "marker": {
             "colorbar": {
              "outlinewidth": 0,
              "ticks": ""
             }
            },
            "type": "scatterternary"
           }
          ],
          "surface": [
           {
            "colorbar": {
             "outlinewidth": 0,
             "ticks": ""
            },
            "colorscale": [
             [
              0,
              "#0d0887"
             ],
             [
              0.1111111111111111,
              "#46039f"
             ],
             [
              0.2222222222222222,
              "#7201a8"
             ],
             [
              0.3333333333333333,
              "#9c179e"
             ],
             [
              0.4444444444444444,
              "#bd3786"
             ],
             [
              0.5555555555555556,
              "#d8576b"
             ],
             [
              0.6666666666666666,
              "#ed7953"
             ],
             [
              0.7777777777777778,
              "#fb9f3a"
             ],
             [
              0.8888888888888888,
              "#fdca26"
             ],
             [
              1,
              "#f0f921"
             ]
            ],
            "type": "surface"
           }
          ],
          "table": [
           {
            "cells": {
             "fill": {
              "color": "#EBF0F8"
             },
             "line": {
              "color": "white"
             }
            },
            "header": {
             "fill": {
              "color": "#C8D4E3"
             },
             "line": {
              "color": "white"
             }
            },
            "type": "table"
           }
          ]
         },
         "layout": {
          "annotationdefaults": {
           "arrowcolor": "#2a3f5f",
           "arrowhead": 0,
           "arrowwidth": 1
          },
          "autotypenumbers": "strict",
          "coloraxis": {
           "colorbar": {
            "outlinewidth": 0,
            "ticks": ""
           }
          },
          "colorscale": {
           "diverging": [
            [
             0,
             "#8e0152"
            ],
            [
             0.1,
             "#c51b7d"
            ],
            [
             0.2,
             "#de77ae"
            ],
            [
             0.3,
             "#f1b6da"
            ],
            [
             0.4,
             "#fde0ef"
            ],
            [
             0.5,
             "#f7f7f7"
            ],
            [
             0.6,
             "#e6f5d0"
            ],
            [
             0.7,
             "#b8e186"
            ],
            [
             0.8,
             "#7fbc41"
            ],
            [
             0.9,
             "#4d9221"
            ],
            [
             1,
             "#276419"
            ]
           ],
           "sequential": [
            [
             0,
             "#0d0887"
            ],
            [
             0.1111111111111111,
             "#46039f"
            ],
            [
             0.2222222222222222,
             "#7201a8"
            ],
            [
             0.3333333333333333,
             "#9c179e"
            ],
            [
             0.4444444444444444,
             "#bd3786"
            ],
            [
             0.5555555555555556,
             "#d8576b"
            ],
            [
             0.6666666666666666,
             "#ed7953"
            ],
            [
             0.7777777777777778,
             "#fb9f3a"
            ],
            [
             0.8888888888888888,
             "#fdca26"
            ],
            [
             1,
             "#f0f921"
            ]
           ],
           "sequentialminus": [
            [
             0,
             "#0d0887"
            ],
            [
             0.1111111111111111,
             "#46039f"
            ],
            [
             0.2222222222222222,
             "#7201a8"
            ],
            [
             0.3333333333333333,
             "#9c179e"
            ],
            [
             0.4444444444444444,
             "#bd3786"
            ],
            [
             0.5555555555555556,
             "#d8576b"
            ],
            [
             0.6666666666666666,
             "#ed7953"
            ],
            [
             0.7777777777777778,
             "#fb9f3a"
            ],
            [
             0.8888888888888888,
             "#fdca26"
            ],
            [
             1,
             "#f0f921"
            ]
           ]
          },
          "colorway": [
           "#636efa",
           "#EF553B",
           "#00cc96",
           "#ab63fa",
           "#FFA15A",
           "#19d3f3",
           "#FF6692",
           "#B6E880",
           "#FF97FF",
           "#FECB52"
          ],
          "font": {
           "color": "#2a3f5f"
          },
          "geo": {
           "bgcolor": "white",
           "lakecolor": "white",
           "landcolor": "#E5ECF6",
           "showlakes": true,
           "showland": true,
           "subunitcolor": "white"
          },
          "hoverlabel": {
           "align": "left"
          },
          "hovermode": "closest",
          "mapbox": {
           "style": "light"
          },
          "paper_bgcolor": "white",
          "plot_bgcolor": "#E5ECF6",
          "polar": {
           "angularaxis": {
            "gridcolor": "white",
            "linecolor": "white",
            "ticks": ""
           },
           "bgcolor": "#E5ECF6",
           "radialaxis": {
            "gridcolor": "white",
            "linecolor": "white",
            "ticks": ""
           }
          },
          "scene": {
           "xaxis": {
            "backgroundcolor": "#E5ECF6",
            "gridcolor": "white",
            "gridwidth": 2,
            "linecolor": "white",
            "showbackground": true,
            "ticks": "",
            "zerolinecolor": "white"
           },
           "yaxis": {
            "backgroundcolor": "#E5ECF6",
            "gridcolor": "white",
            "gridwidth": 2,
            "linecolor": "white",
            "showbackground": true,
            "ticks": "",
            "zerolinecolor": "white"
           },
           "zaxis": {
            "backgroundcolor": "#E5ECF6",
            "gridcolor": "white",
            "gridwidth": 2,
            "linecolor": "white",
            "showbackground": true,
            "ticks": "",
            "zerolinecolor": "white"
           }
          },
          "shapedefaults": {
           "line": {
            "color": "#2a3f5f"
           }
          },
          "ternary": {
           "aaxis": {
            "gridcolor": "white",
            "linecolor": "white",
            "ticks": ""
           },
           "baxis": {
            "gridcolor": "white",
            "linecolor": "white",
            "ticks": ""
           },
           "bgcolor": "#E5ECF6",
           "caxis": {
            "gridcolor": "white",
            "linecolor": "white",
            "ticks": ""
           }
          },
          "title": {
           "x": 0.05
          },
          "xaxis": {
           "automargin": true,
           "gridcolor": "white",
           "linecolor": "white",
           "ticks": "",
           "title": {
            "standoff": 15
           },
           "zerolinecolor": "white",
           "zerolinewidth": 2
          },
          "yaxis": {
           "automargin": true,
           "gridcolor": "white",
           "linecolor": "white",
           "ticks": "",
           "title": {
            "standoff": 15
           },
           "zerolinecolor": "white",
           "zerolinewidth": 2
          }
         }
        },
        "title": {
         "text": "Number of Purchases by State"
        }
       }
      }
     },
     "metadata": {},
     "output_type": "display_data"
    }
   ],
   "source": [
    "# Reset index để chuyển cột 'name' từ index sang cột thông thường\n",
    "merged = merged.reset_index()\n",
    "\n",
    "# Thêm cột 'id' để dùng làm chỉ số cho việc map với GeoJSON\n",
    "merged['id'] = merged.index\n",
    "\n",
    "# Chuyển GeoDataFrame sang GeoJSON thông qua thuộc tính __geo_interface__\n",
    "geojson = merged.__geo_interface__\n",
    "\n",
    "# Tạo bản đồ tương tác bằng Plotly Express\n",
    "fig = px.choropleth(\n",
    "    merged,\n",
    "    geojson=geojson,\n",
    "    locations='id',                 # Dùng cột 'id' làm chỉ số định danh\n",
    "    color='Count',                  # Cột số lượt mua hàng\n",
    "    hover_name='name',              # Khi di chuột, hiển thị tên bang\n",
    "    hover_data={'Count': True},     # Hiển thị số lượt mua\n",
    "    scope='usa',                    # Giới hạn bản đồ chỉ vùng Mỹ\n",
    "    color_continuous_scale='YlGn',\n",
    "    labels={'Count': 'Số lượt mua'}\n",
    ")\n",
    "\n",
    "# Cập nhật các thuộc tính bản đồ\n",
    "fig.update_geos(fitbounds=\"locations\", visible=False)\n",
    "fig.update_layout(\n",
    "    title_text='Number of Purchases by State',\n",
    "    margin={\"r\":0, \"t\":50, \"l\":0, \"b\":0}\n",
    ")\n",
    "\n",
    "fig.show()"
   ]
  },
  {
   "cell_type": "markdown",
   "metadata": {},
   "source": [
    "##### Nhận xét:\n",
    "- Số lượt mua ở từng có sự khác biệt tương đối rõ giữa các bang ở Hoa Kỳ.\n",
    "- Các bang phía Đông phần lớn dao động trong khoảng 60-80 lượt mua, cho thấy doanh nghiệp đang tiếp cận với chiến lược rộng rãi và phù hợp với khu vực này.\n",
    "- Nửa còn lại có sự phân hóa cao hơn, **Kansas** là bang có ít đơn hàng nhất với 63 lượt mua, đối nghịch với đó là bang **Montana**, **Idaho** & **California** đều có trên 90 lượt mua.\n",
    "- Còn lại là các bang với số lượt mua hàng tầm trung bình.\n",
    "\n",
    "##### Kết luận:\n",
    "- Doanh nghiệp đang triển khai kế hoạch khá ổn với thị trường Hoa Kỳ, số đơn hàng không chênh lệch nhiều ở các bang.\n",
    "- Tiếp tục khai thác thị trường hàng đầu như **Montana**, **California**, **Idaho**, **Illinois**. Bên cạnh đó cần điều chỉnh, cải thiện kế hoạch tiếp cận mạnh hơn ở các bang chưa nổi bật như **Kansas**, **Arizona**, **Florida**,..."
   ]
  }
 ],
 "metadata": {
  "kernelspec": {
   "display_name": "base",
   "language": "python",
   "name": "python3"
  },
  "language_info": {
   "codemirror_mode": {
    "name": "ipython",
    "version": 3
   },
   "file_extension": ".py",
   "mimetype": "text/x-python",
   "name": "python",
   "nbconvert_exporter": "python",
   "pygments_lexer": "ipython3",
   "version": "3.11.7"
  }
 },
 "nbformat": 4,
 "nbformat_minor": 2
}
