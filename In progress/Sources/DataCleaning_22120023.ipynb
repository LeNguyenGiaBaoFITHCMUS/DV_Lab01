{
 "cells": [
  {
   "cell_type": "markdown",
   "metadata": {},
   "source": [
    "### Nhập thư viện:"
   ]
  },
  {
   "cell_type": "code",
   "execution_count": 1,
   "metadata": {},
   "outputs": [],
   "source": [
    "import numpy as np\n",
    "import pandas as pd"
   ]
  },
  {
   "cell_type": "markdown",
   "metadata": {},
   "source": [
    "### Đọc dữ liệu thô:"
   ]
  },
  {
   "cell_type": "code",
   "execution_count": 2,
   "metadata": {},
   "outputs": [
    {
     "data": {
      "text/html": [
       "<div>\n",
       "<style scoped>\n",
       "    .dataframe tbody tr th:only-of-type {\n",
       "        vertical-align: middle;\n",
       "    }\n",
       "\n",
       "    .dataframe tbody tr th {\n",
       "        vertical-align: top;\n",
       "    }\n",
       "\n",
       "    .dataframe thead th {\n",
       "        text-align: right;\n",
       "    }\n",
       "</style>\n",
       "<table border=\"1\" class=\"dataframe\">\n",
       "  <thead>\n",
       "    <tr style=\"text-align: right;\">\n",
       "      <th></th>\n",
       "      <th>Customer ID</th>\n",
       "      <th>Age</th>\n",
       "      <th>Gender</th>\n",
       "      <th>Item Purchased</th>\n",
       "      <th>Category</th>\n",
       "      <th>Purchase Amount (USD)</th>\n",
       "      <th>Location</th>\n",
       "      <th>Size</th>\n",
       "      <th>Color</th>\n",
       "      <th>Season</th>\n",
       "      <th>Review Rating</th>\n",
       "      <th>Subscription Status</th>\n",
       "      <th>Shipping Type</th>\n",
       "      <th>Discount Applied</th>\n",
       "      <th>Promo Code Used</th>\n",
       "      <th>Previous Purchases</th>\n",
       "      <th>Payment Method</th>\n",
       "      <th>Frequency of Purchases</th>\n",
       "    </tr>\n",
       "  </thead>\n",
       "  <tbody>\n",
       "    <tr>\n",
       "      <th>0</th>\n",
       "      <td>1</td>\n",
       "      <td>55</td>\n",
       "      <td>Male</td>\n",
       "      <td>Blouse</td>\n",
       "      <td>Clothing</td>\n",
       "      <td>53</td>\n",
       "      <td>Kentucky</td>\n",
       "      <td>L</td>\n",
       "      <td>Gray</td>\n",
       "      <td>Winter</td>\n",
       "      <td>3.1</td>\n",
       "      <td>Yes</td>\n",
       "      <td>Express</td>\n",
       "      <td>Yes</td>\n",
       "      <td>Yes</td>\n",
       "      <td>14</td>\n",
       "      <td>Venmo</td>\n",
       "      <td>Fortnightly</td>\n",
       "    </tr>\n",
       "    <tr>\n",
       "      <th>1</th>\n",
       "      <td>2</td>\n",
       "      <td>19</td>\n",
       "      <td>Male</td>\n",
       "      <td>Sweater</td>\n",
       "      <td>Clothing</td>\n",
       "      <td>64</td>\n",
       "      <td>Maine</td>\n",
       "      <td>L</td>\n",
       "      <td>Maroon</td>\n",
       "      <td>Winter</td>\n",
       "      <td>3.1</td>\n",
       "      <td>Yes</td>\n",
       "      <td>Express</td>\n",
       "      <td>Yes</td>\n",
       "      <td>Yes</td>\n",
       "      <td>2</td>\n",
       "      <td>Cash</td>\n",
       "      <td>Fortnightly</td>\n",
       "    </tr>\n",
       "    <tr>\n",
       "      <th>2</th>\n",
       "      <td>3</td>\n",
       "      <td>50</td>\n",
       "      <td>Male</td>\n",
       "      <td>Jeans</td>\n",
       "      <td>Clothing</td>\n",
       "      <td>73</td>\n",
       "      <td>Massachusetts</td>\n",
       "      <td>S</td>\n",
       "      <td>Maroon</td>\n",
       "      <td>Spring</td>\n",
       "      <td>3.1</td>\n",
       "      <td>Yes</td>\n",
       "      <td>Free Shipping</td>\n",
       "      <td>Yes</td>\n",
       "      <td>Yes</td>\n",
       "      <td>23</td>\n",
       "      <td>Credit Card</td>\n",
       "      <td>Weekly</td>\n",
       "    </tr>\n",
       "    <tr>\n",
       "      <th>3</th>\n",
       "      <td>4</td>\n",
       "      <td>21</td>\n",
       "      <td>Male</td>\n",
       "      <td>Sandals</td>\n",
       "      <td>Footwear</td>\n",
       "      <td>90</td>\n",
       "      <td>Rhode Island</td>\n",
       "      <td>M</td>\n",
       "      <td>Maroon</td>\n",
       "      <td>Spring</td>\n",
       "      <td>3.5</td>\n",
       "      <td>Yes</td>\n",
       "      <td>Next Day Air</td>\n",
       "      <td>Yes</td>\n",
       "      <td>Yes</td>\n",
       "      <td>49</td>\n",
       "      <td>PayPal</td>\n",
       "      <td>Weekly</td>\n",
       "    </tr>\n",
       "    <tr>\n",
       "      <th>4</th>\n",
       "      <td>5</td>\n",
       "      <td>45</td>\n",
       "      <td>Male</td>\n",
       "      <td>Blouse</td>\n",
       "      <td>Clothing</td>\n",
       "      <td>49</td>\n",
       "      <td>Oregon</td>\n",
       "      <td>M</td>\n",
       "      <td>Turquoise</td>\n",
       "      <td>Spring</td>\n",
       "      <td>2.7</td>\n",
       "      <td>Yes</td>\n",
       "      <td>Free Shipping</td>\n",
       "      <td>Yes</td>\n",
       "      <td>Yes</td>\n",
       "      <td>31</td>\n",
       "      <td>PayPal</td>\n",
       "      <td>Annually</td>\n",
       "    </tr>\n",
       "  </tbody>\n",
       "</table>\n",
       "</div>"
      ],
      "text/plain": [
       "   Customer ID  Age Gender Item Purchased  Category  Purchase Amount (USD)  \\\n",
       "0            1   55   Male         Blouse  Clothing                     53   \n",
       "1            2   19   Male        Sweater  Clothing                     64   \n",
       "2            3   50   Male          Jeans  Clothing                     73   \n",
       "3            4   21   Male        Sandals  Footwear                     90   \n",
       "4            5   45   Male         Blouse  Clothing                     49   \n",
       "\n",
       "        Location Size      Color  Season  Review Rating Subscription Status  \\\n",
       "0       Kentucky    L       Gray  Winter            3.1                 Yes   \n",
       "1          Maine    L     Maroon  Winter            3.1                 Yes   \n",
       "2  Massachusetts    S     Maroon  Spring            3.1                 Yes   \n",
       "3   Rhode Island    M     Maroon  Spring            3.5                 Yes   \n",
       "4         Oregon    M  Turquoise  Spring            2.7                 Yes   \n",
       "\n",
       "   Shipping Type Discount Applied Promo Code Used  Previous Purchases  \\\n",
       "0        Express              Yes             Yes                  14   \n",
       "1        Express              Yes             Yes                   2   \n",
       "2  Free Shipping              Yes             Yes                  23   \n",
       "3   Next Day Air              Yes             Yes                  49   \n",
       "4  Free Shipping              Yes             Yes                  31   \n",
       "\n",
       "  Payment Method Frequency of Purchases  \n",
       "0          Venmo            Fortnightly  \n",
       "1           Cash            Fortnightly  \n",
       "2    Credit Card                 Weekly  \n",
       "3         PayPal                 Weekly  \n",
       "4         PayPal               Annually  "
      ]
     },
     "execution_count": 2,
     "metadata": {},
     "output_type": "execute_result"
    }
   ],
   "source": [
    "df = pd.read_csv('../Datasets/data.csv')\n",
    "df.head()"
   ]
  },
  {
   "cell_type": "markdown",
   "metadata": {},
   "source": [
    "### Mỗi cột có ý nghĩa gì?"
   ]
  },
  {
   "cell_type": "markdown",
   "metadata": {},
   "source": [
    "Dưới đây là bảng mô tả dữ liệu từ tệp `data.csv`:\n",
    "| `Thuộc tính` | `Mô tả` |\n",
    "|-----|-----|\n",
    "| **Customer ID** (Mã khách hàng) | Một định danh duy nhất được gán cho mỗi khách hàng riêng lẻ, tạo điều kiện theo dõi và phân tích hành vi mua sắm của họ theo thời gian. |\n",
    "| **Age** (Tuổi) | Tuổi của khách hàng, cung cấp thông tin nhân khẩu học cho phân khúc và các chiến lược tiếp thị được nhắm mục tiêu. |\n",
    "| **Gender** (Giới tính) | Việc xác định giới tính của khách hàng, một biến số nhân khẩu học chính ảnh hưởng đến sở thích sản phẩm và mô hình mua hàng. |\n",
    "| **Item Purchased** (Mặt hàng đã mua) | Sản phẩm hoặc mặt hàng cụ thể được khách hàng chọn trong giao dịch. |\n",
    "| **Category** (Thể loại) | Phân loại hoặc nhóm chung mà mặt hàng đã mua thuộc về (ví dụ: quần áo, đồ điện tử, hàng tạp hóa). |\n",
    "| **Purchase Amount** (USD) (Số tiền mua) | Giá trị tiền tệ của giao dịch, được biểu thị bằng đô la Hoa Kỳ (USD), cho thấy chi phí của (các) mặt hàng đã mua. |\n",
    "| **Location** (Vị trí) | Vị trí địa lý nơi mua hàng, cung cấp những hiểu biết sâu sắc về sở thích khu vực và xu hướng thị trường. |\n",
    "| **Size** (Kích cỡ) | Đặc điểm kỹ thuật kích thước (nếu có) của mặt hàng đã mua, có liên quan đến trang phục, giày dép và hàng tiêu dùng nhất định. |\n",
    "| **Color** (Màu sắc) | Biến thể màu sắc hoặc sự lựa chọn liên quan đến mặt hàng đã mua, ảnh hưởng đến sở thích của khách hàng và tính khả dụng của sản phẩm. |\n",
    "| **Season** (Mùa) | Sự liên quan theo mùa của mặt hàng đã mua (ví dụ: mùa xuân, mùa hè, mùa thu, mùa đông), tác động đến quản lý hàng tồn kho và chiến lược tiếp thị. |\n",
    "| **Review Rating** (Đánh giá xếp hạng) | Đánh giá bằng số hoặc định tính được cung cấp bởi khách hàng về sự hài lòng của họ với mặt hàng đã mua. |\n",
    "| **Subscription Status** (Trạng thái đăng ký) | Cho biết liệu khách hàng có chọn dịch vụ đăng ký hay không, cung cấp hiểu biết về mức độ trung thành và tiềm năng của họ cho doanh thu định kỳ. |\n",
    "| **Shipping Type** (Loại hình vận chuyển) | Chỉ định phương thức được sử dụng để phân phối mặt hàng đã mua (ví dụ: vận chuyển tiêu chuẩn, giao hàng nhanh), ảnh hưởng đến thời gian giao hàng và chi phí. |\n",
    "| **Discount Applied** (Giảm giá áp dụng) | Cho biết nếu có bất kỳ giảm giá khuyến mại nào được áp dụng cho việc mua, làm sáng tỏ độ nhạy giá và hiệu quả khuyến mãi. |\n",
    "| **Promo Code Used** (Mã khuyến mại đã sử dụng) | Lưu ý xem mã quảng cáo hoặc phiếu giảm giá đã được sử dụng trong quá trình giao dịch, hỗ trợ đánh giá thành công của chiến dịch tiếp thị. |\n",
    "| **Previous Purchases** (Mua hàng trước đó) | Cung cấp thông tin về số lượng hoặc tần suất mua trước của khách hàng, đóng góp cho các chiến lược phân khúc và lưu giữ khách hàng. |\n",
    "| **Payment Method** (Phương thức thanh toán) | Chỉ định chế độ thanh toán được sử dụng bởi khách hàng (ví dụ: thẻ tín dụng, tiền mặt), cung cấp thông tin chi tiết về các tùy chọn thanh toán ưa thích. |\n",
    "| **Frequency of Purchases** (Tần suất mua hàng) | Cho biết tần suất khách hàng tham gia vào các hoạt động mua hàng, một số liệu quan trọng để đánh giá lòng trung thành của khách hàng và giá trị trọn đời. |\n"
   ]
  },
  {
   "cell_type": "markdown",
   "metadata": {},
   "source": [
    "### Kiểu dữ liệu hiện tại của mỗi cột là gì? Có cột nào có kiểu dữ liệu không phù hợp không?"
   ]
  },
  {
   "cell_type": "code",
   "execution_count": 7,
   "metadata": {},
   "outputs": [
    {
     "data": {
      "text/plain": [
       "Customer ID               category\n",
       "Age                          int64\n",
       "Gender                      object\n",
       "Item Purchased              object\n",
       "Category                    object\n",
       "Purchase Amount (USD)        int64\n",
       "Location                    object\n",
       "Size                        object\n",
       "Color                       object\n",
       "Season                      object\n",
       "Review Rating              float64\n",
       "Subscription Status         object\n",
       "Shipping Type               object\n",
       "Discount Applied            object\n",
       "Promo Code Used             object\n",
       "Previous Purchases           int64\n",
       "Payment Method              object\n",
       "Frequency of Purchases      object\n",
       "dtype: object"
      ]
     },
     "execution_count": 7,
     "metadata": {},
     "output_type": "execute_result"
    }
   ],
   "source": [
    "df.dtypes"
   ]
  },
  {
   "cell_type": "markdown",
   "metadata": {},
   "source": [
    "Ta thấy thuộc tính `Customer ID` chỉ để định danh, không có ý nghĩa số học. Do đó ta sẽ đổi thuộc tính này thành kiểu dữ liệu **categorical**:"
   ]
  },
  {
   "cell_type": "code",
   "execution_count": 6,
   "metadata": {},
   "outputs": [],
   "source": [
    "df['Customer ID'] = df['Customer ID'].astype('category')"
   ]
  },
  {
   "cell_type": "markdown",
   "metadata": {},
   "source": [
    "Kiểm tra lại kiểu dữ liệu:"
   ]
  },
  {
   "cell_type": "code",
   "execution_count": 8,
   "metadata": {},
   "outputs": [
    {
     "data": {
      "text/plain": [
       "Customer ID               category\n",
       "Age                          int64\n",
       "Gender                      object\n",
       "Item Purchased              object\n",
       "Category                    object\n",
       "Purchase Amount (USD)        int64\n",
       "Location                    object\n",
       "Size                        object\n",
       "Color                       object\n",
       "Season                      object\n",
       "Review Rating              float64\n",
       "Subscription Status         object\n",
       "Shipping Type               object\n",
       "Discount Applied            object\n",
       "Promo Code Used             object\n",
       "Previous Purchases           int64\n",
       "Payment Method              object\n",
       "Frequency of Purchases      object\n",
       "dtype: object"
      ]
     },
     "execution_count": 8,
     "metadata": {},
     "output_type": "execute_result"
    }
   ],
   "source": [
    "df.dtypes"
   ]
  },
  {
   "cell_type": "markdown",
   "metadata": {},
   "source": [
    "Giờ đây các thuộc tính đều có kiểu dữ liệu hợp lý."
   ]
  },
  {
   "cell_type": "markdown",
   "metadata": {},
   "source": [
    "### Đối với mỗi cột có kiểu dữ liệu số, các giá trị được phân bổ như thế nào?"
   ]
  },
  {
   "cell_type": "markdown",
   "metadata": {},
   "source": [
    "Đối với các cột có kiểu dữ liệu số, ta sẽ tính toán:\n",
    "- Percentage of missing values (tỷ lệ phần trăm (từ 0 đến 100) các giá trị bị thiếu)\n",
    "- The min (giá trị nhỏ nhất)\n",
    "- The lower quartile (tứ phân vị dưới)\n",
    "- The median (trung vị)\n",
    "- The upper quartile (tứ phân vị trên)\n",
    "- The max (giá trị lớn nhất)"
   ]
  },
  {
   "cell_type": "code",
   "execution_count": 4,
   "metadata": {},
   "outputs": [],
   "source": [
    "def missing_ratio(col):\n",
    "    return (col.isna().mean() * 100)\n",
    "\n",
    "def lower_quartile(col):\n",
    "    return (col.quantile(0.25))\n",
    "\n",
    "def median(col):\n",
    "    return (col.median())\n",
    "\n",
    "def upper_quartile(col):\n",
    "    return (col.quantile(0.75))"
   ]
  },
  {
   "cell_type": "code",
   "execution_count": 9,
   "metadata": {},
   "outputs": [
    {
     "data": {
      "text/html": [
       "<div>\n",
       "<style scoped>\n",
       "    .dataframe tbody tr th:only-of-type {\n",
       "        vertical-align: middle;\n",
       "    }\n",
       "\n",
       "    .dataframe tbody tr th {\n",
       "        vertical-align: top;\n",
       "    }\n",
       "\n",
       "    .dataframe thead th {\n",
       "        text-align: right;\n",
       "    }\n",
       "</style>\n",
       "<table border=\"1\" class=\"dataframe\">\n",
       "  <thead>\n",
       "    <tr style=\"text-align: right;\">\n",
       "      <th></th>\n",
       "      <th>Age</th>\n",
       "      <th>Purchase Amount (USD)</th>\n",
       "      <th>Review Rating</th>\n",
       "      <th>Previous Purchases</th>\n",
       "    </tr>\n",
       "  </thead>\n",
       "  <tbody>\n",
       "    <tr>\n",
       "      <th>missing_ratio</th>\n",
       "      <td>0.0</td>\n",
       "      <td>0.0</td>\n",
       "      <td>0.0</td>\n",
       "      <td>0.0</td>\n",
       "    </tr>\n",
       "    <tr>\n",
       "      <th>min</th>\n",
       "      <td>18.0</td>\n",
       "      <td>20.0</td>\n",
       "      <td>2.5</td>\n",
       "      <td>1.0</td>\n",
       "    </tr>\n",
       "    <tr>\n",
       "      <th>lower_quartile</th>\n",
       "      <td>31.0</td>\n",
       "      <td>39.0</td>\n",
       "      <td>3.1</td>\n",
       "      <td>13.0</td>\n",
       "    </tr>\n",
       "    <tr>\n",
       "      <th>median</th>\n",
       "      <td>44.0</td>\n",
       "      <td>60.0</td>\n",
       "      <td>3.7</td>\n",
       "      <td>25.0</td>\n",
       "    </tr>\n",
       "    <tr>\n",
       "      <th>upper_quartile</th>\n",
       "      <td>57.0</td>\n",
       "      <td>81.0</td>\n",
       "      <td>4.4</td>\n",
       "      <td>38.0</td>\n",
       "    </tr>\n",
       "    <tr>\n",
       "      <th>max</th>\n",
       "      <td>70.0</td>\n",
       "      <td>100.0</td>\n",
       "      <td>5.0</td>\n",
       "      <td>50.0</td>\n",
       "    </tr>\n",
       "  </tbody>\n",
       "</table>\n",
       "</div>"
      ],
      "text/plain": [
       "                 Age  Purchase Amount (USD)  Review Rating  Previous Purchases\n",
       "missing_ratio    0.0                    0.0            0.0                 0.0\n",
       "min             18.0                   20.0            2.5                 1.0\n",
       "lower_quartile  31.0                   39.0            3.1                13.0\n",
       "median          44.0                   60.0            3.7                25.0\n",
       "upper_quartile  57.0                   81.0            4.4                38.0\n",
       "max             70.0                  100.0            5.0                50.0"
      ]
     },
     "execution_count": 9,
     "metadata": {},
     "output_type": "execute_result"
    }
   ],
   "source": [
    "num_cols = df.select_dtypes(include=np.number)\n",
    "num_cols_stats = num_cols.agg([missing_ratio, 'min', lower_quartile, median, upper_quartile, 'max'])\n",
    "num_cols_stats.round(2)"
   ]
  },
  {
   "cell_type": "markdown",
   "metadata": {},
   "source": [
    "**Nhận xét:**\n",
    "- Dữ liệu của tất cả các thuộc tính đều phân bố hợp lý, không có điểm bất thường khi so sánh với thực tế.\n",
    "- Tất cả các thuộc tính đều không bị thiếu dữ liệu."
   ]
  },
  {
   "cell_type": "markdown",
   "metadata": {},
   "source": [
    "### Đối với mỗi cột có kiểu dữ liệu không phải số, các giá trị được phân bổ như thế nào?"
   ]
  },
  {
   "cell_type": "markdown",
   "metadata": {},
   "source": [
    "Đối với các cột có kiểu dữ liệu không phải số:\n",
    "- Tỷ lệ phần trăm (từ 0 đến 100) các giá trị bị thiếu\n",
    "- Số lượng giá trị (các giá trị ở đây là các giá trị khác nhau và chúng tôi không xem xét các giá trị bị thiếu): với các cột có kiểu là phân loại, thì đó là một tập hợp có số lượng danh mục hữu hạn. Việc đếm trực tiếp số lượng giá trị trong các cột này không có nhiều ý nghĩa, vì vậy tốt hơn là đếm số lượng phần tử của tất cả các kiểu. (Số lượng giá trị (các giá trị ở đây là các giá trị khác nhau và ta không đánh giá giá trị thiếu): với cột mà có loại là phân loại, nó là một tập hợp có số lượng hữu hạn các loại. Việc đếm trực tiếp số lượng giá trị trong những cột này không có nhiều ý nghĩa, nên tốt hơn hết là sẽ đếm số lượng các loại tử tử.)\n",
    "- Tỷ lệ phần trăm (từ 0 đến 100) của mỗi giá trị được sắp xếp theo tỷ lệ phần trăm giảm dần (không xét giá trị thiếu, tỷ lệ là tỷ lệ so với số giá trị không thiếu): bạn dùng từ điển để lưu trữ, key là giá trị, value là phần trăm; Với cột tương ứng với từng loại, cách thực hiện tương tự như trên.\n",
    "\n",
    "Ta sẽ lưu kết quả vào DataFrame `cat_col_stats`, trong đó:\n",
    "- Tên các cột là tên các cột không phải số trong `df`\n",
    "- Tên các dòng là: “missing_ratio”, “num_values”, “value_ratios”"
   ]
  },
  {
   "cell_type": "code",
   "execution_count": 10,
   "metadata": {},
   "outputs": [],
   "source": [
    "def num_values(col):\n",
    "    return col.nunique()\n",
    "\n",
    "def value_ratios(col):\n",
    "    return (col.value_counts(normalize=True) * 100).round(1).to_dict()"
   ]
  },
  {
   "cell_type": "code",
   "execution_count": 12,
   "metadata": {},
   "outputs": [
    {
     "data": {
      "text/html": [
       "<div>\n",
       "<style scoped>\n",
       "    .dataframe tbody tr th:only-of-type {\n",
       "        vertical-align: middle;\n",
       "    }\n",
       "\n",
       "    .dataframe tbody tr th {\n",
       "        vertical-align: top;\n",
       "    }\n",
       "\n",
       "    .dataframe thead th {\n",
       "        text-align: right;\n",
       "    }\n",
       "</style>\n",
       "<table border=\"1\" class=\"dataframe\">\n",
       "  <thead>\n",
       "    <tr style=\"text-align: right;\">\n",
       "      <th></th>\n",
       "      <th>missing_ratio</th>\n",
       "      <th>num_values</th>\n",
       "      <th>value_ratios</th>\n",
       "    </tr>\n",
       "  </thead>\n",
       "  <tbody>\n",
       "    <tr>\n",
       "      <th>Customer ID</th>\n",
       "      <td>0.0</td>\n",
       "      <td>3900</td>\n",
       "      <td>{1: 0.0, 2621: 0.0, 2593: 0.0, 2594: 0.0, 2595...</td>\n",
       "    </tr>\n",
       "    <tr>\n",
       "      <th>Gender</th>\n",
       "      <td>0.0</td>\n",
       "      <td>2</td>\n",
       "      <td>{'Male': 68.0, 'Female': 32.0}</td>\n",
       "    </tr>\n",
       "    <tr>\n",
       "      <th>Item Purchased</th>\n",
       "      <td>0.0</td>\n",
       "      <td>25</td>\n",
       "      <td>{'Blouse': 4.4, 'Jewelry': 4.4, 'Pants': 4.4, ...</td>\n",
       "    </tr>\n",
       "    <tr>\n",
       "      <th>Category</th>\n",
       "      <td>0.0</td>\n",
       "      <td>4</td>\n",
       "      <td>{'Clothing': 44.5, 'Accessories': 31.8, 'Footw...</td>\n",
       "    </tr>\n",
       "    <tr>\n",
       "      <th>Location</th>\n",
       "      <td>0.0</td>\n",
       "      <td>50</td>\n",
       "      <td>{'Montana': 2.5, 'California': 2.4, 'Idaho': 2...</td>\n",
       "    </tr>\n",
       "    <tr>\n",
       "      <th>Size</th>\n",
       "      <td>0.0</td>\n",
       "      <td>4</td>\n",
       "      <td>{'M': 45.0, 'L': 27.0, 'S': 17.0, 'XL': 11.0}</td>\n",
       "    </tr>\n",
       "    <tr>\n",
       "      <th>Color</th>\n",
       "      <td>0.0</td>\n",
       "      <td>25</td>\n",
       "      <td>{'Olive': 4.5, 'Yellow': 4.5, 'Silver': 4.4, '...</td>\n",
       "    </tr>\n",
       "    <tr>\n",
       "      <th>Season</th>\n",
       "      <td>0.0</td>\n",
       "      <td>4</td>\n",
       "      <td>{'Spring': 25.6, 'Fall': 25.0, 'Winter': 24.9,...</td>\n",
       "    </tr>\n",
       "    <tr>\n",
       "      <th>Subscription Status</th>\n",
       "      <td>0.0</td>\n",
       "      <td>2</td>\n",
       "      <td>{'No': 73.0, 'Yes': 27.0}</td>\n",
       "    </tr>\n",
       "    <tr>\n",
       "      <th>Shipping Type</th>\n",
       "      <td>0.0</td>\n",
       "      <td>6</td>\n",
       "      <td>{'Free Shipping': 17.3, 'Standard': 16.8, 'Sto...</td>\n",
       "    </tr>\n",
       "    <tr>\n",
       "      <th>Discount Applied</th>\n",
       "      <td>0.0</td>\n",
       "      <td>2</td>\n",
       "      <td>{'No': 57.0, 'Yes': 43.0}</td>\n",
       "    </tr>\n",
       "    <tr>\n",
       "      <th>Promo Code Used</th>\n",
       "      <td>0.0</td>\n",
       "      <td>2</td>\n",
       "      <td>{'No': 57.0, 'Yes': 43.0}</td>\n",
       "    </tr>\n",
       "    <tr>\n",
       "      <th>Payment Method</th>\n",
       "      <td>0.0</td>\n",
       "      <td>6</td>\n",
       "      <td>{'PayPal': 17.4, 'Credit Card': 17.2, 'Cash': ...</td>\n",
       "    </tr>\n",
       "    <tr>\n",
       "      <th>Frequency of Purchases</th>\n",
       "      <td>0.0</td>\n",
       "      <td>7</td>\n",
       "      <td>{'Every 3 Months': 15.0, 'Annually': 14.7, 'Qu...</td>\n",
       "    </tr>\n",
       "  </tbody>\n",
       "</table>\n",
       "</div>"
      ],
      "text/plain": [
       "                       missing_ratio num_values  \\\n",
       "Customer ID                      0.0       3900   \n",
       "Gender                           0.0          2   \n",
       "Item Purchased                   0.0         25   \n",
       "Category                         0.0          4   \n",
       "Location                         0.0         50   \n",
       "Size                             0.0          4   \n",
       "Color                            0.0         25   \n",
       "Season                           0.0          4   \n",
       "Subscription Status              0.0          2   \n",
       "Shipping Type                    0.0          6   \n",
       "Discount Applied                 0.0          2   \n",
       "Promo Code Used                  0.0          2   \n",
       "Payment Method                   0.0          6   \n",
       "Frequency of Purchases           0.0          7   \n",
       "\n",
       "                                                             value_ratios  \n",
       "Customer ID             {1: 0.0, 2621: 0.0, 2593: 0.0, 2594: 0.0, 2595...  \n",
       "Gender                                     {'Male': 68.0, 'Female': 32.0}  \n",
       "Item Purchased          {'Blouse': 4.4, 'Jewelry': 4.4, 'Pants': 4.4, ...  \n",
       "Category                {'Clothing': 44.5, 'Accessories': 31.8, 'Footw...  \n",
       "Location                {'Montana': 2.5, 'California': 2.4, 'Idaho': 2...  \n",
       "Size                        {'M': 45.0, 'L': 27.0, 'S': 17.0, 'XL': 11.0}  \n",
       "Color                   {'Olive': 4.5, 'Yellow': 4.5, 'Silver': 4.4, '...  \n",
       "Season                  {'Spring': 25.6, 'Fall': 25.0, 'Winter': 24.9,...  \n",
       "Subscription Status                             {'No': 73.0, 'Yes': 27.0}  \n",
       "Shipping Type           {'Free Shipping': 17.3, 'Standard': 16.8, 'Sto...  \n",
       "Discount Applied                                {'No': 57.0, 'Yes': 43.0}  \n",
       "Promo Code Used                                 {'No': 57.0, 'Yes': 43.0}  \n",
       "Payment Method          {'PayPal': 17.4, 'Credit Card': 17.2, 'Cash': ...  \n",
       "Frequency of Purchases  {'Every 3 Months': 15.0, 'Annually': 14.7, 'Qu...  "
      ]
     },
     "execution_count": 12,
     "metadata": {},
     "output_type": "execute_result"
    }
   ],
   "source": [
    "cat_cols = df.select_dtypes(exclude=np.number)\n",
    "cat_cols_stats = cat_cols.agg([missing_ratio, num_values, value_ratios])\n",
    "cat_cols_stats.T"
   ]
  },
  {
   "cell_type": "markdown",
   "metadata": {},
   "source": [
    "**Nhận xét:**\n",
    "- Tất cả các thuộc tính phi số đều không bị thiếu dữ liệu.\n",
    "- Dữ liệu phân bố đa dạng, hợp lý."
   ]
  }
 ],
 "metadata": {
  "kernelspec": {
   "display_name": "base",
   "language": "python",
   "name": "python3"
  },
  "language_info": {
   "codemirror_mode": {
    "name": "ipython",
    "version": 3
   },
   "file_extension": ".py",
   "mimetype": "text/x-python",
   "name": "python",
   "nbconvert_exporter": "python",
   "pygments_lexer": "ipython3",
   "version": "3.11.7"
  }
 },
 "nbformat": 4,
 "nbformat_minor": 2
}
